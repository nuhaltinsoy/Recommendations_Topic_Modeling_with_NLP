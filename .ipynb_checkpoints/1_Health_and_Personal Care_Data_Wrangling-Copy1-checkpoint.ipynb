{
 "cells": [
  {
   "cell_type": "markdown",
   "metadata": {},
   "source": [
    "# Amazon Health and Personal Care Products Review-Sentiment Analysis-Topic Modelling"
   ]
  },
  {
   "cell_type": "markdown",
   "metadata": {},
   "source": [
    "## Import Necessary Libraries"
   ]
  },
  {
   "cell_type": "code",
   "execution_count": 86,
   "metadata": {},
   "outputs": [],
   "source": [
    "# Dataframe\n",
    "import pandas as pd\n",
    "\n",
    "# Array\n",
    "import numpy as np\n",
    "\n",
    "# Decompress the file\n",
    "import gzip\n",
    "\n",
    "# Visualizations\n",
    "import matplotlib.pyplot as plt\n",
    "from matplotlib.colors import ListedColormap\n",
    "import seaborn as sns\n",
    "import matplotlib.colors as colors\n",
    "%matplotlib inline\n",
    "\n",
    "# Datetime\n",
    "from datetime import datetime\n",
    "\n",
    "## Warnings\n",
    "import warnings\n",
    "from scipy import stats\n",
    "warnings.filterwarnings('ignore')"
   ]
  },
  {
   "cell_type": "markdown",
   "metadata": {},
   "source": [
    "## Decompress the Amazon Review Dataset "
   ]
  },
  {
   "cell_type": "markdown",
   "metadata": {},
   "source": [
    "The dataset is obtained from http://snap.stanford.edu/data/amazon/productGraph/categoryFiles/reviews_Home_and_Kitchen_10.json.gz link and uploaded into Jupyter notebook via the following code."
   ]
  },
  {
   "cell_type": "code",
   "execution_count": 87,
   "metadata": {},
   "outputs": [],
   "source": [
    "def parse(path):\n",
    "    g = gzip.open(path, 'rb')\n",
    "    for l in g:\n",
    "        yield eval(l)\n",
    "\n",
    "def getDF(path):\n",
    "    i = 0\n",
    "    df = {}\n",
    "    for d in parse(path):\n",
    "        df[i] = d\n",
    "        i += 1\n",
    "    return pd.DataFrame.from_dict(df, orient='index')\n",
    "\n",
    "df = getDF('data/reviews_Health_and_Personal_Care_10.json.gz')"
   ]
  },
  {
   "cell_type": "code",
   "execution_count": 88,
   "metadata": {},
   "outputs": [],
   "source": [
    "# #import the relevant libraries and packages\n",
    "# import json\n",
    "# from pandas.io.json import json_normalize\n",
    "\n",
    "# # load json as string\n",
    "# with open(\"data/reviews_Health_and_Personal_Care_10.json\", \"r\") as read_file:\n",
    "#     data = [json.loads(row) for row in read_file.readlines()]\n",
    "\n",
    "# df = pd.DataFrame(data)\n",
    "# df.head()\n",
    "\n",
    "\n",
    "# # df_json1= json.load((open('data/reviews_Health_and_Personal_Care_10.json')))\n",
    "# # df_json1\n",
    "\n",
    "# # # load as Pandas dataframe\n",
    "# # df_json2 = pd.read_json('data/reviews_Health_and_Personal_Care_10.json')\n",
    "# # df_json2"
   ]
  },
  {
   "cell_type": "markdown",
   "metadata": {},
   "source": [
    "## Inspecting the Dataset"
   ]
  },
  {
   "cell_type": "code",
   "execution_count": 89,
   "metadata": {},
   "outputs": [
    {
     "data": {
      "text/plain": [
       "(55076, 9)"
      ]
     },
     "execution_count": 89,
     "metadata": {},
     "output_type": "execute_result"
    }
   ],
   "source": [
    "# Shape of the dataset\n",
    "df.shape"
   ]
  },
  {
   "cell_type": "code",
   "execution_count": 90,
   "metadata": {},
   "outputs": [
    {
     "data": {
      "text/html": [
       "<div>\n",
       "<style scoped>\n",
       "    .dataframe tbody tr th:only-of-type {\n",
       "        vertical-align: middle;\n",
       "    }\n",
       "\n",
       "    .dataframe tbody tr th {\n",
       "        vertical-align: top;\n",
       "    }\n",
       "\n",
       "    .dataframe thead th {\n",
       "        text-align: right;\n",
       "    }\n",
       "</style>\n",
       "<table border=\"1\" class=\"dataframe\">\n",
       "  <thead>\n",
       "    <tr style=\"text-align: right;\">\n",
       "      <th></th>\n",
       "      <th>reviewerID</th>\n",
       "      <th>asin</th>\n",
       "      <th>reviewerName</th>\n",
       "      <th>helpful</th>\n",
       "      <th>reviewText</th>\n",
       "      <th>overall</th>\n",
       "      <th>summary</th>\n",
       "      <th>unixReviewTime</th>\n",
       "      <th>reviewTime</th>\n",
       "    </tr>\n",
       "  </thead>\n",
       "  <tbody>\n",
       "    <tr>\n",
       "      <th>0</th>\n",
       "      <td>A1N655X9X7C6QY</td>\n",
       "      <td>B00000J47L</td>\n",
       "      <td>C. Cook \"LIVE..........LOVE........AND..........</td>\n",
       "      <td>[0, 0]</td>\n",
       "      <td>Right out of the box and ready to go !Everythi...</td>\n",
       "      <td>5.0</td>\n",
       "      <td>Out of the box ready to go................</td>\n",
       "      <td>1357948800</td>\n",
       "      <td>01 12, 2013</td>\n",
       "    </tr>\n",
       "    <tr>\n",
       "      <th>1</th>\n",
       "      <td>AEL6CQNQXONBX</td>\n",
       "      <td>B00000J47L</td>\n",
       "      <td>Cute Chihuahua</td>\n",
       "      <td>[1, 1]</td>\n",
       "      <td>In this day and age it is hard to understand w...</td>\n",
       "      <td>5.0</td>\n",
       "      <td>SAVE LOTS OF MONEY AND THE ENVIRONMENT AT THE ...</td>\n",
       "      <td>1227571200</td>\n",
       "      <td>11 25, 2008</td>\n",
       "    </tr>\n",
       "    <tr>\n",
       "      <th>2</th>\n",
       "      <td>A2032LF6FWWK8E</td>\n",
       "      <td>B00000J47L</td>\n",
       "      <td>Jay Riemenschneider</td>\n",
       "      <td>[6, 10]</td>\n",
       "      <td>At 2500ah, these rechargeable NiMh batteries p...</td>\n",
       "      <td>5.0</td>\n",
       "      <td>Excellent power, quality NiMh batteries to go ...</td>\n",
       "      <td>1141689600</td>\n",
       "      <td>03 7, 2006</td>\n",
       "    </tr>\n",
       "    <tr>\n",
       "      <th>3</th>\n",
       "      <td>A5GPH59NDWJRB</td>\n",
       "      <td>B00000J47L</td>\n",
       "      <td>Jenna of the Jungle</td>\n",
       "      <td>[2, 2]</td>\n",
       "      <td>I just gave up and threw out these batteries, ...</td>\n",
       "      <td>1.0</td>\n",
       "      <td>Boo! Dead batteries!</td>\n",
       "      <td>1253232000</td>\n",
       "      <td>09 18, 2009</td>\n",
       "    </tr>\n",
       "    <tr>\n",
       "      <th>4</th>\n",
       "      <td>AOEAD7DPLZE53</td>\n",
       "      <td>B00000J47L</td>\n",
       "      <td>NLee the Engineer</td>\n",
       "      <td>[11, 11]</td>\n",
       "      <td>This product is advertised as the NEW Energize...</td>\n",
       "      <td>2.0</td>\n",
       "      <td>\"Everything Old Is New Again\" featuring the En...</td>\n",
       "      <td>1290211200</td>\n",
       "      <td>11 20, 2010</td>\n",
       "    </tr>\n",
       "  </tbody>\n",
       "</table>\n",
       "</div>"
      ],
      "text/plain": [
       "       reviewerID        asin  \\\n",
       "0  A1N655X9X7C6QY  B00000J47L   \n",
       "1   AEL6CQNQXONBX  B00000J47L   \n",
       "2  A2032LF6FWWK8E  B00000J47L   \n",
       "3   A5GPH59NDWJRB  B00000J47L   \n",
       "4   AOEAD7DPLZE53  B00000J47L   \n",
       "\n",
       "                                       reviewerName   helpful  \\\n",
       "0  C. Cook \"LIVE..........LOVE........AND..........    [0, 0]   \n",
       "1                                    Cute Chihuahua    [1, 1]   \n",
       "2                               Jay Riemenschneider   [6, 10]   \n",
       "3                               Jenna of the Jungle    [2, 2]   \n",
       "4                                 NLee the Engineer  [11, 11]   \n",
       "\n",
       "                                          reviewText  overall  \\\n",
       "0  Right out of the box and ready to go !Everythi...      5.0   \n",
       "1  In this day and age it is hard to understand w...      5.0   \n",
       "2  At 2500ah, these rechargeable NiMh batteries p...      5.0   \n",
       "3  I just gave up and threw out these batteries, ...      1.0   \n",
       "4  This product is advertised as the NEW Energize...      2.0   \n",
       "\n",
       "                                             summary  unixReviewTime  \\\n",
       "0         Out of the box ready to go................      1357948800   \n",
       "1  SAVE LOTS OF MONEY AND THE ENVIRONMENT AT THE ...      1227571200   \n",
       "2  Excellent power, quality NiMh batteries to go ...      1141689600   \n",
       "3                               Boo! Dead batteries!      1253232000   \n",
       "4  \"Everything Old Is New Again\" featuring the En...      1290211200   \n",
       "\n",
       "    reviewTime  \n",
       "0  01 12, 2013  \n",
       "1  11 25, 2008  \n",
       "2   03 7, 2006  \n",
       "3  09 18, 2009  \n",
       "4  11 20, 2010  "
      ]
     },
     "execution_count": 90,
     "metadata": {},
     "output_type": "execute_result"
    }
   ],
   "source": [
    "df.head()"
   ]
  },
  {
   "cell_type": "code",
   "execution_count": 91,
   "metadata": {},
   "outputs": [
    {
     "name": "stdout",
     "output_type": "stream",
     "text": [
      "Cleaning - five stars. Nary a spot to be found, and all dishes are clean. But every time the dishwasher is opened after using this, there's a strong scent of soap. It's not obvious on the dishes - just in the washer. I can live with that.  The problem is that this blue gunk builds up in the drain filter (see photo) - after just six cycles, the drain had about 1/4\" of sludge in it. This blocked about 60% of the drain filter caused the washer to drain slowly. I took out the filter and cleaned it.  After just a couple of more cycles, the sludge started building up again.If you use this stuff, check your drain filter often!\n",
      "=======================\n",
      "Cleans great - but leaves behind a \"soapy\" smell and sludge in the drain filter\n"
     ]
    }
   ],
   "source": [
    "# Inspect a sample 'reviewText'\n",
    "print(df['reviewText'][2770])\n",
    "print('=======================')\n",
    "# Inspect a sample 'summary'\n",
    "print(df['summary'][2770])"
   ]
  },
  {
   "cell_type": "code",
   "execution_count": 92,
   "metadata": {},
   "outputs": [
    {
     "name": "stdout",
     "output_type": "stream",
     "text": [
      "<class 'pandas.core.frame.DataFrame'>\n",
      "Int64Index: 55076 entries, 0 to 55075\n",
      "Data columns (total 9 columns):\n",
      "reviewerID        55076 non-null object\n",
      "asin              55076 non-null object\n",
      "reviewerName      54787 non-null object\n",
      "helpful           55076 non-null object\n",
      "reviewText        55076 non-null object\n",
      "overall           55076 non-null float64\n",
      "summary           55076 non-null object\n",
      "unixReviewTime    55076 non-null int64\n",
      "reviewTime        55076 non-null object\n",
      "dtypes: float64(1), int64(1), object(7)\n",
      "memory usage: 6.7+ MB\n"
     ]
    }
   ],
   "source": [
    "# Basic information on Dataset\n",
    "df.info()"
   ]
  },
  {
   "cell_type": "markdown",
   "metadata": {},
   "source": [
    "**Each row corresponds to a customers' review information and related variables are explained below:**\n",
    "  * reviewerID : ID of the reviewer\n",
    "  * asin : ID of the product\n",
    "  * reviewerName : name of the reviewer\n",
    "  * helpful : helpfulness of the review, e.g. 2/3\n",
    "  * reviewText : text of the review\n",
    "  * overall : rating\n",
    "  * summary : summary of the review\n",
    "  * unixReviewTime : time of the review (unix time)\n",
    "  * reviewTime : time of the review (raw)"
   ]
  },
  {
   "cell_type": "code",
   "execution_count": 93,
   "metadata": {},
   "outputs": [
    {
     "data": {
      "text/html": [
       "<div>\n",
       "<style scoped>\n",
       "    .dataframe tbody tr th:only-of-type {\n",
       "        vertical-align: middle;\n",
       "    }\n",
       "\n",
       "    .dataframe tbody tr th {\n",
       "        vertical-align: top;\n",
       "    }\n",
       "\n",
       "    .dataframe thead th {\n",
       "        text-align: right;\n",
       "    }\n",
       "</style>\n",
       "<table border=\"1\" class=\"dataframe\">\n",
       "  <thead>\n",
       "    <tr style=\"text-align: right;\">\n",
       "      <th></th>\n",
       "      <th>overall</th>\n",
       "      <th>unixReviewTime</th>\n",
       "    </tr>\n",
       "  </thead>\n",
       "  <tbody>\n",
       "    <tr>\n",
       "      <th>count</th>\n",
       "      <td>55076.000000</td>\n",
       "      <td>5.507600e+04</td>\n",
       "    </tr>\n",
       "    <tr>\n",
       "      <th>mean</th>\n",
       "      <td>4.089858</td>\n",
       "      <td>1.351877e+09</td>\n",
       "    </tr>\n",
       "    <tr>\n",
       "      <th>std</th>\n",
       "      <td>1.025966</td>\n",
       "      <td>4.917115e+07</td>\n",
       "    </tr>\n",
       "    <tr>\n",
       "      <th>min</th>\n",
       "      <td>1.000000</td>\n",
       "      <td>1.073174e+09</td>\n",
       "    </tr>\n",
       "    <tr>\n",
       "      <th>25%</th>\n",
       "      <td>4.000000</td>\n",
       "      <td>1.324080e+09</td>\n",
       "    </tr>\n",
       "    <tr>\n",
       "      <th>50%</th>\n",
       "      <td>4.000000</td>\n",
       "      <td>1.365638e+09</td>\n",
       "    </tr>\n",
       "    <tr>\n",
       "      <th>75%</th>\n",
       "      <td>5.000000</td>\n",
       "      <td>1.388448e+09</td>\n",
       "    </tr>\n",
       "    <tr>\n",
       "      <th>max</th>\n",
       "      <td>5.000000</td>\n",
       "      <td>1.406074e+09</td>\n",
       "    </tr>\n",
       "  </tbody>\n",
       "</table>\n",
       "</div>"
      ],
      "text/plain": [
       "            overall  unixReviewTime\n",
       "count  55076.000000    5.507600e+04\n",
       "mean       4.089858    1.351877e+09\n",
       "std        1.025966    4.917115e+07\n",
       "min        1.000000    1.073174e+09\n",
       "25%        4.000000    1.324080e+09\n",
       "50%        4.000000    1.365638e+09\n",
       "75%        5.000000    1.388448e+09\n",
       "max        5.000000    1.406074e+09"
      ]
     },
     "execution_count": 93,
     "metadata": {},
     "output_type": "execute_result"
    }
   ],
   "source": [
    "# Basic Statistics of the Dataset\n",
    "df.describe()"
   ]
  },
  {
   "cell_type": "code",
   "execution_count": 94,
   "metadata": {},
   "outputs": [
    {
     "data": {
      "text/plain": [
       "0.0"
      ]
     },
     "execution_count": 94,
     "metadata": {},
     "output_type": "execute_result"
    }
   ],
   "source": [
    "# Checking weirdness on the dataset \n",
    "df['overall'][df['overall']<1].sum()"
   ]
  },
  {
   "cell_type": "code",
   "execution_count": 95,
   "metadata": {},
   "outputs": [
    {
     "data": {
      "text/plain": [
       "0.0"
      ]
     },
     "execution_count": 95,
     "metadata": {},
     "output_type": "execute_result"
    }
   ],
   "source": [
    "df['overall'][df.overall>5].sum()"
   ]
  },
  {
   "cell_type": "markdown",
   "metadata": {},
   "source": [
    "There is no rating out of defined 1-5 range. It makes sense. Let's see how many customers give ratings for each category. "
   ]
  },
  {
   "cell_type": "code",
   "execution_count": 96,
   "metadata": {},
   "outputs": [
    {
     "data": {
      "text/plain": [
       "5.0    24050\n",
       "4.0    18064\n",
       "3.0     8317\n",
       "2.0     3151\n",
       "1.0     1494\n",
       "Name: overall, dtype: int64"
      ]
     },
     "execution_count": 96,
     "metadata": {},
     "output_type": "execute_result"
    }
   ],
   "source": [
    "# Customer totals for each rating \n",
    "df['overall'].value_counts()"
   ]
  },
  {
   "cell_type": "code",
   "execution_count": 97,
   "metadata": {},
   "outputs": [
    {
     "data": {
      "image/png": "[encoded data removed]",
      "text/plain": [
       "<Figure size 432x288 with 1 Axes>"
      ]
     },
     "metadata": {
      "needs_background": "light"
     },
     "output_type": "display_data"
    }
   ],
   "source": [
    "overall = df['overall'].value_counts()\n",
    "sns.barplot(x=overall.index, y=overall.values)\n",
    "plt.xlabel(\"Rating\")\n",
    "plt.ylabel (\"Frequency\")\n",
    "plt.title(\"\")\n",
    "plt.show()"
   ]
  },
  {
   "cell_type": "markdown",
   "metadata": {},
   "source": [
    "## Dropping Missing Values"
   ]
  },
  {
   "cell_type": "code",
   "execution_count": 98,
   "metadata": {},
   "outputs": [
    {
     "data": {
      "text/plain": [
       "reviewerID          0\n",
       "asin                0\n",
       "reviewerName      289\n",
       "helpful             0\n",
       "reviewText          0\n",
       "overall             0\n",
       "summary             0\n",
       "unixReviewTime      0\n",
       "reviewTime          0\n",
       "dtype: int64"
      ]
     },
     "execution_count": 98,
     "metadata": {},
     "output_type": "execute_result"
    }
   ],
   "source": [
    "# Check for missing values\n",
    "df.isnull().sum()"
   ]
  },
  {
   "cell_type": "code",
   "execution_count": 99,
   "metadata": {},
   "outputs": [],
   "source": [
    "# Drop missing customers who don't give their names\n",
    "df = df.dropna(axis=0)"
   ]
  },
  {
   "cell_type": "markdown",
   "metadata": {},
   "source": [
    "## Concatenating 'reviewText' and 'summary' columns"
   ]
  },
  {
   "cell_type": "code",
   "execution_count": 100,
   "metadata": {},
   "outputs": [],
   "source": [
    "df['review_text'] = df[['reviewText', 'summary']].apply(lambda x: ''.join(x), axis=1)"
   ]
  },
  {
   "cell_type": "code",
   "execution_count": 101,
   "metadata": {},
   "outputs": [
    {
     "data": {
      "text/html": [
       "<div>\n",
       "<style scoped>\n",
       "    .dataframe tbody tr th:only-of-type {\n",
       "        vertical-align: middle;\n",
       "    }\n",
       "\n",
       "    .dataframe tbody tr th {\n",
       "        vertical-align: top;\n",
       "    }\n",
       "\n",
       "    .dataframe thead th {\n",
       "        text-align: right;\n",
       "    }\n",
       "</style>\n",
       "<table border=\"1\" class=\"dataframe\">\n",
       "  <thead>\n",
       "    <tr style=\"text-align: right;\">\n",
       "      <th></th>\n",
       "      <th>reviewerID</th>\n",
       "      <th>asin</th>\n",
       "      <th>reviewerName</th>\n",
       "      <th>helpful</th>\n",
       "      <th>reviewText</th>\n",
       "      <th>overall</th>\n",
       "      <th>summary</th>\n",
       "      <th>unixReviewTime</th>\n",
       "      <th>reviewTime</th>\n",
       "      <th>review_text</th>\n",
       "    </tr>\n",
       "  </thead>\n",
       "  <tbody>\n",
       "    <tr>\n",
       "      <th>0</th>\n",
       "      <td>A1N655X9X7C6QY</td>\n",
       "      <td>B00000J47L</td>\n",
       "      <td>C. Cook \"LIVE..........LOVE........AND..........</td>\n",
       "      <td>[0, 0]</td>\n",
       "      <td>Right out of the box and ready to go !Everythi...</td>\n",
       "      <td>5.0</td>\n",
       "      <td>Out of the box ready to go................</td>\n",
       "      <td>1357948800</td>\n",
       "      <td>01 12, 2013</td>\n",
       "      <td>Right out of the box and ready to go !Everythi...</td>\n",
       "    </tr>\n",
       "    <tr>\n",
       "      <th>1</th>\n",
       "      <td>AEL6CQNQXONBX</td>\n",
       "      <td>B00000J47L</td>\n",
       "      <td>Cute Chihuahua</td>\n",
       "      <td>[1, 1]</td>\n",
       "      <td>In this day and age it is hard to understand w...</td>\n",
       "      <td>5.0</td>\n",
       "      <td>SAVE LOTS OF MONEY AND THE ENVIRONMENT AT THE ...</td>\n",
       "      <td>1227571200</td>\n",
       "      <td>11 25, 2008</td>\n",
       "      <td>In this day and age it is hard to understand w...</td>\n",
       "    </tr>\n",
       "    <tr>\n",
       "      <th>2</th>\n",
       "      <td>A2032LF6FWWK8E</td>\n",
       "      <td>B00000J47L</td>\n",
       "      <td>Jay Riemenschneider</td>\n",
       "      <td>[6, 10]</td>\n",
       "      <td>At 2500ah, these rechargeable NiMh batteries p...</td>\n",
       "      <td>5.0</td>\n",
       "      <td>Excellent power, quality NiMh batteries to go ...</td>\n",
       "      <td>1141689600</td>\n",
       "      <td>03 7, 2006</td>\n",
       "      <td>At 2500ah, these rechargeable NiMh batteries p...</td>\n",
       "    </tr>\n",
       "    <tr>\n",
       "      <th>3</th>\n",
       "      <td>A5GPH59NDWJRB</td>\n",
       "      <td>B00000J47L</td>\n",
       "      <td>Jenna of the Jungle</td>\n",
       "      <td>[2, 2]</td>\n",
       "      <td>I just gave up and threw out these batteries, ...</td>\n",
       "      <td>1.0</td>\n",
       "      <td>Boo! Dead batteries!</td>\n",
       "      <td>1253232000</td>\n",
       "      <td>09 18, 2009</td>\n",
       "      <td>I just gave up and threw out these batteries, ...</td>\n",
       "    </tr>\n",
       "    <tr>\n",
       "      <th>4</th>\n",
       "      <td>AOEAD7DPLZE53</td>\n",
       "      <td>B00000J47L</td>\n",
       "      <td>NLee the Engineer</td>\n",
       "      <td>[11, 11]</td>\n",
       "      <td>This product is advertised as the NEW Energize...</td>\n",
       "      <td>2.0</td>\n",
       "      <td>\"Everything Old Is New Again\" featuring the En...</td>\n",
       "      <td>1290211200</td>\n",
       "      <td>11 20, 2010</td>\n",
       "      <td>This product is advertised as the NEW Energize...</td>\n",
       "    </tr>\n",
       "  </tbody>\n",
       "</table>\n",
       "</div>"
      ],
      "text/plain": [
       "       reviewerID        asin  \\\n",
       "0  A1N655X9X7C6QY  B00000J47L   \n",
       "1   AEL6CQNQXONBX  B00000J47L   \n",
       "2  A2032LF6FWWK8E  B00000J47L   \n",
       "3   A5GPH59NDWJRB  B00000J47L   \n",
       "4   AOEAD7DPLZE53  B00000J47L   \n",
       "\n",
       "                                       reviewerName   helpful  \\\n",
       "0  C. Cook \"LIVE..........LOVE........AND..........    [0, 0]   \n",
       "1                                    Cute Chihuahua    [1, 1]   \n",
       "2                               Jay Riemenschneider   [6, 10]   \n",
       "3                               Jenna of the Jungle    [2, 2]   \n",
       "4                                 NLee the Engineer  [11, 11]   \n",
       "\n",
       "                                          reviewText  overall  \\\n",
       "0  Right out of the box and ready to go !Everythi...      5.0   \n",
       "1  In this day and age it is hard to understand w...      5.0   \n",
       "2  At 2500ah, these rechargeable NiMh batteries p...      5.0   \n",
       "3  I just gave up and threw out these batteries, ...      1.0   \n",
       "4  This product is advertised as the NEW Energize...      2.0   \n",
       "\n",
       "                                             summary  unixReviewTime  \\\n",
       "0         Out of the box ready to go................      1357948800   \n",
       "1  SAVE LOTS OF MONEY AND THE ENVIRONMENT AT THE ...      1227571200   \n",
       "2  Excellent power, quality NiMh batteries to go ...      1141689600   \n",
       "3                               Boo! Dead batteries!      1253232000   \n",
       "4  \"Everything Old Is New Again\" featuring the En...      1290211200   \n",
       "\n",
       "    reviewTime                                        review_text  \n",
       "0  01 12, 2013  Right out of the box and ready to go !Everythi...  \n",
       "1  11 25, 2008  In this day and age it is hard to understand w...  \n",
       "2   03 7, 2006  At 2500ah, these rechargeable NiMh batteries p...  \n",
       "3  09 18, 2009  I just gave up and threw out these batteries, ...  \n",
       "4  11 20, 2010  This product is advertised as the NEW Energize...  "
      ]
     },
     "execution_count": 101,
     "metadata": {},
     "output_type": "execute_result"
    }
   ],
   "source": [
    "df.head()"
   ]
  },
  {
   "cell_type": "code",
   "execution_count": 102,
   "metadata": {},
   "outputs": [
    {
     "name": "stdout",
     "output_type": "stream",
     "text": [
      "Cleaning - five stars. Nary a spot to be found, and all dishes are clean. But every time the dishwasher is opened after using this, there's a strong scent of soap. It's not obvious on the dishes - just in the washer. I can live with that.  The problem is that this blue gunk builds up in the drain filter (see photo) - after just six cycles, the drain had about 1/4\" of sludge in it. This blocked about 60% of the drain filter caused the washer to drain slowly. I took out the filter and cleaned it.  After just a couple of more cycles, the sludge started building up again.If you use this stuff, check your drain filter often!Cleans great - but leaves behind a \"soapy\" smell and sludge in the drain filter\n"
     ]
    }
   ],
   "source": [
    "# Inspect a sample\n",
    "print(df['review_text'][2770])"
   ]
  },
  {
   "cell_type": "markdown",
   "metadata": {},
   "source": [
    "## Classify the 'overall' (ratings) as good, neutral and bad"
   ]
  },
  {
   "cell_type": "code",
   "execution_count": 103,
   "metadata": {},
   "outputs": [
    {
     "name": "stdout",
     "output_type": "stream",
     "text": [
      "Good ratings : 41879 reviews\n",
      "Neutral ratings : 8283 reviews\n",
      "Bad ratings : 4625 reviews\n"
     ]
    }
   ],
   "source": [
    "# Classify ratings as good\n",
    "good_rate = df[df.overall > 3].overall.count()\n",
    "neut_rate = df[df.overall == 3].overall.count()\n",
    "bad_rate = df[df.overall < 3].overall.count()\n",
    "\n",
    "# Printing rates and their total numbers\n",
    "print ('Good ratings : {} reviews'.format(good_rate))\n",
    "print ('Neutral ratings : {} reviews'.format(neut_rate))\n",
    "print ('Bad ratings : {} reviews'.format(bad_rate))"
   ]
  },
  {
   "cell_type": "code",
   "execution_count": 104,
   "metadata": {},
   "outputs": [
    {
     "data": {
      "image/png": "[encoded data removed]",
      "text/plain": [
       "<Figure size 432x288 with 1 Axes>"
      ]
     },
     "metadata": {
      "needs_background": "light"
     },
     "output_type": "display_data"
    }
   ],
   "source": [
    "overall = df['overall'].value_counts()\n",
    "sns.barplot(x=['Good','Neutral','Bad'], y=[41879,8283,4625])\n",
    "plt.xlabel(\"Rating\")\n",
    "plt.ylabel (\"Frequency\")\n",
    "plt.title(\"\")\n",
    "plt.show()"
   ]
  },
  {
   "cell_type": "code",
   "execution_count": 105,
   "metadata": {},
   "outputs": [
    {
     "data": {
      "text/html": [
       "<div>\n",
       "<style scoped>\n",
       "    .dataframe tbody tr th:only-of-type {\n",
       "        vertical-align: middle;\n",
       "    }\n",
       "\n",
       "    .dataframe tbody tr th {\n",
       "        vertical-align: top;\n",
       "    }\n",
       "\n",
       "    .dataframe thead th {\n",
       "        text-align: right;\n",
       "    }\n",
       "</style>\n",
       "<table border=\"1\" class=\"dataframe\">\n",
       "  <thead>\n",
       "    <tr style=\"text-align: right;\">\n",
       "      <th></th>\n",
       "      <th>reviewerID</th>\n",
       "      <th>asin</th>\n",
       "      <th>reviewerName</th>\n",
       "      <th>helpful</th>\n",
       "      <th>reviewText</th>\n",
       "      <th>overall</th>\n",
       "      <th>summary</th>\n",
       "      <th>unixReviewTime</th>\n",
       "      <th>reviewTime</th>\n",
       "      <th>review_text</th>\n",
       "      <th>rating_class</th>\n",
       "    </tr>\n",
       "  </thead>\n",
       "  <tbody>\n",
       "    <tr>\n",
       "      <th>0</th>\n",
       "      <td>A1N655X9X7C6QY</td>\n",
       "      <td>B00000J47L</td>\n",
       "      <td>C. Cook \"LIVE..........LOVE........AND..........</td>\n",
       "      <td>[0, 0]</td>\n",
       "      <td>Right out of the box and ready to go !Everythi...</td>\n",
       "      <td>5.0</td>\n",
       "      <td>Out of the box ready to go................</td>\n",
       "      <td>1357948800</td>\n",
       "      <td>01 12, 2013</td>\n",
       "      <td>Right out of the box and ready to go !Everythi...</td>\n",
       "      <td>good</td>\n",
       "    </tr>\n",
       "    <tr>\n",
       "      <th>1</th>\n",
       "      <td>AEL6CQNQXONBX</td>\n",
       "      <td>B00000J47L</td>\n",
       "      <td>Cute Chihuahua</td>\n",
       "      <td>[1, 1]</td>\n",
       "      <td>In this day and age it is hard to understand w...</td>\n",
       "      <td>5.0</td>\n",
       "      <td>SAVE LOTS OF MONEY AND THE ENVIRONMENT AT THE ...</td>\n",
       "      <td>1227571200</td>\n",
       "      <td>11 25, 2008</td>\n",
       "      <td>In this day and age it is hard to understand w...</td>\n",
       "      <td>good</td>\n",
       "    </tr>\n",
       "  </tbody>\n",
       "</table>\n",
       "</div>"
      ],
      "text/plain": [
       "       reviewerID        asin  \\\n",
       "0  A1N655X9X7C6QY  B00000J47L   \n",
       "1   AEL6CQNQXONBX  B00000J47L   \n",
       "\n",
       "                                       reviewerName helpful  \\\n",
       "0  C. Cook \"LIVE..........LOVE........AND..........  [0, 0]   \n",
       "1                                    Cute Chihuahua  [1, 1]   \n",
       "\n",
       "                                          reviewText  overall  \\\n",
       "0  Right out of the box and ready to go !Everythi...      5.0   \n",
       "1  In this day and age it is hard to understand w...      5.0   \n",
       "\n",
       "                                             summary  unixReviewTime  \\\n",
       "0         Out of the box ready to go................      1357948800   \n",
       "1  SAVE LOTS OF MONEY AND THE ENVIRONMENT AT THE ...      1227571200   \n",
       "\n",
       "    reviewTime                                        review_text rating_class  \n",
       "0  01 12, 2013  Right out of the box and ready to go !Everythi...         good  \n",
       "1  11 25, 2008  In this day and age it is hard to understand w...         good  "
      ]
     },
     "execution_count": 105,
     "metadata": {},
     "output_type": "execute_result"
    }
   ],
   "source": [
    "# Apply the new classification to the ratings column\n",
    "df['rating_class'] = df['overall'].apply(lambda x: 'bad' if x < 3 else('neutral' if x==3  else 'good'))\n",
    "df.head(2)"
   ]
  },
  {
   "cell_type": "markdown",
   "metadata": {},
   "source": [
    "## Dropping redundant columns"
   ]
  },
  {
   "cell_type": "code",
   "execution_count": 106,
   "metadata": {},
   "outputs": [],
   "source": [
    "# Convert time object to datetime and create a new column named 'date_time'\n",
    "df['date_time'] = pd.to_datetime(df['reviewTime'])"
   ]
  },
  {
   "cell_type": "markdown",
   "metadata": {},
   "source": [
    "  * As we have 'reviewerID', which a unique identifier customers, we don't need 'reviewerName', thus we can drop 'reviewerName'. \n",
    "  * As we already combined 'summary' and 'reviewText' columns and created a new column, 'review_text', we can drop 'summary' and 'reviewText' columns.\n",
    "  * As we are planning to use ratings and reviews only, we don't need 'helpful' column.\n",
    "  * As we already created 'date_time' column, we will drop 'reviewTime' and 'unixReviewTime' "
   ]
  },
  {
   "cell_type": "code",
   "execution_count": 107,
   "metadata": {},
   "outputs": [],
   "source": [
    "df = df.drop(['reviewerName', 'helpful', 'summary', 'reviewText', 'unixReviewTime', 'reviewTime'], axis = 1)"
   ]
  },
  {
   "cell_type": "code",
   "execution_count": 108,
   "metadata": {},
   "outputs": [
    {
     "data": {
      "text/html": [
       "<div>\n",
       "<style scoped>\n",
       "    .dataframe tbody tr th:only-of-type {\n",
       "        vertical-align: middle;\n",
       "    }\n",
       "\n",
       "    .dataframe tbody tr th {\n",
       "        vertical-align: top;\n",
       "    }\n",
       "\n",
       "    .dataframe thead th {\n",
       "        text-align: right;\n",
       "    }\n",
       "</style>\n",
       "<table border=\"1\" class=\"dataframe\">\n",
       "  <thead>\n",
       "    <tr style=\"text-align: right;\">\n",
       "      <th></th>\n",
       "      <th>reviewerID</th>\n",
       "      <th>asin</th>\n",
       "      <th>overall</th>\n",
       "      <th>review_text</th>\n",
       "      <th>rating_class</th>\n",
       "      <th>date_time</th>\n",
       "    </tr>\n",
       "  </thead>\n",
       "  <tbody>\n",
       "    <tr>\n",
       "      <th>0</th>\n",
       "      <td>A1N655X9X7C6QY</td>\n",
       "      <td>B00000J47L</td>\n",
       "      <td>5.0</td>\n",
       "      <td>Right out of the box and ready to go !Everythi...</td>\n",
       "      <td>good</td>\n",
       "      <td>2013-01-12</td>\n",
       "    </tr>\n",
       "    <tr>\n",
       "      <th>1</th>\n",
       "      <td>AEL6CQNQXONBX</td>\n",
       "      <td>B00000J47L</td>\n",
       "      <td>5.0</td>\n",
       "      <td>In this day and age it is hard to understand w...</td>\n",
       "      <td>good</td>\n",
       "      <td>2008-11-25</td>\n",
       "    </tr>\n",
       "    <tr>\n",
       "      <th>2</th>\n",
       "      <td>A2032LF6FWWK8E</td>\n",
       "      <td>B00000J47L</td>\n",
       "      <td>5.0</td>\n",
       "      <td>At 2500ah, these rechargeable NiMh batteries p...</td>\n",
       "      <td>good</td>\n",
       "      <td>2006-03-07</td>\n",
       "    </tr>\n",
       "  </tbody>\n",
       "</table>\n",
       "</div>"
      ],
      "text/plain": [
       "       reviewerID        asin  overall  \\\n",
       "0  A1N655X9X7C6QY  B00000J47L      5.0   \n",
       "1   AEL6CQNQXONBX  B00000J47L      5.0   \n",
       "2  A2032LF6FWWK8E  B00000J47L      5.0   \n",
       "\n",
       "                                         review_text rating_class  date_time  \n",
       "0  Right out of the box and ready to go !Everythi...         good 2013-01-12  \n",
       "1  In this day and age it is hard to understand w...         good 2008-11-25  \n",
       "2  At 2500ah, these rechargeable NiMh batteries p...         good 2006-03-07  "
      ]
     },
     "execution_count": 108,
     "metadata": {},
     "output_type": "execute_result"
    }
   ],
   "source": [
    "df.head(3)"
   ]
  },
  {
   "cell_type": "markdown",
   "metadata": {},
   "source": [
    "## Rename column names"
   ]
  },
  {
   "cell_type": "code",
   "execution_count": 109,
   "metadata": {},
   "outputs": [],
   "source": [
    "# Rename the columns\n",
    "df.columns = ['customer_ID', 'product_ID', 'rating', 'review_text', 'rating_class', 'date_time']"
   ]
  },
  {
   "cell_type": "code",
   "execution_count": 110,
   "metadata": {},
   "outputs": [
    {
     "data": {
      "text/html": [
       "<div>\n",
       "<style scoped>\n",
       "    .dataframe tbody tr th:only-of-type {\n",
       "        vertical-align: middle;\n",
       "    }\n",
       "\n",
       "    .dataframe tbody tr th {\n",
       "        vertical-align: top;\n",
       "    }\n",
       "\n",
       "    .dataframe thead th {\n",
       "        text-align: right;\n",
       "    }\n",
       "</style>\n",
       "<table border=\"1\" class=\"dataframe\">\n",
       "  <thead>\n",
       "    <tr style=\"text-align: right;\">\n",
       "      <th></th>\n",
       "      <th>customer_ID</th>\n",
       "      <th>product_ID</th>\n",
       "      <th>rating</th>\n",
       "      <th>review_text</th>\n",
       "      <th>rating_class</th>\n",
       "      <th>date_time</th>\n",
       "    </tr>\n",
       "  </thead>\n",
       "  <tbody>\n",
       "    <tr>\n",
       "      <th>0</th>\n",
       "      <td>A1N655X9X7C6QY</td>\n",
       "      <td>B00000J47L</td>\n",
       "      <td>5.0</td>\n",
       "      <td>Right out of the box and ready to go !Everythi...</td>\n",
       "      <td>good</td>\n",
       "      <td>2013-01-12</td>\n",
       "    </tr>\n",
       "    <tr>\n",
       "      <th>1</th>\n",
       "      <td>AEL6CQNQXONBX</td>\n",
       "      <td>B00000J47L</td>\n",
       "      <td>5.0</td>\n",
       "      <td>In this day and age it is hard to understand w...</td>\n",
       "      <td>good</td>\n",
       "      <td>2008-11-25</td>\n",
       "    </tr>\n",
       "  </tbody>\n",
       "</table>\n",
       "</div>"
      ],
      "text/plain": [
       "      customer_ID  product_ID  rating  \\\n",
       "0  A1N655X9X7C6QY  B00000J47L     5.0   \n",
       "1   AEL6CQNQXONBX  B00000J47L     5.0   \n",
       "\n",
       "                                         review_text rating_class  date_time  \n",
       "0  Right out of the box and ready to go !Everythi...         good 2013-01-12  \n",
       "1  In this day and age it is hard to understand w...         good 2008-11-25  "
      ]
     },
     "execution_count": 110,
     "metadata": {},
     "output_type": "execute_result"
    }
   ],
   "source": [
    "df.head(2)"
   ]
  },
  {
   "cell_type": "markdown",
   "metadata": {},
   "source": [
    "## Descriptive Statistics"
   ]
  },
  {
   "cell_type": "code",
   "execution_count": 111,
   "metadata": {},
   "outputs": [
    {
     "name": "stdout",
     "output_type": "stream",
     "text": [
      " The number of unique customers is 2184\n",
      " The number of unique products is 1260\n"
     ]
    }
   ],
   "source": [
    "# The number of unique customers\n",
    "print(' The number of unique customers is {}'.format (len(df['customer_ID'].unique())))\n",
    "\n",
    "# The number of unique products\n",
    "print(' The number of unique products is {}'.format (len(df['product_ID'].unique())))"
   ]
  },
  {
   "cell_type": "code",
   "execution_count": 112,
   "metadata": {},
   "outputs": [
    {
     "data": {
      "text/html": [
       "<div>\n",
       "<style scoped>\n",
       "    .dataframe tbody tr th:only-of-type {\n",
       "        vertical-align: middle;\n",
       "    }\n",
       "\n",
       "    .dataframe tbody tr th {\n",
       "        vertical-align: top;\n",
       "    }\n",
       "\n",
       "    .dataframe thead th {\n",
       "        text-align: right;\n",
       "    }\n",
       "</style>\n",
       "<table border=\"1\" class=\"dataframe\">\n",
       "  <thead>\n",
       "    <tr style=\"text-align: right;\">\n",
       "      <th></th>\n",
       "      <th>rating</th>\n",
       "    </tr>\n",
       "  </thead>\n",
       "  <tbody>\n",
       "    <tr>\n",
       "      <th>count</th>\n",
       "      <td>54787.000000</td>\n",
       "    </tr>\n",
       "    <tr>\n",
       "      <th>mean</th>\n",
       "      <td>4.089492</td>\n",
       "    </tr>\n",
       "    <tr>\n",
       "      <th>std</th>\n",
       "      <td>1.026216</td>\n",
       "    </tr>\n",
       "    <tr>\n",
       "      <th>min</th>\n",
       "      <td>1.000000</td>\n",
       "    </tr>\n",
       "    <tr>\n",
       "      <th>25%</th>\n",
       "      <td>4.000000</td>\n",
       "    </tr>\n",
       "    <tr>\n",
       "      <th>50%</th>\n",
       "      <td>4.000000</td>\n",
       "    </tr>\n",
       "    <tr>\n",
       "      <th>75%</th>\n",
       "      <td>5.000000</td>\n",
       "    </tr>\n",
       "    <tr>\n",
       "      <th>max</th>\n",
       "      <td>5.000000</td>\n",
       "    </tr>\n",
       "  </tbody>\n",
       "</table>\n",
       "</div>"
      ],
      "text/plain": [
       "             rating\n",
       "count  54787.000000\n",
       "mean       4.089492\n",
       "std        1.026216\n",
       "min        1.000000\n",
       "25%        4.000000\n",
       "50%        4.000000\n",
       "75%        5.000000\n",
       "max        5.000000"
      ]
     },
     "execution_count": 112,
     "metadata": {},
     "output_type": "execute_result"
    }
   ],
   "source": [
    "df.describe()"
   ]
  },
  {
   "cell_type": "markdown",
   "metadata": {},
   "source": [
    "##### What we learned from the statistics summary\n",
    "\n",
    "  * Rating:\n",
    "    - Mean of the ratings is more than 4 out of 5. It means that people are tenden to give high ratings. \"std\" value (1.084) and percentile values show that 1 and 2 star ratings are rare. \n",
    "\n",
    "  * Non-numeric variables statistics:\n",
    "    - Some customers have more than one rating and we may have some outliers."
   ]
  },
  {
   "cell_type": "markdown",
   "metadata": {},
   "source": [
    "# Preprocessing the new_text"
   ]
  },
  {
   "cell_type": "code",
   "execution_count": 113,
   "metadata": {},
   "outputs": [],
   "source": [
    "import spacy\n",
    "import nltk\n",
    "from nltk.corpus import stopwords\n",
    "from nltk.stem import PorterStemmer, WordNetLemmatizer\n",
    "from nltk.tokenize import word_tokenize, sent_tokenize, regexp_tokenize\n",
    "from nltk.tokenize import RegexpTokenizer\n",
    "from nltk.tokenize.toktok import ToktokTokenizer\n",
    "import re\n",
    "from bs4 import BeautifulSoup\n",
    "#download contractions.py and keep it in the same directory in your notebook\n",
    "from contractions import CONTRACTION_MAP  \n",
    "import unicodedata\n",
    "tokenizer = ToktokTokenizer()\n",
    "nlp = spacy.load('en', parse=True, tag=True, entity=True)"
   ]
  },
  {
   "cell_type": "markdown",
   "metadata": {},
   "source": [
    "## Cleaning Text - strip HTML"
   ]
  },
  {
   "cell_type": "markdown",
   "metadata": {},
   "source": [
    "We will write a function to remove the HTML tags which typically does not add much value towards understanding and analyzing text."
   ]
  },
  {
   "cell_type": "code",
   "execution_count": 114,
   "metadata": {},
   "outputs": [],
   "source": [
    "def strip_html_tags(text):\n",
    "    \n",
    "    \"Removes html tags in the text\"\n",
    "    \n",
    "    soup = BeautifulSoup(text, \"html.parser\")\n",
    "    stripped_text = soup.get_text()\n",
    "    return stripped_text"
   ]
  },
  {
   "cell_type": "markdown",
   "metadata": {},
   "source": [
    "## Removing accented characters"
   ]
  },
  {
   "cell_type": "markdown",
   "metadata": {},
   "source": [
    "We will write a function to convert and standardize accented characters/letters into ASCII characters."
   ]
  },
  {
   "cell_type": "code",
   "execution_count": 115,
   "metadata": {},
   "outputs": [],
   "source": [
    "def remove_accented_chars(text):\n",
    "    \n",
    "    \"Removes and standardize accented characters/letters\"\n",
    "    \n",
    "    text = unicodedata.normalize('NFKD', text).encode('ascii', 'ignore').decode('utf-8', 'ignore')\n",
    "    return text"
   ]
  },
  {
   "cell_type": "markdown",
   "metadata": {},
   "source": [
    "## Expanding Contractions"
   ]
  },
  {
   "cell_type": "markdown",
   "metadata": {},
   "source": [
    "We will write a function to convert each contraction to its expanded, orginal form in order to help with text standardization. "
   ]
  },
  {
   "cell_type": "code",
   "execution_count": 117,
   "metadata": {},
   "outputs": [],
   "source": [
    "def expand_contractions(text, contraction_mapping=CONTRACTION_MAP):\n",
    "    \n",
    "    \"Convert contractions into their original forms\"\n",
    "    \n",
    "    contractions_pattern = re.compile('({})'.format('|'.join(contraction_mapping.keys())), \n",
    "                                      flags=re.IGNORECASE|re.DOTALL)\n",
    "    def expand_match(contraction):\n",
    "        match = contraction.group(0)\n",
    "        first_char = match[0]\n",
    "        expanded_contraction = contraction_mapping.get(match)\\\n",
    "                                if contraction_mapping.get(match)\\\n",
    "                                else contraction_mapping.get(match.lower())                       \n",
    "        expanded_contraction = first_char+expanded_contraction[1:]\n",
    "        return expanded_contraction\n",
    "        \n",
    "    expanded_text = contractions_pattern.sub(expand_match, text)\n",
    "    expanded_text = re.sub(\"'\", \"\", expanded_text)\n",
    "    return expanded_text"
   ]
  },
  {
   "cell_type": "markdown",
   "metadata": {},
   "source": [
    "## Removing Special Characters"
   ]
  },
  {
   "cell_type": "markdown",
   "metadata": {},
   "source": [
    "We will use simple regular expressions(regexes) to remove special characters and symbols which are usually non-alphanumeric characters or even occasional numeric characters."
   ]
  },
  {
   "cell_type": "code",
   "execution_count": 118,
   "metadata": {},
   "outputs": [],
   "source": [
    "def remove_special_characters(text, remove_digits=False):\n",
    "    \n",
    "    \"Remove special characters/symbols\"\n",
    "    \n",
    "    pattern = r'[^a-zA-z0-9\\s]' if not remove_digits else r'[^a-zA-z\\s]'\n",
    "    text = re.sub(pattern, '', text)\n",
    "    return text"
   ]
  },
  {
   "cell_type": "markdown",
   "metadata": {},
   "source": [
    "## Lemmatizing text"
   ]
  },
  {
   "cell_type": "markdown",
   "metadata": {},
   "source": [
    "We will remove word affixes to get to the base form of a word, known as root word. "
   ]
  },
  {
   "cell_type": "code",
   "execution_count": 119,
   "metadata": {},
   "outputs": [
    {
     "data": {
      "text/plain": [
       "'My system keep crash ! the car crash yesterday , ours crash daily'"
      ]
     },
     "execution_count": 119,
     "metadata": {},
     "output_type": "execute_result"
    }
   ],
   "source": [
    "def lemmatize_text(text):\n",
    "    text = nlp(text)\n",
    "    text = ' '.join([word.lemma_ if word.lemma_ != '-PRON-' else word.text for word in text])\n",
    "    return text\n",
    "\n",
    "lemmatize_text(\"My system keeps crashing! the car crashed yesterday, ours crashes daily\")"
   ]
  },
  {
   "cell_type": "markdown",
   "metadata": {},
   "source": [
    "## Removing Stopwords"
   ]
  },
  {
   "cell_type": "markdown",
   "metadata": {},
   "source": [
    "We will write a function to remove stopwords which have little or no significance in the text. "
   ]
  },
  {
   "cell_type": "code",
   "execution_count": 120,
   "metadata": {},
   "outputs": [],
   "source": [
    "# Instantiate Tokenizer\n",
    "tokenizer = ToktokTokenizer()\n",
    "\n",
    "# Create stopword list\n",
    "stopword_list = nltk.corpus.stopwords.words('english')\n",
    "\n",
    "# 'no' and 'not' may give us information so those are removed from stop list\n",
    "stopword_list.remove('no')\n",
    "stopword_list.remove('not')"
   ]
  },
  {
   "cell_type": "code",
   "execution_count": 121,
   "metadata": {},
   "outputs": [],
   "source": [
    "def remove_stopwords(text, is_lower_case=False):\n",
    "    \n",
    "    \"Remove stopwords in the text except 'no' and 'not'\"\n",
    "    \n",
    "    tokens = tokenizer.tokenize(text)\n",
    "    tokens = [token.strip() for token in tokens]\n",
    "    if is_lower_case:\n",
    "        filtered_tokens = [token for token in tokens if token not in stopword_list]\n",
    "    else:\n",
    "        filtered_tokens = [token for token in tokens if token.lower() not in stopword_list]\n",
    "    filtered_text = ' '.join(filtered_tokens)    \n",
    "    return filtered_text"
   ]
  },
  {
   "cell_type": "markdown",
   "metadata": {},
   "source": [
    "## Normalize text corpus - tying it all together"
   ]
  },
  {
   "cell_type": "markdown",
   "metadata": {},
   "source": [
    "Based on the functions which we have written above and also with additional text correction techniques, we will build a text normalizer in order to help us to preproces the new_text document."
   ]
  },
  {
   "cell_type": "markdown",
   "metadata": {},
   "source": [
    "## Applying text normalizer to \"review_text\""
   ]
  },
  {
   "cell_type": "code",
   "execution_count": 128,
   "metadata": {},
   "outputs": [],
   "source": [
    "import numpy as np\n",
    "import contractions\n",
    "from bs4 import BeautifulSoup\n",
    "import unicodedata\n",
    "import re\n",
    "from concurrent import futures\n",
    "import threading\n",
    "\n",
    "\n",
    "def strip_html_tags(text):\n",
    "    soup = BeautifulSoup(text, \"lxml\")\n",
    "    [s.extract() for s in soup(['iframe', 'script'])]\n",
    "    stripped_text = soup.get_text()\n",
    "    stripped_text = re.sub(r'[\\r|\\n|\\r\\n]+', '\\n', stripped_text, re.I)\n",
    "    return stripped_text\n",
    "\n",
    "\n",
    "def remove_urls(text):\n",
    "    url_pattern = '((https?:\\/\\/)(\\s)*(www\\.)?|(www\\.))(\\s)*((\\w|\\s)+\\.)*([\\w\\-\\s]+\\/)*([\\w\\-]+)((\\?)?[\\w\\s]*=\\s*[\\w\\%&]*)*'\n",
    "    text = re.sub(url_pattern, ' ', text, re.I)\n",
    "    return text\n",
    "\n",
    "\n",
    "def remove_checklists(text):\n",
    "    checklist_pattern = r'\\[[xX\\.\\s]\\]'\n",
    "    text = re.sub(checklist_pattern, ' ', text, re.I | re.DOTALL)\n",
    "    return text\n",
    "\n",
    "\n",
    "def remove_accented_chars(text):\n",
    "    text = unicodedata.normalize('NFKD', text).encode('ascii', 'ignore').decode('utf-8', 'ignore')\n",
    "    return text\n",
    "\n",
    "def expand_contractions(text, contraction_mapping=CONTRACTION_MAP):\n",
    "    \n",
    "    \"Convert contractions into their original forms\"\n",
    "    \n",
    "    contractions_pattern = re.compile('({})'.format('|'.join(contraction_mapping.keys())), \n",
    "                                      flags=re.IGNORECASE|re.DOTALL)\n",
    "    def expand_match(contraction):\n",
    "        match = contraction.group(0)\n",
    "        first_char = match[0]\n",
    "        expanded_contraction = contraction_mapping.get(match)\\\n",
    "                                if contraction_mapping.get(match)\\\n",
    "                                else contraction_mapping.get(match.lower())                       \n",
    "        expanded_contraction = first_char+expanded_contraction[1:]\n",
    "        return expanded_contraction\n",
    "        \n",
    "    expanded_text = contractions_pattern.sub(expand_match, text)\n",
    "    expanded_text = re.sub(\"'\", \"\", expanded_text)\n",
    "    return expanded_text\n",
    "\n",
    "\n",
    "\n",
    "# def expand_contractions(text):\n",
    "#     return contractions.fix(text)\n",
    "\n",
    "\n",
    "def remove_special_characters(text, remove_digits=False):\n",
    "    pattern = r'[^a-zA-Z0-9/\\s]' if not remove_digits else r'[^a-zA-Z\\s]'\n",
    "    text = re.sub(pattern, ' ', text)\n",
    "    return text\n",
    "\n",
    "def remove_stopwords(text, is_lower_case=False):\n",
    "    \n",
    "    \"Remove stopwords in the text except 'no' and 'not'\"\n",
    "    \n",
    "    tokens = tokenizer.tokenize(text)\n",
    "    tokens = [token.strip() for token in tokens]\n",
    "    if is_lower_case:\n",
    "        filtered_tokens = [token for token in tokens if token not in stopword_list]\n",
    "    else:\n",
    "        filtered_tokens = [token for token in tokens if token.lower() not in stopword_list]\n",
    "    filtered_text = ' '.join(filtered_tokens)    \n",
    "    return filtered_text\n",
    "\n",
    "\n",
    "def pre_process_document(document, contraction_expansion=True):\n",
    "    # strip HTML\n",
    "    document = strip_html_tags(document)\n",
    "\n",
    "    # remove URLS\n",
    "    document = remove_urls(document)\n",
    "\n",
    "    # remove checklists\n",
    "    document = remove_checklists(document)\n",
    "\n",
    "    # expand contractions\n",
    "    document = expand_contractions(document)\n",
    "\n",
    "        # expand contractions    \n",
    "    if contraction_expansion:\n",
    "        document = expand_contractions(document)\n",
    "        \n",
    "    # lower case\n",
    "    document = document.lower()\n",
    "\n",
    "    # remove extra newlines (often might be present in really noisy text)\n",
    "    document = document.translate(document.maketrans(\"\\n\\t\\r\", \"   \"))\n",
    "\n",
    "    # remove accented characters\n",
    "    document = remove_accented_chars(document)\n",
    "\n",
    "    # remove special characters and\\or digits\n",
    "    # insert spaces between special characters to isolate them\n",
    "    special_char_pattern = re.compile(r'([{.(-)!}])')\n",
    "    document = special_char_pattern.sub(\" \\\\1 \", document)\n",
    "    document = remove_special_characters(document, remove_digits=False)\n",
    "\n",
    "    # remove only numbers\n",
    "    document = re.sub(r'\\b\\d+\\b', '', document)\n",
    "\n",
    "    # remove extra whitespace\n",
    "    document = re.sub(' +', ' ', document)\n",
    "    document = document.strip()\n",
    "\n",
    "    #remove stopwords\n",
    "    document = remove_stopwords (document)\n",
    "    \n",
    "    #lemmatize the text\n",
    "    document = lemmatize_text(document)\n",
    "    \n",
    "    return document\n",
    "\n",
    "\n",
    "def parallel_preprocessing(idx, doc, total_docs):\n",
    "    if idx % 5000 == 0 or idx == (total_docs - 1):\n",
    "        print('{}: working on doc num: {}'.format(threading.current_thread().name,\n",
    "                                                  idx)\n",
    "    )\n",
    "    return pre_process_document(doc)\n",
    "\n",
    "\n",
    "def pre_process_documents_parallel(documents):\n",
    "    total_docs = len(documents)\n",
    "    docs_input = [[idx, doc, total_docs] for idx, doc in enumerate(documents)]\n",
    "    \n",
    "    ex = futures.ThreadPoolExecutor(max_workers=None)\n",
    "    print('preprocessing: starting')\n",
    "    norm_descriptions_map = ex.map(parallel_preprocessing, \n",
    "                                   [record[0] for record in docs_input],\n",
    "                                   [record[1] for record in docs_input],\n",
    "                                   [record[2] for record in docs_input])\n",
    "    norm_descriptions = list(norm_descriptions_map)\n",
    "    return norm_descriptions"
   ]
  },
  {
   "cell_type": "code",
   "execution_count": 129,
   "metadata": {},
   "outputs": [],
   "source": [
    "df['normalized_text'] = df['review_text'].map(lambda x: pre_process_document(x))"
   ]
  },
  {
   "cell_type": "code",
   "execution_count": 130,
   "metadata": {},
   "outputs": [
    {
     "data": {
      "text/html": [
       "<div>\n",
       "<style scoped>\n",
       "    .dataframe tbody tr th:only-of-type {\n",
       "        vertical-align: middle;\n",
       "    }\n",
       "\n",
       "    .dataframe tbody tr th {\n",
       "        vertical-align: top;\n",
       "    }\n",
       "\n",
       "    .dataframe thead th {\n",
       "        text-align: right;\n",
       "    }\n",
       "</style>\n",
       "<table border=\"1\" class=\"dataframe\">\n",
       "  <thead>\n",
       "    <tr style=\"text-align: right;\">\n",
       "      <th></th>\n",
       "      <th>customer_ID</th>\n",
       "      <th>product_ID</th>\n",
       "      <th>rating</th>\n",
       "      <th>review_text</th>\n",
       "      <th>rating_class</th>\n",
       "      <th>date_time</th>\n",
       "      <th>normalized_text</th>\n",
       "    </tr>\n",
       "  </thead>\n",
       "  <tbody>\n",
       "    <tr>\n",
       "      <th>0</th>\n",
       "      <td>A1N655X9X7C6QY</td>\n",
       "      <td>B00000J47L</td>\n",
       "      <td>5.0</td>\n",
       "      <td>Right out of the box and ready to go !Everythi...</td>\n",
       "      <td>good</td>\n",
       "      <td>2013-01-12</td>\n",
       "      <td>right box ready go everything star packaging p...</td>\n",
       "    </tr>\n",
       "    <tr>\n",
       "      <th>1</th>\n",
       "      <td>AEL6CQNQXONBX</td>\n",
       "      <td>B00000J47L</td>\n",
       "      <td>5.0</td>\n",
       "      <td>In this day and age it is hard to understand w...</td>\n",
       "      <td>good</td>\n",
       "      <td>2008-11-25</td>\n",
       "      <td>day age hard understand everyone not use recha...</td>\n",
       "    </tr>\n",
       "  </tbody>\n",
       "</table>\n",
       "</div>"
      ],
      "text/plain": [
       "      customer_ID  product_ID  rating  \\\n",
       "0  A1N655X9X7C6QY  B00000J47L     5.0   \n",
       "1   AEL6CQNQXONBX  B00000J47L     5.0   \n",
       "\n",
       "                                         review_text rating_class  date_time  \\\n",
       "0  Right out of the box and ready to go !Everythi...         good 2013-01-12   \n",
       "1  In this day and age it is hard to understand w...         good 2008-11-25   \n",
       "\n",
       "                                     normalized_text  \n",
       "0  right box ready go everything star packaging p...  \n",
       "1  day age hard understand everyone not use recha...  "
      ]
     },
     "execution_count": 130,
     "metadata": {},
     "output_type": "execute_result"
    }
   ],
   "source": [
    "df.head(2)"
   ]
  },
  {
   "cell_type": "markdown",
   "metadata": {},
   "source": [
    "## Applying tokenizer to create tokens for the clean text"
   ]
  },
  {
   "cell_type": "code",
   "execution_count": 131,
   "metadata": {},
   "outputs": [
    {
     "data": {
      "text/html": [
       "<div>\n",
       "<style scoped>\n",
       "    .dataframe tbody tr th:only-of-type {\n",
       "        vertical-align: middle;\n",
       "    }\n",
       "\n",
       "    .dataframe tbody tr th {\n",
       "        vertical-align: top;\n",
       "    }\n",
       "\n",
       "    .dataframe thead th {\n",
       "        text-align: right;\n",
       "    }\n",
       "</style>\n",
       "<table border=\"1\" class=\"dataframe\">\n",
       "  <thead>\n",
       "    <tr style=\"text-align: right;\">\n",
       "      <th></th>\n",
       "      <th>customer_ID</th>\n",
       "      <th>product_ID</th>\n",
       "      <th>rating</th>\n",
       "      <th>review_text</th>\n",
       "      <th>rating_class</th>\n",
       "      <th>date_time</th>\n",
       "      <th>normalized_text</th>\n",
       "      <th>tokens</th>\n",
       "    </tr>\n",
       "  </thead>\n",
       "  <tbody>\n",
       "    <tr>\n",
       "      <th>0</th>\n",
       "      <td>A1N655X9X7C6QY</td>\n",
       "      <td>B00000J47L</td>\n",
       "      <td>5.0</td>\n",
       "      <td>Right out of the box and ready to go !Everythi...</td>\n",
       "      <td>good</td>\n",
       "      <td>2013-01-12</td>\n",
       "      <td>right box ready go everything star packaging p...</td>\n",
       "      <td>[right, box, ready, go, everything, star, pack...</td>\n",
       "    </tr>\n",
       "    <tr>\n",
       "      <th>1</th>\n",
       "      <td>AEL6CQNQXONBX</td>\n",
       "      <td>B00000J47L</td>\n",
       "      <td>5.0</td>\n",
       "      <td>In this day and age it is hard to understand w...</td>\n",
       "      <td>good</td>\n",
       "      <td>2008-11-25</td>\n",
       "      <td>day age hard understand everyone not use recha...</td>\n",
       "      <td>[day, age, hard, understand, everyone, not, us...</td>\n",
       "    </tr>\n",
       "    <tr>\n",
       "      <th>2</th>\n",
       "      <td>A2032LF6FWWK8E</td>\n",
       "      <td>B00000J47L</td>\n",
       "      <td>5.0</td>\n",
       "      <td>At 2500ah, these rechargeable NiMh batteries p...</td>\n",
       "      <td>good</td>\n",
       "      <td>2006-03-07</td>\n",
       "      <td>2500ah rechargeable nimh battery provide power...</td>\n",
       "      <td>[2500ah, rechargeable, nimh, battery, provide,...</td>\n",
       "    </tr>\n",
       "    <tr>\n",
       "      <th>3</th>\n",
       "      <td>A5GPH59NDWJRB</td>\n",
       "      <td>B00000J47L</td>\n",
       "      <td>1.0</td>\n",
       "      <td>I just gave up and threw out these batteries, ...</td>\n",
       "      <td>bad</td>\n",
       "      <td>2009-09-18</td>\n",
       "      <td>give throw battery couple month rotation two s...</td>\n",
       "      <td>[give, throw, battery, couple, month, rotation...</td>\n",
       "    </tr>\n",
       "    <tr>\n",
       "      <th>4</th>\n",
       "      <td>AOEAD7DPLZE53</td>\n",
       "      <td>B00000J47L</td>\n",
       "      <td>2.0</td>\n",
       "      <td>This product is advertised as the NEW Energize...</td>\n",
       "      <td>bad</td>\n",
       "      <td>2010-11-20</td>\n",
       "      <td>product advertise new energizer rechargeable n...</td>\n",
       "      <td>[product, advertise, new, energizer, rechargea...</td>\n",
       "    </tr>\n",
       "  </tbody>\n",
       "</table>\n",
       "</div>"
      ],
      "text/plain": [
       "      customer_ID  product_ID  rating  \\\n",
       "0  A1N655X9X7C6QY  B00000J47L     5.0   \n",
       "1   AEL6CQNQXONBX  B00000J47L     5.0   \n",
       "2  A2032LF6FWWK8E  B00000J47L     5.0   \n",
       "3   A5GPH59NDWJRB  B00000J47L     1.0   \n",
       "4   AOEAD7DPLZE53  B00000J47L     2.0   \n",
       "\n",
       "                                         review_text rating_class  date_time  \\\n",
       "0  Right out of the box and ready to go !Everythi...         good 2013-01-12   \n",
       "1  In this day and age it is hard to understand w...         good 2008-11-25   \n",
       "2  At 2500ah, these rechargeable NiMh batteries p...         good 2006-03-07   \n",
       "3  I just gave up and threw out these batteries, ...          bad 2009-09-18   \n",
       "4  This product is advertised as the NEW Energize...          bad 2010-11-20   \n",
       "\n",
       "                                     normalized_text  \\\n",
       "0  right box ready go everything star packaging p...   \n",
       "1  day age hard understand everyone not use recha...   \n",
       "2  2500ah rechargeable nimh battery provide power...   \n",
       "3  give throw battery couple month rotation two s...   \n",
       "4  product advertise new energizer rechargeable n...   \n",
       "\n",
       "                                              tokens  \n",
       "0  [right, box, ready, go, everything, star, pack...  \n",
       "1  [day, age, hard, understand, everyone, not, us...  \n",
       "2  [2500ah, rechargeable, nimh, battery, provide,...  \n",
       "3  [give, throw, battery, couple, month, rotation...  \n",
       "4  [product, advertise, new, energizer, rechargea...  "
      ]
     },
     "execution_count": 131,
     "metadata": {},
     "output_type": "execute_result"
    }
   ],
   "source": [
    "# Apply tokenizer to create a new column named as tokens which consists of the list of the reviews\n",
    "tokenizer = RegexpTokenizer(r'\\w+')\n",
    "df[\"tokens\"] = df[\"normalized_text\"].apply(tokenizer.tokenize)\n",
    "df.head()"
   ]
  },
  {
   "cell_type": "code",
   "execution_count": 132,
   "metadata": {},
   "outputs": [
    {
     "name": "stdout",
     "output_type": "stream",
     "text": [
      "4603316 words total, with a vocabulary size of 53795\n",
      "Max review length is (word based) 2791\n",
      "Min review length is (word based) 2\n"
     ]
    }
   ],
   "source": [
    "# Tokens status\n",
    "all_words = [word for tokens in df[\"tokens\"] for word in tokens]\n",
    "sentence_lengths = [len(tokens) for tokens in df[\"tokens\"]]\n",
    "vocabulary = sorted(list(set(all_words)))\n",
    "print(\"%s words total, with a vocabulary size of %s\" % (len(all_words), len(vocabulary)))\n",
    "print(\"Max review length is (word based) %s\" % max(sentence_lengths))\n",
    "print(\"Min review length is (word based) %s\" % min(sentence_lengths))"
   ]
  },
  {
   "cell_type": "markdown",
   "metadata": {},
   "source": [
    "## Write dataframe to CSV file"
   ]
  },
  {
   "cell_type": "code",
   "execution_count": 133,
   "metadata": {},
   "outputs": [],
   "source": [
    "df.to_csv('cleaned_text_personalcare.csv', sep = ',', encoding = 'utf-8', index = False)"
   ]
  }
 ],
 "metadata": {
  "kernelspec": {
   "display_name": "Python 3",
   "language": "python",
   "name": "python3"
  },
  "language_info": {
   "codemirror_mode": {
    "name": "ipython",
    "version": 3
   },
   "file_extension": ".py",
   "mimetype": "text/x-python",
   "name": "python",
   "nbconvert_exporter": "python",
   "pygments_lexer": "ipython3",
   "version": "3.7.3"
  }
 },
 "nbformat": 4,
 "nbformat_minor": 2
}
