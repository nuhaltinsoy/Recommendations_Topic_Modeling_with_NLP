{
 "cells": [
  {
   "cell_type": "markdown",
   "metadata": {},
   "source": [
    "# School Supplies - Unsupervised Lexical Models"
   ]
  },
  {
   "cell_type": "code",
   "execution_count": 2,
   "metadata": {},
   "outputs": [
    {
     "data": {
      "image/jpeg": "[encoded data removed]",
      "text/plain": [
       "<IPython.core.display.Image object>"
      ]
     },
     "execution_count": 2,
     "metadata": {},
     "output_type": "execute_result"
    }
   ],
   "source": [
    "from IPython.display import Image\n",
    "Image(filename = '/Users/amy/00_Springboard/14_Capstone_Project_2/sentiment.jpg')"
   ]
  },
  {
   "cell_type": "markdown",
   "metadata": {},
   "source": [
    "Sentiment polarity is typically a numeric score which is assigned to both the positive and negative aspects of a text document based on subjective parameters like specific words and phrases expressing feelings and emotion. Neutral sentiment typically has 0 polarity since it does not express any specific sentiment, positive sentiment will have polarity > 0 and negative < 0. Of course you can always change these thresholds based on the type of text you are dealing with and there are no hard constraints on this.\n",
    "\n",
    "Unsupervised sentiment analysis models make use of well curated knowledgebases, ontologies, lexicons and databases which have detailed information pertaining to subjective words, phrases including sentiment, mood, polarity, objectivity, subjectivity and so on. A lexicon model typically uses a lexicon, also known as a dictionary or vocabulary of words specifically aligned towards sentiment analysis. Usually these lexicons contain a list of words associated with positive and negative sentiment, polarity (magnitude of negative or positive score), parts of speech (POS) tags, subjectivity classifiers (strong, weak, neutral), mood, modality and so on."
   ]
  },
  {
   "cell_type": "markdown",
   "metadata": {},
   "source": [
    "## Import Necessary Libraries"
   ]
  },
  {
   "cell_type": "code",
   "execution_count": 3,
   "metadata": {},
   "outputs": [
    {
     "name": "stderr",
     "output_type": "stream",
     "text": [
      "[nltk_data] Downloading package stopwords to /Users/amy/nltk_data...\n",
      "[nltk_data]   Package stopwords is already up-to-date!\n"
     ]
    }
   ],
   "source": [
    "import pandas as pd\n",
    "import numpy as np\n",
    "import nltk\n",
    "\n",
    "import matplotlib.pyplot as plt\n",
    "\n",
    "from sklearn import metrics\n",
    "from sklearn.metrics import classification_report\n",
    "from sklearn.metrics import confusion_matrix\n",
    "from  sklearn.metrics import precision_recall_fscore_support\n",
    "from sklearn.metrics import accuracy_score\n",
    "\n",
    "\n",
    "from nltk.tokenize import word_tokenize, sent_tokenize, regexp_tokenize\n",
    "from nltk.tokenize import RegexpTokenizer\n",
    "from nltk.tokenize.toktok import ToktokTokenizer\n",
    "\n",
    "from nltk import word_tokenize\n",
    "nltk.download('stopwords')\n",
    "import warnings\n",
    "warnings.filterwarnings(\"ignore\")\n"
   ]
  },
  {
   "cell_type": "code",
   "execution_count": 4,
   "metadata": {},
   "outputs": [],
   "source": [
    "np.set_printoptions(precision=2, linewidth=80)"
   ]
  },
  {
   "cell_type": "markdown",
   "metadata": {},
   "source": [
    "## Load and View Dataset"
   ]
  },
  {
   "cell_type": "code",
   "execution_count": 5,
   "metadata": {},
   "outputs": [],
   "source": [
    "df = pd.read_csv('cleaned_text_school_supplies.csv')"
   ]
  },
  {
   "cell_type": "code",
   "execution_count": 6,
   "metadata": {},
   "outputs": [
    {
     "data": {
      "text/plain": [
       "customer_ID        0\n",
       "product_ID         0\n",
       "rating             0\n",
       "review_text        0\n",
       "rating_class       0\n",
       "date_time          0\n",
       "normalized_text    1\n",
       "tokens             0\n",
       "dtype: int64"
      ]
     },
     "execution_count": 6,
     "metadata": {},
     "output_type": "execute_result"
    }
   ],
   "source": [
    "df.isnull().sum()"
   ]
  },
  {
   "cell_type": "code",
   "execution_count": 7,
   "metadata": {},
   "outputs": [],
   "source": [
    "df = df.dropna(axis=0)"
   ]
  },
  {
   "cell_type": "code",
   "execution_count": 8,
   "metadata": {},
   "outputs": [],
   "source": [
    "# Converting categorical to numerical \n",
    "df['rating_class'] = df['rating_class'].replace({'good': 1,'neutral': 0,'bad':0 })\n",
    "# Converting categorical to numerical \n",
    "df['rating_class'] = df['rating_class'].replace({1: 'good',0 :'bad' })"
   ]
  },
  {
   "cell_type": "code",
   "execution_count": 9,
   "metadata": {},
   "outputs": [
    {
     "data": {
      "text/html": [
       "<div>\n",
       "<style scoped>\n",
       "    .dataframe tbody tr th:only-of-type {\n",
       "        vertical-align: middle;\n",
       "    }\n",
       "\n",
       "    .dataframe tbody tr th {\n",
       "        vertical-align: top;\n",
       "    }\n",
       "\n",
       "    .dataframe thead th {\n",
       "        text-align: right;\n",
       "    }\n",
       "</style>\n",
       "<table border=\"1\" class=\"dataframe\">\n",
       "  <thead>\n",
       "    <tr style=\"text-align: right;\">\n",
       "      <th></th>\n",
       "      <th>customer_ID</th>\n",
       "      <th>product_ID</th>\n",
       "      <th>rating</th>\n",
       "      <th>review_text</th>\n",
       "      <th>rating_class</th>\n",
       "      <th>date_time</th>\n",
       "      <th>normalized_text</th>\n",
       "      <th>tokens</th>\n",
       "    </tr>\n",
       "  </thead>\n",
       "  <tbody>\n",
       "    <tr>\n",
       "      <th>0</th>\n",
       "      <td>0136039847</td>\n",
       "      <td>A2MVR1VMDPMNGS</td>\n",
       "      <td>1.0</td>\n",
       "      <td>I honestly believe that giving this merchant o...</td>\n",
       "      <td>bad</td>\n",
       "      <td>2014-03-03</td>\n",
       "      <td>honestly believe give merchant one star favor ...</td>\n",
       "      <td>['honestly', 'believe', 'give', 'merchant', 'o...</td>\n",
       "    </tr>\n",
       "    <tr>\n",
       "      <th>1</th>\n",
       "      <td>0439504422</td>\n",
       "      <td>ASTJ36CFZRN3O</td>\n",
       "      <td>5.0</td>\n",
       "      <td>This is a standard size folder that fits stand...</td>\n",
       "      <td>good</td>\n",
       "      <td>2012-09-18</td>\n",
       "      <td>standard size folder fit standard paper 5x11 f...</td>\n",
       "      <td>['standard', 'size', 'folder', 'fit', 'standar...</td>\n",
       "    </tr>\n",
       "  </tbody>\n",
       "</table>\n",
       "</div>"
      ],
      "text/plain": [
       "  customer_ID      product_ID  rating  \\\n",
       "0  0136039847  A2MVR1VMDPMNGS     1.0   \n",
       "1  0439504422   ASTJ36CFZRN3O     5.0   \n",
       "\n",
       "                                         review_text rating_class   date_time  \\\n",
       "0  I honestly believe that giving this merchant o...          bad  2014-03-03   \n",
       "1  This is a standard size folder that fits stand...         good  2012-09-18   \n",
       "\n",
       "                                     normalized_text  \\\n",
       "0  honestly believe give merchant one star favor ...   \n",
       "1  standard size folder fit standard paper 5x11 f...   \n",
       "\n",
       "                                              tokens  \n",
       "0  ['honestly', 'believe', 'give', 'merchant', 'o...  \n",
       "1  ['standard', 'size', 'folder', 'fit', 'standar...  "
      ]
     },
     "execution_count": 9,
     "metadata": {},
     "output_type": "execute_result"
    }
   ],
   "source": [
    "df.head(2)"
   ]
  },
  {
   "cell_type": "markdown",
   "metadata": {},
   "source": [
    "## Extract data for model evaluation"
   ]
  },
  {
   "cell_type": "code",
   "execution_count": 10,
   "metadata": {},
   "outputs": [],
   "source": [
    "df_train = df[:8000]\n",
    "df_test = df[8000:]"
   ]
  },
  {
   "cell_type": "code",
   "execution_count": 11,
   "metadata": {},
   "outputs": [],
   "source": [
    "text_reviews = df['review_text'].values\n",
    "test_text_reviews = text_reviews [8000:]\n",
    "\n",
    "sentiments = df['rating_class'].values\n",
    "test_sentiments = sentiments[8000:]\n",
    "\n",
    "sample_review_ids = [1201, 805, 305] "
   ]
  },
  {
   "cell_type": "markdown",
   "metadata": {},
   "source": [
    "# Sentiment Analysis with TextBlob"
   ]
  },
  {
   "cell_type": "markdown",
   "metadata": {},
   "source": [
    "TextBlob is a Python library for processing textual data. It provides a simple API for diving into common natural language processing (NLP) tasks such as part-of-speech tagging, noun phrase extraction, sentiment analysis, classification, translation, and more."
   ]
  },
  {
   "cell_type": "markdown",
   "metadata": {},
   "source": [
    "Typically, specific adjectives have a **polarity score** (**negative/positive**, -1.0 to +1.0) and a **subjectivity score**    (objective/subjective, +0.0 to +1.0) associated with them."
   ]
  },
  {
   "cell_type": "markdown",
   "metadata": {},
   "source": [
    "## Try out sentiment analysis with three examples"
   ]
  },
  {
   "cell_type": "code",
   "execution_count": 12,
   "metadata": {},
   "outputs": [
    {
     "name": "stdout",
     "output_type": "stream",
     "text": [
      "REVIEW:\n",
      "Maybe I should have figured based on the price but I honestly thought it couldn't be that expensive for a good quality real chalkboard.This thing arrived, box in perfect condition but the chalkboard and frame itself are complete crap. The pine frame is unfinished and splintery. It was also mis-meausred and didn't meet at the corners. The one corner piece was straight up broken and had a splinter half the width of the too frame piece running down and disconnecting from half the length of the top piece. So disappointed. Even if $20 is s good deal for a chalkboard..you can hardly call this a chalkboard. Its some kind of woodish material painted black...seems like the finish of it is going to scrape right off..at least after some use. Wish I would have read more reviews first..as most people have the same issues with theirs. I don't have the time or patience to mess around with a return (which is probably exactly what they ate counting on) but I will be writing to the people who make it and expressing my grave disappointment. I homeschool, which is what this purchase was intended for.. I guess I will wood glue it and use it until I can't anymore and then try to upcycle it into something better...if that's even possible from a bunch if garbage poorly stapled togetger .  I strongly advise another choice no matter your intentions for it.not worth the money..not worth ANY money..\n",
      "Actual Sentiment: bad\n",
      "Predicted Sentiment polarity: 0.08211640211640212\n",
      "------------------------------------------------------------\n",
      "REVIEW:\n",
      "I really like these.  For all those cell phone, iPad, etc. cables - they are absolutely perfect.  Very easy to put on and holds a lot of cord length.  Not unattractive either!  Ordering more - once I got them, I realized they were too handy and three was not enough!Love them!\n",
      "Actual Sentiment: good\n",
      "Predicted Sentiment polarity: 0.6308333333333334\n",
      "------------------------------------------------------------\n",
      "REVIEW:\n",
      "The Mead Builder is an easy to use and very efficient tool, used to assist in designing and laying out the structure of a report or term paper.The overall layout is near perfect for just about any writing scenario, whether it is a school term paper or writng an in-depth article for a newspaper, the Mead Builder is next to perfect in it's design.The program is structured in 6 easy to follow steps:1. Planning Your Schedule2. Establishing Your Topic3. Gathering Your Sources4. Organizing Information5. Creating An Outline6. Writing Your PaperThese steps are designed to keep the user on track and focused for optimal research and writing.There is adaquate storage on this thumb drive for all of the information compiled and the work that is drafted or completed.The nice thing about this drive is that the software is external and this drive can be hopped around and accessed on different computers, so it's always ready to work when you're on the go, ie; home computer, work computer, library computer, etc...If only they had this technology twenty years ago, I may have done much better on my own papers.I am extremely impressed with this program and I will be recommending it to our school board.Now... if they only made a product like this for Grant Writing.Extremely Impressed\n",
      "Actual Sentiment: good\n",
      "Predicted Sentiment polarity: 0.3925925925925926\n",
      "------------------------------------------------------------\n"
     ]
    }
   ],
   "source": [
    "import textblob\n",
    "\n",
    "for review, sentiment in zip(test_text_reviews[sample_review_ids], test_sentiments[sample_review_ids]):\n",
    "    print('REVIEW:',review, sep='\\n')\n",
    "    print('Actual Sentiment:', sentiment)\n",
    "    print('Predicted Sentiment polarity:', textblob.TextBlob(review).sentiment.polarity)\n",
    "    print('-'*60)"
   ]
  },
  {
   "cell_type": "markdown",
   "metadata": {},
   "source": [
    "## Predict sentiment on all the test reviews"
   ]
  },
  {
   "cell_type": "code",
   "execution_count": 14,
   "metadata": {},
   "outputs": [],
   "source": [
    "sentiment_polarity = [textblob.TextBlob(review).sentiment.polarity for review in test_text_reviews]"
   ]
  },
  {
   "cell_type": "code",
   "execution_count": 26,
   "metadata": {},
   "outputs": [],
   "source": [
    "predicted_sentiments = ['good' if score >= 0.1 else 'bad' for score in sentiment_polarity]"
   ]
  },
  {
   "cell_type": "code",
   "execution_count": 27,
   "metadata": {},
   "outputs": [
    {
     "data": {
      "text/plain": [
       "2835"
      ]
     },
     "execution_count": 27,
     "metadata": {},
     "output_type": "execute_result"
    }
   ],
   "source": [
    "len(predicted_sentiments)"
   ]
  },
  {
   "cell_type": "code",
   "execution_count": 28,
   "metadata": {},
   "outputs": [
    {
     "data": {
      "text/plain": [
       "2835"
      ]
     },
     "execution_count": 28,
     "metadata": {},
     "output_type": "execute_result"
    }
   ],
   "source": [
    "len(test_sentiments)"
   ]
  },
  {
   "cell_type": "code",
   "execution_count": 29,
   "metadata": {},
   "outputs": [
    {
     "name": "stdout",
     "output_type": "stream",
     "text": [
      "0.7749559082892417\n"
     ]
    }
   ],
   "source": [
    "print(accuracy_score(test_sentiments, predicted_sentiments))"
   ]
  },
  {
   "cell_type": "code",
   "execution_count": 30,
   "metadata": {},
   "outputs": [
    {
     "name": "stdout",
     "output_type": "stream",
     "text": [
      "             precision    recall  f1-score   support\n",
      "\n",
      "        bad       0.57      0.56      0.57       739\n",
      "       good       0.85      0.85      0.85      2096\n",
      "\n",
      "avg / total       0.77      0.77      0.77      2835\n",
      "\n"
     ]
    }
   ],
   "source": [
    "print (classification_report(test_sentiments, predicted_sentiments))"
   ]
  },
  {
   "cell_type": "code",
   "execution_count": 31,
   "metadata": {},
   "outputs": [
    {
     "name": "stdout",
     "output_type": "stream",
     "text": [
      "[[ 417  322]\n",
      " [ 316 1780]]\n"
     ]
    }
   ],
   "source": [
    "print(confusion_matrix(test_sentiments, predicted_sentiments))"
   ]
  },
  {
   "cell_type": "markdown",
   "metadata": {},
   "source": [
    "# Sentiment Analysis with AFINN"
   ]
  },
  {
   "cell_type": "markdown",
   "metadata": {},
   "source": [
    "The AFINN lexicon is perhaps one of the simplest and most popular lexicons which can be used extensively for sentiment analysis. Developed and curated by Finn Årup Nielsen.\n",
    "The current version of the lexicon is AFINN-en-165.txt which contains over 3300+ words with a polarity score associated with each word.\n",
    "\n",
    "The author has also created a wrapper library on top of this in Python called afinn which we will be using here."
   ]
  },
  {
   "cell_type": "markdown",
   "metadata": {},
   "source": [
    "## Try out sentiment analysis with three examples"
   ]
  },
  {
   "cell_type": "code",
   "execution_count": 32,
   "metadata": {},
   "outputs": [],
   "source": [
    "from afinn import Afinn\n",
    "\n",
    "afn = Afinn(emoticons=True)"
   ]
  },
  {
   "cell_type": "code",
   "execution_count": 37,
   "metadata": {},
   "outputs": [
    {
     "name": "stdout",
     "output_type": "stream",
     "text": [
      "REVIEW: Maybe I should have figured based on the price but I honestly thought it couldn't be that expensive for a good quality real chalkboard.This thing arrived, box in perfect condition but the chalkboard and frame itself are complete crap. The pine frame is unfinished and splintery. It was also mis-meausred and didn't meet at the corners. The one corner piece was straight up broken and had a splinter half the width of the too frame piece running down and disconnecting from half the length of the top piece. So disappointed. Even if $20 is s good deal for a chalkboard..you can hardly call this a chalkboard. Its some kind of woodish material painted black...seems like the finish of it is going to scrape right off..at least after some use. Wish I would have read more reviews first..as most people have the same issues with theirs. I don't have the time or patience to mess around with a return (which is probably exactly what they ate counting on) but I will be writing to the people who make it and expressing my grave disappointment. I homeschool, which is what this purchase was intended for.. I guess I will wood glue it and use it until I can't anymore and then try to upcycle it into something better...if that's even possible from a bunch if garbage poorly stapled togetger .  I strongly advise another choice no matter your intentions for it.not worth the money..not worth ANY money..\n",
      "Actual Sentiment: bad\n",
      "Predicted Sentiment polarity: 8.0\n",
      "------------------------------------------------------------\n",
      "REVIEW: I really like these.  For all those cell phone, iPad, etc. cables - they are absolutely perfect.  Very easy to put on and holds a lot of cord length.  Not unattractive either!  Ordering more - once I got them, I realized they were too handy and three was not enough!Love them!\n",
      "Actual Sentiment: good\n",
      "Predicted Sentiment polarity: 7.0\n",
      "------------------------------------------------------------\n",
      "REVIEW: The Mead Builder is an easy to use and very efficient tool, used to assist in designing and laying out the structure of a report or term paper.The overall layout is near perfect for just about any writing scenario, whether it is a school term paper or writng an in-depth article for a newspaper, the Mead Builder is next to perfect in it's design.The program is structured in 6 easy to follow steps:1. Planning Your Schedule2. Establishing Your Topic3. Gathering Your Sources4. Organizing Information5. Creating An Outline6. Writing Your PaperThese steps are designed to keep the user on track and focused for optimal research and writing.There is adaquate storage on this thumb drive for all of the information compiled and the work that is drafted or completed.The nice thing about this drive is that the software is external and this drive can be hopped around and accessed on different computers, so it's always ready to work when you're on the go, ie; home computer, work computer, library computer, etc...If only they had this technology twenty years ago, I may have done much better on my own papers.I am extremely impressed with this program and I will be recommending it to our school board.Now... if they only made a product like this for Grant Writing.Extremely Impressed\n",
      "Actual Sentiment: good\n",
      "Predicted Sentiment polarity: 24.0\n",
      "------------------------------------------------------------\n"
     ]
    }
   ],
   "source": [
    "for review, sentiment in zip(test_text_reviews[sample_review_ids], test_sentiments[sample_review_ids]):\n",
    "    print('REVIEW:', review)\n",
    "    print('Actual Sentiment:', sentiment)\n",
    "    print('Predicted Sentiment polarity:', afn.score(review))\n",
    "    print('-'*60)"
   ]
  },
  {
   "cell_type": "markdown",
   "metadata": {},
   "source": [
    "## Predict sentiment on all the test reviews"
   ]
  },
  {
   "cell_type": "code",
   "execution_count": 40,
   "metadata": {},
   "outputs": [],
   "source": [
    "sentiment_polarity = [afn.score(review) for review in test_text_reviews]\n",
    "predicted_sentiments = ['good' if score >= 1.0 else 'bad' for score in sentiment_polarity]"
   ]
  },
  {
   "cell_type": "code",
   "execution_count": 41,
   "metadata": {},
   "outputs": [
    {
     "name": "stdout",
     "output_type": "stream",
     "text": [
      "0.8038800705467373\n"
     ]
    }
   ],
   "source": [
    "print(accuracy_score(test_sentiments, predicted_sentiments))"
   ]
  },
  {
   "cell_type": "code",
   "execution_count": 42,
   "metadata": {},
   "outputs": [
    {
     "name": "stdout",
     "output_type": "stream",
     "text": [
      "             precision    recall  f1-score   support\n",
      "\n",
      "        bad       0.70      0.44      0.54       739\n",
      "       good       0.82      0.93      0.88      2096\n",
      "\n",
      "avg / total       0.79      0.80      0.79      2835\n",
      "\n"
     ]
    }
   ],
   "source": [
    "print (classification_report(test_sentiments, predicted_sentiments))"
   ]
  },
  {
   "cell_type": "code",
   "execution_count": 43,
   "metadata": {},
   "outputs": [
    {
     "name": "stdout",
     "output_type": "stream",
     "text": [
      "[[ 324  415]\n",
      " [ 141 1955]]\n"
     ]
    }
   ],
   "source": [
    "print(confusion_matrix(test_sentiments, predicted_sentiments))"
   ]
  },
  {
   "cell_type": "markdown",
   "metadata": {},
   "source": [
    "# Sentiment Analysis with VADER"
   ]
  },
  {
   "cell_type": "markdown",
   "metadata": {},
   "source": [
    "The VADER lexicon, developed by C.J. Hutto is a lexicon which is based on a rule-based sentiment analysis framework, specifically tuned to analyze sentiments in social media. VADER stands for Valence Aware Dictionary and sEntiment Reasoner."
   ]
  },
  {
   "cell_type": "markdown",
   "metadata": {},
   "source": [
    "You can use the library based on nltk's interface under the nltk.sentiment.vader module."
   ]
  },
  {
   "cell_type": "markdown",
   "metadata": {},
   "source": [
    "## Try out sentiment analysis with three examples"
   ]
  },
  {
   "cell_type": "code",
   "execution_count": 46,
   "metadata": {},
   "outputs": [],
   "source": [
    "from nltk.sentiment.vader import SentimentIntensityAnalyzer"
   ]
  },
  {
   "cell_type": "code",
   "execution_count": 58,
   "metadata": {},
   "outputs": [],
   "source": [
    "import contractions\n",
    "from bs4 import BeautifulSoup\n",
    "import unicodedata\n",
    "import re\n",
    "\n",
    "def strip_html_tags(text):\n",
    "    soup = BeautifulSoup(text, \"html.parser\")\n",
    "    [s.extract() for s in soup(['iframe', 'script'])]\n",
    "    stripped_text = soup.get_text()\n",
    "    stripped_text = re.sub(r'[\\r|\\n|\\r\\n]+', '\\n', stripped_text)\n",
    "    return stripped_text\n",
    "\n",
    "\n",
    "def remove_accented_chars(text):\n",
    "    text = unicodedata.normalize('NFKD', text).encode('ascii', 'ignore').decode('utf-8', 'ignore')\n",
    "    return text\n",
    "\n",
    "\n",
    "# def expand_contractions(text):\n",
    "#     return contractions.fix(text)"
   ]
  },
  {
   "cell_type": "code",
   "execution_count": 59,
   "metadata": {},
   "outputs": [],
   "source": [
    "def analyze_sentiment_vader_lexicon(review, \n",
    "                                    threshold=0.1,\n",
    "                                    verbose=False):\n",
    "    # pre-process text\n",
    "    review = strip_html_tags(review)\n",
    "    review = remove_accented_chars(review)\n",
    "#     review = expand_contractions(review)\n",
    "    \n",
    "    # analyze the sentiment for review\n",
    "    analyzer = SentimentIntensityAnalyzer()\n",
    "    scores = analyzer.polarity_scores(review)\n",
    "    # get aggregate scores and final sentiment\n",
    "    agg_score = scores['compound']\n",
    "    final_sentiment = 'good' if agg_score >= threshold\\\n",
    "                                   else 'bad'\n",
    "    if verbose:\n",
    "        # display detailed sentiment statistics\n",
    "        positive = str(round(scores['pos'], 2)*100)+'%'\n",
    "        final = round(agg_score, 2)\n",
    "        negative = str(round(scores['neg'], 2)*100)+'%'\n",
    "        neutral = str(round(scores['neu'], 2)*100)+'%'\n",
    "        sentiment_frame = pd.DataFrame([[final_sentiment, final, positive,\n",
    "                                        negative, neutral]],\n",
    "                                        columns=pd.MultiIndex(levels=[['SENTIMENT STATS:'], \n",
    "                                                                      ['Predicted Sentiment', 'Polarity Score',\n",
    "                                                                       'Good', 'Bad', 'Neutral']], \n",
    "                                                              labels=[[0,0,0,0,0],[0,1,2,3,4]]))\n",
    "        print(sentiment_frame)\n",
    "    \n",
    "    return final_sentiment"
   ]
  },
  {
   "cell_type": "code",
   "execution_count": 60,
   "metadata": {},
   "outputs": [
    {
     "name": "stdout",
     "output_type": "stream",
     "text": [
      "REVIEW: Maybe I should have figured based on the price but I honestly thought it couldn't be that expensive for a good quality real chalkboard.This thing arrived, box in perfect condition but the chalkboard and frame itself are complete crap. The pine frame is unfinished and splintery. It was also mis-meausred and didn't meet at the corners. The one corner piece was straight up broken and had a splinter half the width of the too frame piece running down and disconnecting from half the length of the top piece. So disappointed. Even if $20 is s good deal for a chalkboard..you can hardly call this a chalkboard. Its some kind of woodish material painted black...seems like the finish of it is going to scrape right off..at least after some use. Wish I would have read more reviews first..as most people have the same issues with theirs. I don't have the time or patience to mess around with a return (which is probably exactly what they ate counting on) but I will be writing to the people who make it and expressing my grave disappointment. I homeschool, which is what this purchase was intended for.. I guess I will wood glue it and use it until I can't anymore and then try to upcycle it into something better...if that's even possible from a bunch if garbage poorly stapled togetger .  I strongly advise another choice no matter your intentions for it.not worth the money..not worth ANY money..\n",
      "ACTUAL SENTIMENT: bad\n",
      "     SENTIMENT STATS:                                                   \n",
      "  Predicted Sentiment Polarity Score                 Good    Bad Neutral\n",
      "0                good           0.82  14.000000000000002%  10.0%   77.0%\n",
      "------------------------------------------------------------\n",
      "REVIEW: I really like these.  For all those cell phone, iPad, etc. cables - they are absolutely perfect.  Very easy to put on and holds a lot of cord length.  Not unattractive either!  Ordering more - once I got them, I realized they were too handy and three was not enough!Love them!\n",
      "ACTUAL SENTIMENT: good\n",
      "     SENTIMENT STATS:                                    \n",
      "  Predicted Sentiment Polarity Score   Good   Bad Neutral\n",
      "0                good           0.93  25.0%  0.0%   75.0%\n",
      "------------------------------------------------------------\n",
      "REVIEW: The Mead Builder is an easy to use and very efficient tool, used to assist in designing and laying out the structure of a report or term paper.The overall layout is near perfect for just about any writing scenario, whether it is a school term paper or writng an in-depth article for a newspaper, the Mead Builder is next to perfect in it's design.The program is structured in 6 easy to follow steps:1. Planning Your Schedule2. Establishing Your Topic3. Gathering Your Sources4. Organizing Information5. Creating An Outline6. Writing Your PaperThese steps are designed to keep the user on track and focused for optimal research and writing.There is adaquate storage on this thumb drive for all of the information compiled and the work that is drafted or completed.The nice thing about this drive is that the software is external and this drive can be hopped around and accessed on different computers, so it's always ready to work when you're on the go, ie; home computer, work computer, library computer, etc...If only they had this technology twenty years ago, I may have done much better on my own papers.I am extremely impressed with this program and I will be recommending it to our school board.Now... if they only made a product like this for Grant Writing.Extremely Impressed\n",
      "ACTUAL SENTIMENT: good\n",
      "     SENTIMENT STATS:                                    \n",
      "  Predicted Sentiment Polarity Score   Good   Bad Neutral\n",
      "0                good           0.99  18.0%  0.0%   82.0%\n",
      "------------------------------------------------------------\n"
     ]
    }
   ],
   "source": [
    "for review, sentiment in zip(test_text_reviews[sample_review_ids], test_sentiments[sample_review_ids]):\n",
    "    print('REVIEW:', review)\n",
    "    print('ACTUAL SENTIMENT:', sentiment)\n",
    "    pred = analyze_sentiment_vader_lexicon(review, threshold=0.4, verbose=True)    \n",
    "    print('-'*60)"
   ]
  },
  {
   "cell_type": "markdown",
   "metadata": {},
   "source": [
    "## Predict sentiment on all the test reviews"
   ]
  },
  {
   "cell_type": "code",
   "execution_count": 61,
   "metadata": {},
   "outputs": [],
   "source": [
    "predicted_sentiments = [analyze_sentiment_vader_lexicon(review, threshold=0.4, verbose=False) for review in test_text_reviews]"
   ]
  },
  {
   "cell_type": "code",
   "execution_count": 62,
   "metadata": {},
   "outputs": [
    {
     "name": "stdout",
     "output_type": "stream",
     "text": [
      "0.8045855379188712\n"
     ]
    }
   ],
   "source": [
    "print(accuracy_score(test_sentiments, predicted_sentiments))"
   ]
  },
  {
   "cell_type": "code",
   "execution_count": 63,
   "metadata": {},
   "outputs": [
    {
     "name": "stdout",
     "output_type": "stream",
     "text": [
      "             precision    recall  f1-score   support\n",
      "\n",
      "        bad       0.62      0.63      0.63       739\n",
      "       good       0.87      0.86      0.87      2096\n",
      "\n",
      "avg / total       0.81      0.80      0.81      2835\n",
      "\n"
     ]
    }
   ],
   "source": [
    "print (classification_report(test_sentiments, predicted_sentiments))"
   ]
  },
  {
   "cell_type": "code",
   "execution_count": 64,
   "metadata": {},
   "outputs": [
    {
     "name": "stdout",
     "output_type": "stream",
     "text": [
      "[[ 469  270]\n",
      " [ 284 1812]]\n"
     ]
    }
   ],
   "source": [
    "print(confusion_matrix(test_sentiments, predicted_sentiments))"
   ]
  },
  {
   "cell_type": "markdown",
   "metadata": {},
   "source": [
    "# Conclusion:"
   ]
  },
  {
   "cell_type": "markdown",
   "metadata": {},
   "source": [
    "**Vader** gives the best score with an overall F1-Score and model accuracy of 81%.\n",
    "\n",
    "The second best is **the AFINN** based model which gives an overall F1-Score and model accuracy of 80%"
   ]
  }
 ],
 "metadata": {
  "kernelspec": {
   "display_name": "Python 3",
   "language": "python",
   "name": "python3"
  },
  "language_info": {
   "codemirror_mode": {
    "name": "ipython",
    "version": 3
   },
   "file_extension": ".py",
   "mimetype": "text/x-python",
   "name": "python",
   "nbconvert_exporter": "python",
   "pygments_lexer": "ipython3",
   "version": "3.7.3"
  }
 },
 "nbformat": 4,
 "nbformat_minor": 2
}
