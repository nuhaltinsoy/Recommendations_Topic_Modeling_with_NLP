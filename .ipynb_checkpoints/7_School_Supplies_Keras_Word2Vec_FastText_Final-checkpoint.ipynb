{
 "cells": [
  {
   "cell_type": "markdown",
   "metadata": {},
   "source": [
    "# Sentiment Analysis - Supervised Learning Classification Models"
   ]
  },
  {
   "cell_type": "markdown",
   "metadata": {},
   "source": [
    "## Import Necessary Libraries"
   ]
  },
  {
   "cell_type": "code",
   "execution_count": 2,
   "metadata": {},
   "outputs": [
    {
     "name": "stderr",
     "output_type": "stream",
     "text": [
      "Using TensorFlow backend.\n",
      "[nltk_data] Downloading package stopwords to /Users/amy/nltk_data...\n",
      "[nltk_data]   Package stopwords is already up-to-date!\n"
     ]
    }
   ],
   "source": [
    "import pandas as pd\n",
    "import numpy as np\n",
    "from sklearn.model_selection import train_test_split\n",
    "from keras.preprocessing.text import Tokenizer\n",
    "from keras.preprocessing import sequence\n",
    "from keras.preprocessing.sequence import pad_sequences\n",
    "from keras.utils import np_utils\n",
    "from sklearn.linear_model import LogisticRegression\n",
    "from sklearn import metrics\n",
    "from sklearn.metrics import classification_report\n",
    "from sklearn.metrics import confusion_matrix\n",
    "from  sklearn.metrics import precision_recall_fscore_support\n",
    "import gensim\n",
    "import nltk\n",
    "from gensim.models.word2vec import Word2Vec\n",
    "from nltk import word_tokenize\n",
    "import tensorflow as tf\n",
    "from tqdm import tqdm\n",
    "tqdm.pandas(desc=\"progress-bar\")\n",
    "nltk.download('stopwords')\n",
    "import re\n",
    "import matplotlib.pyplot as plt"
   ]
  },
  {
   "cell_type": "markdown",
   "metadata": {},
   "source": [
    "## Load and View Dataset"
   ]
  },
  {
   "cell_type": "code",
   "execution_count": 3,
   "metadata": {},
   "outputs": [],
   "source": [
    "df = pd.read_csv('cleaned_text_school_supplies.csv')"
   ]
  },
  {
   "cell_type": "code",
   "execution_count": 4,
   "metadata": {},
   "outputs": [
    {
     "data": {
      "text/plain": [
       "customer_ID        0\n",
       "product_ID         0\n",
       "rating             0\n",
       "review_text        0\n",
       "rating_class       0\n",
       "date_time          0\n",
       "normalized_text    1\n",
       "tokens             0\n",
       "dtype: int64"
      ]
     },
     "execution_count": 4,
     "metadata": {},
     "output_type": "execute_result"
    }
   ],
   "source": [
    "df.isnull().sum()"
   ]
  },
  {
   "cell_type": "code",
   "execution_count": 5,
   "metadata": {},
   "outputs": [],
   "source": [
    "df = df.dropna(axis=0)"
   ]
  },
  {
   "cell_type": "code",
   "execution_count": 6,
   "metadata": {},
   "outputs": [],
   "source": [
    "# Converting categorical to numerical \n",
    "df['rating_class'] = df['rating_class'].replace({'good': 1,'neutral': 0,'bad':0 })\n",
    "# Converting categorical to numerical \n",
    "df['rating_class'] = df['rating_class'].replace({1: 'good',0 :'bad' })"
   ]
  },
  {
   "cell_type": "code",
   "execution_count": 7,
   "metadata": {},
   "outputs": [
    {
     "data": {
      "text/html": [
       "<div>\n",
       "<style scoped>\n",
       "    .dataframe tbody tr th:only-of-type {\n",
       "        vertical-align: middle;\n",
       "    }\n",
       "\n",
       "    .dataframe tbody tr th {\n",
       "        vertical-align: top;\n",
       "    }\n",
       "\n",
       "    .dataframe thead th {\n",
       "        text-align: right;\n",
       "    }\n",
       "</style>\n",
       "<table border=\"1\" class=\"dataframe\">\n",
       "  <thead>\n",
       "    <tr style=\"text-align: right;\">\n",
       "      <th></th>\n",
       "      <th>customer_ID</th>\n",
       "      <th>product_ID</th>\n",
       "      <th>rating</th>\n",
       "      <th>review_text</th>\n",
       "      <th>rating_class</th>\n",
       "      <th>date_time</th>\n",
       "      <th>normalized_text</th>\n",
       "      <th>tokens</th>\n",
       "    </tr>\n",
       "  </thead>\n",
       "  <tbody>\n",
       "    <tr>\n",
       "      <th>0</th>\n",
       "      <td>0136039847</td>\n",
       "      <td>A2MVR1VMDPMNGS</td>\n",
       "      <td>1.0</td>\n",
       "      <td>I honestly believe that giving this merchant o...</td>\n",
       "      <td>bad</td>\n",
       "      <td>2014-03-03</td>\n",
       "      <td>honestly believe give merchant one star favor ...</td>\n",
       "      <td>['honestly', 'believe', 'give', 'merchant', 'o...</td>\n",
       "    </tr>\n",
       "    <tr>\n",
       "      <th>1</th>\n",
       "      <td>0439504422</td>\n",
       "      <td>ASTJ36CFZRN3O</td>\n",
       "      <td>5.0</td>\n",
       "      <td>This is a standard size folder that fits stand...</td>\n",
       "      <td>good</td>\n",
       "      <td>2012-09-18</td>\n",
       "      <td>standard size folder fit standard paper 5x11 f...</td>\n",
       "      <td>['standard', 'size', 'folder', 'fit', 'standar...</td>\n",
       "    </tr>\n",
       "  </tbody>\n",
       "</table>\n",
       "</div>"
      ],
      "text/plain": [
       "  customer_ID      product_ID  rating  \\\n",
       "0  0136039847  A2MVR1VMDPMNGS     1.0   \n",
       "1  0439504422   ASTJ36CFZRN3O     5.0   \n",
       "\n",
       "                                         review_text rating_class   date_time  \\\n",
       "0  I honestly believe that giving this merchant o...          bad  2014-03-03   \n",
       "1  This is a standard size folder that fits stand...         good  2012-09-18   \n",
       "\n",
       "                                     normalized_text  \\\n",
       "0  honestly believe give merchant one star favor ...   \n",
       "1  standard size folder fit standard paper 5x11 f...   \n",
       "\n",
       "                                              tokens  \n",
       "0  ['honestly', 'believe', 'give', 'merchant', 'o...  \n",
       "1  ['standard', 'size', 'folder', 'fit', 'standar...  "
      ]
     },
     "execution_count": 7,
     "metadata": {},
     "output_type": "execute_result"
    }
   ],
   "source": [
    "df.head(2)"
   ]
  },
  {
   "cell_type": "code",
   "execution_count": 53,
   "metadata": {},
   "outputs": [],
   "source": [
    "df_train = df[:8000]\n",
    "df_test = df[8000:]"
   ]
  },
  {
   "cell_type": "code",
   "execution_count": 10,
   "metadata": {},
   "outputs": [],
   "source": [
    "text_reviews = df['normalized_text'].values\n",
    "train_text_reviews = text_reviews [:8000]\n",
    "test_text_reviews = text_reviews [8000:]\n",
    "\n",
    "sentiments = df['rating_class'].values\n",
    "train_sentiments = sentiments[:8000]\n",
    "test_sentiments = sentiments[8000:]"
   ]
  },
  {
   "cell_type": "markdown",
   "metadata": {},
   "source": [
    "# Traditional Supervised Machine Learning Models"
   ]
  },
  {
   "cell_type": "markdown",
   "metadata": {},
   "source": [
    "## Feature Engineering"
   ]
  },
  {
   "cell_type": "code",
   "execution_count": 26,
   "metadata": {},
   "outputs": [],
   "source": [
    "from sklearn.feature_extraction.text import CountVectorizer\n",
    "\n",
    "# build BOW features on train reviews\n",
    "cv = CountVectorizer(binary=False, min_df=5, max_df=1.0, ngram_range=(1,2))\n",
    "\n",
    "cv_train_features = cv.fit_transform(train_text_reviews)"
   ]
  },
  {
   "cell_type": "code",
   "execution_count": 27,
   "metadata": {},
   "outputs": [],
   "source": [
    "# transform test reviews into features\n",
    "cv_test_features = cv.transform(test_text_reviews)"
   ]
  },
  {
   "cell_type": "code",
   "execution_count": 28,
   "metadata": {},
   "outputs": [],
   "source": [
    "from sklearn.feature_extraction.text import TfidfVectorizer\n",
    "\n",
    "# build TFIDF features on train reviews\n",
    "tv = TfidfVectorizer(use_idf=True, min_df=5, max_df=1.0, ngram_range=(1,2),\n",
    "                     sublinear_tf=True)\n",
    "\n",
    "tv_train_features = tv.fit_transform(train_text_reviews)"
   ]
  },
  {
   "cell_type": "code",
   "execution_count": 29,
   "metadata": {},
   "outputs": [],
   "source": [
    "tv_test_features = tv.transform(test_text_reviews)"
   ]
  },
  {
   "cell_type": "code",
   "execution_count": 30,
   "metadata": {},
   "outputs": [
    {
     "name": "stdout",
     "output_type": "stream",
     "text": [
      "BOW model:> Train features shape: (8000, 9212)  Test features shape: (2835, 9212)\n",
      "TFIDF model:> Train features shape: (8000, 9212)  Test features shape: (2835, 9212)\n"
     ]
    }
   ],
   "source": [
    "print('BOW model:> Train features shape:', cv_train_features.shape, ' Test features shape:', cv_test_features.shape)\n",
    "print('TFIDF model:> Train features shape:', tv_train_features.shape, ' Test features shape:', tv_test_features.shape)"
   ]
  },
  {
   "cell_type": "markdown",
   "metadata": {},
   "source": [
    "# Model Training, Prediction and Performance Evaluation"
   ]
  },
  {
   "cell_type": "markdown",
   "metadata": {},
   "source": [
    "## Logistic Regression with BOW"
   ]
  },
  {
   "cell_type": "code",
   "execution_count": 31,
   "metadata": {},
   "outputs": [],
   "source": [
    "# Logistic Regression model on BOW features\n",
    "from sklearn.linear_model import LogisticRegression\n",
    "\n",
    "# instantiate model\n",
    "lr = LogisticRegression(penalty='l2', max_iter=500, C=1, solver='lbfgs', random_state=42)\n",
    "\n",
    "# train model\n",
    "lr.fit(cv_train_features, train_sentiments)\n",
    "\n",
    "# predict on test data\n",
    "lr_bow_predictions = lr.predict(cv_test_features)"
   ]
  },
  {
   "cell_type": "code",
   "execution_count": 33,
   "metadata": {},
   "outputs": [
    {
     "name": "stdout",
     "output_type": "stream",
     "text": [
      "             precision    recall  f1-score   support\n",
      "\n",
      "        bad       0.83      0.68      0.75       739\n",
      "       good       0.89      0.95      0.92      2096\n",
      "\n",
      "avg / total       0.88      0.88      0.88      2835\n",
      "\n"
     ]
    }
   ],
   "source": [
    "print (classification_report(test_sentiments, lr_bow_predictions))"
   ]
  },
  {
   "cell_type": "markdown",
   "metadata": {},
   "source": [
    "## Logistic Regression with TfIdf"
   ]
  },
  {
   "cell_type": "code",
   "execution_count": 34,
   "metadata": {},
   "outputs": [],
   "source": [
    "# Logistic Regression model on TF-IDF features\n",
    "\n",
    "# train model\n",
    "lr.fit(tv_train_features, train_sentiments)\n",
    "\n",
    "# predict on test data\n",
    "lr_tfidf_predictions = lr.predict(tv_test_features)"
   ]
  },
  {
   "cell_type": "code",
   "execution_count": 35,
   "metadata": {},
   "outputs": [
    {
     "name": "stdout",
     "output_type": "stream",
     "text": [
      "             precision    recall  f1-score   support\n",
      "\n",
      "        bad       0.92      0.58      0.71       739\n",
      "       good       0.87      0.98      0.92      2096\n",
      "\n",
      "avg / total       0.88      0.88      0.87      2835\n",
      "\n"
     ]
    }
   ],
   "source": [
    "print (classification_report(test_sentiments, lr_tfidf_predictions))"
   ]
  },
  {
   "cell_type": "markdown",
   "metadata": {},
   "source": [
    "## Random Forest with BOW"
   ]
  },
  {
   "cell_type": "code",
   "execution_count": 36,
   "metadata": {},
   "outputs": [
    {
     "name": "stderr",
     "output_type": "stream",
     "text": [
      "/Users/amy/anaconda3/lib/python3.7/site-packages/sklearn/ensemble/weight_boosting.py:29: DeprecationWarning: numpy.core.umath_tests is an internal NumPy module and should not be imported. It will be removed in a future NumPy release.\n",
      "  from numpy.core.umath_tests import inner1d\n"
     ]
    }
   ],
   "source": [
    "# Random Forest model on BOW features\n",
    "from sklearn.ensemble import RandomForestClassifier\n",
    "\n",
    "# instantiate model\n",
    "rf = RandomForestClassifier(n_estimators=500, n_jobs=-1, random_state=42)\n",
    "\n",
    "# train model\n",
    "rf.fit(cv_train_features, train_sentiments)\n",
    "\n",
    "# predict on test data\n",
    "rf_bow_predictions = rf.predict(cv_test_features)"
   ]
  },
  {
   "cell_type": "code",
   "execution_count": 37,
   "metadata": {},
   "outputs": [
    {
     "name": "stdout",
     "output_type": "stream",
     "text": [
      "             precision    recall  f1-score   support\n",
      "\n",
      "        bad       0.93      0.49      0.64       739\n",
      "       good       0.84      0.99      0.91      2096\n",
      "\n",
      "avg / total       0.87      0.86      0.84      2835\n",
      "\n"
     ]
    }
   ],
   "source": [
    "print (classification_report(test_sentiments, rf_bow_predictions))"
   ]
  },
  {
   "cell_type": "markdown",
   "metadata": {},
   "source": [
    "## Random Forest with TfIdf"
   ]
  },
  {
   "cell_type": "code",
   "execution_count": 38,
   "metadata": {},
   "outputs": [],
   "source": [
    "# Random Forest model on TF-IDF features\n",
    "\n",
    "# train model\n",
    "rf.fit(tv_train_features, train_sentiments)\n",
    "\n",
    "# predict on test data\n",
    "rf_tfidf_predictions = rf.predict(tv_test_features)"
   ]
  },
  {
   "cell_type": "code",
   "execution_count": 39,
   "metadata": {},
   "outputs": [
    {
     "name": "stdout",
     "output_type": "stream",
     "text": [
      "             precision    recall  f1-score   support\n",
      "\n",
      "        bad       0.93      0.49      0.64       739\n",
      "       good       0.84      0.99      0.91      2096\n",
      "\n",
      "avg / total       0.87      0.86      0.84      2835\n",
      "\n"
     ]
    }
   ],
   "source": [
    "print (classification_report(test_sentiments, rf_tfidf_predictions))"
   ]
  },
  {
   "cell_type": "markdown",
   "metadata": {},
   "source": [
    "# Newer Supervised Deep Learning Models"
   ]
  },
  {
   "cell_type": "code",
   "execution_count": 40,
   "metadata": {},
   "outputs": [],
   "source": [
    "import gensim\n",
    "import keras\n",
    "from keras.models import Sequential\n",
    "from keras.layers import Dropout, Activation, Dense\n",
    "from sklearn.preprocessing import LabelEncoder\n",
    "from keras.layers.normalization import BatchNormalization"
   ]
  },
  {
   "cell_type": "markdown",
   "metadata": {},
   "source": [
    "## Prediction class label encoding"
   ]
  },
  {
   "cell_type": "code",
   "execution_count": 41,
   "metadata": {},
   "outputs": [],
   "source": [
    "le = LabelEncoder()\n",
    "num_classes=2 \n",
    "# tokenize train reviews & encode train labels\n",
    "tokenized_train = [nltk.word_tokenize(text)\n",
    "                       for text in train_text_reviews]\n",
    "y_tr = le.fit_transform(train_sentiments)\n",
    "y_train = keras.utils.to_categorical(y_tr, num_classes)\n",
    "# tokenize test reviews & encode test labels\n",
    "tokenized_test = [nltk.word_tokenize(text)\n",
    "                       for text in test_text_reviews]\n",
    "y_ts = le.fit_transform(test_sentiments)\n",
    "y_test = keras.utils.to_categorical(y_ts, num_classes)"
   ]
  },
  {
   "cell_type": "code",
   "execution_count": 42,
   "metadata": {},
   "outputs": [
    {
     "name": "stdout",
     "output_type": "stream",
     "text": [
      "Sentiment class label map: {'bad': 0, 'good': 1}\n",
      "Sample test label transformation:\n",
      "----------------------------------- \n",
      "Actual Labels: ['good' 'good' 'good'] \n",
      "Encoded Labels: [1 1 1] \n",
      "One hot encoded Labels:\n",
      " [[0. 1.]\n",
      " [0. 1.]\n",
      " [0. 1.]]\n"
     ]
    }
   ],
   "source": [
    "# print class label encoding map and encoded labels\n",
    "print('Sentiment class label map:', dict(zip(le.classes_, le.transform(le.classes_))))\n",
    "print('Sample test label transformation:\\n'+'-'*35,\n",
    "      '\\nActual Labels:', test_sentiments[:3], '\\nEncoded Labels:', y_ts[:3], \n",
    "      '\\nOne hot encoded Labels:\\n', y_test[:3])"
   ]
  },
  {
   "cell_type": "markdown",
   "metadata": {},
   "source": [
    "## Feature Engineering with word embeddings"
   ]
  },
  {
   "cell_type": "code",
   "execution_count": 106,
   "metadata": {},
   "outputs": [
    {
     "name": "stderr",
     "output_type": "stream",
     "text": [
      "W0729 22:40:58.705148 4352533952 base_any2vec.py:1386] under 10 jobs per worker: consider setting a smaller `batch_words' for smoother alpha decay\n"
     ]
    },
    {
     "name": "stdout",
     "output_type": "stream",
     "text": [
      "CPU times: user 7.29 s, sys: 37 ms, total: 7.33 s\n",
      "Wall time: 1.26 s\n"
     ]
    }
   ],
   "source": [
    "%%time\n",
    "# build word2vec model\n",
    "w2v_num_features = 100\n",
    "w2v_model = gensim.models.Word2Vec(tokenized_train, size=100, window=150,\n",
    "                                   min_count=10, sample=1e-3, workers=16)    "
   ]
  },
  {
   "cell_type": "code",
   "execution_count": 89,
   "metadata": {},
   "outputs": [],
   "source": [
    "def averaged_word2vec_vectorizer(corpus, model, num_features):\n",
    "    vocabulary = set(model.wv.index2word)\n",
    "    \n",
    "    def average_word_vectors(words, model, vocabulary, num_features):\n",
    "        feature_vector = np.zeros((num_features,), dtype=\"float64\")\n",
    "        nwords = 0.\n",
    "        \n",
    "        for word in words:\n",
    "            if word in vocabulary: \n",
    "                nwords = nwords + 1.\n",
    "                feature_vector = np.add(feature_vector, model.wv[word])\n",
    "        if nwords:\n",
    "            feature_vector = np.divide(feature_vector, nwords)\n",
    "\n",
    "        return feature_vector\n",
    "\n",
    "    features = [average_word_vectors(tokenized_sentence, model, vocabulary, num_features)\n",
    "                    for tokenized_sentence in corpus]\n",
    "    return np.array(features)"
   ]
  },
  {
   "cell_type": "code",
   "execution_count": 90,
   "metadata": {},
   "outputs": [],
   "source": [
    "# generate averaged word vector features from word2vec model\n",
    "avg_wv_train_features = averaged_word2vec_vectorizer(corpus=tokenized_train, model=word2vec,\n",
    "                                                     num_features=100)\n",
    "avg_wv_test_features = averaged_word2vec_vectorizer(corpus=tokenized_test, model=word2vec,\n",
    "                                                    num_features=100)"
   ]
  },
  {
   "cell_type": "code",
   "execution_count": 91,
   "metadata": {},
   "outputs": [
    {
     "name": "stdout",
     "output_type": "stream",
     "text": [
      "Word2Vec model:> Train features shape: (8000, 100)  Test features shape: (2835, 100)\n"
     ]
    }
   ],
   "source": [
    "print('Word2Vec model:> Train features shape:', avg_wv_train_features.shape, ' Test features shape:', avg_wv_test_features.shape)"
   ]
  },
  {
   "cell_type": "markdown",
   "metadata": {},
   "source": [
    "# Modeling with deep neural networks"
   ]
  },
  {
   "cell_type": "markdown",
   "metadata": {},
   "source": [
    "## Building Deep neural network architecture"
   ]
  },
  {
   "cell_type": "code",
   "execution_count": 92,
   "metadata": {},
   "outputs": [],
   "source": [
    "def construct_deepnn_architecture(num_input_features):\n",
    "    dnn_model = Sequential()\n",
    "    dnn_model.add(Dense(100, input_shape=(num_input_features,), kernel_initializer='glorot_uniform'))\n",
    "    dnn_model.add(BatchNormalization())\n",
    "    dnn_model.add(Activation('relu'))\n",
    "    dnn_model.add(Dropout(0.2))\n",
    "    \n",
    "    dnn_model.add(Dense(100, kernel_initializer='glorot_uniform'))\n",
    "    dnn_model.add(BatchNormalization())\n",
    "    dnn_model.add(Activation('relu'))\n",
    "    dnn_model.add(Dropout(0.2))\n",
    "    \n",
    "    dnn_model.add(Dense(100, kernel_initializer='glorot_uniform'))\n",
    "    dnn_model.add(BatchNormalization())\n",
    "    dnn_model.add(Activation('relu'))\n",
    "    dnn_model.add(Dropout(0.2))\n",
    "    \n",
    "    dnn_model.add(Dense(2))\n",
    "    dnn_model.add(Activation('softmax'))\n",
    "\n",
    "    dnn_model.compile(loss='categorical_crossentropy', optimizer='adam',                 \n",
    "                      metrics=['accuracy'])\n",
    "    return dnn_model"
   ]
  },
  {
   "cell_type": "code",
   "execution_count": 97,
   "metadata": {},
   "outputs": [],
   "source": [
    "w2v_dnn = construct_deepnn_architecture(num_input_features=100)"
   ]
  },
  {
   "cell_type": "markdown",
   "metadata": {},
   "source": [
    "## Visualize sample deep architecture¶"
   ]
  },
  {
   "cell_type": "code",
   "execution_count": 98,
   "metadata": {},
   "outputs": [
    {
     "data": {
      "image/svg+xml": [
       "<svg height=\"1179pt\" viewBox=\"0.00 0.00 276.83 1179.00\" width=\"277pt\" xmlns=\"http://www.w3.org/2000/svg\" xmlns:xlink=\"http://www.w3.org/1999/xlink\">\n",
       "<g class=\"graph\" id=\"graph0\" transform=\"scale(1 1) rotate(0) translate(4 1175)\">\n",
       "<title>G</title>\n",
       "<polygon fill=\"#ffffff\" points=\"-4,4 -4,-1175 272.835,-1175 272.835,4 -4,4\" stroke=\"transparent\"/>\n",
       "<!-- 112946346248 -->\n",
       "<g class=\"node\" id=\"node1\">\n",
       "<title>112946346248</title>\n",
       "<polygon fill=\"none\" points=\"39.2656,-1053.5 39.2656,-1097.5 229.5693,-1097.5 229.5693,-1053.5 39.2656,-1053.5\" stroke=\"#000000\"/>\n",
       "<text fill=\"#000000\" font-family=\"Times,serif\" font-size=\"14.00\" text-anchor=\"middle\" x=\"64.7588\" y=\"-1071.3\">Dense</text>\n",
       "<polyline fill=\"none\" points=\"90.252,-1053.5 90.252,-1097.5 \" stroke=\"#000000\"/>\n",
       "<text fill=\"#000000\" font-family=\"Times,serif\" font-size=\"14.00\" text-anchor=\"middle\" x=\"118.0864\" y=\"-1082.3\">input:</text>\n",
       "<polyline fill=\"none\" points=\"90.252,-1075.5 145.9209,-1075.5 \" stroke=\"#000000\"/>\n",
       "<text fill=\"#000000\" font-family=\"Times,serif\" font-size=\"14.00\" text-anchor=\"middle\" x=\"118.0864\" y=\"-1060.3\">output:</text>\n",
       "<polyline fill=\"none\" points=\"145.9209,-1053.5 145.9209,-1097.5 \" stroke=\"#000000\"/>\n",
       "<text fill=\"#000000\" font-family=\"Times,serif\" font-size=\"14.00\" text-anchor=\"middle\" x=\"187.7451\" y=\"-1082.3\">(None, 100)</text>\n",
       "<polyline fill=\"none\" points=\"145.9209,-1075.5 229.5693,-1075.5 \" stroke=\"#000000\"/>\n",
       "<text fill=\"#000000\" font-family=\"Times,serif\" font-size=\"14.00\" text-anchor=\"middle\" x=\"187.7451\" y=\"-1060.3\">(None, 100)</text>\n",
       "</g>\n",
       "<!-- 112946346136 -->\n",
       "<g class=\"node\" id=\"node2\">\n",
       "<title>112946346136</title>\n",
       "<polygon fill=\"none\" points=\"0,-972.5 0,-1016.5 268.835,-1016.5 268.835,-972.5 0,-972.5\" stroke=\"#000000\"/>\n",
       "<text fill=\"#000000\" font-family=\"Times,serif\" font-size=\"14.00\" text-anchor=\"middle\" x=\"64.7588\" y=\"-990.3\">BatchNormalization</text>\n",
       "<polyline fill=\"none\" points=\"129.5176,-972.5 129.5176,-1016.5 \" stroke=\"#000000\"/>\n",
       "<text fill=\"#000000\" font-family=\"Times,serif\" font-size=\"14.00\" text-anchor=\"middle\" x=\"157.3521\" y=\"-1001.3\">input:</text>\n",
       "<polyline fill=\"none\" points=\"129.5176,-994.5 185.1865,-994.5 \" stroke=\"#000000\"/>\n",
       "<text fill=\"#000000\" font-family=\"Times,serif\" font-size=\"14.00\" text-anchor=\"middle\" x=\"157.3521\" y=\"-979.3\">output:</text>\n",
       "<polyline fill=\"none\" points=\"185.1865,-972.5 185.1865,-1016.5 \" stroke=\"#000000\"/>\n",
       "<text fill=\"#000000\" font-family=\"Times,serif\" font-size=\"14.00\" text-anchor=\"middle\" x=\"227.0107\" y=\"-1001.3\">(None, 100)</text>\n",
       "<polyline fill=\"none\" points=\"185.1865,-994.5 268.835,-994.5 \" stroke=\"#000000\"/>\n",
       "<text fill=\"#000000\" font-family=\"Times,serif\" font-size=\"14.00\" text-anchor=\"middle\" x=\"227.0107\" y=\"-979.3\">(None, 100)</text>\n",
       "</g>\n",
       "<!-- 112946346248&#45;&gt;112946346136 -->\n",
       "<g class=\"edge\" id=\"edge2\">\n",
       "<title>112946346248-&gt;112946346136</title>\n",
       "<path d=\"M134.4175,-1053.3664C134.4175,-1045.1516 134.4175,-1035.6579 134.4175,-1026.7252\" fill=\"none\" stroke=\"#000000\"/>\n",
       "<polygon fill=\"#000000\" points=\"137.9176,-1026.6068 134.4175,-1016.6068 130.9176,-1026.6069 137.9176,-1026.6068\" stroke=\"#000000\"/>\n",
       "</g>\n",
       "<!-- 112946344120 -->\n",
       "<g class=\"node\" id=\"node3\">\n",
       "<title>112946344120</title>\n",
       "<polygon fill=\"none\" points=\"27.2104,-891.5 27.2104,-935.5 241.6245,-935.5 241.6245,-891.5 27.2104,-891.5\" stroke=\"#000000\"/>\n",
       "<text fill=\"#000000\" font-family=\"Times,serif\" font-size=\"14.00\" text-anchor=\"middle\" x=\"64.7588\" y=\"-909.3\">Activation</text>\n",
       "<polyline fill=\"none\" points=\"102.3071,-891.5 102.3071,-935.5 \" stroke=\"#000000\"/>\n",
       "<text fill=\"#000000\" font-family=\"Times,serif\" font-size=\"14.00\" text-anchor=\"middle\" x=\"130.1416\" y=\"-920.3\">input:</text>\n",
       "<polyline fill=\"none\" points=\"102.3071,-913.5 157.9761,-913.5 \" stroke=\"#000000\"/>\n",
       "<text fill=\"#000000\" font-family=\"Times,serif\" font-size=\"14.00\" text-anchor=\"middle\" x=\"130.1416\" y=\"-898.3\">output:</text>\n",
       "<polyline fill=\"none\" points=\"157.9761,-891.5 157.9761,-935.5 \" stroke=\"#000000\"/>\n",
       "<text fill=\"#000000\" font-family=\"Times,serif\" font-size=\"14.00\" text-anchor=\"middle\" x=\"199.8003\" y=\"-920.3\">(None, 100)</text>\n",
       "<polyline fill=\"none\" points=\"157.9761,-913.5 241.6245,-913.5 \" stroke=\"#000000\"/>\n",
       "<text fill=\"#000000\" font-family=\"Times,serif\" font-size=\"14.00\" text-anchor=\"middle\" x=\"199.8003\" y=\"-898.3\">(None, 100)</text>\n",
       "</g>\n",
       "<!-- 112946346136&#45;&gt;112946344120 -->\n",
       "<g class=\"edge\" id=\"edge3\">\n",
       "<title>112946346136-&gt;112946344120</title>\n",
       "<path d=\"M134.4175,-972.3664C134.4175,-964.1516 134.4175,-954.6579 134.4175,-945.7252\" fill=\"none\" stroke=\"#000000\"/>\n",
       "<polygon fill=\"#000000\" points=\"137.9176,-945.6068 134.4175,-935.6068 130.9176,-945.6069 137.9176,-945.6068\" stroke=\"#000000\"/>\n",
       "</g>\n",
       "<!-- 112946345912 -->\n",
       "<g class=\"node\" id=\"node4\">\n",
       "<title>112946345912</title>\n",
       "<polygon fill=\"none\" points=\"33.4277,-810.5 33.4277,-854.5 235.4072,-854.5 235.4072,-810.5 33.4277,-810.5\" stroke=\"#000000\"/>\n",
       "<text fill=\"#000000\" font-family=\"Times,serif\" font-size=\"14.00\" text-anchor=\"middle\" x=\"64.7588\" y=\"-828.3\">Dropout</text>\n",
       "<polyline fill=\"none\" points=\"96.0898,-810.5 96.0898,-854.5 \" stroke=\"#000000\"/>\n",
       "<text fill=\"#000000\" font-family=\"Times,serif\" font-size=\"14.00\" text-anchor=\"middle\" x=\"123.9243\" y=\"-839.3\">input:</text>\n",
       "<polyline fill=\"none\" points=\"96.0898,-832.5 151.7588,-832.5 \" stroke=\"#000000\"/>\n",
       "<text fill=\"#000000\" font-family=\"Times,serif\" font-size=\"14.00\" text-anchor=\"middle\" x=\"123.9243\" y=\"-817.3\">output:</text>\n",
       "<polyline fill=\"none\" points=\"151.7588,-810.5 151.7588,-854.5 \" stroke=\"#000000\"/>\n",
       "<text fill=\"#000000\" font-family=\"Times,serif\" font-size=\"14.00\" text-anchor=\"middle\" x=\"193.583\" y=\"-839.3\">(None, 100)</text>\n",
       "<polyline fill=\"none\" points=\"151.7588,-832.5 235.4072,-832.5 \" stroke=\"#000000\"/>\n",
       "<text fill=\"#000000\" font-family=\"Times,serif\" font-size=\"14.00\" text-anchor=\"middle\" x=\"193.583\" y=\"-817.3\">(None, 100)</text>\n",
       "</g>\n",
       "<!-- 112946344120&#45;&gt;112946345912 -->\n",
       "<g class=\"edge\" id=\"edge4\">\n",
       "<title>112946344120-&gt;112946345912</title>\n",
       "<path d=\"M134.4175,-891.3664C134.4175,-883.1516 134.4175,-873.6579 134.4175,-864.7252\" fill=\"none\" stroke=\"#000000\"/>\n",
       "<polygon fill=\"#000000\" points=\"137.9176,-864.6068 134.4175,-854.6068 130.9176,-864.6069 137.9176,-864.6068\" stroke=\"#000000\"/>\n",
       "</g>\n",
       "<!-- 112946392368 -->\n",
       "<g class=\"node\" id=\"node5\">\n",
       "<title>112946392368</title>\n",
       "<polygon fill=\"none\" points=\"39.2656,-729.5 39.2656,-773.5 229.5693,-773.5 229.5693,-729.5 39.2656,-729.5\" stroke=\"#000000\"/>\n",
       "<text fill=\"#000000\" font-family=\"Times,serif\" font-size=\"14.00\" text-anchor=\"middle\" x=\"64.7588\" y=\"-747.3\">Dense</text>\n",
       "<polyline fill=\"none\" points=\"90.252,-729.5 90.252,-773.5 \" stroke=\"#000000\"/>\n",
       "<text fill=\"#000000\" font-family=\"Times,serif\" font-size=\"14.00\" text-anchor=\"middle\" x=\"118.0864\" y=\"-758.3\">input:</text>\n",
       "<polyline fill=\"none\" points=\"90.252,-751.5 145.9209,-751.5 \" stroke=\"#000000\"/>\n",
       "<text fill=\"#000000\" font-family=\"Times,serif\" font-size=\"14.00\" text-anchor=\"middle\" x=\"118.0864\" y=\"-736.3\">output:</text>\n",
       "<polyline fill=\"none\" points=\"145.9209,-729.5 145.9209,-773.5 \" stroke=\"#000000\"/>\n",
       "<text fill=\"#000000\" font-family=\"Times,serif\" font-size=\"14.00\" text-anchor=\"middle\" x=\"187.7451\" y=\"-758.3\">(None, 100)</text>\n",
       "<polyline fill=\"none\" points=\"145.9209,-751.5 229.5693,-751.5 \" stroke=\"#000000\"/>\n",
       "<text fill=\"#000000\" font-family=\"Times,serif\" font-size=\"14.00\" text-anchor=\"middle\" x=\"187.7451\" y=\"-736.3\">(None, 100)</text>\n",
       "</g>\n",
       "<!-- 112946345912&#45;&gt;112946392368 -->\n",
       "<g class=\"edge\" id=\"edge5\">\n",
       "<title>112946345912-&gt;112946392368</title>\n",
       "<path d=\"M134.4175,-810.3664C134.4175,-802.1516 134.4175,-792.6579 134.4175,-783.7252\" fill=\"none\" stroke=\"#000000\"/>\n",
       "<polygon fill=\"#000000\" points=\"137.9176,-783.6068 134.4175,-773.6068 130.9176,-783.6069 137.9176,-783.6068\" stroke=\"#000000\"/>\n",
       "</g>\n",
       "<!-- 112946114688 -->\n",
       "<g class=\"node\" id=\"node6\">\n",
       "<title>112946114688</title>\n",
       "<polygon fill=\"none\" points=\"0,-648.5 0,-692.5 268.835,-692.5 268.835,-648.5 0,-648.5\" stroke=\"#000000\"/>\n",
       "<text fill=\"#000000\" font-family=\"Times,serif\" font-size=\"14.00\" text-anchor=\"middle\" x=\"64.7588\" y=\"-666.3\">BatchNormalization</text>\n",
       "<polyline fill=\"none\" points=\"129.5176,-648.5 129.5176,-692.5 \" stroke=\"#000000\"/>\n",
       "<text fill=\"#000000\" font-family=\"Times,serif\" font-size=\"14.00\" text-anchor=\"middle\" x=\"157.3521\" y=\"-677.3\">input:</text>\n",
       "<polyline fill=\"none\" points=\"129.5176,-670.5 185.1865,-670.5 \" stroke=\"#000000\"/>\n",
       "<text fill=\"#000000\" font-family=\"Times,serif\" font-size=\"14.00\" text-anchor=\"middle\" x=\"157.3521\" y=\"-655.3\">output:</text>\n",
       "<polyline fill=\"none\" points=\"185.1865,-648.5 185.1865,-692.5 \" stroke=\"#000000\"/>\n",
       "<text fill=\"#000000\" font-family=\"Times,serif\" font-size=\"14.00\" text-anchor=\"middle\" x=\"227.0107\" y=\"-677.3\">(None, 100)</text>\n",
       "<polyline fill=\"none\" points=\"185.1865,-670.5 268.835,-670.5 \" stroke=\"#000000\"/>\n",
       "<text fill=\"#000000\" font-family=\"Times,serif\" font-size=\"14.00\" text-anchor=\"middle\" x=\"227.0107\" y=\"-655.3\">(None, 100)</text>\n",
       "</g>\n",
       "<!-- 112946392368&#45;&gt;112946114688 -->\n",
       "<g class=\"edge\" id=\"edge6\">\n",
       "<title>112946392368-&gt;112946114688</title>\n",
       "<path d=\"M134.4175,-729.3664C134.4175,-721.1516 134.4175,-711.6579 134.4175,-702.7252\" fill=\"none\" stroke=\"#000000\"/>\n",
       "<polygon fill=\"#000000\" points=\"137.9176,-702.6068 134.4175,-692.6068 130.9176,-702.6069 137.9176,-702.6068\" stroke=\"#000000\"/>\n",
       "</g>\n",
       "<!-- 112901812176 -->\n",
       "<g class=\"node\" id=\"node7\">\n",
       "<title>112901812176</title>\n",
       "<polygon fill=\"none\" points=\"27.2104,-567.5 27.2104,-611.5 241.6245,-611.5 241.6245,-567.5 27.2104,-567.5\" stroke=\"#000000\"/>\n",
       "<text fill=\"#000000\" font-family=\"Times,serif\" font-size=\"14.00\" text-anchor=\"middle\" x=\"64.7588\" y=\"-585.3\">Activation</text>\n",
       "<polyline fill=\"none\" points=\"102.3071,-567.5 102.3071,-611.5 \" stroke=\"#000000\"/>\n",
       "<text fill=\"#000000\" font-family=\"Times,serif\" font-size=\"14.00\" text-anchor=\"middle\" x=\"130.1416\" y=\"-596.3\">input:</text>\n",
       "<polyline fill=\"none\" points=\"102.3071,-589.5 157.9761,-589.5 \" stroke=\"#000000\"/>\n",
       "<text fill=\"#000000\" font-family=\"Times,serif\" font-size=\"14.00\" text-anchor=\"middle\" x=\"130.1416\" y=\"-574.3\">output:</text>\n",
       "<polyline fill=\"none\" points=\"157.9761,-567.5 157.9761,-611.5 \" stroke=\"#000000\"/>\n",
       "<text fill=\"#000000\" font-family=\"Times,serif\" font-size=\"14.00\" text-anchor=\"middle\" x=\"199.8003\" y=\"-596.3\">(None, 100)</text>\n",
       "<polyline fill=\"none\" points=\"157.9761,-589.5 241.6245,-589.5 \" stroke=\"#000000\"/>\n",
       "<text fill=\"#000000\" font-family=\"Times,serif\" font-size=\"14.00\" text-anchor=\"middle\" x=\"199.8003\" y=\"-574.3\">(None, 100)</text>\n",
       "</g>\n",
       "<!-- 112946114688&#45;&gt;112901812176 -->\n",
       "<g class=\"edge\" id=\"edge7\">\n",
       "<title>112946114688-&gt;112901812176</title>\n",
       "<path d=\"M134.4175,-648.3664C134.4175,-640.1516 134.4175,-630.6579 134.4175,-621.7252\" fill=\"none\" stroke=\"#000000\"/>\n",
       "<polygon fill=\"#000000\" points=\"137.9176,-621.6068 134.4175,-611.6068 130.9176,-621.6069 137.9176,-621.6068\" stroke=\"#000000\"/>\n",
       "</g>\n",
       "<!-- 112947953392 -->\n",
       "<g class=\"node\" id=\"node8\">\n",
       "<title>112947953392</title>\n",
       "<polygon fill=\"none\" points=\"33.4277,-486.5 33.4277,-530.5 235.4072,-530.5 235.4072,-486.5 33.4277,-486.5\" stroke=\"#000000\"/>\n",
       "<text fill=\"#000000\" font-family=\"Times,serif\" font-size=\"14.00\" text-anchor=\"middle\" x=\"64.7588\" y=\"-504.3\">Dropout</text>\n",
       "<polyline fill=\"none\" points=\"96.0898,-486.5 96.0898,-530.5 \" stroke=\"#000000\"/>\n",
       "<text fill=\"#000000\" font-family=\"Times,serif\" font-size=\"14.00\" text-anchor=\"middle\" x=\"123.9243\" y=\"-515.3\">input:</text>\n",
       "<polyline fill=\"none\" points=\"96.0898,-508.5 151.7588,-508.5 \" stroke=\"#000000\"/>\n",
       "<text fill=\"#000000\" font-family=\"Times,serif\" font-size=\"14.00\" text-anchor=\"middle\" x=\"123.9243\" y=\"-493.3\">output:</text>\n",
       "<polyline fill=\"none\" points=\"151.7588,-486.5 151.7588,-530.5 \" stroke=\"#000000\"/>\n",
       "<text fill=\"#000000\" font-family=\"Times,serif\" font-size=\"14.00\" text-anchor=\"middle\" x=\"193.583\" y=\"-515.3\">(None, 100)</text>\n",
       "<polyline fill=\"none\" points=\"151.7588,-508.5 235.4072,-508.5 \" stroke=\"#000000\"/>\n",
       "<text fill=\"#000000\" font-family=\"Times,serif\" font-size=\"14.00\" text-anchor=\"middle\" x=\"193.583\" y=\"-493.3\">(None, 100)</text>\n",
       "</g>\n",
       "<!-- 112901812176&#45;&gt;112947953392 -->\n",
       "<g class=\"edge\" id=\"edge8\">\n",
       "<title>112901812176-&gt;112947953392</title>\n",
       "<path d=\"M134.4175,-567.3664C134.4175,-559.1516 134.4175,-549.6579 134.4175,-540.7252\" fill=\"none\" stroke=\"#000000\"/>\n",
       "<polygon fill=\"#000000\" points=\"137.9176,-540.6068 134.4175,-530.6068 130.9176,-540.6069 137.9176,-540.6068\" stroke=\"#000000\"/>\n",
       "</g>\n",
       "<!-- 112947951936 -->\n",
       "<g class=\"node\" id=\"node9\">\n",
       "<title>112947951936</title>\n",
       "<polygon fill=\"none\" points=\"39.2656,-405.5 39.2656,-449.5 229.5693,-449.5 229.5693,-405.5 39.2656,-405.5\" stroke=\"#000000\"/>\n",
       "<text fill=\"#000000\" font-family=\"Times,serif\" font-size=\"14.00\" text-anchor=\"middle\" x=\"64.7588\" y=\"-423.3\">Dense</text>\n",
       "<polyline fill=\"none\" points=\"90.252,-405.5 90.252,-449.5 \" stroke=\"#000000\"/>\n",
       "<text fill=\"#000000\" font-family=\"Times,serif\" font-size=\"14.00\" text-anchor=\"middle\" x=\"118.0864\" y=\"-434.3\">input:</text>\n",
       "<polyline fill=\"none\" points=\"90.252,-427.5 145.9209,-427.5 \" stroke=\"#000000\"/>\n",
       "<text fill=\"#000000\" font-family=\"Times,serif\" font-size=\"14.00\" text-anchor=\"middle\" x=\"118.0864\" y=\"-412.3\">output:</text>\n",
       "<polyline fill=\"none\" points=\"145.9209,-405.5 145.9209,-449.5 \" stroke=\"#000000\"/>\n",
       "<text fill=\"#000000\" font-family=\"Times,serif\" font-size=\"14.00\" text-anchor=\"middle\" x=\"187.7451\" y=\"-434.3\">(None, 100)</text>\n",
       "<polyline fill=\"none\" points=\"145.9209,-427.5 229.5693,-427.5 \" stroke=\"#000000\"/>\n",
       "<text fill=\"#000000\" font-family=\"Times,serif\" font-size=\"14.00\" text-anchor=\"middle\" x=\"187.7451\" y=\"-412.3\">(None, 100)</text>\n",
       "</g>\n",
       "<!-- 112947953392&#45;&gt;112947951936 -->\n",
       "<g class=\"edge\" id=\"edge9\">\n",
       "<title>112947953392-&gt;112947951936</title>\n",
       "<path d=\"M134.4175,-486.3664C134.4175,-478.1516 134.4175,-468.6579 134.4175,-459.7252\" fill=\"none\" stroke=\"#000000\"/>\n",
       "<polygon fill=\"#000000\" points=\"137.9176,-459.6068 134.4175,-449.6068 130.9176,-459.6069 137.9176,-459.6068\" stroke=\"#000000\"/>\n",
       "</g>\n",
       "<!-- 112948560616 -->\n",
       "<g class=\"node\" id=\"node10\">\n",
       "<title>112948560616</title>\n",
       "<polygon fill=\"none\" points=\"0,-324.5 0,-368.5 268.835,-368.5 268.835,-324.5 0,-324.5\" stroke=\"#000000\"/>\n",
       "<text fill=\"#000000\" font-family=\"Times,serif\" font-size=\"14.00\" text-anchor=\"middle\" x=\"64.7588\" y=\"-342.3\">BatchNormalization</text>\n",
       "<polyline fill=\"none\" points=\"129.5176,-324.5 129.5176,-368.5 \" stroke=\"#000000\"/>\n",
       "<text fill=\"#000000\" font-family=\"Times,serif\" font-size=\"14.00\" text-anchor=\"middle\" x=\"157.3521\" y=\"-353.3\">input:</text>\n",
       "<polyline fill=\"none\" points=\"129.5176,-346.5 185.1865,-346.5 \" stroke=\"#000000\"/>\n",
       "<text fill=\"#000000\" font-family=\"Times,serif\" font-size=\"14.00\" text-anchor=\"middle\" x=\"157.3521\" y=\"-331.3\">output:</text>\n",
       "<polyline fill=\"none\" points=\"185.1865,-324.5 185.1865,-368.5 \" stroke=\"#000000\"/>\n",
       "<text fill=\"#000000\" font-family=\"Times,serif\" font-size=\"14.00\" text-anchor=\"middle\" x=\"227.0107\" y=\"-353.3\">(None, 100)</text>\n",
       "<polyline fill=\"none\" points=\"185.1865,-346.5 268.835,-346.5 \" stroke=\"#000000\"/>\n",
       "<text fill=\"#000000\" font-family=\"Times,serif\" font-size=\"14.00\" text-anchor=\"middle\" x=\"227.0107\" y=\"-331.3\">(None, 100)</text>\n",
       "</g>\n",
       "<!-- 112947951936&#45;&gt;112948560616 -->\n",
       "<g class=\"edge\" id=\"edge10\">\n",
       "<title>112947951936-&gt;112948560616</title>\n",
       "<path d=\"M134.4175,-405.3664C134.4175,-397.1516 134.4175,-387.6579 134.4175,-378.7252\" fill=\"none\" stroke=\"#000000\"/>\n",
       "<polygon fill=\"#000000\" points=\"137.9176,-378.6068 134.4175,-368.6068 130.9176,-378.6069 137.9176,-378.6068\" stroke=\"#000000\"/>\n",
       "</g>\n",
       "<!-- 112949263496 -->\n",
       "<g class=\"node\" id=\"node11\">\n",
       "<title>112949263496</title>\n",
       "<polygon fill=\"none\" points=\"27.2104,-243.5 27.2104,-287.5 241.6245,-287.5 241.6245,-243.5 27.2104,-243.5\" stroke=\"#000000\"/>\n",
       "<text fill=\"#000000\" font-family=\"Times,serif\" font-size=\"14.00\" text-anchor=\"middle\" x=\"64.7588\" y=\"-261.3\">Activation</text>\n",
       "<polyline fill=\"none\" points=\"102.3071,-243.5 102.3071,-287.5 \" stroke=\"#000000\"/>\n",
       "<text fill=\"#000000\" font-family=\"Times,serif\" font-size=\"14.00\" text-anchor=\"middle\" x=\"130.1416\" y=\"-272.3\">input:</text>\n",
       "<polyline fill=\"none\" points=\"102.3071,-265.5 157.9761,-265.5 \" stroke=\"#000000\"/>\n",
       "<text fill=\"#000000\" font-family=\"Times,serif\" font-size=\"14.00\" text-anchor=\"middle\" x=\"130.1416\" y=\"-250.3\">output:</text>\n",
       "<polyline fill=\"none\" points=\"157.9761,-243.5 157.9761,-287.5 \" stroke=\"#000000\"/>\n",
       "<text fill=\"#000000\" font-family=\"Times,serif\" font-size=\"14.00\" text-anchor=\"middle\" x=\"199.8003\" y=\"-272.3\">(None, 100)</text>\n",
       "<polyline fill=\"none\" points=\"157.9761,-265.5 241.6245,-265.5 \" stroke=\"#000000\"/>\n",
       "<text fill=\"#000000\" font-family=\"Times,serif\" font-size=\"14.00\" text-anchor=\"middle\" x=\"199.8003\" y=\"-250.3\">(None, 100)</text>\n",
       "</g>\n",
       "<!-- 112948560616&#45;&gt;112949263496 -->\n",
       "<g class=\"edge\" id=\"edge11\">\n",
       "<title>112948560616-&gt;112949263496</title>\n",
       "<path d=\"M134.4175,-324.3664C134.4175,-316.1516 134.4175,-306.6579 134.4175,-297.7252\" fill=\"none\" stroke=\"#000000\"/>\n",
       "<polygon fill=\"#000000\" points=\"137.9176,-297.6068 134.4175,-287.6068 130.9176,-297.6069 137.9176,-297.6068\" stroke=\"#000000\"/>\n",
       "</g>\n",
       "<!-- 112949522504 -->\n",
       "<g class=\"node\" id=\"node12\">\n",
       "<title>112949522504</title>\n",
       "<polygon fill=\"none\" points=\"33.4277,-162.5 33.4277,-206.5 235.4072,-206.5 235.4072,-162.5 33.4277,-162.5\" stroke=\"#000000\"/>\n",
       "<text fill=\"#000000\" font-family=\"Times,serif\" font-size=\"14.00\" text-anchor=\"middle\" x=\"64.7588\" y=\"-180.3\">Dropout</text>\n",
       "<polyline fill=\"none\" points=\"96.0898,-162.5 96.0898,-206.5 \" stroke=\"#000000\"/>\n",
       "<text fill=\"#000000\" font-family=\"Times,serif\" font-size=\"14.00\" text-anchor=\"middle\" x=\"123.9243\" y=\"-191.3\">input:</text>\n",
       "<polyline fill=\"none\" points=\"96.0898,-184.5 151.7588,-184.5 \" stroke=\"#000000\"/>\n",
       "<text fill=\"#000000\" font-family=\"Times,serif\" font-size=\"14.00\" text-anchor=\"middle\" x=\"123.9243\" y=\"-169.3\">output:</text>\n",
       "<polyline fill=\"none\" points=\"151.7588,-162.5 151.7588,-206.5 \" stroke=\"#000000\"/>\n",
       "<text fill=\"#000000\" font-family=\"Times,serif\" font-size=\"14.00\" text-anchor=\"middle\" x=\"193.583\" y=\"-191.3\">(None, 100)</text>\n",
       "<polyline fill=\"none\" points=\"151.7588,-184.5 235.4072,-184.5 \" stroke=\"#000000\"/>\n",
       "<text fill=\"#000000\" font-family=\"Times,serif\" font-size=\"14.00\" text-anchor=\"middle\" x=\"193.583\" y=\"-169.3\">(None, 100)</text>\n",
       "</g>\n",
       "<!-- 112949263496&#45;&gt;112949522504 -->\n",
       "<g class=\"edge\" id=\"edge12\">\n",
       "<title>112949263496-&gt;112949522504</title>\n",
       "<path d=\"M134.4175,-243.3664C134.4175,-235.1516 134.4175,-225.6579 134.4175,-216.7252\" fill=\"none\" stroke=\"#000000\"/>\n",
       "<polygon fill=\"#000000\" points=\"137.9176,-216.6068 134.4175,-206.6068 130.9176,-216.6069 137.9176,-216.6068\" stroke=\"#000000\"/>\n",
       "</g>\n",
       "<!-- 112949631464 -->\n",
       "<g class=\"node\" id=\"node13\">\n",
       "<title>112949631464</title>\n",
       "<polygon fill=\"none\" points=\"39.2656,-81.5 39.2656,-125.5 229.5693,-125.5 229.5693,-81.5 39.2656,-81.5\" stroke=\"#000000\"/>\n",
       "<text fill=\"#000000\" font-family=\"Times,serif\" font-size=\"14.00\" text-anchor=\"middle\" x=\"64.7588\" y=\"-99.3\">Dense</text>\n",
       "<polyline fill=\"none\" points=\"90.252,-81.5 90.252,-125.5 \" stroke=\"#000000\"/>\n",
       "<text fill=\"#000000\" font-family=\"Times,serif\" font-size=\"14.00\" text-anchor=\"middle\" x=\"118.0864\" y=\"-110.3\">input:</text>\n",
       "<polyline fill=\"none\" points=\"90.252,-103.5 145.9209,-103.5 \" stroke=\"#000000\"/>\n",
       "<text fill=\"#000000\" font-family=\"Times,serif\" font-size=\"14.00\" text-anchor=\"middle\" x=\"118.0864\" y=\"-88.3\">output:</text>\n",
       "<polyline fill=\"none\" points=\"145.9209,-81.5 145.9209,-125.5 \" stroke=\"#000000\"/>\n",
       "<text fill=\"#000000\" font-family=\"Times,serif\" font-size=\"14.00\" text-anchor=\"middle\" x=\"187.7451\" y=\"-110.3\">(None, 100)</text>\n",
       "<polyline fill=\"none\" points=\"145.9209,-103.5 229.5693,-103.5 \" stroke=\"#000000\"/>\n",
       "<text fill=\"#000000\" font-family=\"Times,serif\" font-size=\"14.00\" text-anchor=\"middle\" x=\"187.7451\" y=\"-88.3\">(None, 2)</text>\n",
       "</g>\n",
       "<!-- 112949522504&#45;&gt;112949631464 -->\n",
       "<g class=\"edge\" id=\"edge13\">\n",
       "<title>112949522504-&gt;112949631464</title>\n",
       "<path d=\"M134.4175,-162.3664C134.4175,-154.1516 134.4175,-144.6579 134.4175,-135.7252\" fill=\"none\" stroke=\"#000000\"/>\n",
       "<polygon fill=\"#000000\" points=\"137.9176,-135.6068 134.4175,-125.6068 130.9176,-135.6069 137.9176,-135.6068\" stroke=\"#000000\"/>\n",
       "</g>\n",
       "<!-- 112949776168 -->\n",
       "<g class=\"node\" id=\"node14\">\n",
       "<title>112949776168</title>\n",
       "<polygon fill=\"none\" points=\"34.2104,-.5 34.2104,-44.5 234.6245,-44.5 234.6245,-.5 34.2104,-.5\" stroke=\"#000000\"/>\n",
       "<text fill=\"#000000\" font-family=\"Times,serif\" font-size=\"14.00\" text-anchor=\"middle\" x=\"71.7588\" y=\"-18.3\">Activation</text>\n",
       "<polyline fill=\"none\" points=\"109.3071,-.5 109.3071,-44.5 \" stroke=\"#000000\"/>\n",
       "<text fill=\"#000000\" font-family=\"Times,serif\" font-size=\"14.00\" text-anchor=\"middle\" x=\"137.1416\" y=\"-29.3\">input:</text>\n",
       "<polyline fill=\"none\" points=\"109.3071,-22.5 164.9761,-22.5 \" stroke=\"#000000\"/>\n",
       "<text fill=\"#000000\" font-family=\"Times,serif\" font-size=\"14.00\" text-anchor=\"middle\" x=\"137.1416\" y=\"-7.3\">output:</text>\n",
       "<polyline fill=\"none\" points=\"164.9761,-.5 164.9761,-44.5 \" stroke=\"#000000\"/>\n",
       "<text fill=\"#000000\" font-family=\"Times,serif\" font-size=\"14.00\" text-anchor=\"middle\" x=\"199.8003\" y=\"-29.3\">(None, 2)</text>\n",
       "<polyline fill=\"none\" points=\"164.9761,-22.5 234.6245,-22.5 \" stroke=\"#000000\"/>\n",
       "<text fill=\"#000000\" font-family=\"Times,serif\" font-size=\"14.00\" text-anchor=\"middle\" x=\"199.8003\" y=\"-7.3\">(None, 2)</text>\n",
       "</g>\n",
       "<!-- 112949631464&#45;&gt;112949776168 -->\n",
       "<g class=\"edge\" id=\"edge14\">\n",
       "<title>112949631464-&gt;112949776168</title>\n",
       "<path d=\"M134.4175,-81.3664C134.4175,-73.1516 134.4175,-63.6579 134.4175,-54.7252\" fill=\"none\" stroke=\"#000000\"/>\n",
       "<polygon fill=\"#000000\" points=\"137.9176,-54.6068 134.4175,-44.6068 130.9176,-54.6069 137.9176,-54.6068\" stroke=\"#000000\"/>\n",
       "</g>\n",
       "<!-- 112946346416 -->\n",
       "<g class=\"node\" id=\"node15\">\n",
       "<title>112946346416</title>\n",
       "<polygon fill=\"none\" points=\"84.6738,-1134.5 84.6738,-1170.5 184.1611,-1170.5 184.1611,-1134.5 84.6738,-1134.5\" stroke=\"#000000\"/>\n",
       "<text fill=\"#000000\" font-family=\"Times,serif\" font-size=\"14.00\" text-anchor=\"middle\" x=\"134.4175\" y=\"-1148.3\">112946346416</text>\n",
       "</g>\n",
       "<!-- 112946346416&#45;&gt;112946346248 -->\n",
       "<g class=\"edge\" id=\"edge1\">\n",
       "<title>112946346416-&gt;112946346248</title>\n",
       "<path d=\"M134.4175,-1134.2521C134.4175,-1126.3888 134.4175,-1116.9498 134.4175,-1107.9612\" fill=\"none\" stroke=\"#000000\"/>\n",
       "<polygon fill=\"#000000\" points=\"137.9176,-1107.7376 134.4175,-1097.7377 130.9176,-1107.7377 137.9176,-1107.7376\" stroke=\"#000000\"/>\n",
       "</g>\n",
       "</g>\n",
       "</svg>"
      ],
      "text/plain": [
       "<IPython.core.display.SVG object>"
      ]
     },
     "execution_count": 98,
     "metadata": {},
     "output_type": "execute_result"
    }
   ],
   "source": [
    "from IPython.display import SVG\n",
    "from keras.utils.vis_utils import model_to_dot\n",
    "\n",
    "SVG(model_to_dot(w2v_dnn, show_shapes=True, show_layer_names=False, \n",
    "                 rankdir='TB').create(prog='dot', format='svg'))"
   ]
  },
  {
   "cell_type": "markdown",
   "metadata": {},
   "source": [
    "### Model Training, Prediction and Performance Evaluation"
   ]
  },
  {
   "cell_type": "code",
   "execution_count": 99,
   "metadata": {},
   "outputs": [
    {
     "data": {
      "text/plain": [
       "(8000, 2)"
      ]
     },
     "execution_count": 99,
     "metadata": {},
     "output_type": "execute_result"
    }
   ],
   "source": [
    "y_train.shape"
   ]
  },
  {
   "cell_type": "code",
   "execution_count": 100,
   "metadata": {},
   "outputs": [
    {
     "name": "stderr",
     "output_type": "stream",
     "text": [
      "W0729 22:34:46.080716 4352533952 deprecation.py:323] From /Users/amy/anaconda3/lib/python3.7/site-packages/tensorflow/python/ops/math_grad.py:1250: add_dispatch_support.<locals>.wrapper (from tensorflow.python.ops.array_ops) is deprecated and will be removed in a future version.\n",
      "Instructions for updating:\n",
      "Use tf.where in 2.0, which has the same broadcast rule as np.where\n"
     ]
    },
    {
     "name": "stdout",
     "output_type": "stream",
     "text": [
      "Train on 7200 samples, validate on 800 samples\n",
      "Epoch 1/10\n",
      "7200/7200 [==============================] - 1s 190us/step - loss: 0.7080 - acc: 0.6019 - val_loss: 0.7672 - val_acc: 0.5100\n",
      "Epoch 2/10\n",
      "7200/7200 [==============================] - 0s 14us/step - loss: 0.4665 - acc: 0.7814 - val_loss: 0.4694 - val_acc: 0.7862\n",
      "Epoch 3/10\n",
      "7200/7200 [==============================] - 0s 14us/step - loss: 0.4199 - acc: 0.8169 - val_loss: 0.4058 - val_acc: 0.8325\n",
      "Epoch 4/10\n",
      "7200/7200 [==============================] - 0s 14us/step - loss: 0.4033 - acc: 0.8219 - val_loss: 0.4871 - val_acc: 0.7613\n",
      "Epoch 5/10\n",
      "7200/7200 [==============================] - 0s 13us/step - loss: 0.3968 - acc: 0.8210 - val_loss: 0.6506 - val_acc: 0.6212\n",
      "Epoch 6/10\n",
      "7200/7200 [==============================] - 0s 13us/step - loss: 0.4004 - acc: 0.8224 - val_loss: 0.3813 - val_acc: 0.8225\n",
      "Epoch 7/10\n",
      "7200/7200 [==============================] - 0s 13us/step - loss: 0.3879 - acc: 0.8271 - val_loss: 0.4703 - val_acc: 0.7988\n",
      "Epoch 8/10\n",
      "7200/7200 [==============================] - 0s 13us/step - loss: 0.3881 - acc: 0.8258 - val_loss: 0.3628 - val_acc: 0.8450\n",
      "Epoch 9/10\n",
      "7200/7200 [==============================] - 0s 12us/step - loss: 0.3818 - acc: 0.8313 - val_loss: 0.4656 - val_acc: 0.7800\n",
      "Epoch 10/10\n",
      "7200/7200 [==============================] - 0s 13us/step - loss: 0.3722 - acc: 0.8344 - val_loss: 0.5552 - val_acc: 0.7012\n"
     ]
    },
    {
     "data": {
      "text/plain": [
       "<keras.callbacks.History at 0x1a4c7a7860>"
      ]
     },
     "execution_count": 100,
     "metadata": {},
     "output_type": "execute_result"
    }
   ],
   "source": [
    "batch_size = 512\n",
    "w2v_dnn.fit(avg_wv_train_features, y_train, epochs=10, batch_size=batch_size, \n",
    "            shuffle=True, validation_split=0.1, verbose=1)"
   ]
  },
  {
   "cell_type": "code",
   "execution_count": 101,
   "metadata": {},
   "outputs": [
    {
     "name": "stderr",
     "output_type": "stream",
     "text": [
      "/Users/amy/anaconda3/lib/python3.7/site-packages/sklearn/preprocessing/label.py:151: DeprecationWarning: The truth value of an empty array is ambiguous. Returning False, but in future this will result in an error. Use `array.size > 0` to check that an array is not empty.\n",
      "  if diff:\n"
     ]
    }
   ],
   "source": [
    "y_pred = w2v_dnn.predict_classes(avg_wv_test_features)\n",
    "predictions = le.inverse_transform(y_pred)"
   ]
  },
  {
   "cell_type": "code",
   "execution_count": 102,
   "metadata": {},
   "outputs": [
    {
     "name": "stdout",
     "output_type": "stream",
     "text": [
      "             precision    recall  f1-score   support\n",
      "\n",
      "        bad       0.48      0.86      0.61       739\n",
      "       good       0.93      0.67      0.78      2096\n",
      "\n",
      "avg / total       0.81      0.72      0.73      2835\n",
      "\n"
     ]
    }
   ],
   "source": [
    "print (classification_report(test_sentiments, predictions))"
   ]
  },
  {
   "cell_type": "code",
   "execution_count": null,
   "metadata": {},
   "outputs": [],
   "source": []
  },
  {
   "cell_type": "code",
   "execution_count": 103,
   "metadata": {},
   "outputs": [
    {
     "name": "stdout",
     "output_type": "stream",
     "text": [
      "Train on 7200 samples, validate on 800 samples\n",
      "Epoch 1/10\n",
      "7200/7200 [==============================] - 0s 14us/step - loss: 0.3749 - acc: 0.8282 - val_loss: 0.9713 - val_acc: 0.4300\n",
      "Epoch 2/10\n",
      "7200/7200 [==============================] - 0s 13us/step - loss: 0.3710 - acc: 0.8315 - val_loss: 0.6082 - val_acc: 0.6288\n",
      "Epoch 3/10\n",
      "7200/7200 [==============================] - 0s 13us/step - loss: 0.3721 - acc: 0.8365 - val_loss: 0.7487 - val_acc: 0.5462\n",
      "Epoch 4/10\n",
      "7200/7200 [==============================] - 0s 13us/step - loss: 0.3698 - acc: 0.8321 - val_loss: 0.4306 - val_acc: 0.7900\n",
      "Epoch 5/10\n",
      "7200/7200 [==============================] - 0s 13us/step - loss: 0.3616 - acc: 0.8385 - val_loss: 0.3962 - val_acc: 0.8275\n",
      "Epoch 6/10\n",
      "7200/7200 [==============================] - 0s 13us/step - loss: 0.3645 - acc: 0.8344 - val_loss: 0.3946 - val_acc: 0.8187\n",
      "Epoch 7/10\n",
      "7200/7200 [==============================] - 0s 13us/step - loss: 0.3625 - acc: 0.8382 - val_loss: 0.3916 - val_acc: 0.8075\n",
      "Epoch 8/10\n",
      "7200/7200 [==============================] - 0s 13us/step - loss: 0.3576 - acc: 0.8399 - val_loss: 0.4117 - val_acc: 0.7975\n",
      "Epoch 9/10\n",
      "7200/7200 [==============================] - 0s 13us/step - loss: 0.3621 - acc: 0.8383 - val_loss: 0.4019 - val_acc: 0.8100\n",
      "Epoch 10/10\n",
      "7200/7200 [==============================] - 0s 14us/step - loss: 0.3551 - acc: 0.8404 - val_loss: 0.3467 - val_acc: 0.8575\n"
     ]
    }
   ],
   "source": [
    "history = w2v_dnn.fit(avg_wv_train_features, y_train, epochs=10, batch_size=batch_size, \n",
    "            shuffle=True, validation_split=0.1, verbose=1)"
   ]
  },
  {
   "cell_type": "code",
   "execution_count": 104,
   "metadata": {},
   "outputs": [
    {
     "data": {
      "image/png": "[encoded data removed]",
      "text/plain": [
       "<Figure size 432x288 with 1 Axes>"
      ]
     },
     "metadata": {
      "needs_background": "light"
     },
     "output_type": "display_data"
    },
    {
     "data": {
      "image/png": "[encoded data removed]",
      "text/plain": [
       "<Figure size 432x288 with 1 Axes>"
      ]
     },
     "metadata": {
      "needs_background": "light"
     },
     "output_type": "display_data"
    }
   ],
   "source": [
    "import matplotlib.pyplot as plt\n",
    "\n",
    "acc = history.history['acc']\n",
    "val_acc = history.history['val_acc']\n",
    "loss = history.history['loss']\n",
    "val_loss = history.history['val_loss']\n",
    "\n",
    "epochs = range(1, len(acc) + 1)\n",
    "\n",
    "plt.plot(epochs, acc, 'bo', label='Training acc')\n",
    "plt.plot(epochs, val_acc, 'b', label='Validation acc')\n",
    "plt.title('Training and validation accuracy')\n",
    "plt.legend()\n",
    "\n",
    "plt.figure()\n",
    "\n",
    "plt.plot(epochs, loss, 'bo', label='Training loss')\n",
    "plt.plot(epochs, val_loss, 'b', label='Validation loss')\n",
    "plt.title('Training and validation loss')\n",
    "plt.legend()\n",
    "\n",
    "plt.show()"
   ]
  },
  {
   "cell_type": "markdown",
   "metadata": {},
   "source": [
    "# Word2Vec and Word Similarity"
   ]
  },
  {
   "cell_type": "code",
   "execution_count": 108,
   "metadata": {},
   "outputs": [],
   "source": [
    "word2vec = gensim.models.Word2Vec(tokenized_train,\n",
    "                                  size=100,\n",
    "                                  window=5,\n",
    "                                  min_count=1)"
   ]
  },
  {
   "cell_type": "code",
   "execution_count": 109,
   "metadata": {},
   "outputs": [
    {
     "name": "stdout",
     "output_type": "stream",
     "text": [
      "Vocabulary size: 14031\n"
     ]
    }
   ],
   "source": [
    "# vocab size\n",
    "words = list(word2vec.wv.vocab)\n",
    "print('Vocabulary size: %d' % len(words))"
   ]
  },
  {
   "cell_type": "code",
   "execution_count": 119,
   "metadata": {},
   "outputs": [
    {
     "data": {
      "text/plain": [
       "{'good': ['high', 'reasonable', 'value', 'excellent', 'great'],\n",
       " 'tv': ['opening', 'ipod', 'document', 'area', 'band'],\n",
       " 'pen': ['write', 'ink', 'jet', 'gel', 'flow'],\n",
       " 'cable': ['cord', 'twisty', 'put', 'around', 'magazine'],\n",
       " 'computer': ['entertainment', 'power', 'center', 'spare', 'laptop'],\n",
       " 'bad': ['wrong', 'believe', 'probably', 'locally', 'afford']}"
      ]
     },
     "execution_count": 119,
     "metadata": {},
     "output_type": "execute_result"
    }
   ],
   "source": [
    "similar_words = {search_term: [item[0] for item in word2vec.wv.most_similar([search_term], topn=5)]\n",
    "                  for search_term in ['good', 'tv', 'pen', 'cable', 'computer', 'bad']}\n",
    "similar_words"
   ]
  },
  {
   "cell_type": "code",
   "execution_count": 120,
   "metadata": {},
   "outputs": [
    {
     "data": {
      "text/plain": [
       "[('cord', 0.986697256565094),\n",
       " ('twisty', 0.9844006896018982),\n",
       " ('put', 0.9785605669021606),\n",
       " ('around', 0.9783275723457336)]"
      ]
     },
     "execution_count": 120,
     "metadata": {},
     "output_type": "execute_result"
    }
   ],
   "source": [
    "# let us try some utility functions of gensim word2vec more details here \n",
    "\n",
    "word2vec.wv.most_similar('cable', topn =4)"
   ]
  },
  {
   "cell_type": "code",
   "execution_count": 121,
   "metadata": {},
   "outputs": [
    {
     "data": {
      "text/plain": [
       "[('cord', 0.986697256565094),\n",
       " ('twisty', 0.9844006896018982),\n",
       " ('put', 0.9785605669021606),\n",
       " ('around', 0.9783275723457336),\n",
       " ('magazine', 0.9759143590927124),\n",
       " ('conceal', 0.9749249815940857),\n",
       " ('together', 0.9747717380523682),\n",
       " ('hdmi', 0.9746184945106506),\n",
       " ('hole', 0.9745416641235352),\n",
       " ('opposite', 0.9738101959228516)]"
      ]
     },
     "execution_count": 121,
     "metadata": {},
     "output_type": "execute_result"
    }
   ],
   "source": [
    "word2vec.wv.similar_by_word(\"cable\")"
   ]
  },
  {
   "cell_type": "code",
   "execution_count": 122,
   "metadata": {},
   "outputs": [
    {
     "name": "stdout",
     "output_type": "stream",
     "text": [
      "0.99803776\n"
     ]
    }
   ],
   "source": [
    "print(word2vec.wv.similarity('laptop', 'computer'))"
   ]
  },
  {
   "cell_type": "code",
   "execution_count": 123,
   "metadata": {},
   "outputs": [
    {
     "name": "stdout",
     "output_type": "stream",
     "text": [
      "0.7415114\n",
      "0.77322626\n",
      "0.74717265\n",
      "0.83245176\n"
     ]
    }
   ],
   "source": [
    "print(word2vec.wv.similarity('computer', 'great'))\n",
    "print(word2vec.wv.similarity('tv', 'great'))\n",
    "print(word2vec.wv.similarity('laptop', 'great'))\n",
    "print(word2vec.wv.similarity('pen', 'great'))"
   ]
  },
  {
   "cell_type": "code",
   "execution_count": 124,
   "metadata": {},
   "outputs": [
    {
     "data": {
      "text/plain": [
       "[('keep', 1.0061144828796387),\n",
       " ('phone', 1.0057392120361328),\n",
       " ('climb', 1.0053300857543945),\n",
       " ('laptop', 1.0048385858535767),\n",
       " ('three', 1.004755973815918),\n",
       " ('loosely', 1.0046833753585815),\n",
       " ('snake', 1.0044485330581665),\n",
       " ('entertainment', 1.004119873046875),\n",
       " ('hide', 1.0040723085403442),\n",
       " ('house', 1.004041314125061)]"
      ]
     },
     "execution_count": 124,
     "metadata": {},
     "output_type": "execute_result"
    }
   ],
   "source": [
    "#Let’s see the result of semantically reasonable word vectors (king - man + woman)\n",
    "#Vord vectors (book - pencil + computer)\n",
    "word2vec.wv.most_similar_cosmul(positive=['book', 'computer'], negative=['pencil'])"
   ]
  },
  {
   "cell_type": "code",
   "execution_count": 125,
   "metadata": {},
   "outputs": [
    {
     "name": "stdout",
     "output_type": "stream",
     "text": [
      "cable\n"
     ]
    }
   ],
   "source": [
    "#odd word out\n",
    "print(word2vec.wv.doesnt_match('laptop cable pencil computer'.split()))"
   ]
  },
  {
   "cell_type": "code",
   "execution_count": 126,
   "metadata": {},
   "outputs": [
    {
     "data": {
      "text/plain": [
       "{'good': ['high', 'reasonable', 'value', 'excellent', 'great'],\n",
       " 'tv': ['opening', 'ipod', 'document', 'area', 'band'],\n",
       " 'pen': ['write', 'ink', 'jet', 'gel', 'flow'],\n",
       " 'cable': ['cord', 'twisty', 'put', 'around', 'magazine'],\n",
       " 'computer': ['entertainment', 'power', 'center', 'spare', 'laptop'],\n",
       " 'bad': ['wrong', 'believe', 'probably', 'locally', 'afford']}"
      ]
     },
     "execution_count": 126,
     "metadata": {},
     "output_type": "execute_result"
    }
   ],
   "source": [
    "similar_words"
   ]
  },
  {
   "cell_type": "code",
   "execution_count": 127,
   "metadata": {},
   "outputs": [
    {
     "data": {
      "image/png": "[encoded data removed]",
      "text/plain": [
       "<Figure size 1008x576 with 1 Axes>"
      ]
     },
     "metadata": {
      "needs_background": "light"
     },
     "output_type": "display_data"
    }
   ],
   "source": [
    "from sklearn.manifold import TSNE\n",
    "\n",
    "words = sum([[k] + v for k, v in similar_words.items()], [])\n",
    "wvs = word2vec.wv[words]\n",
    "\n",
    "tsne = TSNE(n_components=2, random_state=0, n_iter=10000, perplexity=2)\n",
    "np.set_printoptions(suppress=True)\n",
    "T = tsne.fit_transform(wvs)\n",
    "labels = words\n",
    "\n",
    "plt.figure(figsize=(14, 8))\n",
    "plt.scatter(T[:, 0], T[:, 1], c='orange', edgecolors='r')\n",
    "for label, x, yt in zip(labels, T[:, 0], T[:, 1]):\n",
    "    plt.annotate(label, xy=(x+1, yt+1), xytext=(0, 0), textcoords='offset points')"
   ]
  },
  {
   "cell_type": "markdown",
   "metadata": {},
   "source": [
    "# The FastText Model"
   ]
  },
  {
   "cell_type": "code",
   "execution_count": 128,
   "metadata": {},
   "outputs": [
    {
     "data": {
      "text/plain": [
       "{'pen': ['fountain', 'flow', 'ink', 'lamy', 'write'],\n",
       " 'pencil': ['sharpener', 'graphite', 'pen', 'zipper', 'sharpen'],\n",
       " 'laptop': ['dining', 'charger', 'stand', 'macbook', 'computer'],\n",
       " 'tv': ['tvs', 'lcd', 'behind', 'wire', 'cord'],\n",
       " 'good': ['well', 'great', 'price', 'buy', 'want'],\n",
       " 'bad': ['even', 'not', 'get', 'would', 'can']}"
      ]
     },
     "execution_count": 128,
     "metadata": {},
     "output_type": "execute_result"
    }
   ],
   "source": [
    "from gensim.models.fasttext import FastText\n",
    "\n",
    "wpt = nltk.WordPunctTokenizer()\n",
    "tokenized_corpus = [wpt.tokenize(document) for document in text_reviews]\n",
    "\n",
    "# Set values for various parameters\n",
    "feature_size = 100    # Word vector dimensionality  \n",
    "window_context = 50          # Context window size                                                                                    \n",
    "min_word_count = 5   # Minimum word count                        \n",
    "sample = 1e-3   # Downsample setting for frequent words\n",
    "\n",
    "# sg decides whether to use the skip-gram model (1) or CBOW (0)\n",
    "ft_model = FastText(tokenized_corpus, size=feature_size, window=window_context, \n",
    "                    min_count=min_word_count,sample=sample, sg=1, iter=50)\n",
    "                    \n",
    "                    \n",
    "# view similar words based on gensim's FastText model\n",
    "similar_words = {search_term: [item[0] for item in ft_model.wv.most_similar([search_term], topn=5)]\n",
    "                  for search_term in ['pen', 'pencil', 'laptop', 'tv', 'good', 'bad']}\n",
    "similar_words                    "
   ]
  },
  {
   "cell_type": "code",
   "execution_count": null,
   "metadata": {},
   "outputs": [],
   "source": []
  }
 ],
 "metadata": {
  "kernelspec": {
   "display_name": "Python 3",
   "language": "python",
   "name": "python3"
  },
  "language_info": {
   "codemirror_mode": {
    "name": "ipython",
    "version": 3
   },
   "file_extension": ".py",
   "mimetype": "text/x-python",
   "name": "python",
   "nbconvert_exporter": "python",
   "pygments_lexer": "ipython3",
   "version": "3.7.3"
  }
 },
 "nbformat": 4,
 "nbformat_minor": 2
}
