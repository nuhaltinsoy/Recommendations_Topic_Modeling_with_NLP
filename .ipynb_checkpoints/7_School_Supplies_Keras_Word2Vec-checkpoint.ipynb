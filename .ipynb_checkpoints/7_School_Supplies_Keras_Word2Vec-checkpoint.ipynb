{
 "cells": [
  {
   "cell_type": "markdown",
   "metadata": {},
   "source": [
    "# Sentiment Analysis - Supervised Learning Classification Models"
   ]
  },
  {
   "cell_type": "markdown",
   "metadata": {},
   "source": [
    "## Import Necessary Libraries"
   ]
  },
  {
   "cell_type": "code",
   "execution_count": 107,
   "metadata": {},
   "outputs": [
    {
     "name": "stderr",
     "output_type": "stream",
     "text": [
      "[nltk_data] Downloading package stopwords to /Users/amy/nltk_data...\n",
      "[nltk_data]   Package stopwords is already up-to-date!\n"
     ]
    }
   ],
   "source": [
    "import pandas as pd\n",
    "import numpy as np\n",
    "from sklearn.model_selection import train_test_split\n",
    "from keras.preprocessing.text import Tokenizer\n",
    "from keras.preprocessing import sequence\n",
    "from keras.preprocessing.sequence import pad_sequences\n",
    "from keras.utils import np_utils\n",
    "from sklearn.linear_model import LogisticRegression\n",
    "from sklearn import metrics\n",
    "from sklearn.metrics import classification_report\n",
    "from sklearn.metrics import confusion_matrix\n",
    "from  sklearn.metrics import precision_recall_fscore_support\n",
    "import gensim\n",
    "import nltk\n",
    "from gensim.models.word2vec import Word2Vec\n",
    "from nltk import word_tokenize\n",
    "import tensorflow as tf\n",
    "from tqdm import tqdm\n",
    "tqdm.pandas(desc=\"progress-bar\")\n",
    "nltk.download('stopwords')\n",
    "import re\n",
    "import matplotlib.pyplot as plt"
   ]
  },
  {
   "cell_type": "markdown",
   "metadata": {},
   "source": [
    "## Load and View Dataset"
   ]
  },
  {
   "cell_type": "code",
   "execution_count": 108,
   "metadata": {},
   "outputs": [],
   "source": [
    "df = pd.read_csv('cleaned_text_school_supplies.csv')"
   ]
  },
  {
   "cell_type": "code",
   "execution_count": 109,
   "metadata": {},
   "outputs": [
    {
     "data": {
      "text/plain": [
       "customer_ID        0\n",
       "product_ID         0\n",
       "rating             0\n",
       "review_text        0\n",
       "rating_class       0\n",
       "date_time          0\n",
       "normalized_text    1\n",
       "tokens             0\n",
       "dtype: int64"
      ]
     },
     "execution_count": 109,
     "metadata": {},
     "output_type": "execute_result"
    }
   ],
   "source": [
    "df.isnull().sum()"
   ]
  },
  {
   "cell_type": "code",
   "execution_count": 110,
   "metadata": {},
   "outputs": [],
   "source": [
    "df = df.dropna(axis=0)"
   ]
  },
  {
   "cell_type": "code",
   "execution_count": 111,
   "metadata": {},
   "outputs": [],
   "source": [
    "# Converting categorical to numerical \n",
    "df['rating_class'] = df['rating_class'].replace({'good': 1,'neutral': 0,'bad':0 })\n",
    "# Converting categorical to numerical \n",
    "df['rating_class'] = df['rating_class'].replace({1: 'good',0 :'bad' })"
   ]
  },
  {
   "cell_type": "code",
   "execution_count": 112,
   "metadata": {},
   "outputs": [
    {
     "data": {
      "text/plain": [
       "0    honestly believe give merchant one star favor ...\n",
       "1    standard size folder fit standard paper 5x11 f...\n",
       "2    kid love get green ticket take home show paren...\n",
       "3    nice product look quick happy note keep next d...\n",
       "Name: normalized_text, dtype: object"
      ]
     },
     "execution_count": 112,
     "metadata": {},
     "output_type": "execute_result"
    }
   ],
   "source": [
    "df['normalized_text'][:4]"
   ]
  },
  {
   "cell_type": "code",
   "execution_count": 113,
   "metadata": {},
   "outputs": [],
   "source": [
    "df_train = df[:8000]\n",
    "df_test = df[8000:]"
   ]
  },
  {
   "cell_type": "code",
   "execution_count": 114,
   "metadata": {},
   "outputs": [],
   "source": [
    "sentiments = df['rating_class'].values\n",
    "train_sentiments = sentiments[:8000]\n",
    "test_sentiments = sentiments[8000:]"
   ]
  },
  {
   "cell_type": "markdown",
   "metadata": {},
   "source": [
    "# Tokenizer"
   ]
  },
  {
   "cell_type": "code",
   "execution_count": 115,
   "metadata": {},
   "outputs": [],
   "source": [
    "from keras.preprocessing.text import Tokenizer\n",
    "train_reviews = df_train['normalized_text']\n",
    "tokenizer = Tokenizer(lower=True, split=' ') # creates tokenizer\n",
    "tokenizer.fit_on_texts(train_reviews)  # builds the word index\n",
    "train_sequences = tokenizer.texts_to_sequences(train_reviews) #turns strings into list of integers"
   ]
  },
  {
   "cell_type": "code",
   "execution_count": 116,
   "metadata": {},
   "outputs": [],
   "source": [
    "# word_index is a dictionary mapping words to an integer index\n",
    "word_index = tokenizer.word_index "
   ]
  },
  {
   "cell_type": "code",
   "execution_count": 117,
   "metadata": {},
   "outputs": [],
   "source": [
    "# We reverse it, mapping integer indices to words\n",
    "reverse_word_index = dict((value, key) for (key, value) in word_index.items())"
   ]
  },
  {
   "cell_type": "code",
   "execution_count": 118,
   "metadata": {},
   "outputs": [],
   "source": [
    "def sequence_to_text(sequence):\n",
    "    words =  [reverse_word_index.get(letter) for letter in sequence]\n",
    "    return words\n",
    "\n",
    "my_text = list(map(sequence_to_text, train_sequences))"
   ]
  },
  {
   "cell_type": "code",
   "execution_count": 119,
   "metadata": {},
   "outputs": [
    {
     "data": {
      "text/plain": [
       "8000"
      ]
     },
     "execution_count": 119,
     "metadata": {},
     "output_type": "execute_result"
    }
   ],
   "source": [
    "len(train_sequences)"
   ]
  },
  {
   "cell_type": "code",
   "execution_count": 120,
   "metadata": {},
   "outputs": [],
   "source": [
    "test_reviews = df_test['normalized_text']\n",
    "tokenizer = Tokenizer(lower=True, split=' ') # creates tokenizer\n",
    "tokenizer.fit_on_texts(test_reviews)  # builds the word index\n",
    "test_sequences = tokenizer.texts_to_sequences(test_reviews) #turns strings into list of integers"
   ]
  },
  {
   "cell_type": "code",
   "execution_count": 121,
   "metadata": {},
   "outputs": [],
   "source": [
    "def sequence_to_text(sequence):\n",
    "    words =  [reverse_word_index.get(letter) for letter in sequence]\n",
    "    return words\n",
    "\n",
    "my_text_2 = list(map(sequence_to_text, test_sequences))"
   ]
  },
  {
   "cell_type": "code",
   "execution_count": 122,
   "metadata": {},
   "outputs": [
    {
     "data": {
      "text/plain": [
       "2835"
      ]
     },
     "execution_count": 122,
     "metadata": {},
     "output_type": "execute_result"
    }
   ],
   "source": [
    "len(test_sequences)"
   ]
  },
  {
   "cell_type": "code",
   "execution_count": 123,
   "metadata": {},
   "outputs": [],
   "source": [
    "# word_index is a dictionary mapping words to an integer index\n",
    "word_index = tokenizer.word_index "
   ]
  },
  {
   "cell_type": "code",
   "execution_count": 124,
   "metadata": {},
   "outputs": [
    {
     "name": "stdout",
     "output_type": "stream",
     "text": [
      "Found 7760 unique tokens. \n"
     ]
    }
   ],
   "source": [
    "print(f'Found {len(word_index)} unique tokens. ')"
   ]
  },
  {
   "cell_type": "code",
   "execution_count": 125,
   "metadata": {},
   "outputs": [
    {
     "data": {
      "text/plain": [
       "14015"
      ]
     },
     "execution_count": 125,
     "metadata": {},
     "output_type": "execute_result"
    }
   ],
   "source": [
    "max([max(sequence) for sequence in train_sequences])"
   ]
  },
  {
   "cell_type": "markdown",
   "metadata": {},
   "source": [
    "# Word2Vec and Simple Neural Network"
   ]
  },
  {
   "cell_type": "code",
   "execution_count": 128,
   "metadata": {},
   "outputs": [],
   "source": [
    "word2vec = gensim.models.Word2Vec(my_text,\n",
    "                                  size=100,\n",
    "                                  window=5,\n",
    "                                  min_count=1)\n",
    "#word2vec.train(my_text, total_examples=10835, epochs=10)"
   ]
  },
  {
   "cell_type": "code",
   "execution_count": 129,
   "metadata": {},
   "outputs": [
    {
     "name": "stdout",
     "output_type": "stream",
     "text": [
      "Vocabulary size: 14015\n"
     ]
    }
   ],
   "source": [
    "# vocab size\n",
    "words = list(word2vec.wv.vocab)\n",
    "print('Vocabulary size: %d' % len(words))"
   ]
  },
  {
   "cell_type": "code",
   "execution_count": 130,
   "metadata": {},
   "outputs": [
    {
     "data": {
      "text/plain": [
       "{'laptop': ['power', 'spare', 'center', 'neatly', 'usb'],\n",
       " 'tv': ['equipment', 'keyboard', 'speaker', 'music', 'drawer'],\n",
       " 'pen': ['ink', 'jet', 'write', 'fountain', 'flow'],\n",
       " 'pencil': ['nicely', 'sharpie', 'line', 'clip', 'light'],\n",
       " 'computer': ['power', 'usb', 'wire', 'behind', 'electrical'],\n",
       " 'bad': ['see', 'do', 'probably', 'wrong', 'believe']}"
      ]
     },
     "execution_count": 130,
     "metadata": {},
     "output_type": "execute_result"
    }
   ],
   "source": [
    "similar_words = {search_term: [item[0] for item in word2vec.wv.most_similar([search_term], topn=5)]\n",
    "                  for search_term in ['laptop', 'tv', 'pen', 'pencil', 'computer', 'bad']}\n",
    "similar_words"
   ]
  },
  {
   "cell_type": "code",
   "execution_count": 131,
   "metadata": {},
   "outputs": [
    {
     "data": {
      "text/plain": [
       "[('cord', 0.9908390045166016),\n",
       " ('around', 0.9825868606567383),\n",
       " ('turtle', 0.9818694591522217),\n",
       " ('keep', 0.9747967720031738)]"
      ]
     },
     "execution_count": 131,
     "metadata": {},
     "output_type": "execute_result"
    }
   ],
   "source": [
    "# let us try some utility functions of gensim word2vec more details here \n",
    "\n",
    "word2vec.wv.most_similar('cable', topn =4)"
   ]
  },
  {
   "cell_type": "code",
   "execution_count": 132,
   "metadata": {},
   "outputs": [
    {
     "data": {
      "text/plain": [
       "[('cord', 0.9908390045166016),\n",
       " ('around', 0.9825868606567383),\n",
       " ('turtle', 0.9818694591522217),\n",
       " ('keep', 0.9747967720031738),\n",
       " ('put', 0.9741815328598022),\n",
       " ('hole', 0.9741170406341553),\n",
       " ('slide', 0.9708865880966187),\n",
       " ('attach', 0.9706590175628662),\n",
       " ('place', 0.9706218242645264),\n",
       " ('mixer', 0.9704939126968384)]"
      ]
     },
     "execution_count": 132,
     "metadata": {},
     "output_type": "execute_result"
    }
   ],
   "source": [
    "word2vec.wv.similar_by_word(\"cable\")"
   ]
  },
  {
   "cell_type": "code",
   "execution_count": 133,
   "metadata": {},
   "outputs": [
    {
     "name": "stdout",
     "output_type": "stream",
     "text": [
      "0.99833834\n"
     ]
    }
   ],
   "source": [
    "print(word2vec.wv.similarity('laptop', 'computer'))"
   ]
  },
  {
   "cell_type": "code",
   "execution_count": 134,
   "metadata": {},
   "outputs": [
    {
     "name": "stdout",
     "output_type": "stream",
     "text": [
      "0.7535155\n",
      "0.8000971\n",
      "0.7640777\n",
      "0.851881\n"
     ]
    }
   ],
   "source": [
    "print(word2vec.wv.similarity('computer', 'great'))\n",
    "print(word2vec.wv.similarity('tv', 'great'))\n",
    "print(word2vec.wv.similarity('laptop', 'great'))\n",
    "print(word2vec.wv.similarity('pen', 'great'))"
   ]
  },
  {
   "cell_type": "code",
   "execution_count": 135,
   "metadata": {},
   "outputs": [
    {
     "data": {
      "text/plain": [
       "[('keep', 1.0052770376205444),\n",
       " ('ribbon', 1.0042723417282104),\n",
       " ('trunk', 1.0041579008102417),\n",
       " ('conceal', 1.0040984153747559),\n",
       " ('laptop', 1.0040827989578247),\n",
       " ('recipe', 1.0039796829223633),\n",
       " ('grommet', 1.003790259361267),\n",
       " ('three', 1.0037410259246826),\n",
       " ('wrap', 1.0037341117858887),\n",
       " ('phone', 1.0035040378570557)]"
      ]
     },
     "execution_count": 135,
     "metadata": {},
     "output_type": "execute_result"
    }
   ],
   "source": [
    "#Let’s see the result of semantically reasonable word vectors (king - man + woman)\n",
    "#Vord vectors (book - pencil + computer)\n",
    "word2vec.wv.most_similar_cosmul(positive=['book', 'computer'], negative=['pencil'])"
   ]
  },
  {
   "cell_type": "code",
   "execution_count": 136,
   "metadata": {},
   "outputs": [
    {
     "name": "stdout",
     "output_type": "stream",
     "text": [
      "cable\n"
     ]
    },
    {
     "name": "stderr",
     "output_type": "stream",
     "text": [
      "/Users/amy/anaconda3/lib/python3.7/site-packages/gensim/models/keyedvectors.py:877: FutureWarning: arrays to stack must be passed as a \"sequence\" type such as list or tuple. Support for non-sequence iterables such as generators is deprecated as of NumPy 1.16 and will raise an error in the future.\n",
      "  vectors = vstack(self.word_vec(word, use_norm=True) for word in used_words).astype(REAL)\n"
     ]
    }
   ],
   "source": [
    "#odd word out\n",
    "print(word2vec.wv.doesnt_match('laptop cable pencil computer'.split()))"
   ]
  },
  {
   "cell_type": "code",
   "execution_count": 137,
   "metadata": {},
   "outputs": [
    {
     "data": {
      "text/plain": [
       "{'laptop': ['power', 'spare', 'center', 'neatly', 'usb'],\n",
       " 'tv': ['equipment', 'keyboard', 'speaker', 'music', 'drawer'],\n",
       " 'pen': ['ink', 'jet', 'write', 'fountain', 'flow'],\n",
       " 'pencil': ['nicely', 'sharpie', 'line', 'clip', 'light'],\n",
       " 'computer': ['power', 'usb', 'wire', 'behind', 'electrical'],\n",
       " 'bad': ['see', 'do', 'probably', 'wrong', 'believe']}"
      ]
     },
     "execution_count": 137,
     "metadata": {},
     "output_type": "execute_result"
    }
   ],
   "source": [
    "similar_words"
   ]
  },
  {
   "cell_type": "code",
   "execution_count": 138,
   "metadata": {},
   "outputs": [
    {
     "data": {
      "image/png": "[encoded data removed]",
      "text/plain": [
       "<Figure size 1008x576 with 1 Axes>"
      ]
     },
     "metadata": {
      "needs_background": "light"
     },
     "output_type": "display_data"
    }
   ],
   "source": [
    "from sklearn.manifold import TSNE\n",
    "\n",
    "words = sum([[k] + v for k, v in similar_words.items()], [])\n",
    "wvs = word2vec.wv[words]\n",
    "\n",
    "tsne = TSNE(n_components=2, random_state=0, n_iter=10000, perplexity=2)\n",
    "np.set_printoptions(suppress=True)\n",
    "T = tsne.fit_transform(wvs)\n",
    "labels = words\n",
    "\n",
    "plt.figure(figsize=(14, 8))\n",
    "plt.scatter(T[:, 0], T[:, 1], c='orange', edgecolors='r')\n",
    "for label, x, yt in zip(labels, T[:, 0], T[:, 1]):\n",
    "    plt.annotate(label, xy=(x+1, yt+1), xytext=(0, 0), textcoords='offset points')"
   ]
  },
  {
   "cell_type": "code",
   "execution_count": 139,
   "metadata": {},
   "outputs": [
    {
     "data": {
      "text/plain": [
       "7760"
      ]
     },
     "execution_count": 139,
     "metadata": {},
     "output_type": "execute_result"
    }
   ],
   "source": [
    "len(word_index.keys())"
   ]
  },
  {
   "cell_type": "code",
   "execution_count": 140,
   "metadata": {},
   "outputs": [
    {
     "data": {
      "text/plain": [
       "14015"
      ]
     },
     "execution_count": 140,
     "metadata": {},
     "output_type": "execute_result"
    }
   ],
   "source": [
    "len(word2vec.wv.vocab)"
   ]
  },
  {
   "cell_type": "markdown",
   "metadata": {},
   "source": [
    "So we created word vectors using Word2Vec and the model has 14015 unique words where each word has a vector length of 100\n",
    "\n",
    "\n",
    "Now we are going to use these dense vectors - word embeddings - in a simple neural network to predict "
   ]
  },
  {
   "cell_type": "code",
   "execution_count": 141,
   "metadata": {},
   "outputs": [],
   "source": [
    "def averaged_word2vec_vectorizer(corpus, model, num_features):\n",
    "    vocabulary = set(model.wv.index2word)\n",
    "    \n",
    "    def average_word_vectors(words, model, vocabulary, num_features):\n",
    "        feature_vector = np.zeros((num_features,), dtype=\"float64\")\n",
    "        nwords = 0.\n",
    "        \n",
    "        for word in words:\n",
    "            if word in vocabulary: \n",
    "                nwords = nwords + 1.\n",
    "                feature_vector = np.add(feature_vector, model.wv[word])\n",
    "        if nwords:\n",
    "            feature_vector = np.divide(feature_vector, nwords)\n",
    "\n",
    "        return feature_vector\n",
    "\n",
    "    features = [average_word_vectors(tokenized_sentence, model, vocabulary, num_features)\n",
    "                    for tokenized_sentence in corpus]\n",
    "    return np.array(features)"
   ]
  },
  {
   "cell_type": "code",
   "execution_count": 142,
   "metadata": {},
   "outputs": [],
   "source": [
    "avg_wv_train_features = averaged_word2vec_vectorizer(corpus=my_text, model=word2vec,\n",
    "                                                     num_features=100)"
   ]
  },
  {
   "cell_type": "code",
   "execution_count": 143,
   "metadata": {},
   "outputs": [],
   "source": [
    "avg_wv_test_features = averaged_word2vec_vectorizer(corpus=my_text_2, model=word2vec,\n",
    "                                                    num_features=100)"
   ]
  },
  {
   "cell_type": "code",
   "execution_count": 144,
   "metadata": {},
   "outputs": [
    {
     "name": "stdout",
     "output_type": "stream",
     "text": [
      "Total word vectors: 684831\n"
     ]
    },
    {
     "ename": "NameError",
     "evalue": "name 'tn' is not defined",
     "output_type": "error",
     "traceback": [
      "\u001b[0;31m---------------------------------------------------------------------------\u001b[0m",
      "\u001b[0;31mNameError\u001b[0m                                 Traceback (most recent call last)",
      "\u001b[0;32m<ipython-input-144-081411d055d3>\u001b[0m in \u001b[0;36m<module>\u001b[0;34m\u001b[0m\n\u001b[1;32m      7\u001b[0m \u001b[0;34m\u001b[0m\u001b[0m\n\u001b[1;32m      8\u001b[0m \u001b[0;31m# feature engineering with GloVe model\u001b[0m\u001b[0;34m\u001b[0m\u001b[0;34m\u001b[0m\u001b[0;34m\u001b[0m\u001b[0m\n\u001b[0;32m----> 9\u001b[0;31m \u001b[0mtrain_nlp\u001b[0m \u001b[0;34m=\u001b[0m \u001b[0;34m[\u001b[0m\u001b[0mtn\u001b[0m\u001b[0;34m.\u001b[0m\u001b[0mnlp_vec\u001b[0m\u001b[0;34m(\u001b[0m\u001b[0mitem\u001b[0m\u001b[0;34m)\u001b[0m \u001b[0;32mfor\u001b[0m \u001b[0mitem\u001b[0m \u001b[0;32min\u001b[0m \u001b[0mmy_text\u001b[0m\u001b[0;34m]\u001b[0m\u001b[0;34m\u001b[0m\u001b[0;34m\u001b[0m\u001b[0m\n\u001b[0m\u001b[1;32m     10\u001b[0m \u001b[0mtrain_glove_features\u001b[0m \u001b[0;34m=\u001b[0m \u001b[0mnp\u001b[0m\u001b[0;34m.\u001b[0m\u001b[0marray\u001b[0m\u001b[0;34m(\u001b[0m\u001b[0;34m[\u001b[0m\u001b[0mitem\u001b[0m\u001b[0;34m.\u001b[0m\u001b[0mvector\u001b[0m \u001b[0;32mfor\u001b[0m \u001b[0mitem\u001b[0m \u001b[0;32min\u001b[0m \u001b[0mtrain_nlp\u001b[0m\u001b[0;34m]\u001b[0m\u001b[0;34m)\u001b[0m\u001b[0;34m\u001b[0m\u001b[0;34m\u001b[0m\u001b[0m\n\u001b[1;32m     11\u001b[0m \u001b[0;34m\u001b[0m\u001b[0m\n",
      "\u001b[0;32m<ipython-input-144-081411d055d3>\u001b[0m in \u001b[0;36m<listcomp>\u001b[0;34m(.0)\u001b[0m\n\u001b[1;32m      7\u001b[0m \u001b[0;34m\u001b[0m\u001b[0m\n\u001b[1;32m      8\u001b[0m \u001b[0;31m# feature engineering with GloVe model\u001b[0m\u001b[0;34m\u001b[0m\u001b[0;34m\u001b[0m\u001b[0;34m\u001b[0m\u001b[0m\n\u001b[0;32m----> 9\u001b[0;31m \u001b[0mtrain_nlp\u001b[0m \u001b[0;34m=\u001b[0m \u001b[0;34m[\u001b[0m\u001b[0mtn\u001b[0m\u001b[0;34m.\u001b[0m\u001b[0mnlp_vec\u001b[0m\u001b[0;34m(\u001b[0m\u001b[0mitem\u001b[0m\u001b[0;34m)\u001b[0m \u001b[0;32mfor\u001b[0m \u001b[0mitem\u001b[0m \u001b[0;32min\u001b[0m \u001b[0mmy_text\u001b[0m\u001b[0;34m]\u001b[0m\u001b[0;34m\u001b[0m\u001b[0;34m\u001b[0m\u001b[0m\n\u001b[0m\u001b[1;32m     10\u001b[0m \u001b[0mtrain_glove_features\u001b[0m \u001b[0;34m=\u001b[0m \u001b[0mnp\u001b[0m\u001b[0;34m.\u001b[0m\u001b[0marray\u001b[0m\u001b[0;34m(\u001b[0m\u001b[0;34m[\u001b[0m\u001b[0mitem\u001b[0m\u001b[0;34m.\u001b[0m\u001b[0mvector\u001b[0m \u001b[0;32mfor\u001b[0m \u001b[0mitem\u001b[0m \u001b[0;32min\u001b[0m \u001b[0mtrain_nlp\u001b[0m\u001b[0;34m]\u001b[0m\u001b[0;34m)\u001b[0m\u001b[0;34m\u001b[0m\u001b[0;34m\u001b[0m\u001b[0m\n\u001b[1;32m     11\u001b[0m \u001b[0;34m\u001b[0m\u001b[0m\n",
      "\u001b[0;31mNameError\u001b[0m: name 'tn' is not defined"
     ]
    }
   ],
   "source": [
    "import spacy\n",
    "\n",
    "nlp = spacy.load('en_core_web_lg')\n",
    "\n",
    "total_vectors = len(nlp.vocab.vectors)\n",
    "print('Total word vectors:', total_vectors)\n",
    "\n",
    "# feature engineering with GloVe model\n",
    "train_nlp = [tn.nlp_vec(item) for item in my_text]\n",
    "train_glove_features = np.array([item.vector for item in train_nlp])\n",
    "\n",
    "test_nlp = [tn.nlp_vec(item) for item in my_text_2]\n",
    "test_glove_features = np.array([item.vector for item in test_nlp])"
   ]
  },
  {
   "cell_type": "code",
   "execution_count": 145,
   "metadata": {},
   "outputs": [],
   "source": [
    "def construct_deepnn_architecture(num_input_features):\n",
    "    dnn_model = Sequential()\n",
    "    dnn_model.add(Dense(512, input_shape=(num_input_features,), kernel_initializer='glorot_uniform'))\n",
    "    dnn_model.add(BatchNormalization())\n",
    "    dnn_model.add(Activation('relu'))\n",
    "    dnn_model.add(Dropout(0.2))\n",
    "    \n",
    "    dnn_model.add(Dense(512, kernel_initializer='glorot_uniform'))\n",
    "    dnn_model.add(BatchNormalization())\n",
    "    dnn_model.add(Activation('relu'))\n",
    "    dnn_model.add(Dropout(0.2))\n",
    "    \n",
    "    dnn_model.add(Dense(512, kernel_initializer='glorot_uniform'))\n",
    "    dnn_model.add(BatchNormalization())\n",
    "    dnn_model.add(Activation('relu'))\n",
    "    dnn_model.add(Dropout(0.2))\n",
    "    \n",
    "    dnn_model.add(Dense(2))\n",
    "    dnn_model.add(Activation('softmax'))\n",
    "\n",
    "    dnn_model.compile(loss='categorical_crossentropy', optimizer='adam',                 \n",
    "                      metrics=['accuracy'])\n",
    "    return dnn_model"
   ]
  },
  {
   "cell_type": "code",
   "execution_count": 146,
   "metadata": {},
   "outputs": [],
   "source": [
    "from keras.models import Sequential\n",
    "from keras.layers import Embedding, Flatten, Dense, Dropout\n",
    "from keras.layers import Activation\n",
    "from keras.layers.normalization import BatchNormalization\n",
    "\n",
    "w2v_dnn = construct_deepnn_architecture(num_input_features=100)"
   ]
  },
  {
   "cell_type": "code",
   "execution_count": 147,
   "metadata": {},
   "outputs": [
    {
     "data": {
      "image/svg+xml": [
       "<svg height=\"1179pt\" viewBox=\"0.00 0.00 276.83 1179.00\" width=\"277pt\" xmlns=\"http://www.w3.org/2000/svg\" xmlns:xlink=\"http://www.w3.org/1999/xlink\">\n",
       "<g class=\"graph\" id=\"graph0\" transform=\"scale(1 1) rotate(0) translate(4 1175)\">\n",
       "<title>G</title>\n",
       "<polygon fill=\"#ffffff\" points=\"-4,4 -4,-1175 272.835,-1175 272.835,4 -4,4\" stroke=\"transparent\"/>\n",
       "<!-- 112584734368 -->\n",
       "<g class=\"node\" id=\"node1\">\n",
       "<title>112584734368</title>\n",
       "<polygon fill=\"none\" points=\"39.2656,-1053.5 39.2656,-1097.5 229.5693,-1097.5 229.5693,-1053.5 39.2656,-1053.5\" stroke=\"#000000\"/>\n",
       "<text fill=\"#000000\" font-family=\"Times,serif\" font-size=\"14.00\" text-anchor=\"middle\" x=\"64.7588\" y=\"-1071.3\">Dense</text>\n",
       "<polyline fill=\"none\" points=\"90.252,-1053.5 90.252,-1097.5 \" stroke=\"#000000\"/>\n",
       "<text fill=\"#000000\" font-family=\"Times,serif\" font-size=\"14.00\" text-anchor=\"middle\" x=\"118.0864\" y=\"-1082.3\">input:</text>\n",
       "<polyline fill=\"none\" points=\"90.252,-1075.5 145.9209,-1075.5 \" stroke=\"#000000\"/>\n",
       "<text fill=\"#000000\" font-family=\"Times,serif\" font-size=\"14.00\" text-anchor=\"middle\" x=\"118.0864\" y=\"-1060.3\">output:</text>\n",
       "<polyline fill=\"none\" points=\"145.9209,-1053.5 145.9209,-1097.5 \" stroke=\"#000000\"/>\n",
       "<text fill=\"#000000\" font-family=\"Times,serif\" font-size=\"14.00\" text-anchor=\"middle\" x=\"187.7451\" y=\"-1082.3\">(None, 100)</text>\n",
       "<polyline fill=\"none\" points=\"145.9209,-1075.5 229.5693,-1075.5 \" stroke=\"#000000\"/>\n",
       "<text fill=\"#000000\" font-family=\"Times,serif\" font-size=\"14.00\" text-anchor=\"middle\" x=\"187.7451\" y=\"-1060.3\">(None, 512)</text>\n",
       "</g>\n",
       "<!-- 112584732912 -->\n",
       "<g class=\"node\" id=\"node2\">\n",
       "<title>112584732912</title>\n",
       "<polygon fill=\"none\" points=\"0,-972.5 0,-1016.5 268.835,-1016.5 268.835,-972.5 0,-972.5\" stroke=\"#000000\"/>\n",
       "<text fill=\"#000000\" font-family=\"Times,serif\" font-size=\"14.00\" text-anchor=\"middle\" x=\"64.7588\" y=\"-990.3\">BatchNormalization</text>\n",
       "<polyline fill=\"none\" points=\"129.5176,-972.5 129.5176,-1016.5 \" stroke=\"#000000\"/>\n",
       "<text fill=\"#000000\" font-family=\"Times,serif\" font-size=\"14.00\" text-anchor=\"middle\" x=\"157.3521\" y=\"-1001.3\">input:</text>\n",
       "<polyline fill=\"none\" points=\"129.5176,-994.5 185.1865,-994.5 \" stroke=\"#000000\"/>\n",
       "<text fill=\"#000000\" font-family=\"Times,serif\" font-size=\"14.00\" text-anchor=\"middle\" x=\"157.3521\" y=\"-979.3\">output:</text>\n",
       "<polyline fill=\"none\" points=\"185.1865,-972.5 185.1865,-1016.5 \" stroke=\"#000000\"/>\n",
       "<text fill=\"#000000\" font-family=\"Times,serif\" font-size=\"14.00\" text-anchor=\"middle\" x=\"227.0107\" y=\"-1001.3\">(None, 512)</text>\n",
       "<polyline fill=\"none\" points=\"185.1865,-994.5 268.835,-994.5 \" stroke=\"#000000\"/>\n",
       "<text fill=\"#000000\" font-family=\"Times,serif\" font-size=\"14.00\" text-anchor=\"middle\" x=\"227.0107\" y=\"-979.3\">(None, 512)</text>\n",
       "</g>\n",
       "<!-- 112584734368&#45;&gt;112584732912 -->\n",
       "<g class=\"edge\" id=\"edge2\">\n",
       "<title>112584734368-&gt;112584732912</title>\n",
       "<path d=\"M134.4175,-1053.3664C134.4175,-1045.1516 134.4175,-1035.6579 134.4175,-1026.7252\" fill=\"none\" stroke=\"#000000\"/>\n",
       "<polygon fill=\"#000000\" points=\"137.9176,-1026.6068 134.4175,-1016.6068 130.9176,-1026.6069 137.9176,-1026.6068\" stroke=\"#000000\"/>\n",
       "</g>\n",
       "<!-- 112591756984 -->\n",
       "<g class=\"node\" id=\"node3\">\n",
       "<title>112591756984</title>\n",
       "<polygon fill=\"none\" points=\"27.2104,-891.5 27.2104,-935.5 241.6245,-935.5 241.6245,-891.5 27.2104,-891.5\" stroke=\"#000000\"/>\n",
       "<text fill=\"#000000\" font-family=\"Times,serif\" font-size=\"14.00\" text-anchor=\"middle\" x=\"64.7588\" y=\"-909.3\">Activation</text>\n",
       "<polyline fill=\"none\" points=\"102.3071,-891.5 102.3071,-935.5 \" stroke=\"#000000\"/>\n",
       "<text fill=\"#000000\" font-family=\"Times,serif\" font-size=\"14.00\" text-anchor=\"middle\" x=\"130.1416\" y=\"-920.3\">input:</text>\n",
       "<polyline fill=\"none\" points=\"102.3071,-913.5 157.9761,-913.5 \" stroke=\"#000000\"/>\n",
       "<text fill=\"#000000\" font-family=\"Times,serif\" font-size=\"14.00\" text-anchor=\"middle\" x=\"130.1416\" y=\"-898.3\">output:</text>\n",
       "<polyline fill=\"none\" points=\"157.9761,-891.5 157.9761,-935.5 \" stroke=\"#000000\"/>\n",
       "<text fill=\"#000000\" font-family=\"Times,serif\" font-size=\"14.00\" text-anchor=\"middle\" x=\"199.8003\" y=\"-920.3\">(None, 512)</text>\n",
       "<polyline fill=\"none\" points=\"157.9761,-913.5 241.6245,-913.5 \" stroke=\"#000000\"/>\n",
       "<text fill=\"#000000\" font-family=\"Times,serif\" font-size=\"14.00\" text-anchor=\"middle\" x=\"199.8003\" y=\"-898.3\">(None, 512)</text>\n",
       "</g>\n",
       "<!-- 112584732912&#45;&gt;112591756984 -->\n",
       "<g class=\"edge\" id=\"edge3\">\n",
       "<title>112584732912-&gt;112591756984</title>\n",
       "<path d=\"M134.4175,-972.3664C134.4175,-964.1516 134.4175,-954.6579 134.4175,-945.7252\" fill=\"none\" stroke=\"#000000\"/>\n",
       "<polygon fill=\"#000000\" points=\"137.9176,-945.6068 134.4175,-935.6068 130.9176,-945.6069 137.9176,-945.6068\" stroke=\"#000000\"/>\n",
       "</g>\n",
       "<!-- 112584733696 -->\n",
       "<g class=\"node\" id=\"node4\">\n",
       "<title>112584733696</title>\n",
       "<polygon fill=\"none\" points=\"33.4277,-810.5 33.4277,-854.5 235.4072,-854.5 235.4072,-810.5 33.4277,-810.5\" stroke=\"#000000\"/>\n",
       "<text fill=\"#000000\" font-family=\"Times,serif\" font-size=\"14.00\" text-anchor=\"middle\" x=\"64.7588\" y=\"-828.3\">Dropout</text>\n",
       "<polyline fill=\"none\" points=\"96.0898,-810.5 96.0898,-854.5 \" stroke=\"#000000\"/>\n",
       "<text fill=\"#000000\" font-family=\"Times,serif\" font-size=\"14.00\" text-anchor=\"middle\" x=\"123.9243\" y=\"-839.3\">input:</text>\n",
       "<polyline fill=\"none\" points=\"96.0898,-832.5 151.7588,-832.5 \" stroke=\"#000000\"/>\n",
       "<text fill=\"#000000\" font-family=\"Times,serif\" font-size=\"14.00\" text-anchor=\"middle\" x=\"123.9243\" y=\"-817.3\">output:</text>\n",
       "<polyline fill=\"none\" points=\"151.7588,-810.5 151.7588,-854.5 \" stroke=\"#000000\"/>\n",
       "<text fill=\"#000000\" font-family=\"Times,serif\" font-size=\"14.00\" text-anchor=\"middle\" x=\"193.583\" y=\"-839.3\">(None, 512)</text>\n",
       "<polyline fill=\"none\" points=\"151.7588,-832.5 235.4072,-832.5 \" stroke=\"#000000\"/>\n",
       "<text fill=\"#000000\" font-family=\"Times,serif\" font-size=\"14.00\" text-anchor=\"middle\" x=\"193.583\" y=\"-817.3\">(None, 512)</text>\n",
       "</g>\n",
       "<!-- 112591756984&#45;&gt;112584733696 -->\n",
       "<g class=\"edge\" id=\"edge4\">\n",
       "<title>112591756984-&gt;112584733696</title>\n",
       "<path d=\"M134.4175,-891.3664C134.4175,-883.1516 134.4175,-873.6579 134.4175,-864.7252\" fill=\"none\" stroke=\"#000000\"/>\n",
       "<polygon fill=\"#000000\" points=\"137.9176,-864.6068 134.4175,-854.6068 130.9176,-864.6069 137.9176,-864.6068\" stroke=\"#000000\"/>\n",
       "</g>\n",
       "<!-- 115936390336 -->\n",
       "<g class=\"node\" id=\"node5\">\n",
       "<title>115936390336</title>\n",
       "<polygon fill=\"none\" points=\"39.2656,-729.5 39.2656,-773.5 229.5693,-773.5 229.5693,-729.5 39.2656,-729.5\" stroke=\"#000000\"/>\n",
       "<text fill=\"#000000\" font-family=\"Times,serif\" font-size=\"14.00\" text-anchor=\"middle\" x=\"64.7588\" y=\"-747.3\">Dense</text>\n",
       "<polyline fill=\"none\" points=\"90.252,-729.5 90.252,-773.5 \" stroke=\"#000000\"/>\n",
       "<text fill=\"#000000\" font-family=\"Times,serif\" font-size=\"14.00\" text-anchor=\"middle\" x=\"118.0864\" y=\"-758.3\">input:</text>\n",
       "<polyline fill=\"none\" points=\"90.252,-751.5 145.9209,-751.5 \" stroke=\"#000000\"/>\n",
       "<text fill=\"#000000\" font-family=\"Times,serif\" font-size=\"14.00\" text-anchor=\"middle\" x=\"118.0864\" y=\"-736.3\">output:</text>\n",
       "<polyline fill=\"none\" points=\"145.9209,-729.5 145.9209,-773.5 \" stroke=\"#000000\"/>\n",
       "<text fill=\"#000000\" font-family=\"Times,serif\" font-size=\"14.00\" text-anchor=\"middle\" x=\"187.7451\" y=\"-758.3\">(None, 512)</text>\n",
       "<polyline fill=\"none\" points=\"145.9209,-751.5 229.5693,-751.5 \" stroke=\"#000000\"/>\n",
       "<text fill=\"#000000\" font-family=\"Times,serif\" font-size=\"14.00\" text-anchor=\"middle\" x=\"187.7451\" y=\"-736.3\">(None, 512)</text>\n",
       "</g>\n",
       "<!-- 112584733696&#45;&gt;115936390336 -->\n",
       "<g class=\"edge\" id=\"edge5\">\n",
       "<title>112584733696-&gt;115936390336</title>\n",
       "<path d=\"M134.4175,-810.3664C134.4175,-802.1516 134.4175,-792.6579 134.4175,-783.7252\" fill=\"none\" stroke=\"#000000\"/>\n",
       "<polygon fill=\"#000000\" points=\"137.9176,-783.6068 134.4175,-773.6068 130.9176,-783.6069 137.9176,-783.6068\" stroke=\"#000000\"/>\n",
       "</g>\n",
       "<!-- 115936379232 -->\n",
       "<g class=\"node\" id=\"node6\">\n",
       "<title>115936379232</title>\n",
       "<polygon fill=\"none\" points=\"0,-648.5 0,-692.5 268.835,-692.5 268.835,-648.5 0,-648.5\" stroke=\"#000000\"/>\n",
       "<text fill=\"#000000\" font-family=\"Times,serif\" font-size=\"14.00\" text-anchor=\"middle\" x=\"64.7588\" y=\"-666.3\">BatchNormalization</text>\n",
       "<polyline fill=\"none\" points=\"129.5176,-648.5 129.5176,-692.5 \" stroke=\"#000000\"/>\n",
       "<text fill=\"#000000\" font-family=\"Times,serif\" font-size=\"14.00\" text-anchor=\"middle\" x=\"157.3521\" y=\"-677.3\">input:</text>\n",
       "<polyline fill=\"none\" points=\"129.5176,-670.5 185.1865,-670.5 \" stroke=\"#000000\"/>\n",
       "<text fill=\"#000000\" font-family=\"Times,serif\" font-size=\"14.00\" text-anchor=\"middle\" x=\"157.3521\" y=\"-655.3\">output:</text>\n",
       "<polyline fill=\"none\" points=\"185.1865,-648.5 185.1865,-692.5 \" stroke=\"#000000\"/>\n",
       "<text fill=\"#000000\" font-family=\"Times,serif\" font-size=\"14.00\" text-anchor=\"middle\" x=\"227.0107\" y=\"-677.3\">(None, 512)</text>\n",
       "<polyline fill=\"none\" points=\"185.1865,-670.5 268.835,-670.5 \" stroke=\"#000000\"/>\n",
       "<text fill=\"#000000\" font-family=\"Times,serif\" font-size=\"14.00\" text-anchor=\"middle\" x=\"227.0107\" y=\"-655.3\">(None, 512)</text>\n",
       "</g>\n",
       "<!-- 115936390336&#45;&gt;115936379232 -->\n",
       "<g class=\"edge\" id=\"edge6\">\n",
       "<title>115936390336-&gt;115936379232</title>\n",
       "<path d=\"M134.4175,-729.3664C134.4175,-721.1516 134.4175,-711.6579 134.4175,-702.7252\" fill=\"none\" stroke=\"#000000\"/>\n",
       "<polygon fill=\"#000000\" points=\"137.9176,-702.6068 134.4175,-692.6068 130.9176,-702.6069 137.9176,-702.6068\" stroke=\"#000000\"/>\n",
       "</g>\n",
       "<!-- 115936834112 -->\n",
       "<g class=\"node\" id=\"node7\">\n",
       "<title>115936834112</title>\n",
       "<polygon fill=\"none\" points=\"27.2104,-567.5 27.2104,-611.5 241.6245,-611.5 241.6245,-567.5 27.2104,-567.5\" stroke=\"#000000\"/>\n",
       "<text fill=\"#000000\" font-family=\"Times,serif\" font-size=\"14.00\" text-anchor=\"middle\" x=\"64.7588\" y=\"-585.3\">Activation</text>\n",
       "<polyline fill=\"none\" points=\"102.3071,-567.5 102.3071,-611.5 \" stroke=\"#000000\"/>\n",
       "<text fill=\"#000000\" font-family=\"Times,serif\" font-size=\"14.00\" text-anchor=\"middle\" x=\"130.1416\" y=\"-596.3\">input:</text>\n",
       "<polyline fill=\"none\" points=\"102.3071,-589.5 157.9761,-589.5 \" stroke=\"#000000\"/>\n",
       "<text fill=\"#000000\" font-family=\"Times,serif\" font-size=\"14.00\" text-anchor=\"middle\" x=\"130.1416\" y=\"-574.3\">output:</text>\n",
       "<polyline fill=\"none\" points=\"157.9761,-567.5 157.9761,-611.5 \" stroke=\"#000000\"/>\n",
       "<text fill=\"#000000\" font-family=\"Times,serif\" font-size=\"14.00\" text-anchor=\"middle\" x=\"199.8003\" y=\"-596.3\">(None, 512)</text>\n",
       "<polyline fill=\"none\" points=\"157.9761,-589.5 241.6245,-589.5 \" stroke=\"#000000\"/>\n",
       "<text fill=\"#000000\" font-family=\"Times,serif\" font-size=\"14.00\" text-anchor=\"middle\" x=\"199.8003\" y=\"-574.3\">(None, 512)</text>\n",
       "</g>\n",
       "<!-- 115936379232&#45;&gt;115936834112 -->\n",
       "<g class=\"edge\" id=\"edge7\">\n",
       "<title>115936379232-&gt;115936834112</title>\n",
       "<path d=\"M134.4175,-648.3664C134.4175,-640.1516 134.4175,-630.6579 134.4175,-621.7252\" fill=\"none\" stroke=\"#000000\"/>\n",
       "<polygon fill=\"#000000\" points=\"137.9176,-621.6068 134.4175,-611.6068 130.9176,-621.6069 137.9176,-621.6068\" stroke=\"#000000\"/>\n",
       "</g>\n",
       "<!-- 115936272792 -->\n",
       "<g class=\"node\" id=\"node8\">\n",
       "<title>115936272792</title>\n",
       "<polygon fill=\"none\" points=\"33.4277,-486.5 33.4277,-530.5 235.4072,-530.5 235.4072,-486.5 33.4277,-486.5\" stroke=\"#000000\"/>\n",
       "<text fill=\"#000000\" font-family=\"Times,serif\" font-size=\"14.00\" text-anchor=\"middle\" x=\"64.7588\" y=\"-504.3\">Dropout</text>\n",
       "<polyline fill=\"none\" points=\"96.0898,-486.5 96.0898,-530.5 \" stroke=\"#000000\"/>\n",
       "<text fill=\"#000000\" font-family=\"Times,serif\" font-size=\"14.00\" text-anchor=\"middle\" x=\"123.9243\" y=\"-515.3\">input:</text>\n",
       "<polyline fill=\"none\" points=\"96.0898,-508.5 151.7588,-508.5 \" stroke=\"#000000\"/>\n",
       "<text fill=\"#000000\" font-family=\"Times,serif\" font-size=\"14.00\" text-anchor=\"middle\" x=\"123.9243\" y=\"-493.3\">output:</text>\n",
       "<polyline fill=\"none\" points=\"151.7588,-486.5 151.7588,-530.5 \" stroke=\"#000000\"/>\n",
       "<text fill=\"#000000\" font-family=\"Times,serif\" font-size=\"14.00\" text-anchor=\"middle\" x=\"193.583\" y=\"-515.3\">(None, 512)</text>\n",
       "<polyline fill=\"none\" points=\"151.7588,-508.5 235.4072,-508.5 \" stroke=\"#000000\"/>\n",
       "<text fill=\"#000000\" font-family=\"Times,serif\" font-size=\"14.00\" text-anchor=\"middle\" x=\"193.583\" y=\"-493.3\">(None, 512)</text>\n",
       "</g>\n",
       "<!-- 115936834112&#45;&gt;115936272792 -->\n",
       "<g class=\"edge\" id=\"edge8\">\n",
       "<title>115936834112-&gt;115936272792</title>\n",
       "<path d=\"M134.4175,-567.3664C134.4175,-559.1516 134.4175,-549.6579 134.4175,-540.7252\" fill=\"none\" stroke=\"#000000\"/>\n",
       "<polygon fill=\"#000000\" points=\"137.9176,-540.6068 134.4175,-530.6068 130.9176,-540.6069 137.9176,-540.6068\" stroke=\"#000000\"/>\n",
       "</g>\n",
       "<!-- 115936274136 -->\n",
       "<g class=\"node\" id=\"node9\">\n",
       "<title>115936274136</title>\n",
       "<polygon fill=\"none\" points=\"39.2656,-405.5 39.2656,-449.5 229.5693,-449.5 229.5693,-405.5 39.2656,-405.5\" stroke=\"#000000\"/>\n",
       "<text fill=\"#000000\" font-family=\"Times,serif\" font-size=\"14.00\" text-anchor=\"middle\" x=\"64.7588\" y=\"-423.3\">Dense</text>\n",
       "<polyline fill=\"none\" points=\"90.252,-405.5 90.252,-449.5 \" stroke=\"#000000\"/>\n",
       "<text fill=\"#000000\" font-family=\"Times,serif\" font-size=\"14.00\" text-anchor=\"middle\" x=\"118.0864\" y=\"-434.3\">input:</text>\n",
       "<polyline fill=\"none\" points=\"90.252,-427.5 145.9209,-427.5 \" stroke=\"#000000\"/>\n",
       "<text fill=\"#000000\" font-family=\"Times,serif\" font-size=\"14.00\" text-anchor=\"middle\" x=\"118.0864\" y=\"-412.3\">output:</text>\n",
       "<polyline fill=\"none\" points=\"145.9209,-405.5 145.9209,-449.5 \" stroke=\"#000000\"/>\n",
       "<text fill=\"#000000\" font-family=\"Times,serif\" font-size=\"14.00\" text-anchor=\"middle\" x=\"187.7451\" y=\"-434.3\">(None, 512)</text>\n",
       "<polyline fill=\"none\" points=\"145.9209,-427.5 229.5693,-427.5 \" stroke=\"#000000\"/>\n",
       "<text fill=\"#000000\" font-family=\"Times,serif\" font-size=\"14.00\" text-anchor=\"middle\" x=\"187.7451\" y=\"-412.3\">(None, 512)</text>\n",
       "</g>\n",
       "<!-- 115936272792&#45;&gt;115936274136 -->\n",
       "<g class=\"edge\" id=\"edge9\">\n",
       "<title>115936272792-&gt;115936274136</title>\n",
       "<path d=\"M134.4175,-486.3664C134.4175,-478.1516 134.4175,-468.6579 134.4175,-459.7252\" fill=\"none\" stroke=\"#000000\"/>\n",
       "<polygon fill=\"#000000\" points=\"137.9176,-459.6068 134.4175,-449.6068 130.9176,-459.6069 137.9176,-459.6068\" stroke=\"#000000\"/>\n",
       "</g>\n",
       "<!-- 115936220888 -->\n",
       "<g class=\"node\" id=\"node10\">\n",
       "<title>115936220888</title>\n",
       "<polygon fill=\"none\" points=\"0,-324.5 0,-368.5 268.835,-368.5 268.835,-324.5 0,-324.5\" stroke=\"#000000\"/>\n",
       "<text fill=\"#000000\" font-family=\"Times,serif\" font-size=\"14.00\" text-anchor=\"middle\" x=\"64.7588\" y=\"-342.3\">BatchNormalization</text>\n",
       "<polyline fill=\"none\" points=\"129.5176,-324.5 129.5176,-368.5 \" stroke=\"#000000\"/>\n",
       "<text fill=\"#000000\" font-family=\"Times,serif\" font-size=\"14.00\" text-anchor=\"middle\" x=\"157.3521\" y=\"-353.3\">input:</text>\n",
       "<polyline fill=\"none\" points=\"129.5176,-346.5 185.1865,-346.5 \" stroke=\"#000000\"/>\n",
       "<text fill=\"#000000\" font-family=\"Times,serif\" font-size=\"14.00\" text-anchor=\"middle\" x=\"157.3521\" y=\"-331.3\">output:</text>\n",
       "<polyline fill=\"none\" points=\"185.1865,-324.5 185.1865,-368.5 \" stroke=\"#000000\"/>\n",
       "<text fill=\"#000000\" font-family=\"Times,serif\" font-size=\"14.00\" text-anchor=\"middle\" x=\"227.0107\" y=\"-353.3\">(None, 512)</text>\n",
       "<polyline fill=\"none\" points=\"185.1865,-346.5 268.835,-346.5 \" stroke=\"#000000\"/>\n",
       "<text fill=\"#000000\" font-family=\"Times,serif\" font-size=\"14.00\" text-anchor=\"middle\" x=\"227.0107\" y=\"-331.3\">(None, 512)</text>\n",
       "</g>\n",
       "<!-- 115936274136&#45;&gt;115936220888 -->\n",
       "<g class=\"edge\" id=\"edge10\">\n",
       "<title>115936274136-&gt;115936220888</title>\n",
       "<path d=\"M134.4175,-405.3664C134.4175,-397.1516 134.4175,-387.6579 134.4175,-378.7252\" fill=\"none\" stroke=\"#000000\"/>\n",
       "<polygon fill=\"#000000\" points=\"137.9176,-378.6068 134.4175,-368.6068 130.9176,-378.6069 137.9176,-378.6068\" stroke=\"#000000\"/>\n",
       "</g>\n",
       "<!-- 115936219656 -->\n",
       "<g class=\"node\" id=\"node11\">\n",
       "<title>115936219656</title>\n",
       "<polygon fill=\"none\" points=\"27.2104,-243.5 27.2104,-287.5 241.6245,-287.5 241.6245,-243.5 27.2104,-243.5\" stroke=\"#000000\"/>\n",
       "<text fill=\"#000000\" font-family=\"Times,serif\" font-size=\"14.00\" text-anchor=\"middle\" x=\"64.7588\" y=\"-261.3\">Activation</text>\n",
       "<polyline fill=\"none\" points=\"102.3071,-243.5 102.3071,-287.5 \" stroke=\"#000000\"/>\n",
       "<text fill=\"#000000\" font-family=\"Times,serif\" font-size=\"14.00\" text-anchor=\"middle\" x=\"130.1416\" y=\"-272.3\">input:</text>\n",
       "<polyline fill=\"none\" points=\"102.3071,-265.5 157.9761,-265.5 \" stroke=\"#000000\"/>\n",
       "<text fill=\"#000000\" font-family=\"Times,serif\" font-size=\"14.00\" text-anchor=\"middle\" x=\"130.1416\" y=\"-250.3\">output:</text>\n",
       "<polyline fill=\"none\" points=\"157.9761,-243.5 157.9761,-287.5 \" stroke=\"#000000\"/>\n",
       "<text fill=\"#000000\" font-family=\"Times,serif\" font-size=\"14.00\" text-anchor=\"middle\" x=\"199.8003\" y=\"-272.3\">(None, 512)</text>\n",
       "<polyline fill=\"none\" points=\"157.9761,-265.5 241.6245,-265.5 \" stroke=\"#000000\"/>\n",
       "<text fill=\"#000000\" font-family=\"Times,serif\" font-size=\"14.00\" text-anchor=\"middle\" x=\"199.8003\" y=\"-250.3\">(None, 512)</text>\n",
       "</g>\n",
       "<!-- 115936220888&#45;&gt;115936219656 -->\n",
       "<g class=\"edge\" id=\"edge11\">\n",
       "<title>115936220888-&gt;115936219656</title>\n",
       "<path d=\"M134.4175,-324.3664C134.4175,-316.1516 134.4175,-306.6579 134.4175,-297.7252\" fill=\"none\" stroke=\"#000000\"/>\n",
       "<polygon fill=\"#000000\" points=\"137.9176,-297.6068 134.4175,-287.6068 130.9176,-297.6069 137.9176,-297.6068\" stroke=\"#000000\"/>\n",
       "</g>\n",
       "<!-- 115935998024 -->\n",
       "<g class=\"node\" id=\"node12\">\n",
       "<title>115935998024</title>\n",
       "<polygon fill=\"none\" points=\"33.4277,-162.5 33.4277,-206.5 235.4072,-206.5 235.4072,-162.5 33.4277,-162.5\" stroke=\"#000000\"/>\n",
       "<text fill=\"#000000\" font-family=\"Times,serif\" font-size=\"14.00\" text-anchor=\"middle\" x=\"64.7588\" y=\"-180.3\">Dropout</text>\n",
       "<polyline fill=\"none\" points=\"96.0898,-162.5 96.0898,-206.5 \" stroke=\"#000000\"/>\n",
       "<text fill=\"#000000\" font-family=\"Times,serif\" font-size=\"14.00\" text-anchor=\"middle\" x=\"123.9243\" y=\"-191.3\">input:</text>\n",
       "<polyline fill=\"none\" points=\"96.0898,-184.5 151.7588,-184.5 \" stroke=\"#000000\"/>\n",
       "<text fill=\"#000000\" font-family=\"Times,serif\" font-size=\"14.00\" text-anchor=\"middle\" x=\"123.9243\" y=\"-169.3\">output:</text>\n",
       "<polyline fill=\"none\" points=\"151.7588,-162.5 151.7588,-206.5 \" stroke=\"#000000\"/>\n",
       "<text fill=\"#000000\" font-family=\"Times,serif\" font-size=\"14.00\" text-anchor=\"middle\" x=\"193.583\" y=\"-191.3\">(None, 512)</text>\n",
       "<polyline fill=\"none\" points=\"151.7588,-184.5 235.4072,-184.5 \" stroke=\"#000000\"/>\n",
       "<text fill=\"#000000\" font-family=\"Times,serif\" font-size=\"14.00\" text-anchor=\"middle\" x=\"193.583\" y=\"-169.3\">(None, 512)</text>\n",
       "</g>\n",
       "<!-- 115936219656&#45;&gt;115935998024 -->\n",
       "<g class=\"edge\" id=\"edge12\">\n",
       "<title>115936219656-&gt;115935998024</title>\n",
       "<path d=\"M134.4175,-243.3664C134.4175,-235.1516 134.4175,-225.6579 134.4175,-216.7252\" fill=\"none\" stroke=\"#000000\"/>\n",
       "<polygon fill=\"#000000\" points=\"137.9176,-216.6068 134.4175,-206.6068 130.9176,-216.6069 137.9176,-216.6068\" stroke=\"#000000\"/>\n",
       "</g>\n",
       "<!-- 115936001216 -->\n",
       "<g class=\"node\" id=\"node13\">\n",
       "<title>115936001216</title>\n",
       "<polygon fill=\"none\" points=\"39.2656,-81.5 39.2656,-125.5 229.5693,-125.5 229.5693,-81.5 39.2656,-81.5\" stroke=\"#000000\"/>\n",
       "<text fill=\"#000000\" font-family=\"Times,serif\" font-size=\"14.00\" text-anchor=\"middle\" x=\"64.7588\" y=\"-99.3\">Dense</text>\n",
       "<polyline fill=\"none\" points=\"90.252,-81.5 90.252,-125.5 \" stroke=\"#000000\"/>\n",
       "<text fill=\"#000000\" font-family=\"Times,serif\" font-size=\"14.00\" text-anchor=\"middle\" x=\"118.0864\" y=\"-110.3\">input:</text>\n",
       "<polyline fill=\"none\" points=\"90.252,-103.5 145.9209,-103.5 \" stroke=\"#000000\"/>\n",
       "<text fill=\"#000000\" font-family=\"Times,serif\" font-size=\"14.00\" text-anchor=\"middle\" x=\"118.0864\" y=\"-88.3\">output:</text>\n",
       "<polyline fill=\"none\" points=\"145.9209,-81.5 145.9209,-125.5 \" stroke=\"#000000\"/>\n",
       "<text fill=\"#000000\" font-family=\"Times,serif\" font-size=\"14.00\" text-anchor=\"middle\" x=\"187.7451\" y=\"-110.3\">(None, 512)</text>\n",
       "<polyline fill=\"none\" points=\"145.9209,-103.5 229.5693,-103.5 \" stroke=\"#000000\"/>\n",
       "<text fill=\"#000000\" font-family=\"Times,serif\" font-size=\"14.00\" text-anchor=\"middle\" x=\"187.7451\" y=\"-88.3\">(None, 2)</text>\n",
       "</g>\n",
       "<!-- 115935998024&#45;&gt;115936001216 -->\n",
       "<g class=\"edge\" id=\"edge13\">\n",
       "<title>115935998024-&gt;115936001216</title>\n",
       "<path d=\"M134.4175,-162.3664C134.4175,-154.1516 134.4175,-144.6579 134.4175,-135.7252\" fill=\"none\" stroke=\"#000000\"/>\n",
       "<polygon fill=\"#000000\" points=\"137.9176,-135.6068 134.4175,-125.6068 130.9176,-135.6069 137.9176,-135.6068\" stroke=\"#000000\"/>\n",
       "</g>\n",
       "<!-- 115935908024 -->\n",
       "<g class=\"node\" id=\"node14\">\n",
       "<title>115935908024</title>\n",
       "<polygon fill=\"none\" points=\"34.2104,-.5 34.2104,-44.5 234.6245,-44.5 234.6245,-.5 34.2104,-.5\" stroke=\"#000000\"/>\n",
       "<text fill=\"#000000\" font-family=\"Times,serif\" font-size=\"14.00\" text-anchor=\"middle\" x=\"71.7588\" y=\"-18.3\">Activation</text>\n",
       "<polyline fill=\"none\" points=\"109.3071,-.5 109.3071,-44.5 \" stroke=\"#000000\"/>\n",
       "<text fill=\"#000000\" font-family=\"Times,serif\" font-size=\"14.00\" text-anchor=\"middle\" x=\"137.1416\" y=\"-29.3\">input:</text>\n",
       "<polyline fill=\"none\" points=\"109.3071,-22.5 164.9761,-22.5 \" stroke=\"#000000\"/>\n",
       "<text fill=\"#000000\" font-family=\"Times,serif\" font-size=\"14.00\" text-anchor=\"middle\" x=\"137.1416\" y=\"-7.3\">output:</text>\n",
       "<polyline fill=\"none\" points=\"164.9761,-.5 164.9761,-44.5 \" stroke=\"#000000\"/>\n",
       "<text fill=\"#000000\" font-family=\"Times,serif\" font-size=\"14.00\" text-anchor=\"middle\" x=\"199.8003\" y=\"-29.3\">(None, 2)</text>\n",
       "<polyline fill=\"none\" points=\"164.9761,-22.5 234.6245,-22.5 \" stroke=\"#000000\"/>\n",
       "<text fill=\"#000000\" font-family=\"Times,serif\" font-size=\"14.00\" text-anchor=\"middle\" x=\"199.8003\" y=\"-7.3\">(None, 2)</text>\n",
       "</g>\n",
       "<!-- 115936001216&#45;&gt;115935908024 -->\n",
       "<g class=\"edge\" id=\"edge14\">\n",
       "<title>115936001216-&gt;115935908024</title>\n",
       "<path d=\"M134.4175,-81.3664C134.4175,-73.1516 134.4175,-63.6579 134.4175,-54.7252\" fill=\"none\" stroke=\"#000000\"/>\n",
       "<polygon fill=\"#000000\" points=\"137.9176,-54.6068 134.4175,-44.6068 130.9176,-54.6069 137.9176,-54.6068\" stroke=\"#000000\"/>\n",
       "</g>\n",
       "<!-- 112584733640 -->\n",
       "<g class=\"node\" id=\"node15\">\n",
       "<title>112584733640</title>\n",
       "<polygon fill=\"none\" points=\"84.6738,-1134.5 84.6738,-1170.5 184.1611,-1170.5 184.1611,-1134.5 84.6738,-1134.5\" stroke=\"#000000\"/>\n",
       "<text fill=\"#000000\" font-family=\"Times,serif\" font-size=\"14.00\" text-anchor=\"middle\" x=\"134.4175\" y=\"-1148.3\">112584733640</text>\n",
       "</g>\n",
       "<!-- 112584733640&#45;&gt;112584734368 -->\n",
       "<g class=\"edge\" id=\"edge1\">\n",
       "<title>112584733640-&gt;112584734368</title>\n",
       "<path d=\"M134.4175,-1134.2521C134.4175,-1126.3888 134.4175,-1116.9498 134.4175,-1107.9612\" fill=\"none\" stroke=\"#000000\"/>\n",
       "<polygon fill=\"#000000\" points=\"137.9176,-1107.7376 134.4175,-1097.7377 130.9176,-1107.7377 137.9176,-1107.7376\" stroke=\"#000000\"/>\n",
       "</g>\n",
       "</g>\n",
       "</svg>"
      ],
      "text/plain": [
       "<IPython.core.display.SVG object>"
      ]
     },
     "execution_count": 147,
     "metadata": {},
     "output_type": "execute_result"
    }
   ],
   "source": [
    "from IPython.display import SVG\n",
    "from keras.utils.vis_utils import model_to_dot\n",
    "\n",
    "SVG(model_to_dot(w2v_dnn, show_shapes=True, show_layer_names=False, \n",
    "                 rankdir='TB').create(prog='dot', format='svg'))"
   ]
  },
  {
   "cell_type": "code",
   "execution_count": null,
   "metadata": {},
   "outputs": [],
   "source": []
  },
  {
   "cell_type": "code",
   "execution_count": 148,
   "metadata": {},
   "outputs": [],
   "source": [
    "import keras\n",
    "from sklearn.preprocessing import LabelEncoder\n",
    "le = LabelEncoder()\n",
    "num_classes=2 \n",
    "# tokenize train reviews & encode train labels\n",
    "\n",
    "y_tr = le.fit_transform(train_sentiments)\n",
    "y_train = keras.utils.to_categorical(y_tr, num_classes)\n",
    "\n",
    "# tokenize test reviews & encode test labels\n",
    "\n",
    "y_ts = le.fit_transform(test_sentiments)\n",
    "y_test = keras.utils.to_categorical(y_ts, num_classes)"
   ]
  },
  {
   "cell_type": "code",
   "execution_count": 157,
   "metadata": {},
   "outputs": [
    {
     "name": "stdout",
     "output_type": "stream",
     "text": [
      "Train on 7200 samples, validate on 800 samples\n",
      "Epoch 1/10\n",
      "7200/7200 [==============================] - 1s 94us/step - loss: 0.3287 - acc: 0.8528 - val_loss: 0.4626 - val_acc: 0.7925\n",
      "Epoch 2/10\n",
      "7200/7200 [==============================] - 1s 95us/step - loss: 0.3272 - acc: 0.8518 - val_loss: 0.3834 - val_acc: 0.8450\n",
      "Epoch 3/10\n",
      "7200/7200 [==============================] - 1s 92us/step - loss: 0.3241 - acc: 0.8543 - val_loss: 0.4115 - val_acc: 0.8375\n",
      "Epoch 4/10\n",
      "7200/7200 [==============================] - 1s 92us/step - loss: 0.3254 - acc: 0.8574 - val_loss: 0.4395 - val_acc: 0.7862\n",
      "Epoch 5/10\n",
      "7200/7200 [==============================] - 1s 92us/step - loss: 0.3262 - acc: 0.8554 - val_loss: 0.3888 - val_acc: 0.8225\n",
      "Epoch 6/10\n",
      "7200/7200 [==============================] - 1s 93us/step - loss: 0.3249 - acc: 0.8583 - val_loss: 0.3836 - val_acc: 0.8438\n",
      "Epoch 7/10\n",
      "7200/7200 [==============================] - 1s 91us/step - loss: 0.3236 - acc: 0.8550 - val_loss: 0.5749 - val_acc: 0.7125\n",
      "Epoch 8/10\n",
      "7200/7200 [==============================] - 1s 93us/step - loss: 0.3247 - acc: 0.8549 - val_loss: 0.4207 - val_acc: 0.8188\n",
      "Epoch 9/10\n",
      "7200/7200 [==============================] - 1s 92us/step - loss: 0.3221 - acc: 0.8538 - val_loss: 0.4129 - val_acc: 0.8087\n",
      "Epoch 10/10\n",
      "7200/7200 [==============================] - 1s 92us/step - loss: 0.3228 - acc: 0.8540 - val_loss: 0.4022 - val_acc: 0.8387\n"
     ]
    },
    {
     "data": {
      "text/plain": [
       "<keras.callbacks.History at 0x1a414024e0>"
      ]
     },
     "execution_count": 157,
     "metadata": {},
     "output_type": "execute_result"
    }
   ],
   "source": [
    "batch_size = 100\n",
    "w2v_dnn.fit(avg_wv_train_features, y_train, epochs=10, batch_size=batch_size, \n",
    "            shuffle=True, validation_split=0.1, verbose=1)"
   ]
  },
  {
   "cell_type": "code",
   "execution_count": 158,
   "metadata": {},
   "outputs": [
    {
     "name": "stderr",
     "output_type": "stream",
     "text": [
      "/Users/amy/anaconda3/lib/python3.7/site-packages/sklearn/preprocessing/label.py:151: DeprecationWarning: The truth value of an empty array is ambiguous. Returning False, but in future this will result in an error. Use `array.size > 0` to check that an array is not empty.\n",
      "  if diff:\n"
     ]
    }
   ],
   "source": [
    "y_pred = w2v_dnn.predict_classes(avg_wv_test_features)\n",
    "predictions = le.inverse_transform(y_pred)"
   ]
  },
  {
   "cell_type": "code",
   "execution_count": 159,
   "metadata": {},
   "outputs": [
    {
     "name": "stdout",
     "output_type": "stream",
     "text": [
      "             precision    recall  f1-score   support\n",
      "\n",
      "        bad       0.50      0.41      0.45       739\n",
      "       good       0.80      0.86      0.83      2096\n",
      "\n",
      "avg / total       0.73      0.74      0.73      2835\n",
      "\n"
     ]
    }
   ],
   "source": [
    "print (classification_report(test_sentiments, predictions))"
   ]
  },
  {
   "cell_type": "code",
   "execution_count": 160,
   "metadata": {},
   "outputs": [
    {
     "name": "stdout",
     "output_type": "stream",
     "text": [
      "Train on 7200 samples, validate on 800 samples\n",
      "Epoch 1/10\n",
      "7200/7200 [==============================] - 1s 95us/step - loss: 0.3216 - acc: 0.8549 - val_loss: 0.4214 - val_acc: 0.8025\n",
      "Epoch 2/10\n",
      "7200/7200 [==============================] - 1s 94us/step - loss: 0.3167 - acc: 0.8611 - val_loss: 0.3606 - val_acc: 0.8425\n",
      "Epoch 3/10\n",
      "7200/7200 [==============================] - 1s 93us/step - loss: 0.3151 - acc: 0.8571 - val_loss: 0.6438 - val_acc: 0.6475\n",
      "Epoch 4/10\n",
      "7200/7200 [==============================] - 1s 92us/step - loss: 0.3169 - acc: 0.8586 - val_loss: 0.4468 - val_acc: 0.7788\n",
      "Epoch 5/10\n",
      "7200/7200 [==============================] - 1s 91us/step - loss: 0.3183 - acc: 0.8563 - val_loss: 0.3925 - val_acc: 0.8475\n",
      "Epoch 6/10\n",
      "7200/7200 [==============================] - 1s 91us/step - loss: 0.3140 - acc: 0.8603 - val_loss: 0.9266 - val_acc: 0.5850\n",
      "Epoch 7/10\n",
      "7200/7200 [==============================] - 1s 91us/step - loss: 0.3187 - acc: 0.8565 - val_loss: 0.6819 - val_acc: 0.6300\n",
      "Epoch 8/10\n",
      "7200/7200 [==============================] - 1s 92us/step - loss: 0.3162 - acc: 0.8551 - val_loss: 0.3593 - val_acc: 0.8650\n",
      "Epoch 9/10\n",
      "7200/7200 [==============================] - 1s 94us/step - loss: 0.3161 - acc: 0.8540 - val_loss: 0.8154 - val_acc: 0.6650\n",
      "Epoch 10/10\n",
      "7200/7200 [==============================] - 1s 93us/step - loss: 0.3155 - acc: 0.8597 - val_loss: 0.4020 - val_acc: 0.8313\n"
     ]
    }
   ],
   "source": [
    "history = w2v_dnn.fit(avg_wv_train_features, y_train, epochs=10, batch_size=batch_size, \n",
    "            shuffle=True, validation_split=0.1, verbose=1)"
   ]
  },
  {
   "cell_type": "code",
   "execution_count": 161,
   "metadata": {},
   "outputs": [
    {
     "data": {
      "image/png": "[encoded data removed]",
      "text/plain": [
       "<Figure size 432x288 with 1 Axes>"
      ]
     },
     "metadata": {
      "needs_background": "light"
     },
     "output_type": "display_data"
    },
    {
     "data": {
      "image/png": "[encoded data removed]",
      "text/plain": [
       "<Figure size 432x288 with 1 Axes>"
      ]
     },
     "metadata": {
      "needs_background": "light"
     },
     "output_type": "display_data"
    }
   ],
   "source": [
    "import matplotlib.pyplot as plt\n",
    "\n",
    "acc = history.history['acc']\n",
    "val_acc = history.history['val_acc']\n",
    "loss = history.history['loss']\n",
    "val_loss = history.history['val_loss']\n",
    "\n",
    "epochs = range(1, len(acc) + 1)\n",
    "\n",
    "plt.plot(epochs, acc, 'bo', label='Training acc')\n",
    "plt.plot(epochs, val_acc, 'b', label='Validation acc')\n",
    "plt.title('Training and validation accuracy')\n",
    "plt.legend()\n",
    "\n",
    "plt.figure()\n",
    "\n",
    "plt.plot(epochs, loss, 'bo', label='Training loss')\n",
    "plt.plot(epochs, val_loss, 'b', label='Validation loss')\n",
    "plt.title('Training and validation loss')\n",
    "plt.legend()\n",
    "\n",
    "plt.show()"
   ]
  },
  {
   "cell_type": "markdown",
   "metadata": {},
   "source": []
  },
  {
   "cell_type": "code",
   "execution_count": null,
   "metadata": {},
   "outputs": [],
   "source": []
  },
  {
   "cell_type": "code",
   "execution_count": null,
   "metadata": {},
   "outputs": [],
   "source": []
  },
  {
   "cell_type": "code",
   "execution_count": null,
   "metadata": {},
   "outputs": [],
   "source": []
  }
 ],
 "metadata": {
  "kernelspec": {
   "display_name": "Python 3",
   "language": "python",
   "name": "python3"
  },
  "language_info": {
   "codemirror_mode": {
    "name": "ipython",
    "version": 3
   },
   "file_extension": ".py",
   "mimetype": "text/x-python",
   "name": "python",
   "nbconvert_exporter": "python",
   "pygments_lexer": "ipython3",
   "version": "3.7.3"
  }
 },
 "nbformat": 4,
 "nbformat_minor": 2
}
