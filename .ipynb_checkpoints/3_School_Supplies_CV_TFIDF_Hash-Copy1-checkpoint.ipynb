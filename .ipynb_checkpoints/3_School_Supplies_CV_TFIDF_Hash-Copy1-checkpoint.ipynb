{
 "cells": [
  {
   "cell_type": "markdown",
   "metadata": {},
   "source": [
    "# Machine Learning with CV_TFIDF_Hash"
   ]
  },
  {
   "cell_type": "markdown",
   "metadata": {},
   "source": [
    "## Import necessary libraries"
   ]
  },
  {
   "cell_type": "code",
   "execution_count": 262,
   "metadata": {},
   "outputs": [],
   "source": [
    "# Dataframe\n",
    "import pandas as pd\n",
    "\n",
    "# Array\n",
    "import numpy as np\n",
    "import itertools\n",
    "\n",
    "# Decompress the file\n",
    "import gzip\n",
    "\n",
    "# Visualizations\n",
    "import matplotlib.pyplot as plt\n",
    "from matplotlib.colors import ListedColormap\n",
    "import seaborn as sns\n",
    "import matplotlib.colors as colors\n",
    "%matplotlib inline\n",
    "from wordcloud import WordCloud, STOPWORDS\n",
    "\n",
    "# Datetime\n",
    "from datetime import datetime\n",
    "\n",
    "# text preprocessing\n",
    "#import spacy\n",
    "import nltk\n",
    "from nltk.corpus import stopwords\n",
    "from nltk.stem import PorterStemmer, WordNetLemmatizer\n",
    "from nltk.tokenize import word_tokenize, sent_tokenize, regexp_tokenize\n",
    "from nltk.tokenize import RegexpTokenizer\n",
    "from nltk.tokenize.toktok import ToktokTokenizer\n",
    "#import gensim\n",
    "import re\n",
    "\n",
    "\n",
    "import unicodedata\n",
    "tokenizer = ToktokTokenizer()\n",
    "#nlp = spacy.load('en', parse=True, tag=True, entity=True)\n",
    "\n",
    "## Modeling\n",
    "from sklearn.model_selection import cross_validate\n",
    "from sklearn.model_selection import train_test_split\n",
    "from sklearn.model_selection import StratifiedKFold\n",
    "from sklearn.model_selection import GridSearchCV\n",
    "from sklearn.model_selection import cross_val_predict\n",
    "from sklearn.model_selection import cross_val_score\n",
    "from sklearn.linear_model import LogisticRegression\n",
    "from sklearn.model_selection import learning_curve\n",
    "from sklearn.ensemble import ExtraTreesClassifier\n",
    "from sklearn.decomposition import TruncatedSVD\n",
    "from sklearn.feature_extraction.text import CountVectorizer, TfidfVectorizer, HashingVectorizer\n",
    "from sklearn.pipeline import Pipeline\n",
    "from sklearn.naive_bayes import MultinomialNB\n",
    "from sklearn.tree import DecisionTreeClassifier\n",
    "from catboost import CatBoostClassifier, Pool\n",
    "from sklearn.naive_bayes import GaussianNB \n",
    "from sklearn.svm import SVC\n",
    "from sklearn import metrics\n",
    "from sklearn.metrics import classification_report\n",
    "from sklearn.metrics import confusion_matrix\n",
    "from sklearn.metrics import accuracy_score\n",
    "from  sklearn.metrics import precision_recall_fscore_support\n",
    "from sklearn.ensemble import RandomForestClassifier\n",
    "from sklearn.tree import DecisionTreeClassifier\n",
    "from sklearn.metrics import f1_score\n",
    "from sklearn.metrics import recall_score\n",
    "from gensim.models import Word2Vec\n",
    "from tqdm import tqdm\n",
    "import xgboost as xgb\n",
    "from xgboost import XGBClassifier\n",
    "from sklearn.dummy import DummyClassifier\n",
    "\n",
    "## Warnings\n",
    "import warnings\n",
    "from scipy import stats\n",
    "warnings.filterwarnings('ignore')"
   ]
  },
  {
   "cell_type": "markdown",
   "metadata": {},
   "source": [
    "## Reading the Normalized Dataset"
   ]
  },
  {
   "cell_type": "code",
   "execution_count": 263,
   "metadata": {},
   "outputs": [],
   "source": [
    "# Read the file\n",
    "df = pd.read_csv('cleaned_text_school_supplies.csv')"
   ]
  },
  {
   "cell_type": "code",
   "execution_count": 264,
   "metadata": {},
   "outputs": [
    {
     "data": {
      "text/html": [
       "<div>\n",
       "<style scoped>\n",
       "    .dataframe tbody tr th:only-of-type {\n",
       "        vertical-align: middle;\n",
       "    }\n",
       "\n",
       "    .dataframe tbody tr th {\n",
       "        vertical-align: top;\n",
       "    }\n",
       "\n",
       "    .dataframe thead th {\n",
       "        text-align: right;\n",
       "    }\n",
       "</style>\n",
       "<table border=\"1\" class=\"dataframe\">\n",
       "  <thead>\n",
       "    <tr style=\"text-align: right;\">\n",
       "      <th></th>\n",
       "      <th>customer_ID</th>\n",
       "      <th>product_ID</th>\n",
       "      <th>rating</th>\n",
       "      <th>review_text</th>\n",
       "      <th>rating_class</th>\n",
       "      <th>date_time</th>\n",
       "      <th>normalized_text</th>\n",
       "      <th>tokens</th>\n",
       "    </tr>\n",
       "  </thead>\n",
       "  <tbody>\n",
       "    <tr>\n",
       "      <th>4585</th>\n",
       "      <td>B001L4Q9C2</td>\n",
       "      <td>AAF71Q4WMPT1A</td>\n",
       "      <td>5.0</td>\n",
       "      <td>great coin holders i much prefer the self-adhe...</td>\n",
       "      <td>1</td>\n",
       "      <td>2014-01-06</td>\n",
       "      <td>great coin holder much prefer self adhesive re...</td>\n",
       "      <td>['great', 'coin', 'holder', 'much', 'prefer', ...</td>\n",
       "    </tr>\n",
       "    <tr>\n",
       "      <th>2967</th>\n",
       "      <td>B000XP23O8</td>\n",
       "      <td>A1YJ52G01YZNCA</td>\n",
       "      <td>4.0</td>\n",
       "      <td>The product arrived in perfect conditon.  I di...</td>\n",
       "      <td>1</td>\n",
       "      <td>2013-04-06</td>\n",
       "      <td>product arrive perfect conditon not give star ...</td>\n",
       "      <td>['product', 'arrive', 'perfect', 'conditon', '...</td>\n",
       "    </tr>\n",
       "    <tr>\n",
       "      <th>1288</th>\n",
       "      <td>B000ELEAM4</td>\n",
       "      <td>A3SKTYCER5E7P7</td>\n",
       "      <td>5.0</td>\n",
       "      <td>I bought this cart as a replacement for an old...</td>\n",
       "      <td>1</td>\n",
       "      <td>2008-02-23</td>\n",
       "      <td>buy cart replacement old version cart use old ...</td>\n",
       "      <td>['buy', 'cart', 'replacement', 'old', 'version...</td>\n",
       "    </tr>\n",
       "  </tbody>\n",
       "</table>\n",
       "</div>"
      ],
      "text/plain": [
       "     customer_ID      product_ID  rating  \\\n",
       "4585  B001L4Q9C2   AAF71Q4WMPT1A     5.0   \n",
       "2967  B000XP23O8  A1YJ52G01YZNCA     4.0   \n",
       "1288  B000ELEAM4  A3SKTYCER5E7P7     5.0   \n",
       "\n",
       "                                            review_text  rating_class  \\\n",
       "4585  great coin holders i much prefer the self-adhe...             1   \n",
       "2967  The product arrived in perfect conditon.  I di...             1   \n",
       "1288  I bought this cart as a replacement for an old...             1   \n",
       "\n",
       "       date_time                                    normalized_text  \\\n",
       "4585  2014-01-06  great coin holder much prefer self adhesive re...   \n",
       "2967  2013-04-06  product arrive perfect conditon not give star ...   \n",
       "1288  2008-02-23  buy cart replacement old version cart use old ...   \n",
       "\n",
       "                                                 tokens  \n",
       "4585  ['great', 'coin', 'holder', 'much', 'prefer', ...  \n",
       "2967  ['product', 'arrive', 'perfect', 'conditon', '...  \n",
       "1288  ['buy', 'cart', 'replacement', 'old', 'version...  "
      ]
     },
     "execution_count": 264,
     "metadata": {},
     "output_type": "execute_result"
    }
   ],
   "source": [
    "# Converting categorical to numerical \n",
    "df['rating_class'] = df['rating_class'].replace({'good': 1,'neutral': 0,'bad':0 })\n",
    "\n",
    "# Sample observations\n",
    "df.sample(3)"
   ]
  },
  {
   "cell_type": "markdown",
   "metadata": {},
   "source": [
    "Before we start to work on the data, we have to check whether there is still a missing value.. Although we removed them during preprocessing phase"
   ]
  },
  {
   "cell_type": "code",
   "execution_count": 269,
   "metadata": {},
   "outputs": [
    {
     "data": {
      "text/plain": [
       "customer_ID        0\n",
       "product_ID         0\n",
       "rating             0\n",
       "review_text        0\n",
       "rating_class       0\n",
       "date_time          0\n",
       "normalized_text    1\n",
       "tokens             0\n",
       "dtype: int64"
      ]
     },
     "execution_count": 269,
     "metadata": {},
     "output_type": "execute_result"
    }
   ],
   "source": [
    "df.isnull().sum() "
   ]
  },
  {
   "cell_type": "code",
   "execution_count": 271,
   "metadata": {},
   "outputs": [],
   "source": [
    "df = df.dropna(axis =0)"
   ]
  },
  {
   "cell_type": "markdown",
   "metadata": {},
   "source": [
    "# Natural Language Processing"
   ]
  },
  {
   "cell_type": "markdown",
   "metadata": {},
   "source": [
    "## 1. Feature Engineering and Selection"
   ]
  },
  {
   "cell_type": "markdown",
   "metadata": {},
   "source": [
    "Machine Learning models take numerical values as input. Our dataset is a list of sentences, so in order for our algorithm to extract patterns from the data, we first need to find a way to represent it in a way that our algorithm can understand, i.e. as a list of numbers. \n",
    "\n",
    "We will implement CounterVectorizer, TF-IDF, Hash Vectorizer, Word2Vec, adding most common words into the stopwords list, SMOTE, PCA, and Truncated SVD techniques into our models in the following sections as a part of feature engineering and selection."
   ]
  },
  {
   "cell_type": "markdown",
   "metadata": {},
   "source": [
    "## 2. Data Preprocessing"
   ]
  },
  {
   "cell_type": "code",
   "execution_count": 274,
   "metadata": {},
   "outputs": [],
   "source": [
    "# Splitting the Data Set into Train and Test Sets\n",
    "X = df['normalized_text']\n",
    "y = df['rating_class']"
   ]
  },
  {
   "cell_type": "markdown",
   "metadata": {},
   "source": [
    "**Splitting Dataset into Train and Test Set**"
   ]
  },
  {
   "cell_type": "markdown",
   "metadata": {},
   "source": [
    "We split our data in to a training set used to fit our model and a test set to see how well it generalizes to unseen data.  "
   ]
  },
  {
   "cell_type": "markdown",
   "metadata": {},
   "source": [
    "As we can see it, still there is still one missing row. Before we work on the data, we have to remove it."
   ]
  },
  {
   "cell_type": "code",
   "execution_count": 275,
   "metadata": {},
   "outputs": [],
   "source": [
    "# Splitting Dataset into train and test set \n",
    "X_train, X_test, y_train, y_test = train_test_split(X, y, test_size=0.25, random_state=42)"
   ]
  },
  {
   "cell_type": "code",
   "execution_count": 276,
   "metadata": {},
   "outputs": [
    {
     "name": "stdout",
     "output_type": "stream",
     "text": [
      "Train Set Shape\t\t:(8126,)\n",
      "Test Set Shape\t\t:(2709,)\n"
     ]
    }
   ],
   "source": [
    "# Print train and test set shape\n",
    "print ('Train Set Shape\\t\\t:{}\\nTest Set Shape\\t\\t:{}'.format(X_train.shape, X_test.shape))"
   ]
  },
  {
   "cell_type": "markdown",
   "metadata": {},
   "source": [
    "## 3. Selecting the Right Evaluation Metric"
   ]
  },
  {
   "cell_type": "markdown",
   "metadata": {},
   "source": [
    "Since the data is imbalanced, the evaluation of the classifier performance must be carried out using adequate metrics in order to take into account the class distribution and to pay more attention to the minority class. When the positive class is smaller and the ability to detect correctly positive samples is our main focus (correct detection of negatives examples is less important to the problem) we should use precision and recall. For our particular case, based on this thought I will use f1 score which is harmonic average of precision and recall as my evaluation metric."
   ]
  },
  {
   "cell_type": "markdown",
   "metadata": {},
   "source": [
    "**Confusion Matrix Plot Function**"
   ]
  },
  {
   "cell_type": "markdown",
   "metadata": {},
   "source": [
    "Understanding the types of errors our model makes, and least desirable are important . A good way to visualize that information is using a Confusion Matrix, which compares the predictions our model makes with the true label. With that in mind, we used confusion matrix besides our evaluation metric (f1 score)."
   ]
  },
  {
   "cell_type": "code",
   "execution_count": 184,
   "metadata": {},
   "outputs": [],
   "source": [
    "def plot_confusion_matrix(cm, classes, normalize=False, title = 'Confusion matrix',cmap = plt.cm.summer):\n",
    "    \"\"\"\n",
    "    Create a confusion matrix plot for 'good' and 'bad' rating values \n",
    "    \"\"\"\n",
    "    if normalize:\n",
    "        cm = cm.astype('float') / cm.sum(axis = 1)[:, np.newaxis]\n",
    "    plt.imshow(cm, interpolation = 'nearest', cmap = cmap)\n",
    "    plt.title(title, fontsize = 20)\n",
    "    plt.colorbar()\n",
    "    tick_marks = np.arange(len(classes))\n",
    "    plt.xticks(tick_marks, classes, fontsize = 20)\n",
    "    plt.yticks(tick_marks, classes, fontsize = 20)\n",
    "    \n",
    "    fmt = '.2f' if normalize else 'd'\n",
    "    thresh = cm.max() / 2.\n",
    "\n",
    "    for i, j in itertools.product(range(cm.shape[0]), range(cm.shape[1])):\n",
    "        plt.text(j, i, format(cm[i, j], fmt), horizontalalignment = \"center\", \n",
    "                 color = \"white\" if cm[i, j] < thresh else \"black\", fontsize = 40)\n",
    "    \n",
    "    plt.tight_layout()\n",
    "    plt.ylabel('True Label', fontsize = 30)\n",
    "    plt.xlabel('Predicted Label', fontsize = 30)\n",
    "\n",
    "    return plt"
   ]
  },
  {
   "cell_type": "code",
   "execution_count": 185,
   "metadata": {},
   "outputs": [],
   "source": [
    "def disp_confusion_matrix(y_pred, model_name, vector = 'CounterVectorizing'):\n",
    "    \"\"\"\n",
    "    Display confusion matrix for selected model with countVectorizer\n",
    "    \"\"\"\n",
    "    cm = confusion_matrix(y_test, y_pred)\n",
    "    fig = plt.figure(figsize=(8, 8))\n",
    "    plot = plot_confusion_matrix(cm, classes=['Bad','Good'], normalize=False, \n",
    "                                 title = model_name + \" \" + 'with' + \" \" + vector + \" \"+ '\\nConfusion Matrix')\n",
    "    plt.show()"
   ]
  },
  {
   "cell_type": "markdown",
   "metadata": {},
   "source": [
    "## 4. Modelling "
   ]
  },
  {
   "cell_type": "markdown",
   "metadata": {},
   "source": [
    "This is a supervised binary classification problem. We are trying to predict the sentiment based on the reviews left by customers on Amazon e-commerce online platform. We used Python’s Scikit Learn libraries to solve the problem. In this context, we implemented Logistic Regression, Random Forest, Naive Bayes, XGBOOST, and Catboost algorithms. Besides that, we implemented deep learning technique with Keras.\n",
    "\n",
    "Since the ratings of the reviews were not distributed normally, we decided to decrease rating classes from 5 to 2 by merging Rating 1-2-3 as ‘Bad’ and Rating 4-5 as 'Good. We included 3 into bad-rating part in order to balance the data.\n",
    "\n",
    "For feature selection, we applied threshold for word occurence with using min_df/max_df, PCA and Singular Value Decomposition.\n",
    "\n",
    "For feature engineering, we applied CountVectorizer, TF-IDF, Hashing Vectorizer and Word2Vec to the text data in order to turn a collection of text documents into numerical feature vectors."
   ]
  },
  {
   "cell_type": "markdown",
   "metadata": {},
   "source": [
    "## 4.1 CountVectorizer Bag of Words"
   ]
  },
  {
   "cell_type": "markdown",
   "metadata": {},
   "source": [
    "We call vectorization the general process of turning a collection of text documents into numerical feature vectors. This specific strategy (tokenization, counting and normalization) is called the Bag of Words or “Bag of n-grams” representation. Documents are described by word occurrences while completely ignoring the relative position information of the words in the document."
   ]
  },
  {
   "cell_type": "markdown",
   "metadata": {},
   "source": [
    "**CountVectorizer** implements both tokenization and occurrence counting in a single class."
   ]
  },
  {
   "cell_type": "code",
   "execution_count": 186,
   "metadata": {},
   "outputs": [],
   "source": [
    "# Create the word vector with CountVectorizer\n",
    "count_vect = CountVectorizer(ngram_range=(1,1))\n",
    "\n",
    "count_vect_train = count_vect.fit(X_train.values.astype('U'))\n",
    "\n",
    "count_vect_train = count_vect.transform(X_train.values.astype('U'))\n",
    "\n",
    "count_vect_test = count_vect.transform(X_test)"
   ]
  },
  {
   "cell_type": "code",
   "execution_count": 187,
   "metadata": {},
   "outputs": [
    {
     "data": {
      "text/plain": [
       "<8127x14164 sparse matrix of type '<class 'numpy.int64'>'\n",
       "\twith 216462 stored elements in Compressed Sparse Row format>"
      ]
     },
     "execution_count": 187,
     "metadata": {},
     "output_type": "execute_result"
    }
   ],
   "source": [
    "count_vect_test,\n",
    "count_vect_train"
   ]
  },
  {
   "cell_type": "code",
   "execution_count": 188,
   "metadata": {},
   "outputs": [],
   "source": [
    "count_vect_train = count_vect_train.toarray()\n",
    "count_vect_test = count_vect_test.toarray()"
   ]
  },
  {
   "cell_type": "code",
   "execution_count": 189,
   "metadata": {},
   "outputs": [
    {
     "data": {
      "text/plain": [
       "array([[0, 0, 0, ..., 0, 0, 0],\n",
       "       [0, 0, 0, ..., 0, 0, 0],\n",
       "       [0, 0, 0, ..., 0, 0, 0],\n",
       "       ...,\n",
       "       [0, 0, 0, ..., 0, 0, 0],\n",
       "       [0, 0, 0, ..., 0, 0, 0],\n",
       "       [0, 0, 0, ..., 0, 0, 0]])"
      ]
     },
     "execution_count": 189,
     "metadata": {},
     "output_type": "execute_result"
    }
   ],
   "source": [
    "count_vect_train,\n",
    "count_vect_test"
   ]
  },
  {
   "cell_type": "code",
   "execution_count": 190,
   "metadata": {},
   "outputs": [
    {
     "name": "stdout",
     "output_type": "stream",
     "text": [
      "Vocabulary length : 14164\n"
     ]
    }
   ],
   "source": [
    "# Print vocabulary length\n",
    "print('Vocabulary length :', len(count_vect.get_feature_names()))"
   ]
  },
  {
   "cell_type": "code",
   "execution_count": 191,
   "metadata": {},
   "outputs": [],
   "source": [
    "# Assign feature names of vector into a variable\n",
    "vocab = count_vect.get_feature_names()"
   ]
  },
  {
   "cell_type": "code",
   "execution_count": 192,
   "metadata": {},
   "outputs": [
    {
     "data": {
      "text/html": [
       "<div>\n",
       "<style scoped>\n",
       "    .dataframe tbody tr th:only-of-type {\n",
       "        vertical-align: middle;\n",
       "    }\n",
       "\n",
       "    .dataframe tbody tr th {\n",
       "        vertical-align: top;\n",
       "    }\n",
       "\n",
       "    .dataframe thead th {\n",
       "        text-align: right;\n",
       "    }\n",
       "</style>\n",
       "<table border=\"1\" class=\"dataframe\">\n",
       "  <thead>\n",
       "    <tr style=\"text-align: right;\">\n",
       "      <th></th>\n",
       "      <th>00</th>\n",
       "      <th>005s</th>\n",
       "      <th>05</th>\n",
       "      <th>08</th>\n",
       "      <th>09flavor</th>\n",
       "      <th>0ne</th>\n",
       "      <th>10</th>\n",
       "      <th>100</th>\n",
       "      <th>100ct</th>\n",
       "      <th>100pk</th>\n",
       "      <th>...</th>\n",
       "      <th>zipper</th>\n",
       "      <th>zippered</th>\n",
       "      <th>zipping</th>\n",
       "      <th>ziptie</th>\n",
       "      <th>zire</th>\n",
       "      <th>zo</th>\n",
       "      <th>zojirushi</th>\n",
       "      <th>zombie</th>\n",
       "      <th>zone</th>\n",
       "      <th>zoo</th>\n",
       "    </tr>\n",
       "  </thead>\n",
       "  <tbody>\n",
       "    <tr>\n",
       "      <th>0</th>\n",
       "      <td>0</td>\n",
       "      <td>0</td>\n",
       "      <td>0</td>\n",
       "      <td>0</td>\n",
       "      <td>0</td>\n",
       "      <td>0</td>\n",
       "      <td>0</td>\n",
       "      <td>0</td>\n",
       "      <td>0</td>\n",
       "      <td>0</td>\n",
       "      <td>...</td>\n",
       "      <td>0</td>\n",
       "      <td>0</td>\n",
       "      <td>0</td>\n",
       "      <td>0</td>\n",
       "      <td>0</td>\n",
       "      <td>0</td>\n",
       "      <td>0</td>\n",
       "      <td>0</td>\n",
       "      <td>0</td>\n",
       "      <td>0</td>\n",
       "    </tr>\n",
       "    <tr>\n",
       "      <th>1</th>\n",
       "      <td>0</td>\n",
       "      <td>0</td>\n",
       "      <td>0</td>\n",
       "      <td>0</td>\n",
       "      <td>0</td>\n",
       "      <td>0</td>\n",
       "      <td>0</td>\n",
       "      <td>0</td>\n",
       "      <td>0</td>\n",
       "      <td>0</td>\n",
       "      <td>...</td>\n",
       "      <td>0</td>\n",
       "      <td>0</td>\n",
       "      <td>0</td>\n",
       "      <td>0</td>\n",
       "      <td>0</td>\n",
       "      <td>0</td>\n",
       "      <td>0</td>\n",
       "      <td>0</td>\n",
       "      <td>0</td>\n",
       "      <td>0</td>\n",
       "    </tr>\n",
       "    <tr>\n",
       "      <th>2</th>\n",
       "      <td>0</td>\n",
       "      <td>0</td>\n",
       "      <td>0</td>\n",
       "      <td>0</td>\n",
       "      <td>0</td>\n",
       "      <td>0</td>\n",
       "      <td>0</td>\n",
       "      <td>0</td>\n",
       "      <td>0</td>\n",
       "      <td>0</td>\n",
       "      <td>...</td>\n",
       "      <td>0</td>\n",
       "      <td>0</td>\n",
       "      <td>0</td>\n",
       "      <td>0</td>\n",
       "      <td>0</td>\n",
       "      <td>0</td>\n",
       "      <td>0</td>\n",
       "      <td>0</td>\n",
       "      <td>0</td>\n",
       "      <td>0</td>\n",
       "    </tr>\n",
       "    <tr>\n",
       "      <th>3</th>\n",
       "      <td>0</td>\n",
       "      <td>0</td>\n",
       "      <td>0</td>\n",
       "      <td>0</td>\n",
       "      <td>0</td>\n",
       "      <td>0</td>\n",
       "      <td>0</td>\n",
       "      <td>0</td>\n",
       "      <td>0</td>\n",
       "      <td>0</td>\n",
       "      <td>...</td>\n",
       "      <td>0</td>\n",
       "      <td>0</td>\n",
       "      <td>0</td>\n",
       "      <td>0</td>\n",
       "      <td>0</td>\n",
       "      <td>0</td>\n",
       "      <td>0</td>\n",
       "      <td>0</td>\n",
       "      <td>0</td>\n",
       "      <td>0</td>\n",
       "    </tr>\n",
       "    <tr>\n",
       "      <th>4</th>\n",
       "      <td>0</td>\n",
       "      <td>0</td>\n",
       "      <td>0</td>\n",
       "      <td>0</td>\n",
       "      <td>0</td>\n",
       "      <td>0</td>\n",
       "      <td>0</td>\n",
       "      <td>0</td>\n",
       "      <td>0</td>\n",
       "      <td>0</td>\n",
       "      <td>...</td>\n",
       "      <td>0</td>\n",
       "      <td>0</td>\n",
       "      <td>0</td>\n",
       "      <td>0</td>\n",
       "      <td>0</td>\n",
       "      <td>0</td>\n",
       "      <td>0</td>\n",
       "      <td>0</td>\n",
       "      <td>0</td>\n",
       "      <td>0</td>\n",
       "    </tr>\n",
       "  </tbody>\n",
       "</table>\n",
       "<p>5 rows × 14164 columns</p>\n",
       "</div>"
      ],
      "text/plain": [
       "   00  005s  05  08  09flavor  0ne  10  100  100ct  100pk  ...  zipper  \\\n",
       "0   0     0   0   0         0    0   0    0      0      0  ...       0   \n",
       "1   0     0   0   0         0    0   0    0      0      0  ...       0   \n",
       "2   0     0   0   0         0    0   0    0      0      0  ...       0   \n",
       "3   0     0   0   0         0    0   0    0      0      0  ...       0   \n",
       "4   0     0   0   0         0    0   0    0      0      0  ...       0   \n",
       "\n",
       "   zippered  zipping  ziptie  zire  zo  zojirushi  zombie  zone  zoo  \n",
       "0         0        0       0     0   0          0       0     0    0  \n",
       "1         0        0       0     0   0          0       0     0    0  \n",
       "2         0        0       0     0   0          0       0     0    0  \n",
       "3         0        0       0     0   0          0       0     0    0  \n",
       "4         0        0       0     0   0          0       0     0    0  \n",
       "\n",
       "[5 rows x 14164 columns]"
      ]
     },
     "execution_count": 192,
     "metadata": {},
     "output_type": "execute_result"
    }
   ],
   "source": [
    "# Dataframe for train countvectorizer dataset\n",
    "pd.DataFrame(count_vect_train, columns = vocab).head()"
   ]
  },
  {
   "cell_type": "markdown",
   "metadata": {},
   "source": [
    "### Dummy Classifier"
   ]
  },
  {
   "cell_type": "code",
   "execution_count": 193,
   "metadata": {},
   "outputs": [
    {
     "name": "stdout",
     "output_type": "stream",
     "text": [
      "f1 score: 0.6468106371845009\n"
     ]
    }
   ],
   "source": [
    "clf = DummyClassifier(strategy = 'stratified', random_state =42)\n",
    "clf.fit(X_train, y_train)\n",
    "y_pred = clf.predict(X_test)\n",
    "score = f1_score(y_test, y_pred, average = 'weighted')\n",
    "    \n",
    "# Printing evaluation metric (f1-score) \n",
    "print(\"f1 score: {}\".format(score))"
   ]
  },
  {
   "cell_type": "code",
   "execution_count": 194,
   "metadata": {},
   "outputs": [
    {
     "name": "stdout",
     "output_type": "stream",
     "text": [
      "              precision    recall  f1-score   support\n",
      "\n",
      "           0       0.23      0.24      0.23       621\n",
      "           1       0.77      0.77      0.77      2088\n",
      "\n",
      "   micro avg       0.65      0.65      0.65      2709\n",
      "   macro avg       0.50      0.50      0.50      2709\n",
      "weighted avg       0.65      0.65      0.65      2709\n",
      "\n"
     ]
    }
   ],
   "source": [
    "# Compute and print the classification report\n",
    "print(classification_report(y_test, y_pred))"
   ]
  },
  {
   "cell_type": "code",
   "execution_count": 195,
   "metadata": {},
   "outputs": [
    {
     "data": {
      "image/png": "[encoded data removed]",
      "text/plain": [
       "<Figure size 576x576 with 2 Axes>"
      ]
     },
     "metadata": {
      "needs_background": "light"
     },
     "output_type": "display_data"
    }
   ],
   "source": [
    "# Print confusion matrix for logistic regression with countvectorizer\n",
    "disp_confusion_matrix(y_pred, \"Dummy Classifier\")"
   ]
  },
  {
   "cell_type": "markdown",
   "metadata": {},
   "source": [
    "### 4.1.1 Logistic Regression with CountVectorizer"
   ]
  },
  {
   "cell_type": "code",
   "execution_count": 196,
   "metadata": {},
   "outputs": [
    {
     "name": "stdout",
     "output_type": "stream",
     "text": [
      "f1 score: 0.8767317268503789\n"
     ]
    }
   ],
   "source": [
    "# Fitting the classifier model to the Training Set\n",
    "\n",
    "clf = (LogisticRegression(multi_class = 'multinomial', solver = 'newton-cg',\n",
    "                                     class_weight = 'balanced', C = 0.1, n_jobs = -1, random_state = 42))\n",
    "\n",
    "\n",
    "clf.fit(count_vect_train, y_train)\n",
    "\n",
    "y_pred = clf.predict(count_vect_test)\n",
    "\n",
    "score = f1_score(y_test, y_pred, average = 'weighted')\n",
    "\n",
    "# Printing evaluation metric (f1-score) \n",
    "print(\"f1 score: {}\".format(score))"
   ]
  },
  {
   "cell_type": "code",
   "execution_count": 197,
   "metadata": {},
   "outputs": [],
   "source": [
    "# Assign y_pred to a variable for further process\n",
    "y_pred_cv_logreg = y_pred"
   ]
  },
  {
   "cell_type": "code",
   "execution_count": 198,
   "metadata": {},
   "outputs": [
    {
     "name": "stdout",
     "output_type": "stream",
     "text": [
      "              precision    recall  f1-score   support\n",
      "\n",
      "           0       0.70      0.79      0.74       621\n",
      "           1       0.94      0.90      0.92      2088\n",
      "\n",
      "   micro avg       0.87      0.87      0.87      2709\n",
      "   macro avg       0.82      0.84      0.83      2709\n",
      "weighted avg       0.88      0.87      0.88      2709\n",
      "\n"
     ]
    }
   ],
   "source": [
    "# Compute and print the classification report\n",
    "print(classification_report(y_test, y_pred_cv_logreg))"
   ]
  },
  {
   "cell_type": "code",
   "execution_count": 199,
   "metadata": {},
   "outputs": [
    {
     "name": "stdout",
     "output_type": "stream",
     "text": [
      "0.8741232927279439\n"
     ]
    }
   ],
   "source": [
    "print(accuracy_score(y_test, y_pred_cv_logreg))"
   ]
  },
  {
   "cell_type": "code",
   "execution_count": 200,
   "metadata": {},
   "outputs": [
    {
     "name": "stdout",
     "output_type": "stream",
     "text": [
      "[[ 491  130]\n",
      " [ 211 1877]]\n"
     ]
    }
   ],
   "source": [
    "print(confusion_matrix(y_test, y_pred_cv_logreg))"
   ]
  },
  {
   "cell_type": "code",
   "execution_count": 201,
   "metadata": {},
   "outputs": [
    {
     "data": {
      "image/png": "[encoded data removed]",
      "text/plain": [
       "<Figure size 576x576 with 2 Axes>"
      ]
     },
     "metadata": {
      "needs_background": "light"
     },
     "output_type": "display_data"
    }
   ],
   "source": [
    "# Print confusion matrix for logistic regression with countvectorizer\n",
    "disp_confusion_matrix(y_pred_cv_logreg, \"Logistic Regression\")"
   ]
  },
  {
   "cell_type": "markdown",
   "metadata": {},
   "source": [
    "### 4.1.2 Decision Tree with CountVectorizer"
   ]
  },
  {
   "cell_type": "code",
   "execution_count": 202,
   "metadata": {},
   "outputs": [
    {
     "name": "stdout",
     "output_type": "stream",
     "text": [
      "f1 score: 0.8035069760344128\n"
     ]
    }
   ],
   "source": [
    "# Fitting the classifier model to the Training Set\n",
    "clf = DecisionTreeClassifier(criterion = 'entropy', random_state=42)\n",
    "clf.fit(count_vect_train, y_train)\n",
    "\n",
    "# Predicting the Test set result\n",
    "y_pred = clf.predict(count_vect_test)\n",
    "\n",
    "score = f1_score(y_test, y_pred, average = 'weighted')\n",
    "\n",
    "# Printing evaluation metric (f1-score) \n",
    "print(\"f1 score: {}\".format(score))"
   ]
  },
  {
   "cell_type": "code",
   "execution_count": 203,
   "metadata": {},
   "outputs": [],
   "source": [
    "# Assign y_pred to a variable for further process\n",
    "y_pred_cv_dt = y_pred"
   ]
  },
  {
   "cell_type": "code",
   "execution_count": 204,
   "metadata": {},
   "outputs": [
    {
     "name": "stdout",
     "output_type": "stream",
     "text": [
      "              precision    recall  f1-score   support\n",
      "\n",
      "           0       0.59      0.52      0.55       621\n",
      "           1       0.86      0.89      0.88      2088\n",
      "\n",
      "   micro avg       0.81      0.81      0.81      2709\n",
      "   macro avg       0.73      0.71      0.72      2709\n",
      "weighted avg       0.80      0.81      0.80      2709\n",
      "\n"
     ]
    }
   ],
   "source": [
    "# Compute and print the classification report\n",
    "print(classification_report(y_test, y_pred_cv_dt))"
   ]
  },
  {
   "cell_type": "code",
   "execution_count": 205,
   "metadata": {},
   "outputs": [
    {
     "name": "stdout",
     "output_type": "stream",
     "text": [
      "0.808047249907715\n"
     ]
    }
   ],
   "source": [
    "print(accuracy_score(y_test, y_pred_cv_dt))"
   ]
  },
  {
   "cell_type": "code",
   "execution_count": 206,
   "metadata": {},
   "outputs": [
    {
     "name": "stdout",
     "output_type": "stream",
     "text": [
      "[[ 323  298]\n",
      " [ 222 1866]]\n"
     ]
    }
   ],
   "source": [
    "print(confusion_matrix(y_test, y_pred_cv_dt))"
   ]
  },
  {
   "cell_type": "code",
   "execution_count": 207,
   "metadata": {},
   "outputs": [
    {
     "data": {
      "image/png": "[encoded data removed]",
      "text/plain": [
       "<Figure size 576x576 with 2 Axes>"
      ]
     },
     "metadata": {
      "needs_background": "light"
     },
     "output_type": "display_data"
    }
   ],
   "source": [
    "# Print confusion matrix for random forest classifier with countVectorizer\n",
    "disp_confusion_matrix(y_pred_cv_dt, \"Decision Tree\")"
   ]
  },
  {
   "cell_type": "markdown",
   "metadata": {},
   "source": [
    "### 4.1.3 Random Forest with CountVectorizer"
   ]
  },
  {
   "cell_type": "code",
   "execution_count": 208,
   "metadata": {},
   "outputs": [
    {
     "name": "stdout",
     "output_type": "stream",
     "text": [
      "f1 score: 0.831501303711768\n"
     ]
    }
   ],
   "source": [
    "# Fitting the classifier model to the Training Set\n",
    "\n",
    "clf = RandomForestClassifier(n_estimators = 200, random_state = 42)\n",
    "\n",
    "clf.fit(count_vect_train, y_train)\n",
    "\n",
    "y_pred = clf.predict(count_vect_test)\n",
    "\n",
    "score = f1_score(y_test, y_pred, average = 'weighted')\n",
    "\n",
    "# Printing evaluation metric (f1-score) \n",
    "print(\"f1 score: {}\".format(score))"
   ]
  },
  {
   "cell_type": "code",
   "execution_count": 209,
   "metadata": {},
   "outputs": [],
   "source": [
    "# Assign y_pred to a variable for further process\n",
    "y_pred_cv_rf = y_pred"
   ]
  },
  {
   "cell_type": "code",
   "execution_count": 210,
   "metadata": {},
   "outputs": [
    {
     "name": "stdout",
     "output_type": "stream",
     "text": [
      "              precision    recall  f1-score   support\n",
      "\n",
      "           0       0.89      0.41      0.56       621\n",
      "           1       0.85      0.98      0.91      2088\n",
      "\n",
      "   micro avg       0.85      0.85      0.85      2709\n",
      "   macro avg       0.87      0.70      0.74      2709\n",
      "weighted avg       0.86      0.85      0.83      2709\n",
      "\n"
     ]
    }
   ],
   "source": [
    "# Compute and print the classification report\n",
    "print(classification_report(y_test, y_pred_cv_rf))"
   ]
  },
  {
   "cell_type": "code",
   "execution_count": 211,
   "metadata": {},
   "outputs": [
    {
     "name": "stdout",
     "output_type": "stream",
     "text": [
      "0.8530823181985973\n"
     ]
    }
   ],
   "source": [
    "print(accuracy_score(y_test, y_pred_cv_rf))"
   ]
  },
  {
   "cell_type": "code",
   "execution_count": 212,
   "metadata": {},
   "outputs": [
    {
     "name": "stdout",
     "output_type": "stream",
     "text": [
      "[[ 255  366]\n",
      " [  32 2056]]\n"
     ]
    }
   ],
   "source": [
    "print(confusion_matrix(y_test, y_pred_cv_rf))"
   ]
  },
  {
   "cell_type": "code",
   "execution_count": 213,
   "metadata": {},
   "outputs": [
    {
     "data": {
      "image/png": "[encoded data removed]",
      "text/plain": [
       "<Figure size 576x576 with 2 Axes>"
      ]
     },
     "metadata": {
      "needs_background": "light"
     },
     "output_type": "display_data"
    }
   ],
   "source": [
    "# Print confusion matrix for random forest classifier with countVectorizer\n",
    "disp_confusion_matrix(y_pred_cv_rf, \"Random Forest\")"
   ]
  },
  {
   "cell_type": "markdown",
   "metadata": {},
   "source": [
    "### 4.1.4 Naive Bayes with CountVectorizer "
   ]
  },
  {
   "cell_type": "markdown",
   "metadata": {},
   "source": [
    "As you might remember, in addition to the regular naive bayes algorithm, there are three major types.\n",
    "\n",
    "**Bernoulli Naive Bayes** : It assumes that all our features are binary such that they take only two values. Means 0s can represent “word does not occur in the document” and 1s as \"word occurs in the document\" .\n",
    "\n",
    "**Multinomial Naive Bayes** : Its is used when we have discrete data (e.g. movie ratings ranging 1 and 5 as each rating will have certain frequency to represent). In text learning we have the count of each word to predict the class or label.\n",
    "\n",
    "**Gaussian Naive Bayes** : Because of the assumption of the normal distribution, Gaussian Naive Bayes is used in cases when all our features are continuous."
   ]
  },
  {
   "cell_type": "code",
   "execution_count": 214,
   "metadata": {},
   "outputs": [
    {
     "name": "stdout",
     "output_type": "stream",
     "text": [
      "f1 score: 0.8620359902721703\n"
     ]
    }
   ],
   "source": [
    "# Fitting the classifier model to the Training Set\n",
    "\n",
    "clf = MultinomialNB()\n",
    "\n",
    "clf.fit(count_vect_train, y_train)\n",
    "\n",
    "y_pred = clf.predict(count_vect_test)\n",
    "\n",
    "score = f1_score(y_test, y_pred, average = 'weighted')\n",
    "\n",
    "# Printing evaluation metric (f1-score) \n",
    "print(\"f1 score: {}\".format(score))"
   ]
  },
  {
   "cell_type": "code",
   "execution_count": 215,
   "metadata": {},
   "outputs": [],
   "source": [
    "# Assign y_pred to a variable for further process\n",
    "y_pred_cv_nb = y_pred"
   ]
  },
  {
   "cell_type": "code",
   "execution_count": 216,
   "metadata": {},
   "outputs": [
    {
     "name": "stdout",
     "output_type": "stream",
     "text": [
      "              precision    recall  f1-score   support\n",
      "\n",
      "           0       0.77      0.60      0.68       621\n",
      "           1       0.89      0.95      0.92      2088\n",
      "\n",
      "   micro avg       0.87      0.87      0.87      2709\n",
      "   macro avg       0.83      0.77      0.80      2709\n",
      "weighted avg       0.86      0.87      0.86      2709\n",
      "\n"
     ]
    }
   ],
   "source": [
    "# Compute and print the classification report\n",
    "print(classification_report(y_test, y_pred_cv_nb))"
   ]
  },
  {
   "cell_type": "code",
   "execution_count": 217,
   "metadata": {},
   "outputs": [
    {
     "name": "stdout",
     "output_type": "stream",
     "text": [
      "0.8682170542635659\n"
     ]
    }
   ],
   "source": [
    "print(accuracy_score(y_test, y_pred_cv_nb))"
   ]
  },
  {
   "cell_type": "code",
   "execution_count": 218,
   "metadata": {
    "scrolled": true
   },
   "outputs": [
    {
     "data": {
      "image/png": "[encoded data removed]",
      "text/plain": [
       "<Figure size 576x576 with 2 Axes>"
      ]
     },
     "metadata": {
      "needs_background": "light"
     },
     "output_type": "display_data"
    }
   ],
   "source": [
    "# Print confusion matrix for naive bayes with countVectorizer\n",
    "disp_confusion_matrix(y_pred_cv_nb, \"Naive Bayes\")"
   ]
  },
  {
   "cell_type": "markdown",
   "metadata": {},
   "source": [
    "### 4.1.5 SVM with CountVectorizer"
   ]
  },
  {
   "cell_type": "code",
   "execution_count": 219,
   "metadata": {},
   "outputs": [
    {
     "name": "stdout",
     "output_type": "stream",
     "text": [
      "f1 score: 0.8502001582109245\n"
     ]
    }
   ],
   "source": [
    "clf = SVC(kernel = 'linear', class_weight=None, random_state = 42)\n",
    "\n",
    "clf.fit(count_vect_train, y_train)\n",
    "\n",
    "y_pred = clf.predict(count_vect_test)\n",
    "\n",
    "score = f1_score(y_test, y_pred, average = 'weighted')\n",
    "\n",
    "# Printing evaluation metric (f1-score) \n",
    "print(\"f1 score: {}\".format(score))"
   ]
  },
  {
   "cell_type": "code",
   "execution_count": 220,
   "metadata": {},
   "outputs": [],
   "source": [
    "# Assign y_pred to a variable for further process\n",
    "y_pred_cv_svm = y_pred"
   ]
  },
  {
   "cell_type": "code",
   "execution_count": 221,
   "metadata": {},
   "outputs": [
    {
     "name": "stdout",
     "output_type": "stream",
     "text": [
      "              precision    recall  f1-score   support\n",
      "\n",
      "           0       0.77      0.60      0.68       621\n",
      "           1       0.89      0.95      0.92      2088\n",
      "\n",
      "   micro avg       0.87      0.87      0.87      2709\n",
      "   macro avg       0.83      0.77      0.80      2709\n",
      "weighted avg       0.86      0.87      0.86      2709\n",
      "\n"
     ]
    }
   ],
   "source": [
    "# Compute and print the classification report\n",
    "print(classification_report(y_test, y_pred_cv_nb))"
   ]
  },
  {
   "cell_type": "code",
   "execution_count": 222,
   "metadata": {},
   "outputs": [
    {
     "name": "stdout",
     "output_type": "stream",
     "text": [
      "0.8530823181985973\n"
     ]
    }
   ],
   "source": [
    "print(accuracy_score(y_test, y_pred_cv_svm))"
   ]
  },
  {
   "cell_type": "code",
   "execution_count": 223,
   "metadata": {},
   "outputs": [
    {
     "data": {
      "image/png": "[encoded data removed]",
      "text/plain": [
       "<Figure size 576x576 with 2 Axes>"
      ]
     },
     "metadata": {
      "needs_background": "light"
     },
     "output_type": "display_data"
    }
   ],
   "source": [
    "# Print confusion matrix for naive bayes with countVectorizer\n",
    "disp_confusion_matrix(y_pred_cv_svm, \"SVM\")"
   ]
  },
  {
   "cell_type": "markdown",
   "metadata": {},
   "source": [
    "### 4.1.6 Kernel SVM with CountVectorizer"
   ]
  },
  {
   "cell_type": "code",
   "execution_count": 224,
   "metadata": {},
   "outputs": [
    {
     "name": "stdout",
     "output_type": "stream",
     "text": [
      "f1 score: 0.6709841491463726\n"
     ]
    }
   ],
   "source": [
    "clf = SVC(kernel = 'rbf', class_weight=None, random_state = 42)\n",
    "\n",
    "clf.fit(count_vect_train, y_train)\n",
    "\n",
    "y_pred = clf.predict(count_vect_test)\n",
    "\n",
    "score = f1_score(y_test, y_pred, average = 'weighted')\n",
    "\n",
    "# Printing evaluation metric (f1-score) \n",
    "print(\"f1 score: {}\".format(score))"
   ]
  },
  {
   "cell_type": "code",
   "execution_count": 225,
   "metadata": {},
   "outputs": [],
   "source": [
    "# Assign y_pred to a variable for further process\n",
    "y_pred_cv_ksvm = y_pred"
   ]
  },
  {
   "cell_type": "code",
   "execution_count": 226,
   "metadata": {},
   "outputs": [
    {
     "name": "stdout",
     "output_type": "stream",
     "text": [
      "              precision    recall  f1-score   support\n",
      "\n",
      "           0       0.00      0.00      0.00       621\n",
      "           1       0.77      1.00      0.87      2088\n",
      "\n",
      "   micro avg       0.77      0.77      0.77      2709\n",
      "   macro avg       0.39      0.50      0.44      2709\n",
      "weighted avg       0.59      0.77      0.67      2709\n",
      "\n"
     ]
    }
   ],
   "source": [
    "# Compute and print the classification report\n",
    "print(classification_report(y_test, y_pred_cv_ksvm))"
   ]
  },
  {
   "cell_type": "code",
   "execution_count": 227,
   "metadata": {},
   "outputs": [
    {
     "name": "stdout",
     "output_type": "stream",
     "text": [
      "0.770764119601329\n"
     ]
    }
   ],
   "source": [
    "print(accuracy_score(y_test, y_pred_cv_ksvm))"
   ]
  },
  {
   "cell_type": "code",
   "execution_count": 228,
   "metadata": {},
   "outputs": [
    {
     "data": {
      "image/png": "[encoded data removed]",
      "text/plain": [
       "<Figure size 576x576 with 2 Axes>"
      ]
     },
     "metadata": {
      "needs_background": "light"
     },
     "output_type": "display_data"
    }
   ],
   "source": [
    "# Print confusion matrix for naive bayes with countVectorizer\n",
    "disp_confusion_matrix(y_pred_cv_ksvm, \"Kernel SVM\")"
   ]
  },
  {
   "cell_type": "markdown",
   "metadata": {},
   "source": [
    "### 4.1.7 XGBoost with CountVectorizer"
   ]
  },
  {
   "cell_type": "code",
   "execution_count": 229,
   "metadata": {},
   "outputs": [
    {
     "name": "stdout",
     "output_type": "stream",
     "text": [
      "f1 score: 0.8367705624715653\n"
     ]
    }
   ],
   "source": [
    "# Call the modeling function for XGBoost with countvectorizer and print f1 score\n",
    "\n",
    "clf = XGBClassifier()\n",
    "\n",
    "clf.fit(count_vect_train, y_train)\n",
    "\n",
    "y_pred = clf.predict(count_vect_test)\n",
    "\n",
    "score = f1_score(y_test, y_pred, average = 'weighted')\n",
    "\n",
    "# Printing evaluation metric (f1-score) \n",
    "print(\"f1 score: {}\".format(score))"
   ]
  },
  {
   "cell_type": "code",
   "execution_count": 230,
   "metadata": {},
   "outputs": [],
   "source": [
    "# Assign y_pred to a variable for further process\n",
    "y_pred_cv_xgb = y_pred"
   ]
  },
  {
   "cell_type": "code",
   "execution_count": 231,
   "metadata": {},
   "outputs": [
    {
     "name": "stdout",
     "output_type": "stream",
     "text": [
      "              precision    recall  f1-score   support\n",
      "\n",
      "           0       0.79      0.48      0.59       621\n",
      "           1       0.86      0.96      0.91      2088\n",
      "\n",
      "   micro avg       0.85      0.85      0.85      2709\n",
      "   macro avg       0.83      0.72      0.75      2709\n",
      "weighted avg       0.85      0.85      0.84      2709\n",
      "\n"
     ]
    }
   ],
   "source": [
    "# Compute and print the classification report\n",
    "print(classification_report(y_test, y_pred_cv_xgb))"
   ]
  },
  {
   "cell_type": "code",
   "execution_count": 232,
   "metadata": {},
   "outputs": [
    {
     "data": {
      "image/png": "[encoded data removed]",
      "text/plain": [
       "<Figure size 576x576 with 2 Axes>"
      ]
     },
     "metadata": {
      "needs_background": "light"
     },
     "output_type": "display_data"
    }
   ],
   "source": [
    "# Print confusion matrix for gradient boosting with countVectorizer\n",
    "disp_confusion_matrix(y_pred_cv_xgb, \"XGBoost\")"
   ]
  },
  {
   "cell_type": "markdown",
   "metadata": {},
   "source": [
    "### 4.1.8 CatBoost with CountVectorizer"
   ]
  },
  {
   "cell_type": "code",
   "execution_count": 233,
   "metadata": {},
   "outputs": [
    {
     "name": "stdout",
     "output_type": "stream",
     "text": [
      "0:\tlearn: 0.4924586\ttotal: 37.8ms\tremaining: 37.8s\n",
      "1:\tlearn: 0.4420338\ttotal: 71.7ms\tremaining: 35.8s\n",
      "2:\tlearn: 0.4206083\ttotal: 105ms\tremaining: 35s\n",
      "3:\tlearn: 0.4086899\ttotal: 140ms\tremaining: 34.8s\n",
      "4:\tlearn: 0.3935658\ttotal: 169ms\tremaining: 33.7s\n",
      "5:\tlearn: 0.3862968\ttotal: 202ms\tremaining: 33.4s\n",
      "6:\tlearn: 0.3763547\ttotal: 232ms\tremaining: 33s\n",
      "7:\tlearn: 0.3720940\ttotal: 275ms\tremaining: 34s\n",
      "8:\tlearn: 0.3620700\ttotal: 306ms\tremaining: 33.7s\n",
      "9:\tlearn: 0.3585194\ttotal: 337ms\tremaining: 33.4s\n",
      "10:\tlearn: 0.3536539\ttotal: 369ms\tremaining: 33.2s\n",
      "11:\tlearn: 0.3494177\ttotal: 399ms\tremaining: 32.9s\n",
      "12:\tlearn: 0.3426179\ttotal: 430ms\tremaining: 32.6s\n",
      "13:\tlearn: 0.3388835\ttotal: 461ms\tremaining: 32.5s\n",
      "14:\tlearn: 0.3367699\ttotal: 504ms\tremaining: 33.1s\n",
      "15:\tlearn: 0.3352552\ttotal: 535ms\tremaining: 32.9s\n",
      "16:\tlearn: 0.3304765\ttotal: 566ms\tremaining: 32.7s\n",
      "17:\tlearn: 0.3270734\ttotal: 598ms\tremaining: 32.6s\n",
      "18:\tlearn: 0.3237848\ttotal: 629ms\tremaining: 32.5s\n",
      "19:\tlearn: 0.3231696\ttotal: 656ms\tremaining: 32.2s\n",
      "20:\tlearn: 0.3222383\ttotal: 686ms\tremaining: 32s\n",
      "21:\tlearn: 0.3180545\ttotal: 725ms\tremaining: 32.3s\n",
      "22:\tlearn: 0.3155545\ttotal: 757ms\tremaining: 32.2s\n",
      "23:\tlearn: 0.3138006\ttotal: 790ms\tremaining: 32.1s\n",
      "24:\tlearn: 0.3114878\ttotal: 829ms\tremaining: 32.3s\n",
      "25:\tlearn: 0.3101673\ttotal: 870ms\tremaining: 32.6s\n",
      "26:\tlearn: 0.3090188\ttotal: 901ms\tremaining: 32.5s\n",
      "27:\tlearn: 0.3052319\ttotal: 934ms\tremaining: 32.4s\n",
      "28:\tlearn: 0.3038441\ttotal: 967ms\tremaining: 32.4s\n",
      "29:\tlearn: 0.3018702\ttotal: 999ms\tremaining: 32.3s\n",
      "30:\tlearn: 0.3015463\ttotal: 1.03s\tremaining: 32.3s\n",
      "31:\tlearn: 0.3002309\ttotal: 1.07s\tremaining: 32.3s\n",
      "32:\tlearn: 0.2975481\ttotal: 1.1s\tremaining: 32.3s\n",
      "33:\tlearn: 0.2968383\ttotal: 1.13s\tremaining: 32.2s\n",
      "34:\tlearn: 0.2964676\ttotal: 1.17s\tremaining: 32.1s\n",
      "35:\tlearn: 0.2960021\ttotal: 1.19s\tremaining: 32s\n",
      "36:\tlearn: 0.2952399\ttotal: 1.22s\tremaining: 31.9s\n",
      "37:\tlearn: 0.2933973\ttotal: 1.26s\tremaining: 31.8s\n",
      "38:\tlearn: 0.2925849\ttotal: 1.29s\tremaining: 31.8s\n",
      "39:\tlearn: 0.2923342\ttotal: 1.32s\tremaining: 31.6s\n",
      "40:\tlearn: 0.2920197\ttotal: 1.35s\tremaining: 31.5s\n",
      "41:\tlearn: 0.2916180\ttotal: 1.38s\tremaining: 31.4s\n",
      "42:\tlearn: 0.2903171\ttotal: 1.41s\tremaining: 31.4s\n",
      "43:\tlearn: 0.2899688\ttotal: 1.44s\tremaining: 31.3s\n",
      "44:\tlearn: 0.2894661\ttotal: 1.47s\tremaining: 31.1s\n",
      "45:\tlearn: 0.2892346\ttotal: 1.5s\tremaining: 31.2s\n",
      "46:\tlearn: 0.2884151\ttotal: 1.53s\tremaining: 31.1s\n",
      "47:\tlearn: 0.2872841\ttotal: 1.57s\tremaining: 31.2s\n",
      "48:\tlearn: 0.2865586\ttotal: 1.61s\tremaining: 31.2s\n",
      "49:\tlearn: 0.2860989\ttotal: 1.64s\tremaining: 31.1s\n",
      "50:\tlearn: 0.2857235\ttotal: 1.67s\tremaining: 31s\n",
      "51:\tlearn: 0.2847154\ttotal: 1.7s\tremaining: 30.9s\n",
      "52:\tlearn: 0.2842530\ttotal: 1.72s\tremaining: 30.8s\n",
      "53:\tlearn: 0.2839718\ttotal: 1.77s\tremaining: 31.1s\n",
      "54:\tlearn: 0.2834885\ttotal: 1.82s\tremaining: 31.3s\n",
      "55:\tlearn: 0.2829670\ttotal: 1.88s\tremaining: 31.7s\n",
      "56:\tlearn: 0.2824169\ttotal: 1.92s\tremaining: 31.8s\n",
      "57:\tlearn: 0.2814944\ttotal: 1.97s\tremaining: 32s\n",
      "58:\tlearn: 0.2809887\ttotal: 2.02s\tremaining: 32.2s\n",
      "59:\tlearn: 0.2802150\ttotal: 2.06s\tremaining: 32.4s\n",
      "60:\tlearn: 0.2792278\ttotal: 2.1s\tremaining: 32.3s\n",
      "61:\tlearn: 0.2787236\ttotal: 2.13s\tremaining: 32.2s\n",
      "62:\tlearn: 0.2774868\ttotal: 2.16s\tremaining: 32.1s\n",
      "63:\tlearn: 0.2773069\ttotal: 2.19s\tremaining: 32s\n",
      "64:\tlearn: 0.2759165\ttotal: 2.22s\tremaining: 31.9s\n",
      "65:\tlearn: 0.2756359\ttotal: 2.26s\tremaining: 32s\n",
      "66:\tlearn: 0.2751456\ttotal: 2.32s\tremaining: 32.4s\n",
      "67:\tlearn: 0.2741718\ttotal: 2.38s\tremaining: 32.7s\n",
      "68:\tlearn: 0.2734810\ttotal: 2.43s\tremaining: 32.8s\n",
      "69:\tlearn: 0.2728784\ttotal: 2.48s\tremaining: 33s\n",
      "70:\tlearn: 0.2721318\ttotal: 2.53s\tremaining: 33.1s\n",
      "71:\tlearn: 0.2719521\ttotal: 2.58s\tremaining: 33.3s\n",
      "72:\tlearn: 0.2713832\ttotal: 2.65s\tremaining: 33.6s\n",
      "73:\tlearn: 0.2704111\ttotal: 2.71s\tremaining: 33.8s\n",
      "74:\tlearn: 0.2669047\ttotal: 2.77s\tremaining: 34.2s\n",
      "75:\tlearn: 0.2662847\ttotal: 2.82s\tremaining: 34.3s\n",
      "76:\tlearn: 0.2649115\ttotal: 2.89s\tremaining: 34.6s\n",
      "77:\tlearn: 0.2643804\ttotal: 2.96s\tremaining: 35s\n",
      "78:\tlearn: 0.2638709\ttotal: 3.01s\tremaining: 35.1s\n",
      "79:\tlearn: 0.2632981\ttotal: 3.06s\tremaining: 35.3s\n",
      "80:\tlearn: 0.2627573\ttotal: 3.12s\tremaining: 35.4s\n",
      "81:\tlearn: 0.2623305\ttotal: 3.17s\tremaining: 35.5s\n",
      "82:\tlearn: 0.2617850\ttotal: 3.23s\tremaining: 35.6s\n",
      "83:\tlearn: 0.2616519\ttotal: 3.29s\tremaining: 35.9s\n",
      "84:\tlearn: 0.2613984\ttotal: 3.35s\tremaining: 36s\n",
      "85:\tlearn: 0.2611463\ttotal: 3.4s\tremaining: 36.1s\n",
      "86:\tlearn: 0.2607870\ttotal: 3.43s\tremaining: 36s\n",
      "87:\tlearn: 0.2601271\ttotal: 3.46s\tremaining: 35.8s\n",
      "88:\tlearn: 0.2598111\ttotal: 3.49s\tremaining: 35.7s\n",
      "89:\tlearn: 0.2587471\ttotal: 3.52s\tremaining: 35.6s\n",
      "90:\tlearn: 0.2581714\ttotal: 3.55s\tremaining: 35.5s\n",
      "91:\tlearn: 0.2578806\ttotal: 3.58s\tremaining: 35.4s\n",
      "92:\tlearn: 0.2576243\ttotal: 3.61s\tremaining: 35.2s\n",
      "93:\tlearn: 0.2569139\ttotal: 3.65s\tremaining: 35.2s\n",
      "94:\tlearn: 0.2551092\ttotal: 3.68s\tremaining: 35.1s\n",
      "95:\tlearn: 0.2542854\ttotal: 3.71s\tremaining: 35s\n",
      "96:\tlearn: 0.2540928\ttotal: 3.74s\tremaining: 34.8s\n",
      "97:\tlearn: 0.2534442\ttotal: 3.77s\tremaining: 34.7s\n",
      "98:\tlearn: 0.2531493\ttotal: 3.8s\tremaining: 34.6s\n",
      "99:\tlearn: 0.2530094\ttotal: 3.83s\tremaining: 34.5s\n",
      "100:\tlearn: 0.2528689\ttotal: 3.87s\tremaining: 34.5s\n",
      "101:\tlearn: 0.2525280\ttotal: 3.9s\tremaining: 34.4s\n",
      "102:\tlearn: 0.2520479\ttotal: 3.93s\tremaining: 34.3s\n",
      "103:\tlearn: 0.2516199\ttotal: 3.97s\tremaining: 34.2s\n",
      "104:\tlearn: 0.2513889\ttotal: 4s\tremaining: 34.1s\n",
      "105:\tlearn: 0.2511200\ttotal: 4.03s\tremaining: 34s\n",
      "106:\tlearn: 0.2509841\ttotal: 4.06s\tremaining: 33.9s\n",
      "107:\tlearn: 0.2506694\ttotal: 4.1s\tremaining: 33.9s\n",
      "108:\tlearn: 0.2494335\ttotal: 4.14s\tremaining: 33.9s\n",
      "109:\tlearn: 0.2487885\ttotal: 4.17s\tremaining: 33.8s\n",
      "110:\tlearn: 0.2480499\ttotal: 4.21s\tremaining: 33.7s\n",
      "111:\tlearn: 0.2478874\ttotal: 4.24s\tremaining: 33.6s\n",
      "112:\tlearn: 0.2475902\ttotal: 4.26s\tremaining: 33.5s\n",
      "113:\tlearn: 0.2474316\ttotal: 4.29s\tremaining: 33.4s\n",
      "114:\tlearn: 0.2465605\ttotal: 4.33s\tremaining: 33.3s\n",
      "115:\tlearn: 0.2458274\ttotal: 4.36s\tremaining: 33.2s\n",
      "116:\tlearn: 0.2455814\ttotal: 4.39s\tremaining: 33.1s\n",
      "117:\tlearn: 0.2442902\ttotal: 4.43s\tremaining: 33.1s\n",
      "118:\tlearn: 0.2437399\ttotal: 4.46s\tremaining: 33s\n",
      "119:\tlearn: 0.2435777\ttotal: 4.49s\tremaining: 32.9s\n",
      "120:\tlearn: 0.2428049\ttotal: 4.52s\tremaining: 32.9s\n",
      "121:\tlearn: 0.2426117\ttotal: 4.56s\tremaining: 32.8s\n",
      "122:\tlearn: 0.2423035\ttotal: 4.59s\tremaining: 32.7s\n",
      "123:\tlearn: 0.2417909\ttotal: 4.62s\tremaining: 32.6s\n",
      "124:\tlearn: 0.2411602\ttotal: 4.65s\tremaining: 32.5s\n",
      "125:\tlearn: 0.2409988\ttotal: 4.68s\tremaining: 32.5s\n",
      "126:\tlearn: 0.2398456\ttotal: 4.71s\tremaining: 32.4s\n",
      "127:\tlearn: 0.2396673\ttotal: 4.74s\tremaining: 32.3s\n",
      "128:\tlearn: 0.2394277\ttotal: 4.78s\tremaining: 32.2s\n",
      "129:\tlearn: 0.2392972\ttotal: 4.81s\tremaining: 32.2s\n",
      "130:\tlearn: 0.2390807\ttotal: 4.84s\tremaining: 32.1s\n",
      "131:\tlearn: 0.2387754\ttotal: 4.88s\tremaining: 32.1s\n",
      "132:\tlearn: 0.2384112\ttotal: 4.91s\tremaining: 32s\n",
      "133:\tlearn: 0.2383326\ttotal: 4.94s\tremaining: 31.9s\n",
      "134:\tlearn: 0.2380853\ttotal: 4.97s\tremaining: 31.8s\n",
      "135:\tlearn: 0.2378442\ttotal: 5s\tremaining: 31.8s\n",
      "136:\tlearn: 0.2378005\ttotal: 5.03s\tremaining: 31.7s\n",
      "137:\tlearn: 0.2374159\ttotal: 5.06s\tremaining: 31.6s\n",
      "138:\tlearn: 0.2372538\ttotal: 5.09s\tremaining: 31.5s\n",
      "139:\tlearn: 0.2369166\ttotal: 5.12s\tremaining: 31.5s\n",
      "140:\tlearn: 0.2365125\ttotal: 5.15s\tremaining: 31.4s\n",
      "141:\tlearn: 0.2362268\ttotal: 5.18s\tremaining: 31.3s\n",
      "142:\tlearn: 0.2359857\ttotal: 5.21s\tremaining: 31.2s\n",
      "143:\tlearn: 0.2356543\ttotal: 5.25s\tremaining: 31.2s\n",
      "144:\tlearn: 0.2349930\ttotal: 5.29s\tremaining: 31.2s\n",
      "145:\tlearn: 0.2349262\ttotal: 5.32s\tremaining: 31.1s\n",
      "146:\tlearn: 0.2348934\ttotal: 5.35s\tremaining: 31s\n",
      "147:\tlearn: 0.2347095\ttotal: 5.38s\tremaining: 30.9s\n",
      "148:\tlearn: 0.2346421\ttotal: 5.4s\tremaining: 30.9s\n",
      "149:\tlearn: 0.2342167\ttotal: 5.44s\tremaining: 30.8s\n",
      "150:\tlearn: 0.2341143\ttotal: 5.47s\tremaining: 30.7s\n",
      "151:\tlearn: 0.2337396\ttotal: 5.5s\tremaining: 30.7s\n",
      "152:\tlearn: 0.2333482\ttotal: 5.53s\tremaining: 30.6s\n",
      "153:\tlearn: 0.2330685\ttotal: 5.56s\tremaining: 30.6s\n",
      "154:\tlearn: 0.2328292\ttotal: 5.59s\tremaining: 30.5s\n",
      "155:\tlearn: 0.2315655\ttotal: 5.62s\tremaining: 30.4s\n",
      "156:\tlearn: 0.2314571\ttotal: 5.66s\tremaining: 30.4s\n",
      "157:\tlearn: 0.2314303\ttotal: 5.7s\tremaining: 30.4s\n",
      "158:\tlearn: 0.2312391\ttotal: 5.73s\tremaining: 30.3s\n",
      "159:\tlearn: 0.2311225\ttotal: 5.76s\tremaining: 30.2s\n",
      "160:\tlearn: 0.2307500\ttotal: 5.79s\tremaining: 30.2s\n",
      "161:\tlearn: 0.2305368\ttotal: 5.83s\tremaining: 30.1s\n",
      "162:\tlearn: 0.2302370\ttotal: 5.86s\tremaining: 30.1s\n"
     ]
    },
    {
     "name": "stdout",
     "output_type": "stream",
     "text": [
      "163:\tlearn: 0.2300722\ttotal: 5.89s\tremaining: 30.1s\n",
      "164:\tlearn: 0.2299521\ttotal: 5.92s\tremaining: 30s\n",
      "165:\tlearn: 0.2296744\ttotal: 5.95s\tremaining: 29.9s\n",
      "166:\tlearn: 0.2294506\ttotal: 5.99s\tremaining: 29.9s\n",
      "167:\tlearn: 0.2292199\ttotal: 6.02s\tremaining: 29.8s\n",
      "168:\tlearn: 0.2291358\ttotal: 6.05s\tremaining: 29.7s\n",
      "169:\tlearn: 0.2288335\ttotal: 6.08s\tremaining: 29.7s\n",
      "170:\tlearn: 0.2285895\ttotal: 6.12s\tremaining: 29.7s\n",
      "171:\tlearn: 0.2285314\ttotal: 6.14s\tremaining: 29.6s\n",
      "172:\tlearn: 0.2282967\ttotal: 6.17s\tremaining: 29.5s\n",
      "173:\tlearn: 0.2282110\ttotal: 6.21s\tremaining: 29.5s\n",
      "174:\tlearn: 0.2279574\ttotal: 6.24s\tremaining: 29.4s\n",
      "175:\tlearn: 0.2278323\ttotal: 6.27s\tremaining: 29.4s\n",
      "176:\tlearn: 0.2277820\ttotal: 6.31s\tremaining: 29.3s\n",
      "177:\tlearn: 0.2272526\ttotal: 6.34s\tremaining: 29.3s\n",
      "178:\tlearn: 0.2270352\ttotal: 6.38s\tremaining: 29.2s\n",
      "179:\tlearn: 0.2264628\ttotal: 6.4s\tremaining: 29.2s\n",
      "180:\tlearn: 0.2263324\ttotal: 6.43s\tremaining: 29.1s\n",
      "181:\tlearn: 0.2253395\ttotal: 6.46s\tremaining: 29.1s\n",
      "182:\tlearn: 0.2246958\ttotal: 6.5s\tremaining: 29s\n",
      "183:\tlearn: 0.2240221\ttotal: 6.53s\tremaining: 28.9s\n",
      "184:\tlearn: 0.2237152\ttotal: 6.57s\tremaining: 28.9s\n",
      "185:\tlearn: 0.2234940\ttotal: 6.6s\tremaining: 28.9s\n",
      "186:\tlearn: 0.2234160\ttotal: 6.63s\tremaining: 28.8s\n",
      "187:\tlearn: 0.2225772\ttotal: 6.67s\tremaining: 28.8s\n",
      "188:\tlearn: 0.2225402\ttotal: 6.7s\tremaining: 28.8s\n",
      "189:\tlearn: 0.2224710\ttotal: 6.73s\tremaining: 28.7s\n",
      "190:\tlearn: 0.2222401\ttotal: 6.76s\tremaining: 28.6s\n",
      "191:\tlearn: 0.2222226\ttotal: 6.8s\tremaining: 28.6s\n",
      "192:\tlearn: 0.2221437\ttotal: 6.83s\tremaining: 28.6s\n",
      "193:\tlearn: 0.2218816\ttotal: 6.86s\tremaining: 28.5s\n",
      "194:\tlearn: 0.2218325\ttotal: 6.89s\tremaining: 28.4s\n",
      "195:\tlearn: 0.2215372\ttotal: 6.92s\tremaining: 28.4s\n",
      "196:\tlearn: 0.2214372\ttotal: 6.95s\tremaining: 28.3s\n",
      "197:\tlearn: 0.2212405\ttotal: 6.98s\tremaining: 28.3s\n",
      "198:\tlearn: 0.2208777\ttotal: 7.02s\tremaining: 28.3s\n",
      "199:\tlearn: 0.2207615\ttotal: 7.06s\tremaining: 28.2s\n",
      "200:\tlearn: 0.2205894\ttotal: 7.09s\tremaining: 28.2s\n",
      "201:\tlearn: 0.2205171\ttotal: 7.12s\tremaining: 28.1s\n",
      "202:\tlearn: 0.2202178\ttotal: 7.15s\tremaining: 28.1s\n",
      "203:\tlearn: 0.2201708\ttotal: 7.18s\tremaining: 28s\n",
      "204:\tlearn: 0.2200034\ttotal: 7.21s\tremaining: 27.9s\n",
      "205:\tlearn: 0.2197528\ttotal: 7.25s\tremaining: 27.9s\n",
      "206:\tlearn: 0.2195777\ttotal: 7.28s\tremaining: 27.9s\n",
      "207:\tlearn: 0.2195666\ttotal: 7.31s\tremaining: 27.8s\n",
      "208:\tlearn: 0.2195592\ttotal: 7.34s\tremaining: 27.8s\n",
      "209:\tlearn: 0.2194441\ttotal: 7.37s\tremaining: 27.7s\n",
      "210:\tlearn: 0.2193192\ttotal: 7.39s\tremaining: 27.7s\n",
      "211:\tlearn: 0.2192348\ttotal: 7.42s\tremaining: 27.6s\n",
      "212:\tlearn: 0.2192055\ttotal: 7.46s\tremaining: 27.5s\n",
      "213:\tlearn: 0.2190036\ttotal: 7.49s\tremaining: 27.5s\n",
      "214:\tlearn: 0.2189864\ttotal: 7.51s\tremaining: 27.4s\n",
      "215:\tlearn: 0.2189713\ttotal: 7.55s\tremaining: 27.4s\n",
      "216:\tlearn: 0.2186095\ttotal: 7.58s\tremaining: 27.3s\n",
      "217:\tlearn: 0.2184766\ttotal: 7.61s\tremaining: 27.3s\n",
      "218:\tlearn: 0.2182470\ttotal: 7.63s\tremaining: 27.2s\n",
      "219:\tlearn: 0.2182361\ttotal: 7.66s\tremaining: 27.2s\n",
      "220:\tlearn: 0.2181094\ttotal: 7.69s\tremaining: 27.1s\n",
      "221:\tlearn: 0.2178859\ttotal: 7.73s\tremaining: 27.1s\n",
      "222:\tlearn: 0.2177176\ttotal: 7.76s\tremaining: 27s\n",
      "223:\tlearn: 0.2174757\ttotal: 7.79s\tremaining: 27s\n",
      "224:\tlearn: 0.2173963\ttotal: 7.83s\tremaining: 27s\n",
      "225:\tlearn: 0.2169193\ttotal: 7.87s\tremaining: 27s\n",
      "226:\tlearn: 0.2166749\ttotal: 7.9s\tremaining: 26.9s\n",
      "227:\tlearn: 0.2166472\ttotal: 7.93s\tremaining: 26.9s\n",
      "228:\tlearn: 0.2166425\ttotal: 7.96s\tremaining: 26.8s\n",
      "229:\tlearn: 0.2164593\ttotal: 7.99s\tremaining: 26.8s\n",
      "230:\tlearn: 0.2163229\ttotal: 8.02s\tremaining: 26.7s\n",
      "231:\tlearn: 0.2158109\ttotal: 8.05s\tremaining: 26.7s\n",
      "232:\tlearn: 0.2157857\ttotal: 8.09s\tremaining: 26.6s\n",
      "233:\tlearn: 0.2157441\ttotal: 8.12s\tremaining: 26.6s\n",
      "234:\tlearn: 0.2153778\ttotal: 8.15s\tremaining: 26.5s\n",
      "235:\tlearn: 0.2150752\ttotal: 8.18s\tremaining: 26.5s\n",
      "236:\tlearn: 0.2150391\ttotal: 8.21s\tremaining: 26.4s\n",
      "237:\tlearn: 0.2149898\ttotal: 8.25s\tremaining: 26.4s\n",
      "238:\tlearn: 0.2148612\ttotal: 8.28s\tremaining: 26.4s\n",
      "239:\tlearn: 0.2146620\ttotal: 8.32s\tremaining: 26.3s\n",
      "240:\tlearn: 0.2145581\ttotal: 8.35s\tremaining: 26.3s\n",
      "241:\tlearn: 0.2145417\ttotal: 8.38s\tremaining: 26.2s\n",
      "242:\tlearn: 0.2144568\ttotal: 8.41s\tremaining: 26.2s\n",
      "243:\tlearn: 0.2143903\ttotal: 8.44s\tremaining: 26.1s\n",
      "244:\tlearn: 0.2142978\ttotal: 8.47s\tremaining: 26.1s\n",
      "245:\tlearn: 0.2140185\ttotal: 8.5s\tremaining: 26s\n",
      "246:\tlearn: 0.2140063\ttotal: 8.54s\tremaining: 26s\n",
      "247:\tlearn: 0.2139890\ttotal: 8.57s\tremaining: 26s\n",
      "248:\tlearn: 0.2139126\ttotal: 8.6s\tremaining: 25.9s\n",
      "249:\tlearn: 0.2137849\ttotal: 8.63s\tremaining: 25.9s\n",
      "250:\tlearn: 0.2137147\ttotal: 8.66s\tremaining: 25.8s\n",
      "251:\tlearn: 0.2136495\ttotal: 8.69s\tremaining: 25.8s\n",
      "252:\tlearn: 0.2135305\ttotal: 8.72s\tremaining: 25.7s\n",
      "253:\tlearn: 0.2131333\ttotal: 8.77s\tremaining: 25.8s\n",
      "254:\tlearn: 0.2127558\ttotal: 8.8s\tremaining: 25.7s\n",
      "255:\tlearn: 0.2126964\ttotal: 8.83s\tremaining: 25.7s\n",
      "256:\tlearn: 0.2126538\ttotal: 8.86s\tremaining: 25.6s\n",
      "257:\tlearn: 0.2123919\ttotal: 8.9s\tremaining: 25.6s\n",
      "258:\tlearn: 0.2122889\ttotal: 8.93s\tremaining: 25.6s\n",
      "259:\tlearn: 0.2120845\ttotal: 8.97s\tremaining: 25.5s\n",
      "260:\tlearn: 0.2120379\ttotal: 9.01s\tremaining: 25.5s\n",
      "261:\tlearn: 0.2119858\ttotal: 9.04s\tremaining: 25.5s\n",
      "262:\tlearn: 0.2119036\ttotal: 9.07s\tremaining: 25.4s\n",
      "263:\tlearn: 0.2117448\ttotal: 9.1s\tremaining: 25.4s\n",
      "264:\tlearn: 0.2116445\ttotal: 9.13s\tremaining: 25.3s\n",
      "265:\tlearn: 0.2116001\ttotal: 9.16s\tremaining: 25.3s\n",
      "266:\tlearn: 0.2115616\ttotal: 9.19s\tremaining: 25.2s\n",
      "267:\tlearn: 0.2114710\ttotal: 9.23s\tremaining: 25.2s\n",
      "268:\tlearn: 0.2112333\ttotal: 9.26s\tremaining: 25.2s\n",
      "269:\tlearn: 0.2107872\ttotal: 9.29s\tremaining: 25.1s\n",
      "270:\tlearn: 0.2099385\ttotal: 9.34s\tremaining: 25.1s\n",
      "271:\tlearn: 0.2098276\ttotal: 9.37s\tremaining: 25.1s\n",
      "272:\tlearn: 0.2098029\ttotal: 9.4s\tremaining: 25s\n",
      "273:\tlearn: 0.2093332\ttotal: 9.43s\tremaining: 25s\n",
      "274:\tlearn: 0.2091093\ttotal: 9.47s\tremaining: 25s\n",
      "275:\tlearn: 0.2091017\ttotal: 9.5s\tremaining: 24.9s\n",
      "276:\tlearn: 0.2087977\ttotal: 9.53s\tremaining: 24.9s\n",
      "277:\tlearn: 0.2086194\ttotal: 9.56s\tremaining: 24.8s\n",
      "278:\tlearn: 0.2085269\ttotal: 9.59s\tremaining: 24.8s\n",
      "279:\tlearn: 0.2084999\ttotal: 9.62s\tremaining: 24.7s\n",
      "280:\tlearn: 0.2080387\ttotal: 9.65s\tremaining: 24.7s\n",
      "281:\tlearn: 0.2079531\ttotal: 9.7s\tremaining: 24.7s\n",
      "282:\tlearn: 0.2079439\ttotal: 9.73s\tremaining: 24.7s\n",
      "283:\tlearn: 0.2078971\ttotal: 9.77s\tremaining: 24.6s\n",
      "284:\tlearn: 0.2077359\ttotal: 9.8s\tremaining: 24.6s\n",
      "285:\tlearn: 0.2076737\ttotal: 9.84s\tremaining: 24.6s\n",
      "286:\tlearn: 0.2074296\ttotal: 9.88s\tremaining: 24.5s\n",
      "287:\tlearn: 0.2072060\ttotal: 9.92s\tremaining: 24.5s\n",
      "288:\tlearn: 0.2068166\ttotal: 9.95s\tremaining: 24.5s\n",
      "289:\tlearn: 0.2067171\ttotal: 9.98s\tremaining: 24.4s\n",
      "290:\tlearn: 0.2066107\ttotal: 10s\tremaining: 24.4s\n",
      "291:\tlearn: 0.2065425\ttotal: 10.1s\tremaining: 24.4s\n",
      "292:\tlearn: 0.2063218\ttotal: 10.1s\tremaining: 24.4s\n",
      "293:\tlearn: 0.2058454\ttotal: 10.1s\tremaining: 24.4s\n",
      "294:\tlearn: 0.2058070\ttotal: 10.2s\tremaining: 24.3s\n",
      "295:\tlearn: 0.2057746\ttotal: 10.2s\tremaining: 24.3s\n",
      "296:\tlearn: 0.2056514\ttotal: 10.2s\tremaining: 24.2s\n",
      "297:\tlearn: 0.2055980\ttotal: 10.3s\tremaining: 24.2s\n",
      "298:\tlearn: 0.2045979\ttotal: 10.3s\tremaining: 24.1s\n",
      "299:\tlearn: 0.2045173\ttotal: 10.3s\tremaining: 24.1s\n",
      "300:\tlearn: 0.2042755\ttotal: 10.4s\tremaining: 24s\n",
      "301:\tlearn: 0.2040675\ttotal: 10.4s\tremaining: 24s\n",
      "302:\tlearn: 0.2039958\ttotal: 10.4s\tremaining: 24s\n",
      "303:\tlearn: 0.2039477\ttotal: 10.4s\tremaining: 23.9s\n",
      "304:\tlearn: 0.2038117\ttotal: 10.5s\tremaining: 23.9s\n",
      "305:\tlearn: 0.2037062\ttotal: 10.5s\tremaining: 23.8s\n",
      "306:\tlearn: 0.2032053\ttotal: 10.5s\tremaining: 23.8s\n",
      "307:\tlearn: 0.2031773\ttotal: 10.6s\tremaining: 23.8s\n",
      "308:\tlearn: 0.2031362\ttotal: 10.6s\tremaining: 23.7s\n",
      "309:\tlearn: 0.2031332\ttotal: 10.6s\tremaining: 23.7s\n",
      "310:\tlearn: 0.2030551\ttotal: 10.7s\tremaining: 23.6s\n",
      "311:\tlearn: 0.2022519\ttotal: 10.7s\tremaining: 23.6s\n",
      "312:\tlearn: 0.2018252\ttotal: 10.7s\tremaining: 23.6s\n",
      "313:\tlearn: 0.2017762\ttotal: 10.8s\tremaining: 23.6s\n",
      "314:\tlearn: 0.2017453\ttotal: 10.8s\tremaining: 23.5s\n",
      "315:\tlearn: 0.2017270\ttotal: 10.8s\tremaining: 23.5s\n",
      "316:\tlearn: 0.2016134\ttotal: 10.9s\tremaining: 23.4s\n",
      "317:\tlearn: 0.2016034\ttotal: 10.9s\tremaining: 23.4s\n",
      "318:\tlearn: 0.2011780\ttotal: 10.9s\tremaining: 23.4s\n",
      "319:\tlearn: 0.2010829\ttotal: 11s\tremaining: 23.3s\n",
      "320:\tlearn: 0.2010764\ttotal: 11s\tremaining: 23.3s\n",
      "321:\tlearn: 0.2010372\ttotal: 11s\tremaining: 23.2s\n",
      "322:\tlearn: 0.2009909\ttotal: 11.1s\tremaining: 23.2s\n",
      "323:\tlearn: 0.2008710\ttotal: 11.1s\tremaining: 23.1s\n",
      "324:\tlearn: 0.2008293\ttotal: 11.1s\tremaining: 23.1s\n",
      "325:\tlearn: 0.2007421\ttotal: 11.2s\tremaining: 23.1s\n",
      "326:\tlearn: 0.2007057\ttotal: 11.2s\tremaining: 23s\n"
     ]
    },
    {
     "name": "stdout",
     "output_type": "stream",
     "text": [
      "327:\tlearn: 0.2005080\ttotal: 11.2s\tremaining: 23s\n",
      "328:\tlearn: 0.2004507\ttotal: 11.3s\tremaining: 23s\n",
      "329:\tlearn: 0.2003990\ttotal: 11.3s\tremaining: 22.9s\n",
      "330:\tlearn: 0.2003713\ttotal: 11.3s\tremaining: 22.9s\n",
      "331:\tlearn: 0.2003117\ttotal: 11.4s\tremaining: 22.8s\n",
      "332:\tlearn: 0.2002501\ttotal: 11.4s\tremaining: 22.8s\n",
      "333:\tlearn: 0.2002462\ttotal: 11.4s\tremaining: 22.8s\n",
      "334:\tlearn: 0.2002317\ttotal: 11.4s\tremaining: 22.7s\n",
      "335:\tlearn: 0.2001066\ttotal: 11.5s\tremaining: 22.7s\n",
      "336:\tlearn: 0.2000876\ttotal: 11.5s\tremaining: 22.6s\n",
      "337:\tlearn: 0.1998930\ttotal: 11.6s\tremaining: 22.6s\n",
      "338:\tlearn: 0.1996618\ttotal: 11.6s\tremaining: 22.6s\n",
      "339:\tlearn: 0.1984795\ttotal: 11.6s\tremaining: 22.6s\n",
      "340:\tlearn: 0.1984256\ttotal: 11.7s\tremaining: 22.5s\n",
      "341:\tlearn: 0.1981666\ttotal: 11.7s\tremaining: 22.5s\n",
      "342:\tlearn: 0.1978966\ttotal: 11.7s\tremaining: 22.5s\n",
      "343:\tlearn: 0.1978594\ttotal: 11.8s\tremaining: 22.4s\n",
      "344:\tlearn: 0.1977564\ttotal: 11.8s\tremaining: 22.4s\n",
      "345:\tlearn: 0.1976254\ttotal: 11.8s\tremaining: 22.4s\n",
      "346:\tlearn: 0.1976056\ttotal: 11.9s\tremaining: 22.3s\n",
      "347:\tlearn: 0.1975594\ttotal: 11.9s\tremaining: 22.3s\n",
      "348:\tlearn: 0.1975408\ttotal: 11.9s\tremaining: 22.3s\n",
      "349:\tlearn: 0.1975325\ttotal: 12s\tremaining: 22.2s\n",
      "350:\tlearn: 0.1974611\ttotal: 12s\tremaining: 22.2s\n",
      "351:\tlearn: 0.1973729\ttotal: 12s\tremaining: 22.2s\n",
      "352:\tlearn: 0.1973399\ttotal: 12.1s\tremaining: 22.1s\n",
      "353:\tlearn: 0.1968936\ttotal: 12.1s\tremaining: 22.1s\n",
      "354:\tlearn: 0.1967591\ttotal: 12.1s\tremaining: 22.1s\n",
      "355:\tlearn: 0.1966744\ttotal: 12.2s\tremaining: 22s\n",
      "356:\tlearn: 0.1960714\ttotal: 12.2s\tremaining: 22s\n",
      "357:\tlearn: 0.1959847\ttotal: 12.3s\tremaining: 22s\n",
      "358:\tlearn: 0.1958411\ttotal: 12.3s\tremaining: 21.9s\n",
      "359:\tlearn: 0.1958046\ttotal: 12.3s\tremaining: 21.9s\n",
      "360:\tlearn: 0.1957055\ttotal: 12.4s\tremaining: 21.9s\n",
      "361:\tlearn: 0.1956880\ttotal: 12.4s\tremaining: 21.8s\n",
      "362:\tlearn: 0.1954472\ttotal: 12.4s\tremaining: 21.8s\n",
      "363:\tlearn: 0.1953631\ttotal: 12.5s\tremaining: 21.8s\n",
      "364:\tlearn: 0.1952575\ttotal: 12.5s\tremaining: 21.7s\n",
      "365:\tlearn: 0.1951867\ttotal: 12.5s\tremaining: 21.7s\n",
      "366:\tlearn: 0.1951575\ttotal: 12.6s\tremaining: 21.7s\n",
      "367:\tlearn: 0.1945925\ttotal: 12.6s\tremaining: 21.6s\n",
      "368:\tlearn: 0.1945778\ttotal: 12.6s\tremaining: 21.6s\n",
      "369:\tlearn: 0.1945194\ttotal: 12.7s\tremaining: 21.6s\n",
      "370:\tlearn: 0.1944745\ttotal: 12.7s\tremaining: 21.5s\n",
      "371:\tlearn: 0.1941285\ttotal: 12.7s\tremaining: 21.5s\n",
      "372:\tlearn: 0.1941123\ttotal: 12.8s\tremaining: 21.5s\n",
      "373:\tlearn: 0.1939506\ttotal: 12.8s\tremaining: 21.4s\n",
      "374:\tlearn: 0.1937453\ttotal: 12.8s\tremaining: 21.4s\n",
      "375:\tlearn: 0.1937181\ttotal: 12.9s\tremaining: 21.4s\n",
      "376:\tlearn: 0.1935850\ttotal: 12.9s\tremaining: 21.3s\n",
      "377:\tlearn: 0.1935142\ttotal: 12.9s\tremaining: 21.3s\n",
      "378:\tlearn: 0.1934887\ttotal: 13s\tremaining: 21.3s\n",
      "379:\tlearn: 0.1934715\ttotal: 13s\tremaining: 21.2s\n",
      "380:\tlearn: 0.1934063\ttotal: 13s\tremaining: 21.2s\n",
      "381:\tlearn: 0.1932664\ttotal: 13.1s\tremaining: 21.2s\n",
      "382:\tlearn: 0.1932366\ttotal: 13.1s\tremaining: 21.1s\n",
      "383:\tlearn: 0.1932132\ttotal: 13.1s\tremaining: 21.1s\n",
      "384:\tlearn: 0.1932081\ttotal: 13.2s\tremaining: 21s\n",
      "385:\tlearn: 0.1931382\ttotal: 13.2s\tremaining: 21s\n",
      "386:\tlearn: 0.1931237\ttotal: 13.2s\tremaining: 21s\n",
      "387:\tlearn: 0.1931027\ttotal: 13.3s\tremaining: 20.9s\n",
      "388:\tlearn: 0.1930848\ttotal: 13.3s\tremaining: 20.9s\n",
      "389:\tlearn: 0.1930283\ttotal: 13.3s\tremaining: 20.8s\n",
      "390:\tlearn: 0.1929948\ttotal: 13.3s\tremaining: 20.8s\n",
      "391:\tlearn: 0.1928866\ttotal: 13.4s\tremaining: 20.7s\n",
      "392:\tlearn: 0.1928050\ttotal: 13.4s\tremaining: 20.7s\n",
      "393:\tlearn: 0.1927939\ttotal: 13.4s\tremaining: 20.7s\n",
      "394:\tlearn: 0.1927652\ttotal: 13.5s\tremaining: 20.7s\n",
      "395:\tlearn: 0.1927144\ttotal: 13.5s\tremaining: 20.6s\n",
      "396:\tlearn: 0.1922192\ttotal: 13.5s\tremaining: 20.6s\n",
      "397:\tlearn: 0.1921883\ttotal: 13.6s\tremaining: 20.5s\n",
      "398:\tlearn: 0.1918574\ttotal: 13.6s\tremaining: 20.5s\n",
      "399:\tlearn: 0.1918225\ttotal: 13.6s\tremaining: 20.5s\n",
      "400:\tlearn: 0.1917671\ttotal: 13.7s\tremaining: 20.4s\n",
      "401:\tlearn: 0.1916424\ttotal: 13.7s\tremaining: 20.4s\n",
      "402:\tlearn: 0.1916318\ttotal: 13.7s\tremaining: 20.3s\n",
      "403:\tlearn: 0.1915505\ttotal: 13.8s\tremaining: 20.3s\n",
      "404:\tlearn: 0.1915275\ttotal: 13.8s\tremaining: 20.3s\n",
      "405:\tlearn: 0.1914488\ttotal: 13.8s\tremaining: 20.2s\n",
      "406:\tlearn: 0.1914043\ttotal: 13.9s\tremaining: 20.2s\n",
      "407:\tlearn: 0.1913797\ttotal: 13.9s\tremaining: 20.2s\n",
      "408:\tlearn: 0.1912964\ttotal: 13.9s\tremaining: 20.1s\n",
      "409:\tlearn: 0.1912829\ttotal: 14s\tremaining: 20.1s\n",
      "410:\tlearn: 0.1912385\ttotal: 14s\tremaining: 20s\n",
      "411:\tlearn: 0.1911659\ttotal: 14s\tremaining: 20s\n",
      "412:\tlearn: 0.1911576\ttotal: 14.1s\tremaining: 20s\n",
      "413:\tlearn: 0.1910166\ttotal: 14.1s\tremaining: 20s\n",
      "414:\tlearn: 0.1909821\ttotal: 14.1s\tremaining: 19.9s\n",
      "415:\tlearn: 0.1909638\ttotal: 14.2s\tremaining: 19.9s\n",
      "416:\tlearn: 0.1908974\ttotal: 14.2s\tremaining: 19.8s\n",
      "417:\tlearn: 0.1907450\ttotal: 14.2s\tremaining: 19.8s\n",
      "418:\tlearn: 0.1905072\ttotal: 14.2s\tremaining: 19.8s\n",
      "419:\tlearn: 0.1904919\ttotal: 14.3s\tremaining: 19.7s\n",
      "420:\tlearn: 0.1903885\ttotal: 14.3s\tremaining: 19.7s\n",
      "421:\tlearn: 0.1898003\ttotal: 14.4s\tremaining: 19.7s\n",
      "422:\tlearn: 0.1897245\ttotal: 14.4s\tremaining: 19.6s\n",
      "423:\tlearn: 0.1896603\ttotal: 14.4s\tremaining: 19.6s\n",
      "424:\tlearn: 0.1895733\ttotal: 14.5s\tremaining: 19.6s\n",
      "425:\tlearn: 0.1895651\ttotal: 14.5s\tremaining: 19.5s\n",
      "426:\tlearn: 0.1889401\ttotal: 14.5s\tremaining: 19.5s\n",
      "427:\tlearn: 0.1888236\ttotal: 14.6s\tremaining: 19.4s\n",
      "428:\tlearn: 0.1887000\ttotal: 14.6s\tremaining: 19.4s\n",
      "429:\tlearn: 0.1886984\ttotal: 14.6s\tremaining: 19.4s\n",
      "430:\tlearn: 0.1886870\ttotal: 14.6s\tremaining: 19.3s\n",
      "431:\tlearn: 0.1886850\ttotal: 14.7s\tremaining: 19.3s\n",
      "432:\tlearn: 0.1886833\ttotal: 14.7s\tremaining: 19.3s\n",
      "433:\tlearn: 0.1886691\ttotal: 14.7s\tremaining: 19.2s\n",
      "434:\tlearn: 0.1886373\ttotal: 14.8s\tremaining: 19.2s\n",
      "435:\tlearn: 0.1885614\ttotal: 14.8s\tremaining: 19.2s\n",
      "436:\tlearn: 0.1885613\ttotal: 14.8s\tremaining: 19.1s\n",
      "437:\tlearn: 0.1885439\ttotal: 14.9s\tremaining: 19.1s\n",
      "438:\tlearn: 0.1883316\ttotal: 14.9s\tremaining: 19.1s\n",
      "439:\tlearn: 0.1880795\ttotal: 14.9s\tremaining: 19s\n",
      "440:\tlearn: 0.1879236\ttotal: 15s\tremaining: 19s\n",
      "441:\tlearn: 0.1878204\ttotal: 15s\tremaining: 19s\n",
      "442:\tlearn: 0.1875006\ttotal: 15s\tremaining: 18.9s\n",
      "443:\tlearn: 0.1874850\ttotal: 15.1s\tremaining: 18.9s\n",
      "444:\tlearn: 0.1874515\ttotal: 15.1s\tremaining: 18.8s\n",
      "445:\tlearn: 0.1874458\ttotal: 15.1s\tremaining: 18.8s\n",
      "446:\tlearn: 0.1874211\ttotal: 15.2s\tremaining: 18.8s\n",
      "447:\tlearn: 0.1873897\ttotal: 15.2s\tremaining: 18.7s\n",
      "448:\tlearn: 0.1870193\ttotal: 15.2s\tremaining: 18.7s\n",
      "449:\tlearn: 0.1869299\ttotal: 15.3s\tremaining: 18.7s\n",
      "450:\tlearn: 0.1866508\ttotal: 15.3s\tremaining: 18.6s\n",
      "451:\tlearn: 0.1866289\ttotal: 15.3s\tremaining: 18.6s\n",
      "452:\tlearn: 0.1866235\ttotal: 15.4s\tremaining: 18.6s\n",
      "453:\tlearn: 0.1862974\ttotal: 15.4s\tremaining: 18.5s\n",
      "454:\tlearn: 0.1860662\ttotal: 15.4s\tremaining: 18.5s\n",
      "455:\tlearn: 0.1859165\ttotal: 15.5s\tremaining: 18.5s\n",
      "456:\tlearn: 0.1858714\ttotal: 15.5s\tremaining: 18.4s\n",
      "457:\tlearn: 0.1858516\ttotal: 15.5s\tremaining: 18.4s\n",
      "458:\tlearn: 0.1858417\ttotal: 15.6s\tremaining: 18.4s\n",
      "459:\tlearn: 0.1858274\ttotal: 15.6s\tremaining: 18.3s\n",
      "460:\tlearn: 0.1858239\ttotal: 15.6s\tremaining: 18.3s\n",
      "461:\tlearn: 0.1853002\ttotal: 15.7s\tremaining: 18.2s\n",
      "462:\tlearn: 0.1852939\ttotal: 15.7s\tremaining: 18.2s\n",
      "463:\tlearn: 0.1852531\ttotal: 15.7s\tremaining: 18.2s\n",
      "464:\tlearn: 0.1851792\ttotal: 15.8s\tremaining: 18.1s\n",
      "465:\tlearn: 0.1850610\ttotal: 15.8s\tremaining: 18.1s\n",
      "466:\tlearn: 0.1850444\ttotal: 15.8s\tremaining: 18.1s\n",
      "467:\tlearn: 0.1850384\ttotal: 15.9s\tremaining: 18s\n",
      "468:\tlearn: 0.1849879\ttotal: 15.9s\tremaining: 18s\n",
      "469:\tlearn: 0.1839928\ttotal: 15.9s\tremaining: 18s\n",
      "470:\tlearn: 0.1839921\ttotal: 16s\tremaining: 17.9s\n",
      "471:\tlearn: 0.1839822\ttotal: 16s\tremaining: 17.9s\n",
      "472:\tlearn: 0.1839558\ttotal: 16s\tremaining: 17.9s\n",
      "473:\tlearn: 0.1839445\ttotal: 16.1s\tremaining: 17.8s\n",
      "474:\tlearn: 0.1835629\ttotal: 16.1s\tremaining: 17.8s\n",
      "475:\tlearn: 0.1834520\ttotal: 16.1s\tremaining: 17.8s\n",
      "476:\tlearn: 0.1834271\ttotal: 16.2s\tremaining: 17.7s\n",
      "477:\tlearn: 0.1833576\ttotal: 16.2s\tremaining: 17.7s\n",
      "478:\tlearn: 0.1832877\ttotal: 16.2s\tremaining: 17.7s\n",
      "479:\tlearn: 0.1831991\ttotal: 16.3s\tremaining: 17.6s\n",
      "480:\tlearn: 0.1831956\ttotal: 16.3s\tremaining: 17.6s\n",
      "481:\tlearn: 0.1830641\ttotal: 16.3s\tremaining: 17.5s\n",
      "482:\tlearn: 0.1830377\ttotal: 16.4s\tremaining: 17.5s\n",
      "483:\tlearn: 0.1829347\ttotal: 16.4s\tremaining: 17.5s\n",
      "484:\tlearn: 0.1829192\ttotal: 16.4s\tremaining: 17.4s\n",
      "485:\tlearn: 0.1826512\ttotal: 16.5s\tremaining: 17.4s\n",
      "486:\tlearn: 0.1826203\ttotal: 16.5s\tremaining: 17.4s\n",
      "487:\tlearn: 0.1825745\ttotal: 16.5s\tremaining: 17.3s\n",
      "488:\tlearn: 0.1824500\ttotal: 16.5s\tremaining: 17.3s\n"
     ]
    },
    {
     "name": "stdout",
     "output_type": "stream",
     "text": [
      "489:\tlearn: 0.1823557\ttotal: 16.6s\tremaining: 17.3s\n",
      "490:\tlearn: 0.1823531\ttotal: 16.6s\tremaining: 17.2s\n",
      "491:\tlearn: 0.1819544\ttotal: 16.6s\tremaining: 17.2s\n",
      "492:\tlearn: 0.1819417\ttotal: 16.7s\tremaining: 17.2s\n",
      "493:\tlearn: 0.1818093\ttotal: 16.7s\tremaining: 17.1s\n",
      "494:\tlearn: 0.1817916\ttotal: 16.7s\tremaining: 17.1s\n",
      "495:\tlearn: 0.1817126\ttotal: 16.8s\tremaining: 17s\n",
      "496:\tlearn: 0.1817043\ttotal: 16.8s\tremaining: 17s\n",
      "497:\tlearn: 0.1816777\ttotal: 16.8s\tremaining: 17s\n",
      "498:\tlearn: 0.1814911\ttotal: 16.9s\tremaining: 16.9s\n",
      "499:\tlearn: 0.1814191\ttotal: 16.9s\tremaining: 16.9s\n",
      "500:\tlearn: 0.1814165\ttotal: 16.9s\tremaining: 16.9s\n",
      "501:\tlearn: 0.1813867\ttotal: 17s\tremaining: 16.8s\n",
      "502:\tlearn: 0.1810768\ttotal: 17s\tremaining: 16.8s\n",
      "503:\tlearn: 0.1810643\ttotal: 17s\tremaining: 16.8s\n",
      "504:\tlearn: 0.1805081\ttotal: 17.1s\tremaining: 16.7s\n",
      "505:\tlearn: 0.1804493\ttotal: 17.1s\tremaining: 16.7s\n",
      "506:\tlearn: 0.1804345\ttotal: 17.1s\tremaining: 16.7s\n",
      "507:\tlearn: 0.1804178\ttotal: 17.2s\tremaining: 16.6s\n",
      "508:\tlearn: 0.1803835\ttotal: 17.2s\tremaining: 16.6s\n",
      "509:\tlearn: 0.1803625\ttotal: 17.2s\tremaining: 16.5s\n",
      "510:\tlearn: 0.1802623\ttotal: 17.3s\tremaining: 16.5s\n",
      "511:\tlearn: 0.1802270\ttotal: 17.3s\tremaining: 16.5s\n",
      "512:\tlearn: 0.1802270\ttotal: 17.3s\tremaining: 16.5s\n",
      "513:\tlearn: 0.1798476\ttotal: 17.4s\tremaining: 16.4s\n",
      "514:\tlearn: 0.1797034\ttotal: 17.4s\tremaining: 16.4s\n",
      "515:\tlearn: 0.1796861\ttotal: 17.4s\tremaining: 16.3s\n",
      "516:\tlearn: 0.1794713\ttotal: 17.5s\tremaining: 16.3s\n",
      "517:\tlearn: 0.1794620\ttotal: 17.5s\tremaining: 16.3s\n",
      "518:\tlearn: 0.1794533\ttotal: 17.5s\tremaining: 16.2s\n",
      "519:\tlearn: 0.1794186\ttotal: 17.6s\tremaining: 16.2s\n",
      "520:\tlearn: 0.1794071\ttotal: 17.6s\tremaining: 16.2s\n",
      "521:\tlearn: 0.1792220\ttotal: 17.6s\tremaining: 16.1s\n",
      "522:\tlearn: 0.1792038\ttotal: 17.6s\tremaining: 16.1s\n",
      "523:\tlearn: 0.1791950\ttotal: 17.7s\tremaining: 16.1s\n",
      "524:\tlearn: 0.1791708\ttotal: 17.7s\tremaining: 16s\n",
      "525:\tlearn: 0.1791298\ttotal: 17.8s\tremaining: 16s\n",
      "526:\tlearn: 0.1791198\ttotal: 17.8s\tremaining: 16s\n",
      "527:\tlearn: 0.1790016\ttotal: 17.8s\tremaining: 15.9s\n",
      "528:\tlearn: 0.1789792\ttotal: 17.8s\tremaining: 15.9s\n",
      "529:\tlearn: 0.1789236\ttotal: 17.9s\tremaining: 15.8s\n",
      "530:\tlearn: 0.1789087\ttotal: 17.9s\tremaining: 15.8s\n",
      "531:\tlearn: 0.1788973\ttotal: 17.9s\tremaining: 15.8s\n",
      "532:\tlearn: 0.1788346\ttotal: 18s\tremaining: 15.7s\n",
      "533:\tlearn: 0.1788280\ttotal: 18s\tremaining: 15.7s\n",
      "534:\tlearn: 0.1787899\ttotal: 18s\tremaining: 15.7s\n",
      "535:\tlearn: 0.1787017\ttotal: 18.1s\tremaining: 15.6s\n",
      "536:\tlearn: 0.1785726\ttotal: 18.1s\tremaining: 15.6s\n",
      "537:\tlearn: 0.1781806\ttotal: 18.1s\tremaining: 15.6s\n",
      "538:\tlearn: 0.1781724\ttotal: 18.2s\tremaining: 15.5s\n",
      "539:\tlearn: 0.1778778\ttotal: 18.2s\tremaining: 15.5s\n",
      "540:\tlearn: 0.1778467\ttotal: 18.2s\tremaining: 15.5s\n",
      "541:\tlearn: 0.1776713\ttotal: 18.3s\tremaining: 15.4s\n",
      "542:\tlearn: 0.1776635\ttotal: 18.3s\tremaining: 15.4s\n",
      "543:\tlearn: 0.1774549\ttotal: 18.3s\tremaining: 15.4s\n",
      "544:\tlearn: 0.1773850\ttotal: 18.4s\tremaining: 15.3s\n",
      "545:\tlearn: 0.1773725\ttotal: 18.4s\tremaining: 15.3s\n",
      "546:\tlearn: 0.1772324\ttotal: 18.4s\tremaining: 15.3s\n",
      "547:\tlearn: 0.1769772\ttotal: 18.5s\tremaining: 15.2s\n",
      "548:\tlearn: 0.1769012\ttotal: 18.5s\tremaining: 15.2s\n",
      "549:\tlearn: 0.1767100\ttotal: 18.5s\tremaining: 15.2s\n",
      "550:\tlearn: 0.1760608\ttotal: 18.6s\tremaining: 15.1s\n",
      "551:\tlearn: 0.1760455\ttotal: 18.6s\tremaining: 15.1s\n",
      "552:\tlearn: 0.1760430\ttotal: 18.6s\tremaining: 15.1s\n",
      "553:\tlearn: 0.1759505\ttotal: 18.7s\tremaining: 15s\n",
      "554:\tlearn: 0.1759317\ttotal: 18.7s\tremaining: 15s\n",
      "555:\tlearn: 0.1758918\ttotal: 18.7s\tremaining: 15s\n",
      "556:\tlearn: 0.1758730\ttotal: 18.8s\tremaining: 14.9s\n",
      "557:\tlearn: 0.1758428\ttotal: 18.8s\tremaining: 14.9s\n",
      "558:\tlearn: 0.1755292\ttotal: 18.9s\tremaining: 14.9s\n",
      "559:\tlearn: 0.1753761\ttotal: 18.9s\tremaining: 14.8s\n",
      "560:\tlearn: 0.1752118\ttotal: 18.9s\tremaining: 14.8s\n",
      "561:\tlearn: 0.1751863\ttotal: 19s\tremaining: 14.8s\n",
      "562:\tlearn: 0.1751397\ttotal: 19s\tremaining: 14.7s\n",
      "563:\tlearn: 0.1751143\ttotal: 19s\tremaining: 14.7s\n",
      "564:\tlearn: 0.1749291\ttotal: 19.1s\tremaining: 14.7s\n",
      "565:\tlearn: 0.1748553\ttotal: 19.1s\tremaining: 14.6s\n",
      "566:\tlearn: 0.1747019\ttotal: 19.1s\tremaining: 14.6s\n",
      "567:\tlearn: 0.1746691\ttotal: 19.1s\tremaining: 14.6s\n",
      "568:\tlearn: 0.1742498\ttotal: 19.2s\tremaining: 14.5s\n",
      "569:\tlearn: 0.1742479\ttotal: 19.2s\tremaining: 14.5s\n",
      "570:\tlearn: 0.1742475\ttotal: 19.2s\tremaining: 14.5s\n",
      "571:\tlearn: 0.1742418\ttotal: 19.3s\tremaining: 14.4s\n",
      "572:\tlearn: 0.1741915\ttotal: 19.3s\tremaining: 14.4s\n",
      "573:\tlearn: 0.1741691\ttotal: 19.3s\tremaining: 14.4s\n",
      "574:\tlearn: 0.1740781\ttotal: 19.4s\tremaining: 14.3s\n",
      "575:\tlearn: 0.1739989\ttotal: 19.4s\tremaining: 14.3s\n",
      "576:\tlearn: 0.1739947\ttotal: 19.4s\tremaining: 14.3s\n",
      "577:\tlearn: 0.1739616\ttotal: 19.5s\tremaining: 14.2s\n",
      "578:\tlearn: 0.1739238\ttotal: 19.5s\tremaining: 14.2s\n",
      "579:\tlearn: 0.1739004\ttotal: 19.5s\tremaining: 14.1s\n",
      "580:\tlearn: 0.1738427\ttotal: 19.6s\tremaining: 14.1s\n",
      "581:\tlearn: 0.1738034\ttotal: 19.6s\tremaining: 14.1s\n",
      "582:\tlearn: 0.1736856\ttotal: 19.6s\tremaining: 14s\n",
      "583:\tlearn: 0.1734642\ttotal: 19.7s\tremaining: 14s\n",
      "584:\tlearn: 0.1734605\ttotal: 19.7s\tremaining: 14s\n",
      "585:\tlearn: 0.1734476\ttotal: 19.7s\tremaining: 13.9s\n",
      "586:\tlearn: 0.1734212\ttotal: 19.8s\tremaining: 13.9s\n",
      "587:\tlearn: 0.1733325\ttotal: 19.8s\tremaining: 13.9s\n",
      "588:\tlearn: 0.1733250\ttotal: 19.8s\tremaining: 13.8s\n",
      "589:\tlearn: 0.1733059\ttotal: 19.9s\tremaining: 13.8s\n",
      "590:\tlearn: 0.1731182\ttotal: 19.9s\tremaining: 13.8s\n",
      "591:\tlearn: 0.1730537\ttotal: 19.9s\tremaining: 13.7s\n",
      "592:\tlearn: 0.1730182\ttotal: 20s\tremaining: 13.7s\n",
      "593:\tlearn: 0.1730070\ttotal: 20s\tremaining: 13.7s\n",
      "594:\tlearn: 0.1729793\ttotal: 20s\tremaining: 13.6s\n",
      "595:\tlearn: 0.1729544\ttotal: 20.1s\tremaining: 13.6s\n",
      "596:\tlearn: 0.1725470\ttotal: 20.1s\tremaining: 13.6s\n",
      "597:\tlearn: 0.1724887\ttotal: 20.1s\tremaining: 13.5s\n",
      "598:\tlearn: 0.1724577\ttotal: 20.2s\tremaining: 13.5s\n",
      "599:\tlearn: 0.1724526\ttotal: 20.2s\tremaining: 13.5s\n",
      "600:\tlearn: 0.1723703\ttotal: 20.2s\tremaining: 13.4s\n",
      "601:\tlearn: 0.1723049\ttotal: 20.3s\tremaining: 13.4s\n",
      "602:\tlearn: 0.1722934\ttotal: 20.3s\tremaining: 13.4s\n",
      "603:\tlearn: 0.1722712\ttotal: 20.3s\tremaining: 13.3s\n",
      "604:\tlearn: 0.1721748\ttotal: 20.4s\tremaining: 13.3s\n",
      "605:\tlearn: 0.1721572\ttotal: 20.4s\tremaining: 13.3s\n",
      "606:\tlearn: 0.1719645\ttotal: 20.4s\tremaining: 13.2s\n",
      "607:\tlearn: 0.1718627\ttotal: 20.4s\tremaining: 13.2s\n",
      "608:\tlearn: 0.1716387\ttotal: 20.5s\tremaining: 13.1s\n",
      "609:\tlearn: 0.1716308\ttotal: 20.5s\tremaining: 13.1s\n",
      "610:\tlearn: 0.1715200\ttotal: 20.5s\tremaining: 13.1s\n",
      "611:\tlearn: 0.1714841\ttotal: 20.6s\tremaining: 13s\n",
      "612:\tlearn: 0.1714335\ttotal: 20.6s\tremaining: 13s\n",
      "613:\tlearn: 0.1712788\ttotal: 20.6s\tremaining: 13s\n",
      "614:\tlearn: 0.1712572\ttotal: 20.7s\tremaining: 12.9s\n",
      "615:\tlearn: 0.1712274\ttotal: 20.7s\tremaining: 12.9s\n",
      "616:\tlearn: 0.1712195\ttotal: 20.7s\tremaining: 12.9s\n",
      "617:\tlearn: 0.1709016\ttotal: 20.8s\tremaining: 12.9s\n",
      "618:\tlearn: 0.1708370\ttotal: 20.8s\tremaining: 12.8s\n",
      "619:\tlearn: 0.1707444\ttotal: 20.9s\tremaining: 12.8s\n",
      "620:\tlearn: 0.1707110\ttotal: 20.9s\tremaining: 12.7s\n",
      "621:\tlearn: 0.1706079\ttotal: 20.9s\tremaining: 12.7s\n",
      "622:\tlearn: 0.1704165\ttotal: 21s\tremaining: 12.7s\n",
      "623:\tlearn: 0.1703506\ttotal: 21s\tremaining: 12.6s\n",
      "624:\tlearn: 0.1703045\ttotal: 21s\tremaining: 12.6s\n",
      "625:\tlearn: 0.1702866\ttotal: 21.1s\tremaining: 12.6s\n",
      "626:\tlearn: 0.1699070\ttotal: 21.1s\tremaining: 12.5s\n",
      "627:\tlearn: 0.1698600\ttotal: 21.1s\tremaining: 12.5s\n",
      "628:\tlearn: 0.1696337\ttotal: 21.2s\tremaining: 12.5s\n",
      "629:\tlearn: 0.1696320\ttotal: 21.2s\tremaining: 12.4s\n",
      "630:\tlearn: 0.1696035\ttotal: 21.2s\tremaining: 12.4s\n",
      "631:\tlearn: 0.1695598\ttotal: 21.3s\tremaining: 12.4s\n",
      "632:\tlearn: 0.1695421\ttotal: 21.3s\tremaining: 12.3s\n",
      "633:\tlearn: 0.1693446\ttotal: 21.3s\tremaining: 12.3s\n",
      "634:\tlearn: 0.1693373\ttotal: 21.3s\tremaining: 12.3s\n",
      "635:\tlearn: 0.1693111\ttotal: 21.4s\tremaining: 12.2s\n",
      "636:\tlearn: 0.1692807\ttotal: 21.4s\tremaining: 12.2s\n",
      "637:\tlearn: 0.1692578\ttotal: 21.4s\tremaining: 12.2s\n",
      "638:\tlearn: 0.1692336\ttotal: 21.5s\tremaining: 12.1s\n",
      "639:\tlearn: 0.1692054\ttotal: 21.5s\tremaining: 12.1s\n",
      "640:\tlearn: 0.1692028\ttotal: 21.5s\tremaining: 12.1s\n",
      "641:\tlearn: 0.1691056\ttotal: 21.6s\tremaining: 12s\n",
      "642:\tlearn: 0.1690693\ttotal: 21.6s\tremaining: 12s\n",
      "643:\tlearn: 0.1688330\ttotal: 21.6s\tremaining: 12s\n",
      "644:\tlearn: 0.1687134\ttotal: 21.7s\tremaining: 11.9s\n",
      "645:\tlearn: 0.1684819\ttotal: 21.7s\tremaining: 11.9s\n",
      "646:\tlearn: 0.1680371\ttotal: 21.7s\tremaining: 11.9s\n",
      "647:\tlearn: 0.1679884\ttotal: 21.8s\tremaining: 11.8s\n",
      "648:\tlearn: 0.1678386\ttotal: 21.8s\tremaining: 11.8s\n",
      "649:\tlearn: 0.1677204\ttotal: 21.8s\tremaining: 11.8s\n",
      "650:\tlearn: 0.1675217\ttotal: 21.9s\tremaining: 11.7s\n",
      "651:\tlearn: 0.1675202\ttotal: 21.9s\tremaining: 11.7s\n"
     ]
    },
    {
     "name": "stdout",
     "output_type": "stream",
     "text": [
      "652:\tlearn: 0.1675033\ttotal: 21.9s\tremaining: 11.7s\n",
      "653:\tlearn: 0.1674563\ttotal: 22s\tremaining: 11.6s\n",
      "654:\tlearn: 0.1672696\ttotal: 22s\tremaining: 11.6s\n",
      "655:\tlearn: 0.1672668\ttotal: 22s\tremaining: 11.5s\n",
      "656:\tlearn: 0.1671746\ttotal: 22.1s\tremaining: 11.5s\n",
      "657:\tlearn: 0.1671731\ttotal: 22.1s\tremaining: 11.5s\n",
      "658:\tlearn: 0.1670885\ttotal: 22.1s\tremaining: 11.4s\n",
      "659:\tlearn: 0.1670684\ttotal: 22.2s\tremaining: 11.4s\n",
      "660:\tlearn: 0.1670589\ttotal: 22.2s\tremaining: 11.4s\n",
      "661:\tlearn: 0.1670476\ttotal: 22.2s\tremaining: 11.3s\n",
      "662:\tlearn: 0.1670441\ttotal: 22.2s\tremaining: 11.3s\n",
      "663:\tlearn: 0.1670428\ttotal: 22.3s\tremaining: 11.3s\n",
      "664:\tlearn: 0.1670376\ttotal: 22.3s\tremaining: 11.2s\n",
      "665:\tlearn: 0.1669549\ttotal: 22.3s\tremaining: 11.2s\n",
      "666:\tlearn: 0.1669200\ttotal: 22.4s\tremaining: 11.2s\n",
      "667:\tlearn: 0.1668831\ttotal: 22.4s\tremaining: 11.1s\n",
      "668:\tlearn: 0.1668057\ttotal: 22.4s\tremaining: 11.1s\n",
      "669:\tlearn: 0.1668025\ttotal: 22.5s\tremaining: 11.1s\n",
      "670:\tlearn: 0.1667862\ttotal: 22.5s\tremaining: 11s\n",
      "671:\tlearn: 0.1667633\ttotal: 22.5s\tremaining: 11s\n",
      "672:\tlearn: 0.1667552\ttotal: 22.5s\tremaining: 11s\n",
      "673:\tlearn: 0.1667371\ttotal: 22.6s\tremaining: 10.9s\n",
      "674:\tlearn: 0.1667355\ttotal: 22.6s\tremaining: 10.9s\n",
      "675:\tlearn: 0.1667248\ttotal: 22.7s\tremaining: 10.9s\n",
      "676:\tlearn: 0.1666189\ttotal: 22.7s\tremaining: 10.8s\n",
      "677:\tlearn: 0.1665546\ttotal: 22.7s\tremaining: 10.8s\n",
      "678:\tlearn: 0.1665478\ttotal: 22.7s\tremaining: 10.8s\n",
      "679:\tlearn: 0.1665325\ttotal: 22.8s\tremaining: 10.7s\n",
      "680:\tlearn: 0.1665262\ttotal: 22.8s\tremaining: 10.7s\n",
      "681:\tlearn: 0.1662679\ttotal: 22.9s\tremaining: 10.7s\n",
      "682:\tlearn: 0.1662614\ttotal: 22.9s\tremaining: 10.6s\n",
      "683:\tlearn: 0.1662422\ttotal: 22.9s\tremaining: 10.6s\n",
      "684:\tlearn: 0.1658277\ttotal: 22.9s\tremaining: 10.6s\n",
      "685:\tlearn: 0.1657335\ttotal: 23s\tremaining: 10.5s\n",
      "686:\tlearn: 0.1657329\ttotal: 23s\tremaining: 10.5s\n",
      "687:\tlearn: 0.1657246\ttotal: 23s\tremaining: 10.5s\n",
      "688:\tlearn: 0.1656967\ttotal: 23.1s\tremaining: 10.4s\n",
      "689:\tlearn: 0.1656655\ttotal: 23.1s\tremaining: 10.4s\n",
      "690:\tlearn: 0.1656616\ttotal: 23.1s\tremaining: 10.3s\n",
      "691:\tlearn: 0.1656592\ttotal: 23.2s\tremaining: 10.3s\n",
      "692:\tlearn: 0.1656279\ttotal: 23.2s\tremaining: 10.3s\n",
      "693:\tlearn: 0.1655884\ttotal: 23.2s\tremaining: 10.2s\n",
      "694:\tlearn: 0.1655527\ttotal: 23.3s\tremaining: 10.2s\n",
      "695:\tlearn: 0.1654501\ttotal: 23.3s\tremaining: 10.2s\n",
      "696:\tlearn: 0.1652244\ttotal: 23.3s\tremaining: 10.1s\n",
      "697:\tlearn: 0.1651873\ttotal: 23.4s\tremaining: 10.1s\n",
      "698:\tlearn: 0.1651860\ttotal: 23.4s\tremaining: 10.1s\n",
      "699:\tlearn: 0.1651823\ttotal: 23.4s\tremaining: 10s\n",
      "700:\tlearn: 0.1651684\ttotal: 23.5s\tremaining: 10s\n",
      "701:\tlearn: 0.1651623\ttotal: 23.5s\tremaining: 9.98s\n",
      "702:\tlearn: 0.1651579\ttotal: 23.5s\tremaining: 9.94s\n",
      "703:\tlearn: 0.1650830\ttotal: 23.6s\tremaining: 9.91s\n",
      "704:\tlearn: 0.1650682\ttotal: 23.6s\tremaining: 9.87s\n",
      "705:\tlearn: 0.1647873\ttotal: 23.6s\tremaining: 9.84s\n",
      "706:\tlearn: 0.1646684\ttotal: 23.7s\tremaining: 9.8s\n",
      "707:\tlearn: 0.1646592\ttotal: 23.7s\tremaining: 9.77s\n",
      "708:\tlearn: 0.1646583\ttotal: 23.7s\tremaining: 9.73s\n",
      "709:\tlearn: 0.1640825\ttotal: 23.8s\tremaining: 9.7s\n",
      "710:\tlearn: 0.1640664\ttotal: 23.8s\tremaining: 9.67s\n",
      "711:\tlearn: 0.1638144\ttotal: 23.8s\tremaining: 9.63s\n",
      "712:\tlearn: 0.1636897\ttotal: 23.8s\tremaining: 9.6s\n",
      "713:\tlearn: 0.1636034\ttotal: 23.9s\tremaining: 9.57s\n",
      "714:\tlearn: 0.1634391\ttotal: 23.9s\tremaining: 9.53s\n",
      "715:\tlearn: 0.1632672\ttotal: 23.9s\tremaining: 9.5s\n",
      "716:\tlearn: 0.1631536\ttotal: 24s\tremaining: 9.46s\n",
      "717:\tlearn: 0.1631192\ttotal: 24s\tremaining: 9.43s\n",
      "718:\tlearn: 0.1631192\ttotal: 24s\tremaining: 9.39s\n",
      "719:\tlearn: 0.1629067\ttotal: 24.1s\tremaining: 9.36s\n",
      "720:\tlearn: 0.1628669\ttotal: 24.1s\tremaining: 9.33s\n",
      "721:\tlearn: 0.1628546\ttotal: 24.1s\tremaining: 9.3s\n",
      "722:\tlearn: 0.1627666\ttotal: 24.2s\tremaining: 9.26s\n",
      "723:\tlearn: 0.1626896\ttotal: 24.2s\tremaining: 9.23s\n",
      "724:\tlearn: 0.1626832\ttotal: 24.2s\tremaining: 9.19s\n",
      "725:\tlearn: 0.1625137\ttotal: 24.3s\tremaining: 9.16s\n",
      "726:\tlearn: 0.1624245\ttotal: 24.3s\tremaining: 9.12s\n",
      "727:\tlearn: 0.1623104\ttotal: 24.3s\tremaining: 9.09s\n",
      "728:\tlearn: 0.1622991\ttotal: 24.4s\tremaining: 9.06s\n",
      "729:\tlearn: 0.1620380\ttotal: 24.4s\tremaining: 9.03s\n",
      "730:\tlearn: 0.1617338\ttotal: 24.4s\tremaining: 8.99s\n",
      "731:\tlearn: 0.1616830\ttotal: 24.5s\tremaining: 8.96s\n",
      "732:\tlearn: 0.1614827\ttotal: 24.5s\tremaining: 8.92s\n",
      "733:\tlearn: 0.1614738\ttotal: 24.5s\tremaining: 8.89s\n",
      "734:\tlearn: 0.1614540\ttotal: 24.6s\tremaining: 8.85s\n",
      "735:\tlearn: 0.1613801\ttotal: 24.6s\tremaining: 8.82s\n",
      "736:\tlearn: 0.1610941\ttotal: 24.6s\tremaining: 8.79s\n",
      "737:\tlearn: 0.1609659\ttotal: 24.7s\tremaining: 8.75s\n",
      "738:\tlearn: 0.1609464\ttotal: 24.7s\tremaining: 8.72s\n",
      "739:\tlearn: 0.1607416\ttotal: 24.7s\tremaining: 8.69s\n",
      "740:\tlearn: 0.1607364\ttotal: 24.8s\tremaining: 8.65s\n",
      "741:\tlearn: 0.1606901\ttotal: 24.8s\tremaining: 8.62s\n",
      "742:\tlearn: 0.1606821\ttotal: 24.8s\tremaining: 8.59s\n",
      "743:\tlearn: 0.1606750\ttotal: 24.9s\tremaining: 8.55s\n",
      "744:\tlearn: 0.1606668\ttotal: 24.9s\tremaining: 8.52s\n",
      "745:\tlearn: 0.1606651\ttotal: 24.9s\tremaining: 8.48s\n",
      "746:\tlearn: 0.1606603\ttotal: 24.9s\tremaining: 8.45s\n",
      "747:\tlearn: 0.1606226\ttotal: 25s\tremaining: 8.41s\n",
      "748:\tlearn: 0.1606024\ttotal: 25s\tremaining: 8.38s\n",
      "749:\tlearn: 0.1605882\ttotal: 25s\tremaining: 8.35s\n",
      "750:\tlearn: 0.1605856\ttotal: 25.1s\tremaining: 8.31s\n",
      "751:\tlearn: 0.1605762\ttotal: 25.1s\tremaining: 8.28s\n",
      "752:\tlearn: 0.1605118\ttotal: 25.1s\tremaining: 8.24s\n",
      "753:\tlearn: 0.1604987\ttotal: 25.2s\tremaining: 8.21s\n",
      "754:\tlearn: 0.1604825\ttotal: 25.2s\tremaining: 8.18s\n",
      "755:\tlearn: 0.1604824\ttotal: 25.2s\tremaining: 8.14s\n",
      "756:\tlearn: 0.1604759\ttotal: 25.3s\tremaining: 8.11s\n",
      "757:\tlearn: 0.1604641\ttotal: 25.3s\tremaining: 8.07s\n",
      "758:\tlearn: 0.1603859\ttotal: 25.3s\tremaining: 8.04s\n",
      "759:\tlearn: 0.1601396\ttotal: 25.4s\tremaining: 8.01s\n",
      "760:\tlearn: 0.1597667\ttotal: 25.4s\tremaining: 7.97s\n",
      "761:\tlearn: 0.1597431\ttotal: 25.4s\tremaining: 7.94s\n",
      "762:\tlearn: 0.1595929\ttotal: 25.5s\tremaining: 7.91s\n",
      "763:\tlearn: 0.1591140\ttotal: 25.5s\tremaining: 7.88s\n",
      "764:\tlearn: 0.1591096\ttotal: 25.5s\tremaining: 7.84s\n",
      "765:\tlearn: 0.1590875\ttotal: 25.5s\tremaining: 7.8s\n",
      "766:\tlearn: 0.1590242\ttotal: 25.6s\tremaining: 7.77s\n",
      "767:\tlearn: 0.1589748\ttotal: 25.6s\tremaining: 7.74s\n",
      "768:\tlearn: 0.1586106\ttotal: 25.7s\tremaining: 7.71s\n",
      "769:\tlearn: 0.1584191\ttotal: 25.7s\tremaining: 7.67s\n",
      "770:\tlearn: 0.1582252\ttotal: 25.7s\tremaining: 7.64s\n",
      "771:\tlearn: 0.1581373\ttotal: 25.8s\tremaining: 7.61s\n",
      "772:\tlearn: 0.1580623\ttotal: 25.8s\tremaining: 7.57s\n",
      "773:\tlearn: 0.1580608\ttotal: 25.8s\tremaining: 7.54s\n",
      "774:\tlearn: 0.1578680\ttotal: 25.8s\tremaining: 7.5s\n",
      "775:\tlearn: 0.1578305\ttotal: 25.9s\tremaining: 7.47s\n",
      "776:\tlearn: 0.1576098\ttotal: 25.9s\tremaining: 7.43s\n",
      "777:\tlearn: 0.1574378\ttotal: 26s\tremaining: 7.41s\n",
      "778:\tlearn: 0.1574332\ttotal: 26s\tremaining: 7.37s\n",
      "779:\tlearn: 0.1574141\ttotal: 26s\tremaining: 7.34s\n",
      "780:\tlearn: 0.1573875\ttotal: 26s\tremaining: 7.3s\n",
      "781:\tlearn: 0.1573671\ttotal: 26.1s\tremaining: 7.27s\n",
      "782:\tlearn: 0.1573490\ttotal: 26.1s\tremaining: 7.23s\n",
      "783:\tlearn: 0.1573487\ttotal: 26.1s\tremaining: 7.2s\n",
      "784:\tlearn: 0.1573291\ttotal: 26.2s\tremaining: 7.17s\n",
      "785:\tlearn: 0.1572693\ttotal: 26.2s\tremaining: 7.13s\n",
      "786:\tlearn: 0.1572036\ttotal: 26.2s\tremaining: 7.1s\n",
      "787:\tlearn: 0.1572030\ttotal: 26.3s\tremaining: 7.06s\n",
      "788:\tlearn: 0.1570289\ttotal: 26.3s\tremaining: 7.03s\n",
      "789:\tlearn: 0.1569963\ttotal: 26.3s\tremaining: 7s\n",
      "790:\tlearn: 0.1568316\ttotal: 26.4s\tremaining: 6.96s\n",
      "791:\tlearn: 0.1567729\ttotal: 26.4s\tremaining: 6.93s\n",
      "792:\tlearn: 0.1567664\ttotal: 26.4s\tremaining: 6.9s\n",
      "793:\tlearn: 0.1567644\ttotal: 26.5s\tremaining: 6.86s\n",
      "794:\tlearn: 0.1567592\ttotal: 26.5s\tremaining: 6.83s\n",
      "795:\tlearn: 0.1567528\ttotal: 26.5s\tremaining: 6.79s\n",
      "796:\tlearn: 0.1566804\ttotal: 26.5s\tremaining: 6.76s\n",
      "797:\tlearn: 0.1566768\ttotal: 26.6s\tremaining: 6.72s\n",
      "798:\tlearn: 0.1566719\ttotal: 26.6s\tremaining: 6.69s\n",
      "799:\tlearn: 0.1566252\ttotal: 26.6s\tremaining: 6.66s\n",
      "800:\tlearn: 0.1566174\ttotal: 26.7s\tremaining: 6.63s\n",
      "801:\tlearn: 0.1566160\ttotal: 26.7s\tremaining: 6.59s\n",
      "802:\tlearn: 0.1565285\ttotal: 26.7s\tremaining: 6.56s\n",
      "803:\tlearn: 0.1560884\ttotal: 26.8s\tremaining: 6.52s\n",
      "804:\tlearn: 0.1559194\ttotal: 26.8s\tremaining: 6.49s\n",
      "805:\tlearn: 0.1559109\ttotal: 26.8s\tremaining: 6.46s\n",
      "806:\tlearn: 0.1558570\ttotal: 26.9s\tremaining: 6.42s\n",
      "807:\tlearn: 0.1558286\ttotal: 26.9s\tremaining: 6.39s\n",
      "808:\tlearn: 0.1557101\ttotal: 26.9s\tremaining: 6.36s\n",
      "809:\tlearn: 0.1556967\ttotal: 27s\tremaining: 6.32s\n",
      "810:\tlearn: 0.1556930\ttotal: 27s\tremaining: 6.29s\n",
      "811:\tlearn: 0.1555216\ttotal: 27s\tremaining: 6.26s\n"
     ]
    },
    {
     "name": "stdout",
     "output_type": "stream",
     "text": [
      "812:\tlearn: 0.1555159\ttotal: 27.1s\tremaining: 6.22s\n",
      "813:\tlearn: 0.1554235\ttotal: 27.1s\tremaining: 6.19s\n",
      "814:\tlearn: 0.1554159\ttotal: 27.1s\tremaining: 6.16s\n",
      "815:\tlearn: 0.1552832\ttotal: 27.2s\tremaining: 6.12s\n",
      "816:\tlearn: 0.1552687\ttotal: 27.2s\tremaining: 6.09s\n",
      "817:\tlearn: 0.1552655\ttotal: 27.2s\tremaining: 6.06s\n",
      "818:\tlearn: 0.1551786\ttotal: 27.2s\tremaining: 6.02s\n",
      "819:\tlearn: 0.1551421\ttotal: 27.3s\tremaining: 5.99s\n",
      "820:\tlearn: 0.1551160\ttotal: 27.3s\tremaining: 5.95s\n",
      "821:\tlearn: 0.1550301\ttotal: 27.3s\tremaining: 5.92s\n",
      "822:\tlearn: 0.1545199\ttotal: 27.4s\tremaining: 5.89s\n",
      "823:\tlearn: 0.1545104\ttotal: 27.4s\tremaining: 5.85s\n",
      "824:\tlearn: 0.1545087\ttotal: 27.4s\tremaining: 5.82s\n",
      "825:\tlearn: 0.1544704\ttotal: 27.5s\tremaining: 5.79s\n",
      "826:\tlearn: 0.1544606\ttotal: 27.5s\tremaining: 5.75s\n",
      "827:\tlearn: 0.1544478\ttotal: 27.5s\tremaining: 5.72s\n",
      "828:\tlearn: 0.1541415\ttotal: 27.6s\tremaining: 5.68s\n",
      "829:\tlearn: 0.1540647\ttotal: 27.6s\tremaining: 5.65s\n",
      "830:\tlearn: 0.1540435\ttotal: 27.6s\tremaining: 5.62s\n",
      "831:\tlearn: 0.1539882\ttotal: 27.7s\tremaining: 5.58s\n",
      "832:\tlearn: 0.1539494\ttotal: 27.7s\tremaining: 5.55s\n",
      "833:\tlearn: 0.1539336\ttotal: 27.7s\tremaining: 5.52s\n",
      "834:\tlearn: 0.1538992\ttotal: 27.8s\tremaining: 5.49s\n",
      "835:\tlearn: 0.1535861\ttotal: 27.8s\tremaining: 5.45s\n",
      "836:\tlearn: 0.1535562\ttotal: 27.8s\tremaining: 5.42s\n",
      "837:\tlearn: 0.1535514\ttotal: 27.9s\tremaining: 5.38s\n",
      "838:\tlearn: 0.1535216\ttotal: 27.9s\tremaining: 5.35s\n",
      "839:\tlearn: 0.1534504\ttotal: 27.9s\tremaining: 5.32s\n",
      "840:\tlearn: 0.1534262\ttotal: 28s\tremaining: 5.28s\n",
      "841:\tlearn: 0.1533779\ttotal: 28s\tremaining: 5.25s\n",
      "842:\tlearn: 0.1533753\ttotal: 28s\tremaining: 5.22s\n",
      "843:\tlearn: 0.1532570\ttotal: 28s\tremaining: 5.18s\n",
      "844:\tlearn: 0.1532482\ttotal: 28.1s\tremaining: 5.15s\n",
      "845:\tlearn: 0.1529363\ttotal: 28.1s\tremaining: 5.12s\n",
      "846:\tlearn: 0.1528032\ttotal: 28.1s\tremaining: 5.08s\n",
      "847:\tlearn: 0.1528023\ttotal: 28.2s\tremaining: 5.05s\n",
      "848:\tlearn: 0.1527921\ttotal: 28.2s\tremaining: 5.02s\n",
      "849:\tlearn: 0.1527329\ttotal: 28.2s\tremaining: 4.98s\n",
      "850:\tlearn: 0.1527227\ttotal: 28.3s\tremaining: 4.95s\n",
      "851:\tlearn: 0.1527150\ttotal: 28.3s\tremaining: 4.92s\n",
      "852:\tlearn: 0.1524278\ttotal: 28.3s\tremaining: 4.88s\n",
      "853:\tlearn: 0.1523880\ttotal: 28.4s\tremaining: 4.85s\n",
      "854:\tlearn: 0.1521068\ttotal: 28.4s\tremaining: 4.82s\n",
      "855:\tlearn: 0.1520985\ttotal: 28.4s\tremaining: 4.78s\n",
      "856:\tlearn: 0.1520726\ttotal: 28.5s\tremaining: 4.75s\n",
      "857:\tlearn: 0.1520672\ttotal: 28.5s\tremaining: 4.71s\n",
      "858:\tlearn: 0.1520621\ttotal: 28.5s\tremaining: 4.68s\n",
      "859:\tlearn: 0.1520330\ttotal: 28.5s\tremaining: 4.65s\n",
      "860:\tlearn: 0.1520288\ttotal: 28.6s\tremaining: 4.61s\n",
      "861:\tlearn: 0.1520208\ttotal: 28.6s\tremaining: 4.58s\n",
      "862:\tlearn: 0.1519781\ttotal: 28.6s\tremaining: 4.54s\n",
      "863:\tlearn: 0.1519595\ttotal: 28.7s\tremaining: 4.51s\n",
      "864:\tlearn: 0.1519592\ttotal: 28.7s\tremaining: 4.48s\n",
      "865:\tlearn: 0.1519541\ttotal: 28.7s\tremaining: 4.44s\n",
      "866:\tlearn: 0.1519513\ttotal: 28.7s\tremaining: 4.41s\n",
      "867:\tlearn: 0.1519496\ttotal: 28.8s\tremaining: 4.38s\n",
      "868:\tlearn: 0.1519275\ttotal: 28.8s\tremaining: 4.34s\n",
      "869:\tlearn: 0.1519187\ttotal: 28.8s\tremaining: 4.31s\n",
      "870:\tlearn: 0.1518888\ttotal: 28.9s\tremaining: 4.28s\n",
      "871:\tlearn: 0.1518419\ttotal: 28.9s\tremaining: 4.24s\n",
      "872:\tlearn: 0.1518041\ttotal: 28.9s\tremaining: 4.21s\n",
      "873:\tlearn: 0.1517975\ttotal: 29s\tremaining: 4.17s\n",
      "874:\tlearn: 0.1516618\ttotal: 29s\tremaining: 4.14s\n",
      "875:\tlearn: 0.1516172\ttotal: 29s\tremaining: 4.11s\n",
      "876:\tlearn: 0.1516004\ttotal: 29s\tremaining: 4.07s\n",
      "877:\tlearn: 0.1515874\ttotal: 29.1s\tremaining: 4.04s\n",
      "878:\tlearn: 0.1515871\ttotal: 29.1s\tremaining: 4.01s\n",
      "879:\tlearn: 0.1515816\ttotal: 29.1s\tremaining: 3.97s\n",
      "880:\tlearn: 0.1515686\ttotal: 29.2s\tremaining: 3.94s\n",
      "881:\tlearn: 0.1515636\ttotal: 29.2s\tremaining: 3.9s\n",
      "882:\tlearn: 0.1515279\ttotal: 29.2s\tremaining: 3.87s\n",
      "883:\tlearn: 0.1515251\ttotal: 29.3s\tremaining: 3.84s\n",
      "884:\tlearn: 0.1515211\ttotal: 29.3s\tremaining: 3.81s\n",
      "885:\tlearn: 0.1515103\ttotal: 29.3s\tremaining: 3.77s\n",
      "886:\tlearn: 0.1514337\ttotal: 29.3s\tremaining: 3.74s\n",
      "887:\tlearn: 0.1514316\ttotal: 29.4s\tremaining: 3.7s\n",
      "888:\tlearn: 0.1514316\ttotal: 29.4s\tremaining: 3.67s\n",
      "889:\tlearn: 0.1513492\ttotal: 29.4s\tremaining: 3.64s\n",
      "890:\tlearn: 0.1513485\ttotal: 29.5s\tremaining: 3.61s\n",
      "891:\tlearn: 0.1513477\ttotal: 29.5s\tremaining: 3.57s\n",
      "892:\tlearn: 0.1513427\ttotal: 29.5s\tremaining: 3.54s\n",
      "893:\tlearn: 0.1513394\ttotal: 29.6s\tremaining: 3.5s\n",
      "894:\tlearn: 0.1513365\ttotal: 29.6s\tremaining: 3.47s\n",
      "895:\tlearn: 0.1513309\ttotal: 29.6s\tremaining: 3.44s\n",
      "896:\tlearn: 0.1513183\ttotal: 29.7s\tremaining: 3.4s\n",
      "897:\tlearn: 0.1512773\ttotal: 29.7s\tremaining: 3.37s\n",
      "898:\tlearn: 0.1512724\ttotal: 29.7s\tremaining: 3.34s\n",
      "899:\tlearn: 0.1512237\ttotal: 29.8s\tremaining: 3.31s\n",
      "900:\tlearn: 0.1511651\ttotal: 29.8s\tremaining: 3.27s\n",
      "901:\tlearn: 0.1511565\ttotal: 29.8s\tremaining: 3.24s\n",
      "902:\tlearn: 0.1511179\ttotal: 29.8s\tremaining: 3.21s\n",
      "903:\tlearn: 0.1511143\ttotal: 29.9s\tremaining: 3.17s\n",
      "904:\tlearn: 0.1509736\ttotal: 29.9s\tremaining: 3.14s\n",
      "905:\tlearn: 0.1509687\ttotal: 29.9s\tremaining: 3.11s\n",
      "906:\tlearn: 0.1509225\ttotal: 30s\tremaining: 3.07s\n",
      "907:\tlearn: 0.1509220\ttotal: 30s\tremaining: 3.04s\n",
      "908:\tlearn: 0.1508708\ttotal: 30s\tremaining: 3.01s\n",
      "909:\tlearn: 0.1508697\ttotal: 30.1s\tremaining: 2.97s\n",
      "910:\tlearn: 0.1508691\ttotal: 30.1s\tremaining: 2.94s\n",
      "911:\tlearn: 0.1506812\ttotal: 30.1s\tremaining: 2.91s\n",
      "912:\tlearn: 0.1506062\ttotal: 30.2s\tremaining: 2.87s\n",
      "913:\tlearn: 0.1504527\ttotal: 30.2s\tremaining: 2.84s\n",
      "914:\tlearn: 0.1504478\ttotal: 30.2s\tremaining: 2.81s\n",
      "915:\tlearn: 0.1500548\ttotal: 30.3s\tremaining: 2.77s\n",
      "916:\tlearn: 0.1497549\ttotal: 30.3s\tremaining: 2.74s\n",
      "917:\tlearn: 0.1497537\ttotal: 30.3s\tremaining: 2.71s\n",
      "918:\tlearn: 0.1496867\ttotal: 30.4s\tremaining: 2.67s\n",
      "919:\tlearn: 0.1496030\ttotal: 30.4s\tremaining: 2.64s\n",
      "920:\tlearn: 0.1495580\ttotal: 30.4s\tremaining: 2.61s\n",
      "921:\tlearn: 0.1495341\ttotal: 30.4s\tremaining: 2.58s\n",
      "922:\tlearn: 0.1491733\ttotal: 30.5s\tremaining: 2.54s\n",
      "923:\tlearn: 0.1491714\ttotal: 30.5s\tremaining: 2.51s\n",
      "924:\tlearn: 0.1491104\ttotal: 30.5s\tremaining: 2.48s\n",
      "925:\tlearn: 0.1490736\ttotal: 30.6s\tremaining: 2.44s\n",
      "926:\tlearn: 0.1490300\ttotal: 30.6s\tremaining: 2.41s\n",
      "927:\tlearn: 0.1490253\ttotal: 30.6s\tremaining: 2.38s\n",
      "928:\tlearn: 0.1490117\ttotal: 30.7s\tremaining: 2.34s\n",
      "929:\tlearn: 0.1488376\ttotal: 30.7s\tremaining: 2.31s\n",
      "930:\tlearn: 0.1487935\ttotal: 30.7s\tremaining: 2.28s\n",
      "931:\tlearn: 0.1486272\ttotal: 30.8s\tremaining: 2.24s\n",
      "932:\tlearn: 0.1482983\ttotal: 30.8s\tremaining: 2.21s\n",
      "933:\tlearn: 0.1482906\ttotal: 30.8s\tremaining: 2.18s\n",
      "934:\tlearn: 0.1482334\ttotal: 30.9s\tremaining: 2.15s\n",
      "935:\tlearn: 0.1482090\ttotal: 30.9s\tremaining: 2.11s\n",
      "936:\tlearn: 0.1482077\ttotal: 30.9s\tremaining: 2.08s\n",
      "937:\tlearn: 0.1481555\ttotal: 30.9s\tremaining: 2.04s\n",
      "938:\tlearn: 0.1481403\ttotal: 31s\tremaining: 2.01s\n",
      "939:\tlearn: 0.1481374\ttotal: 31s\tremaining: 1.98s\n",
      "940:\tlearn: 0.1481371\ttotal: 31s\tremaining: 1.95s\n",
      "941:\tlearn: 0.1481298\ttotal: 31.1s\tremaining: 1.91s\n",
      "942:\tlearn: 0.1481114\ttotal: 31.1s\tremaining: 1.88s\n",
      "943:\tlearn: 0.1481071\ttotal: 31.1s\tremaining: 1.85s\n",
      "944:\tlearn: 0.1481032\ttotal: 31.2s\tremaining: 1.81s\n",
      "945:\tlearn: 0.1481016\ttotal: 31.2s\tremaining: 1.78s\n",
      "946:\tlearn: 0.1480554\ttotal: 31.2s\tremaining: 1.75s\n",
      "947:\tlearn: 0.1480462\ttotal: 31.3s\tremaining: 1.71s\n",
      "948:\tlearn: 0.1480456\ttotal: 31.3s\tremaining: 1.68s\n",
      "949:\tlearn: 0.1479999\ttotal: 31.3s\tremaining: 1.65s\n",
      "950:\tlearn: 0.1479875\ttotal: 31.3s\tremaining: 1.61s\n",
      "951:\tlearn: 0.1479611\ttotal: 31.4s\tremaining: 1.58s\n",
      "952:\tlearn: 0.1478455\ttotal: 31.4s\tremaining: 1.55s\n",
      "953:\tlearn: 0.1477422\ttotal: 31.5s\tremaining: 1.52s\n",
      "954:\tlearn: 0.1477323\ttotal: 31.5s\tremaining: 1.48s\n",
      "955:\tlearn: 0.1476323\ttotal: 31.5s\tremaining: 1.45s\n",
      "956:\tlearn: 0.1476205\ttotal: 31.5s\tremaining: 1.42s\n",
      "957:\tlearn: 0.1476190\ttotal: 31.6s\tremaining: 1.38s\n",
      "958:\tlearn: 0.1476176\ttotal: 31.6s\tremaining: 1.35s\n",
      "959:\tlearn: 0.1476018\ttotal: 31.6s\tremaining: 1.32s\n",
      "960:\tlearn: 0.1474160\ttotal: 31.7s\tremaining: 1.28s\n",
      "961:\tlearn: 0.1474120\ttotal: 31.7s\tremaining: 1.25s\n",
      "962:\tlearn: 0.1467325\ttotal: 31.7s\tremaining: 1.22s\n",
      "963:\tlearn: 0.1467283\ttotal: 31.7s\tremaining: 1.19s\n",
      "964:\tlearn: 0.1467060\ttotal: 31.8s\tremaining: 1.15s\n",
      "965:\tlearn: 0.1467043\ttotal: 31.8s\tremaining: 1.12s\n",
      "966:\tlearn: 0.1465933\ttotal: 31.8s\tremaining: 1.09s\n",
      "967:\tlearn: 0.1465886\ttotal: 31.9s\tremaining: 1.05s\n",
      "968:\tlearn: 0.1465304\ttotal: 31.9s\tremaining: 1.02s\n",
      "969:\tlearn: 0.1465295\ttotal: 31.9s\tremaining: 988ms\n",
      "970:\tlearn: 0.1463611\ttotal: 32s\tremaining: 955ms\n",
      "971:\tlearn: 0.1463576\ttotal: 32s\tremaining: 922ms\n",
      "972:\tlearn: 0.1463565\ttotal: 32s\tremaining: 889ms\n",
      "973:\tlearn: 0.1463550\ttotal: 32.1s\tremaining: 856ms\n"
     ]
    },
    {
     "name": "stdout",
     "output_type": "stream",
     "text": [
      "974:\tlearn: 0.1462754\ttotal: 32.1s\tremaining: 823ms\n",
      "975:\tlearn: 0.1462676\ttotal: 32.1s\tremaining: 790ms\n",
      "976:\tlearn: 0.1462660\ttotal: 32.2s\tremaining: 757ms\n",
      "977:\tlearn: 0.1461688\ttotal: 32.2s\tremaining: 724ms\n",
      "978:\tlearn: 0.1461570\ttotal: 32.2s\tremaining: 691ms\n",
      "979:\tlearn: 0.1461559\ttotal: 32.2s\tremaining: 658ms\n",
      "980:\tlearn: 0.1461289\ttotal: 32.3s\tremaining: 625ms\n",
      "981:\tlearn: 0.1461048\ttotal: 32.3s\tremaining: 592ms\n",
      "982:\tlearn: 0.1461023\ttotal: 32.3s\tremaining: 559ms\n",
      "983:\tlearn: 0.1461005\ttotal: 32.4s\tremaining: 526ms\n",
      "984:\tlearn: 0.1460780\ttotal: 32.4s\tremaining: 493ms\n",
      "985:\tlearn: 0.1459049\ttotal: 32.4s\tremaining: 461ms\n",
      "986:\tlearn: 0.1458996\ttotal: 32.5s\tremaining: 428ms\n",
      "987:\tlearn: 0.1458648\ttotal: 32.5s\tremaining: 395ms\n",
      "988:\tlearn: 0.1458486\ttotal: 32.5s\tremaining: 362ms\n",
      "989:\tlearn: 0.1458444\ttotal: 32.6s\tremaining: 329ms\n",
      "990:\tlearn: 0.1458123\ttotal: 32.6s\tremaining: 296ms\n",
      "991:\tlearn: 0.1457724\ttotal: 32.6s\tremaining: 263ms\n",
      "992:\tlearn: 0.1456656\ttotal: 32.7s\tremaining: 230ms\n",
      "993:\tlearn: 0.1456465\ttotal: 32.7s\tremaining: 197ms\n",
      "994:\tlearn: 0.1456457\ttotal: 32.7s\tremaining: 164ms\n",
      "995:\tlearn: 0.1456329\ttotal: 32.8s\tremaining: 132ms\n",
      "996:\tlearn: 0.1456304\ttotal: 32.8s\tremaining: 98.6ms\n",
      "997:\tlearn: 0.1456203\ttotal: 32.8s\tremaining: 65.8ms\n",
      "998:\tlearn: 0.1455885\ttotal: 32.8s\tremaining: 32.9ms\n",
      "999:\tlearn: 0.1455742\ttotal: 32.9s\tremaining: 0us\n",
      "f1 score: 0.8585604658127695\n"
     ]
    }
   ],
   "source": [
    "# Call the modeling function for CatBoost with countvectorizer and print f1 score\n",
    "\n",
    "clf = CatBoostClassifier(iterations=1000, learning_rate=0.8, \n",
    "                            depth=2, loss_function='Logloss')\n",
    "\n",
    "clf.fit(count_vect_train, y_train)\n",
    "\n",
    "y_pred = clf.predict(count_vect_test)\n",
    "\n",
    "score = f1_score(y_test, y_pred, average = 'weighted')\n",
    "\n",
    "# Printing evaluation metric (f1-score) \n",
    "print(\"f1 score: {}\".format(score))"
   ]
  },
  {
   "cell_type": "code",
   "execution_count": 234,
   "metadata": {},
   "outputs": [],
   "source": [
    "# Assign y_pred to a variable for further process\n",
    "y_pred_cv_catboost = y_pred"
   ]
  },
  {
   "cell_type": "code",
   "execution_count": 235,
   "metadata": {},
   "outputs": [
    {
     "data": {
      "text/plain": [
       "0.8637873754152824"
      ]
     },
     "execution_count": 235,
     "metadata": {},
     "output_type": "execute_result"
    }
   ],
   "source": [
    "# Compute and print the accuracy score\n",
    "metrics.accuracy_score(y_test, y_pred_cv_catboost)"
   ]
  },
  {
   "cell_type": "code",
   "execution_count": 236,
   "metadata": {},
   "outputs": [
    {
     "name": "stdout",
     "output_type": "stream",
     "text": [
      "              precision    recall  f1-score   support\n",
      "\n",
      "           0       0.75      0.61      0.67       621\n",
      "           1       0.89      0.94      0.91      2088\n",
      "\n",
      "   micro avg       0.86      0.86      0.86      2709\n",
      "   macro avg       0.82      0.77      0.79      2709\n",
      "weighted avg       0.86      0.86      0.86      2709\n",
      "\n"
     ]
    }
   ],
   "source": [
    "# Compute and print the classification report\n",
    "print(classification_report(y_test, y_pred_cv_catboost))"
   ]
  },
  {
   "cell_type": "code",
   "execution_count": 237,
   "metadata": {},
   "outputs": [
    {
     "data": {
      "image/png": "[encoded data removed]",
      "text/plain": [
       "<Figure size 576x576 with 2 Axes>"
      ]
     },
     "metadata": {
      "needs_background": "light"
     },
     "output_type": "display_data"
    }
   ],
   "source": [
    "# Print confusion matrix for CatBoost with countVectorizer\n",
    "disp_confusion_matrix(y_pred_cv_catboost, \"CatBoosting\")"
   ]
  },
  {
   "cell_type": "markdown",
   "metadata": {},
   "source": [
    "## 4.1.6 Comparison of Models with CountVectorizer"
   ]
  },
  {
   "cell_type": "markdown",
   "metadata": {},
   "source": [
    "**Functions for Algorithms Comparison**"
   ]
  },
  {
   "cell_type": "code",
   "execution_count": 238,
   "metadata": {},
   "outputs": [],
   "source": [
    "# Function for converting the \"classification report\" results to a dataframe\n",
    "def pandas_classification_report(y_true, y_pred):\n",
    "    metrics_summary = precision_recall_fscore_support(\n",
    "            y_true=y_true, \n",
    "            y_pred=y_pred)\n",
    "\n",
    "    avg = list(precision_recall_fscore_support(\n",
    "            y_true=y_true, \n",
    "            y_pred=y_pred,\n",
    "            average='weighted'))\n",
    "\n",
    "    metrics_sum_index = ['precision', 'recall', 'f1-score', 'support']\n",
    "    class_report_df = pd.DataFrame(\n",
    "        list(metrics_summary),\n",
    "        index=metrics_sum_index)\n",
    "\n",
    "    support = class_report_df.loc['support']\n",
    "    total = support.sum() \n",
    "    avg[-1] = total\n",
    "\n",
    "    class_report_df['weighted avg'] = avg\n",
    "\n",
    "    return class_report_df.T\n",
    "\n",
    "# Function for adding explanatory columns and organizing all dataframe\n",
    "def comparison_matrix(y_test, y_pred, label, vector):\n",
    "    df = pandas_classification_report(y_test, y_pred)\n",
    "    df['class']=['bad', 'good', 'average']\n",
    "    df['accuracy']= metrics.accuracy_score(y_test, y_pred)\n",
    "    df['model'] = label\n",
    "    df['vectorizer'] = vector\n",
    "    df = df[['vectorizer', 'model', 'accuracy', 'class', 'precision', 'recall', 'f1-score', 'support']]\n",
    "    return df"
   ]
  },
  {
   "cell_type": "code",
   "execution_count": 239,
   "metadata": {},
   "outputs": [],
   "source": [
    "#For loop for using \"comparison functions\" \n",
    "\n",
    "def comparison_table(y_preds, labels):\n",
    "    \n",
    "    # empty list for collecting dataframes\n",
    "    frames_tv = [] \n",
    "    \n",
    "    # list for y_preds\n",
    "    y_preds_tv = y_preds\n",
    "    \n",
    "    # list for labels\n",
    "    labels_tv = labels  \n",
    "    \n",
    "    vector_tv = 'CountVect'\n",
    "    \n",
    "    for y_pred, label in zip(y_preds_tv, labels_tv):\n",
    "        df = comparison_matrix(y_test, y_pred, label, vector_tv)\n",
    "        frames_tv.append(df)\n",
    "\n",
    "    # concatenating all dataframes\n",
    "    global df_tv\n",
    "    df_tv = pd.concat(frames_tv)\n",
    "    \n",
    "    global df_tv2\n",
    "    df_tv2 = df_tv.set_index(['vectorizer', 'model', 'accuracy', 'class'])"
   ]
  },
  {
   "cell_type": "markdown",
   "metadata": {},
   "source": [
    "**Function for f1 Score Plotting**"
   ]
  },
  {
   "cell_type": "code",
   "execution_count": 240,
   "metadata": {},
   "outputs": [],
   "source": [
    "def f1_score_bar_plot(df, category, title):\n",
    "    df = df[df['class']==category]\n",
    "    x = list(df['model'])\n",
    "    y = list(df['f1-score'])\n",
    "    y_round = list(round(df['f1-score'],2))\n",
    "    a = (list(df['f1-score'])).index(max(list(df['f1-score'])))\n",
    "    z = (list(df['f1-score'])).index(min(list(df['f1-score'])))\n",
    "    y_mean = round(df['f1-score'].mean(),2)\n",
    "    \n",
    "    plt.rcParams['figure.figsize']=[15,5]\n",
    "    b_plot = plt.bar(x=x,height=y)\n",
    "    b_plot[a].set_color('g')\n",
    "    b_plot[z].set_color('r')\n",
    "    \n",
    "    for i,v in enumerate(y_round):\n",
    "        plt.text(i-.15,0.018,str(v), color='black', fontsize=15, fontweight='bold')\n",
    "    \n",
    "    plt.axhline(y_mean,ls='--',color='k',label=y_mean)\n",
    "    plt.title(title)\n",
    "    plt.legend()\n",
    "    \n",
    "    return plt.show()"
   ]
  },
  {
   "cell_type": "markdown",
   "metadata": {},
   "source": [
    "**Algorithms Comparison with CountVectorizer**"
   ]
  },
  {
   "cell_type": "code",
   "execution_count": 241,
   "metadata": {},
   "outputs": [],
   "source": [
    "comparison_table(y_preds = [y_pred_cv_logreg, y_pred_cv_dt, y_pred_cv_rf, y_pred_cv_nb, y_pred_cv_svm, y_pred_cv_ksvm, y_pred_cv_xgb, y_pred_cv_catboost], \n",
    "                labels = ['LogReg', 'Decision Tree', 'Random Forest', 'Naive Bayes', 'SVM', 'Kernel SVM', 'XGBoost', 'CatBoost'])"
   ]
  },
  {
   "cell_type": "code",
   "execution_count": 242,
   "metadata": {},
   "outputs": [
    {
     "data": {
      "text/html": [
       "<div>\n",
       "<style scoped>\n",
       "    .dataframe tbody tr th:only-of-type {\n",
       "        vertical-align: middle;\n",
       "    }\n",
       "\n",
       "    .dataframe tbody tr th {\n",
       "        vertical-align: top;\n",
       "    }\n",
       "\n",
       "    .dataframe thead th {\n",
       "        text-align: right;\n",
       "    }\n",
       "</style>\n",
       "<table border=\"1\" class=\"dataframe\">\n",
       "  <thead>\n",
       "    <tr style=\"text-align: right;\">\n",
       "      <th></th>\n",
       "      <th></th>\n",
       "      <th></th>\n",
       "      <th></th>\n",
       "      <th>precision</th>\n",
       "      <th>recall</th>\n",
       "      <th>f1-score</th>\n",
       "      <th>support</th>\n",
       "    </tr>\n",
       "    <tr>\n",
       "      <th>vectorizer</th>\n",
       "      <th>model</th>\n",
       "      <th>accuracy</th>\n",
       "      <th>class</th>\n",
       "      <th></th>\n",
       "      <th></th>\n",
       "      <th></th>\n",
       "      <th></th>\n",
       "    </tr>\n",
       "  </thead>\n",
       "  <tbody>\n",
       "    <tr>\n",
       "      <th rowspan=\"24\" valign=\"top\">CountVect</th>\n",
       "      <th rowspan=\"3\" valign=\"top\">LogReg</th>\n",
       "      <th rowspan=\"3\" valign=\"top\">0.874123</th>\n",
       "      <th>bad</th>\n",
       "      <td>0.699430</td>\n",
       "      <td>0.790660</td>\n",
       "      <td>0.742252</td>\n",
       "      <td>621.0</td>\n",
       "    </tr>\n",
       "    <tr>\n",
       "      <th>good</th>\n",
       "      <td>0.935227</td>\n",
       "      <td>0.898946</td>\n",
       "      <td>0.916728</td>\n",
       "      <td>2088.0</td>\n",
       "    </tr>\n",
       "    <tr>\n",
       "      <th>average</th>\n",
       "      <td>0.881174</td>\n",
       "      <td>0.874123</td>\n",
       "      <td>0.876732</td>\n",
       "      <td>2709.0</td>\n",
       "    </tr>\n",
       "    <tr>\n",
       "      <th rowspan=\"3\" valign=\"top\">Decision Tree</th>\n",
       "      <th rowspan=\"3\" valign=\"top\">0.808047</th>\n",
       "      <th>bad</th>\n",
       "      <td>0.592661</td>\n",
       "      <td>0.520129</td>\n",
       "      <td>0.554031</td>\n",
       "      <td>621.0</td>\n",
       "    </tr>\n",
       "    <tr>\n",
       "      <th>good</th>\n",
       "      <td>0.862292</td>\n",
       "      <td>0.893678</td>\n",
       "      <td>0.877705</td>\n",
       "      <td>2088.0</td>\n",
       "    </tr>\n",
       "    <tr>\n",
       "      <th>average</th>\n",
       "      <td>0.800483</td>\n",
       "      <td>0.808047</td>\n",
       "      <td>0.803507</td>\n",
       "      <td>2709.0</td>\n",
       "    </tr>\n",
       "    <tr>\n",
       "      <th rowspan=\"3\" valign=\"top\">Random Forest</th>\n",
       "      <th rowspan=\"3\" valign=\"top\">0.853082</th>\n",
       "      <th>bad</th>\n",
       "      <td>0.888502</td>\n",
       "      <td>0.410628</td>\n",
       "      <td>0.561674</td>\n",
       "      <td>621.0</td>\n",
       "    </tr>\n",
       "    <tr>\n",
       "      <th>good</th>\n",
       "      <td>0.848885</td>\n",
       "      <td>0.984674</td>\n",
       "      <td>0.911752</td>\n",
       "      <td>2088.0</td>\n",
       "    </tr>\n",
       "    <tr>\n",
       "      <th>average</th>\n",
       "      <td>0.857967</td>\n",
       "      <td>0.853082</td>\n",
       "      <td>0.831501</td>\n",
       "      <td>2709.0</td>\n",
       "    </tr>\n",
       "    <tr>\n",
       "      <th rowspan=\"3\" valign=\"top\">Naive Bayes</th>\n",
       "      <th rowspan=\"3\" valign=\"top\">0.868217</th>\n",
       "      <th>bad</th>\n",
       "      <td>0.773859</td>\n",
       "      <td>0.600644</td>\n",
       "      <td>0.676337</td>\n",
       "      <td>621.0</td>\n",
       "    </tr>\n",
       "    <tr>\n",
       "      <th>good</th>\n",
       "      <td>0.888639</td>\n",
       "      <td>0.947797</td>\n",
       "      <td>0.917265</td>\n",
       "      <td>2088.0</td>\n",
       "    </tr>\n",
       "    <tr>\n",
       "      <th>average</th>\n",
       "      <td>0.862328</td>\n",
       "      <td>0.868217</td>\n",
       "      <td>0.862036</td>\n",
       "      <td>2709.0</td>\n",
       "    </tr>\n",
       "    <tr>\n",
       "      <th rowspan=\"3\" valign=\"top\">SVM</th>\n",
       "      <th rowspan=\"3\" valign=\"top\">0.853082</th>\n",
       "      <th>bad</th>\n",
       "      <td>0.700180</td>\n",
       "      <td>0.628019</td>\n",
       "      <td>0.662139</td>\n",
       "      <td>621.0</td>\n",
       "    </tr>\n",
       "    <tr>\n",
       "      <th>good</th>\n",
       "      <td>0.892658</td>\n",
       "      <td>0.920019</td>\n",
       "      <td>0.906132</td>\n",
       "      <td>2088.0</td>\n",
       "    </tr>\n",
       "    <tr>\n",
       "      <th>average</th>\n",
       "      <td>0.848535</td>\n",
       "      <td>0.853082</td>\n",
       "      <td>0.850200</td>\n",
       "      <td>2709.0</td>\n",
       "    </tr>\n",
       "    <tr>\n",
       "      <th rowspan=\"3\" valign=\"top\">Kernel SVM</th>\n",
       "      <th rowspan=\"3\" valign=\"top\">0.770764</th>\n",
       "      <th>bad</th>\n",
       "      <td>0.000000</td>\n",
       "      <td>0.000000</td>\n",
       "      <td>0.000000</td>\n",
       "      <td>621.0</td>\n",
       "    </tr>\n",
       "    <tr>\n",
       "      <th>good</th>\n",
       "      <td>0.770764</td>\n",
       "      <td>1.000000</td>\n",
       "      <td>0.870544</td>\n",
       "      <td>2088.0</td>\n",
       "    </tr>\n",
       "    <tr>\n",
       "      <th>average</th>\n",
       "      <td>0.594077</td>\n",
       "      <td>0.770764</td>\n",
       "      <td>0.670984</td>\n",
       "      <td>2709.0</td>\n",
       "    </tr>\n",
       "    <tr>\n",
       "      <th rowspan=\"3\" valign=\"top\">XGBoost</th>\n",
       "      <th rowspan=\"3\" valign=\"top\">0.851237</th>\n",
       "      <th>bad</th>\n",
       "      <td>0.793011</td>\n",
       "      <td>0.475040</td>\n",
       "      <td>0.594159</td>\n",
       "      <td>621.0</td>\n",
       "    </tr>\n",
       "    <tr>\n",
       "      <th>good</th>\n",
       "      <td>0.860505</td>\n",
       "      <td>0.963123</td>\n",
       "      <td>0.908927</td>\n",
       "      <td>2088.0</td>\n",
       "    </tr>\n",
       "    <tr>\n",
       "      <th>average</th>\n",
       "      <td>0.845033</td>\n",
       "      <td>0.851237</td>\n",
       "      <td>0.836771</td>\n",
       "      <td>2709.0</td>\n",
       "    </tr>\n",
       "    <tr>\n",
       "      <th rowspan=\"3\" valign=\"top\">CatBoost</th>\n",
       "      <th rowspan=\"3\" valign=\"top\">0.863787</th>\n",
       "      <th>bad</th>\n",
       "      <td>0.750000</td>\n",
       "      <td>0.608696</td>\n",
       "      <td>0.672000</td>\n",
       "      <td>621.0</td>\n",
       "    </tr>\n",
       "    <tr>\n",
       "      <th>good</th>\n",
       "      <td>0.889796</td>\n",
       "      <td>0.939655</td>\n",
       "      <td>0.914046</td>\n",
       "      <td>2088.0</td>\n",
       "    </tr>\n",
       "    <tr>\n",
       "      <th>average</th>\n",
       "      <td>0.857750</td>\n",
       "      <td>0.863787</td>\n",
       "      <td>0.858560</td>\n",
       "      <td>2709.0</td>\n",
       "    </tr>\n",
       "  </tbody>\n",
       "</table>\n",
       "</div>"
      ],
      "text/plain": [
       "                                           precision    recall  f1-score  \\\n",
       "vectorizer model         accuracy class                                    \n",
       "CountVect  LogReg        0.874123 bad       0.699430  0.790660  0.742252   \n",
       "                                  good      0.935227  0.898946  0.916728   \n",
       "                                  average   0.881174  0.874123  0.876732   \n",
       "           Decision Tree 0.808047 bad       0.592661  0.520129  0.554031   \n",
       "                                  good      0.862292  0.893678  0.877705   \n",
       "                                  average   0.800483  0.808047  0.803507   \n",
       "           Random Forest 0.853082 bad       0.888502  0.410628  0.561674   \n",
       "                                  good      0.848885  0.984674  0.911752   \n",
       "                                  average   0.857967  0.853082  0.831501   \n",
       "           Naive Bayes   0.868217 bad       0.773859  0.600644  0.676337   \n",
       "                                  good      0.888639  0.947797  0.917265   \n",
       "                                  average   0.862328  0.868217  0.862036   \n",
       "           SVM           0.853082 bad       0.700180  0.628019  0.662139   \n",
       "                                  good      0.892658  0.920019  0.906132   \n",
       "                                  average   0.848535  0.853082  0.850200   \n",
       "           Kernel SVM    0.770764 bad       0.000000  0.000000  0.000000   \n",
       "                                  good      0.770764  1.000000  0.870544   \n",
       "                                  average   0.594077  0.770764  0.670984   \n",
       "           XGBoost       0.851237 bad       0.793011  0.475040  0.594159   \n",
       "                                  good      0.860505  0.963123  0.908927   \n",
       "                                  average   0.845033  0.851237  0.836771   \n",
       "           CatBoost      0.863787 bad       0.750000  0.608696  0.672000   \n",
       "                                  good      0.889796  0.939655  0.914046   \n",
       "                                  average   0.857750  0.863787  0.858560   \n",
       "\n",
       "                                           support  \n",
       "vectorizer model         accuracy class             \n",
       "CountVect  LogReg        0.874123 bad        621.0  \n",
       "                                  good      2088.0  \n",
       "                                  average   2709.0  \n",
       "           Decision Tree 0.808047 bad        621.0  \n",
       "                                  good      2088.0  \n",
       "                                  average   2709.0  \n",
       "           Random Forest 0.853082 bad        621.0  \n",
       "                                  good      2088.0  \n",
       "                                  average   2709.0  \n",
       "           Naive Bayes   0.868217 bad        621.0  \n",
       "                                  good      2088.0  \n",
       "                                  average   2709.0  \n",
       "           SVM           0.853082 bad        621.0  \n",
       "                                  good      2088.0  \n",
       "                                  average   2709.0  \n",
       "           Kernel SVM    0.770764 bad        621.0  \n",
       "                                  good      2088.0  \n",
       "                                  average   2709.0  \n",
       "           XGBoost       0.851237 bad        621.0  \n",
       "                                  good      2088.0  \n",
       "                                  average   2709.0  \n",
       "           CatBoost      0.863787 bad        621.0  \n",
       "                                  good      2088.0  \n",
       "                                  average   2709.0  "
      ]
     },
     "execution_count": 242,
     "metadata": {},
     "output_type": "execute_result"
    }
   ],
   "source": [
    "df_tv2"
   ]
  },
  {
   "cell_type": "markdown",
   "metadata": {},
   "source": [
    "**Average f1 Score - Models with CountVectorizer**"
   ]
  },
  {
   "cell_type": "code",
   "execution_count": 243,
   "metadata": {},
   "outputs": [
    {
     "data": {
      "image/png": "[encoded data removed]",
      "text/plain": [
       "<Figure size 1080x360 with 1 Axes>"
      ]
     },
     "metadata": {
      "needs_background": "light"
     },
     "output_type": "display_data"
    }
   ],
   "source": [
    "# Plotting f1 score with \"f1_score_bar_plot\" function\n",
    "f1_score_bar_plot(df=df_tv, category='average', title= \"Average f1 Score\")"
   ]
  },
  {
   "cell_type": "markdown",
   "metadata": {},
   "source": [
    "## 4.2 TF-IDF "
   ]
  },
  {
   "cell_type": "markdown",
   "metadata": {},
   "source": [
    "In order to help our model focus more on meaningful words, we can use a TF-IDF score (Term Frequency, Inverse Document Frequency) on top of our Bag of Words model. TF-IDF weighs words by how rare they are in our dataset, discounting words that are too frequent and just add to the noise."
   ]
  },
  {
   "cell_type": "code",
   "execution_count": 245,
   "metadata": {},
   "outputs": [],
   "source": [
    "# Create the word vector with TF-IDF Vectorizer\n",
    "tfidf_vect = TfidfVectorizer(ngram_range=(1, 1))"
   ]
  },
  {
   "cell_type": "code",
   "execution_count": 277,
   "metadata": {},
   "outputs": [],
   "source": [
    "tfidf_vect_train = tfidf_vect.fit_transform(X_train)"
   ]
  },
  {
   "cell_type": "code",
   "execution_count": 278,
   "metadata": {},
   "outputs": [],
   "source": [
    "tfidf_vect_train = tfidf_vect_train.toarray()\n",
    "tfidf_vect_test = tfidf_vect.transform(X_test)\n",
    "tfidf_vect_test = tfidf_vect_test.toarray()"
   ]
  },
  {
   "cell_type": "markdown",
   "metadata": {},
   "source": [
    "### 4.2.1 Logistic Regression with TF-IDF"
   ]
  },
  {
   "cell_type": "code",
   "execution_count": 279,
   "metadata": {},
   "outputs": [
    {
     "name": "stdout",
     "output_type": "stream",
     "text": [
      "f1 score: 0.8687603863573706\n"
     ]
    }
   ],
   "source": [
    "# Call the modeling function for logistic regression with TF-IDF and print f1 score\n",
    "modeling(LogisticRegression(multi_class = 'multinomial', solver = 'newton-cg', \n",
    "                            class_weight = 'balanced', C = 0.1, n_jobs = -1, random_state = 42), \n",
    "                            tfidf_vect_train, tfidf_vect_test)\n",
    "\n",
    "# Assign y_pred to a variable for further process\n",
    "y_pred_tfidf_logreg = y_pred"
   ]
  },
  {
   "cell_type": "code",
   "execution_count": null,
   "metadata": {},
   "outputs": [],
   "source": []
  },
  {
   "cell_type": "code",
   "execution_count": null,
   "metadata": {},
   "outputs": [],
   "source": []
  },
  {
   "cell_type": "code",
   "execution_count": null,
   "metadata": {},
   "outputs": [],
   "source": []
  },
  {
   "cell_type": "code",
   "execution_count": null,
   "metadata": {},
   "outputs": [],
   "source": []
  },
  {
   "cell_type": "code",
   "execution_count": null,
   "metadata": {},
   "outputs": [],
   "source": []
  },
  {
   "cell_type": "code",
   "execution_count": null,
   "metadata": {},
   "outputs": [],
   "source": []
  },
  {
   "cell_type": "code",
   "execution_count": null,
   "metadata": {},
   "outputs": [],
   "source": []
  },
  {
   "cell_type": "code",
   "execution_count": null,
   "metadata": {},
   "outputs": [],
   "source": []
  },
  {
   "cell_type": "code",
   "execution_count": null,
   "metadata": {},
   "outputs": [],
   "source": []
  },
  {
   "cell_type": "code",
   "execution_count": null,
   "metadata": {},
   "outputs": [],
   "source": []
  },
  {
   "cell_type": "code",
   "execution_count": null,
   "metadata": {},
   "outputs": [],
   "source": []
  },
  {
   "cell_type": "markdown",
   "metadata": {},
   "source": [
    "### 4.1.6 Comparison of Models with CountVectorizer"
   ]
  },
  {
   "cell_type": "markdown",
   "metadata": {},
   "source": [
    "**Functions for Algorithms Comparison**"
   ]
  },
  {
   "cell_type": "code",
   "execution_count": 107,
   "metadata": {},
   "outputs": [],
   "source": [
    "m_s_i = ['precision', 'recall', 'f1-score', 'support']\n",
    "m_y_i = ['precision', 'recall']\n",
    "avg1 = precision_recall_fscore_support(y_pred_cv_logreg, y_pred)\n",
    "class_report_ff = pd.DataFrame(avg1, index=m_s_i)\n",
    "class_report_dd = pd.DataFrame(avg1, columns=m_y_i)"
   ]
  },
  {
   "cell_type": "code",
   "execution_count": 109,
   "metadata": {},
   "outputs": [
    {
     "data": {
      "text/plain": [
       "(array([0.88492063, 0.88390023]),\n",
       " array([0.63532764, 0.97110115]),\n",
       " array([0.73963516, 0.92545109]),\n",
       " array([ 702, 2007]))"
      ]
     },
     "execution_count": 109,
     "metadata": {},
     "output_type": "execute_result"
    }
   ],
   "source": [
    "avg1"
   ]
  },
  {
   "cell_type": "code",
   "execution_count": 108,
   "metadata": {},
   "outputs": [
    {
     "data": {
      "text/html": [
       "<div>\n",
       "<style scoped>\n",
       "    .dataframe tbody tr th:only-of-type {\n",
       "        vertical-align: middle;\n",
       "    }\n",
       "\n",
       "    .dataframe tbody tr th {\n",
       "        vertical-align: top;\n",
       "    }\n",
       "\n",
       "    .dataframe thead th {\n",
       "        text-align: right;\n",
       "    }\n",
       "</style>\n",
       "<table border=\"1\" class=\"dataframe\">\n",
       "  <thead>\n",
       "    <tr style=\"text-align: right;\">\n",
       "      <th></th>\n",
       "      <th>precision</th>\n",
       "      <th>recall</th>\n",
       "    </tr>\n",
       "  </thead>\n",
       "  <tbody>\n",
       "    <tr>\n",
       "      <th>0</th>\n",
       "      <td>0.884921</td>\n",
       "      <td>0.883900</td>\n",
       "    </tr>\n",
       "    <tr>\n",
       "      <th>1</th>\n",
       "      <td>0.635328</td>\n",
       "      <td>0.971101</td>\n",
       "    </tr>\n",
       "    <tr>\n",
       "      <th>2</th>\n",
       "      <td>0.739635</td>\n",
       "      <td>0.925451</td>\n",
       "    </tr>\n",
       "    <tr>\n",
       "      <th>3</th>\n",
       "      <td>702.000000</td>\n",
       "      <td>2007.000000</td>\n",
       "    </tr>\n",
       "  </tbody>\n",
       "</table>\n",
       "</div>"
      ],
      "text/plain": [
       "    precision       recall\n",
       "0    0.884921     0.883900\n",
       "1    0.635328     0.971101\n",
       "2    0.739635     0.925451\n",
       "3  702.000000  2007.000000"
      ]
     },
     "execution_count": 108,
     "metadata": {},
     "output_type": "execute_result"
    }
   ],
   "source": [
    "class_report_dd"
   ]
  },
  {
   "cell_type": "code",
   "execution_count": 110,
   "metadata": {},
   "outputs": [
    {
     "data": {
      "text/html": [
       "<div>\n",
       "<style scoped>\n",
       "    .dataframe tbody tr th:only-of-type {\n",
       "        vertical-align: middle;\n",
       "    }\n",
       "\n",
       "    .dataframe tbody tr th {\n",
       "        vertical-align: top;\n",
       "    }\n",
       "\n",
       "    .dataframe thead th {\n",
       "        text-align: right;\n",
       "    }\n",
       "</style>\n",
       "<table border=\"1\" class=\"dataframe\">\n",
       "  <thead>\n",
       "    <tr style=\"text-align: right;\">\n",
       "      <th></th>\n",
       "      <th>precision</th>\n",
       "      <th>recall</th>\n",
       "      <th>f1-score</th>\n",
       "      <th>support</th>\n",
       "    </tr>\n",
       "  </thead>\n",
       "  <tbody>\n",
       "    <tr>\n",
       "      <th>0</th>\n",
       "      <td>0.884921</td>\n",
       "      <td>0.635328</td>\n",
       "      <td>0.739635</td>\n",
       "      <td>702.0</td>\n",
       "    </tr>\n",
       "    <tr>\n",
       "      <th>1</th>\n",
       "      <td>0.883900</td>\n",
       "      <td>0.971101</td>\n",
       "      <td>0.925451</td>\n",
       "      <td>2007.0</td>\n",
       "    </tr>\n",
       "  </tbody>\n",
       "</table>\n",
       "</div>"
      ],
      "text/plain": [
       "   precision    recall  f1-score  support\n",
       "0   0.884921  0.635328  0.739635    702.0\n",
       "1   0.883900  0.971101  0.925451   2007.0"
      ]
     },
     "execution_count": 110,
     "metadata": {},
     "output_type": "execute_result"
    }
   ],
   "source": [
    "class_report_ff.T"
   ]
  },
  {
   "cell_type": "code",
   "execution_count": 95,
   "metadata": {},
   "outputs": [],
   "source": [
    "metrics_summary = precision_recall_fscore_support(y_pred_cv_logreg, y_pred)\n",
    "\n",
    "avg = list(precision_recall_fscore_support(y_pred_cv_logreg, y_pred, average='weighted'))\n",
    "\n",
    "metrics_sum_index = ['precision', 'recall', 'f1-score', 'support']\n",
    "    \n",
    "class_report_df = pd.DataFrame(\n",
    "    list(metrics_summary),\n",
    "    index=metrics_sum_index)\n",
    "\n",
    "support = class_report_df.loc['support']\n",
    "total = support.sum() \n",
    "avg[-1] = total\n",
    "\n",
    "class_report_df['weighted avg'] = avg\n"
   ]
  },
  {
   "cell_type": "code",
   "execution_count": 96,
   "metadata": {},
   "outputs": [
    {
     "data": {
      "text/plain": [
       "(array([0.88492063, 0.88390023]),\n",
       " array([0.63532764, 0.97110115]),\n",
       " array([0.73963516, 0.92545109]),\n",
       " array([ 702, 2007]))"
      ]
     },
     "execution_count": 96,
     "metadata": {},
     "output_type": "execute_result"
    }
   ],
   "source": [
    "metrics_summary"
   ]
  },
  {
   "cell_type": "code",
   "execution_count": 97,
   "metadata": {},
   "outputs": [
    {
     "data": {
      "text/plain": [
       "[0.8841646514641293, 0.8840900701365818, 0.8772994545874333, 2709.0]"
      ]
     },
     "execution_count": 97,
     "metadata": {},
     "output_type": "execute_result"
    }
   ],
   "source": [
    "avg"
   ]
  },
  {
   "cell_type": "code",
   "execution_count": 98,
   "metadata": {},
   "outputs": [
    {
     "data": {
      "text/plain": [
       "0     702.0\n",
       "1    2007.0\n",
       "Name: support, dtype: float64"
      ]
     },
     "execution_count": 98,
     "metadata": {},
     "output_type": "execute_result"
    }
   ],
   "source": [
    "support"
   ]
  },
  {
   "cell_type": "code",
   "execution_count": 100,
   "metadata": {},
   "outputs": [
    {
     "data": {
      "text/plain": [
       "2709.0"
      ]
     },
     "execution_count": 100,
     "metadata": {},
     "output_type": "execute_result"
    }
   ],
   "source": [
    "total"
   ]
  },
  {
   "cell_type": "code",
   "execution_count": 101,
   "metadata": {},
   "outputs": [
    {
     "data": {
      "text/plain": [
       "2709.0"
      ]
     },
     "execution_count": 101,
     "metadata": {},
     "output_type": "execute_result"
    }
   ],
   "source": [
    "avg[-1]"
   ]
  },
  {
   "cell_type": "code",
   "execution_count": 111,
   "metadata": {},
   "outputs": [],
   "source": [
    "dff = class_report_df.T"
   ]
  },
  {
   "cell_type": "code",
   "execution_count": 112,
   "metadata": {},
   "outputs": [
    {
     "data": {
      "text/html": [
       "<div>\n",
       "<style scoped>\n",
       "    .dataframe tbody tr th:only-of-type {\n",
       "        vertical-align: middle;\n",
       "    }\n",
       "\n",
       "    .dataframe tbody tr th {\n",
       "        vertical-align: top;\n",
       "    }\n",
       "\n",
       "    .dataframe thead th {\n",
       "        text-align: right;\n",
       "    }\n",
       "</style>\n",
       "<table border=\"1\" class=\"dataframe\">\n",
       "  <thead>\n",
       "    <tr style=\"text-align: right;\">\n",
       "      <th></th>\n",
       "      <th>precision</th>\n",
       "      <th>recall</th>\n",
       "      <th>f1-score</th>\n",
       "      <th>support</th>\n",
       "    </tr>\n",
       "  </thead>\n",
       "  <tbody>\n",
       "    <tr>\n",
       "      <th>0</th>\n",
       "      <td>0.884921</td>\n",
       "      <td>0.635328</td>\n",
       "      <td>0.739635</td>\n",
       "      <td>702.0</td>\n",
       "    </tr>\n",
       "    <tr>\n",
       "      <th>1</th>\n",
       "      <td>0.883900</td>\n",
       "      <td>0.971101</td>\n",
       "      <td>0.925451</td>\n",
       "      <td>2007.0</td>\n",
       "    </tr>\n",
       "    <tr>\n",
       "      <th>weighted avg</th>\n",
       "      <td>0.884165</td>\n",
       "      <td>0.884090</td>\n",
       "      <td>0.877299</td>\n",
       "      <td>2709.0</td>\n",
       "    </tr>\n",
       "  </tbody>\n",
       "</table>\n",
       "</div>"
      ],
      "text/plain": [
       "              precision    recall  f1-score  support\n",
       "0              0.884921  0.635328  0.739635    702.0\n",
       "1              0.883900  0.971101  0.925451   2007.0\n",
       "weighted avg   0.884165  0.884090  0.877299   2709.0"
      ]
     },
     "execution_count": 112,
     "metadata": {},
     "output_type": "execute_result"
    }
   ],
   "source": [
    "dff"
   ]
  },
  {
   "cell_type": "code",
   "execution_count": 115,
   "metadata": {},
   "outputs": [],
   "source": [
    "    dff['class']=['bad', 'good', 'average']"
   ]
  },
  {
   "cell_type": "code",
   "execution_count": 117,
   "metadata": {},
   "outputs": [],
   "source": [
    "    dff['accuracy']= metrics.accuracy_score(y_test, y_pred)\n",
    "    dff['model'] = label\n",
    "    dff['vectorizer'] = 'CountVect'"
   ]
  },
  {
   "cell_type": "code",
   "execution_count": 119,
   "metadata": {},
   "outputs": [],
   "source": [
    "dff = dff[['vectorizer', 'model', 'accuracy', 'class', 'precision', 'recall', 'f1-score', 'support']]"
   ]
  },
  {
   "cell_type": "code",
   "execution_count": 120,
   "metadata": {},
   "outputs": [
    {
     "data": {
      "text/html": [
       "<div>\n",
       "<style scoped>\n",
       "    .dataframe tbody tr th:only-of-type {\n",
       "        vertical-align: middle;\n",
       "    }\n",
       "\n",
       "    .dataframe tbody tr th {\n",
       "        vertical-align: top;\n",
       "    }\n",
       "\n",
       "    .dataframe thead th {\n",
       "        text-align: right;\n",
       "    }\n",
       "</style>\n",
       "<table border=\"1\" class=\"dataframe\">\n",
       "  <thead>\n",
       "    <tr style=\"text-align: right;\">\n",
       "      <th></th>\n",
       "      <th>vectorizer</th>\n",
       "      <th>model</th>\n",
       "      <th>accuracy</th>\n",
       "      <th>class</th>\n",
       "      <th>precision</th>\n",
       "      <th>recall</th>\n",
       "      <th>f1-score</th>\n",
       "      <th>support</th>\n",
       "    </tr>\n",
       "  </thead>\n",
       "  <tbody>\n",
       "    <tr>\n",
       "      <th>0</th>\n",
       "      <td>CountVect</td>\n",
       "      <td>CatBoost</td>\n",
       "      <td>0.863787</td>\n",
       "      <td>bad</td>\n",
       "      <td>0.884921</td>\n",
       "      <td>0.635328</td>\n",
       "      <td>0.739635</td>\n",
       "      <td>702.0</td>\n",
       "    </tr>\n",
       "    <tr>\n",
       "      <th>1</th>\n",
       "      <td>CountVect</td>\n",
       "      <td>CatBoost</td>\n",
       "      <td>0.863787</td>\n",
       "      <td>good</td>\n",
       "      <td>0.883900</td>\n",
       "      <td>0.971101</td>\n",
       "      <td>0.925451</td>\n",
       "      <td>2007.0</td>\n",
       "    </tr>\n",
       "    <tr>\n",
       "      <th>weighted avg</th>\n",
       "      <td>CountVect</td>\n",
       "      <td>CatBoost</td>\n",
       "      <td>0.863787</td>\n",
       "      <td>average</td>\n",
       "      <td>0.884165</td>\n",
       "      <td>0.884090</td>\n",
       "      <td>0.877299</td>\n",
       "      <td>2709.0</td>\n",
       "    </tr>\n",
       "  </tbody>\n",
       "</table>\n",
       "</div>"
      ],
      "text/plain": [
       "             vectorizer     model  accuracy    class  precision    recall  \\\n",
       "0             CountVect  CatBoost  0.863787      bad   0.884921  0.635328   \n",
       "1             CountVect  CatBoost  0.863787     good   0.883900  0.971101   \n",
       "weighted avg  CountVect  CatBoost  0.863787  average   0.884165  0.884090   \n",
       "\n",
       "              f1-score  support  \n",
       "0             0.739635    702.0  \n",
       "1             0.925451   2007.0  \n",
       "weighted avg  0.877299   2709.0  "
      ]
     },
     "execution_count": 120,
     "metadata": {},
     "output_type": "execute_result"
    }
   ],
   "source": [
    "dff"
   ]
  },
  {
   "cell_type": "code",
   "execution_count": 82,
   "metadata": {},
   "outputs": [],
   "source": [
    "# Function for converting the \"classification report\" results to a dataframe\n",
    "def pandas_classification_report(y_true, y_pred):\n",
    "    \n",
    "    metrics_summary = precision_recall_fscore_support(y_true=y_true, y_pred=y_pred)\n",
    "\n",
    "    avg = list(precision_recall_fscore_support(y_true=y_true, y_pred=y_pred,average='weighted'))\n",
    "\n",
    "    metrics_sum_index = ['precision', 'recall', 'f1-score', 'support']\n",
    "    \n",
    "    class_report_df = pd.DataFrame(\n",
    "        list(metrics_summary),\n",
    "        index=metrics_sum_index)\n",
    "\n",
    "    support = class_report_df.loc['support']\n",
    "    total = support.sum() \n",
    "    avg[-1] = total\n",
    "\n",
    "    class_report_df['weighted avg'] = avg\n",
    "\n",
    "    return class_report_df.T\n",
    "\n",
    "# Function for adding explanatory columns and organizing all dataframe\n",
    "def comparison_matrix(y_test, y_pred, label, vector):\n",
    "    df = pandas_classification_report(y_test, y_pred)\n",
    "    df['class']=['bad', 'good', 'average']\n",
    "    df['accuracy']= metrics.accuracy_score(y_test, y_pred)\n",
    "    df['model'] = label\n",
    "    df['vectorizer'] = vector\n",
    "    df = df[['vectorizer', 'model', 'accuracy', 'class', 'precision', 'recall', 'f1-score', 'support']]\n",
    "    return df"
   ]
  },
  {
   "cell_type": "code",
   "execution_count": 122,
   "metadata": {},
   "outputs": [],
   "source": [
    "#For loop for using \"comparison functions\" \n",
    "\n",
    "\n",
    "    \n",
    "    # empty list for collecting dataframes\n",
    "frames_tv = [] \n",
    "    \n",
    "    # list for y_preds\n",
    "y_preds_tv = y_preds\n",
    "    \n",
    "    # list for labels\n",
    "labels_tv = labels  \n",
    "    \n",
    "vector_tv = 'CountVect'\n",
    "    \n",
    "for y_pred, label in zip(y_preds_tv, labels_tv):\n",
    "    df = comparison_matrix(y_test, y_pred, label, vector_tv)\n",
    "    frames_tv.append(df)\n",
    "\n",
    "    # concatenating all dataframes\n",
    "\n",
    "df_tv = pd.concat(frames_tv)\n",
    "    \n",
    "\n",
    "df_tv2 = df_tv.set_index(['vectorizer', 'model', 'accuracy', 'class'])\n"
   ]
  },
  {
   "cell_type": "code",
   "execution_count": 123,
   "metadata": {},
   "outputs": [
    {
     "data": {
      "text/plain": [
       "['LogReg', 'Random Forest', 'Naive Bayes', 'XGBoost', 'CatBoost']"
      ]
     },
     "execution_count": 123,
     "metadata": {},
     "output_type": "execute_result"
    }
   ],
   "source": [
    "labels_tv"
   ]
  },
  {
   "cell_type": "code",
   "execution_count": 124,
   "metadata": {},
   "outputs": [
    {
     "data": {
      "text/plain": [
       "[array([1, 1, 1, ..., 1, 0, 0]),\n",
       " array([1, 1, 1, ..., 1, 1, 1]),\n",
       " array([1, 1, 1, ..., 1, 1, 1]),\n",
       " array([1, 1, 1, ..., 1, 0, 1]),\n",
       " array([1., 1., 1., ..., 1., 0., 1.])]"
      ]
     },
     "execution_count": 124,
     "metadata": {},
     "output_type": "execute_result"
    }
   ],
   "source": [
    "y_preds_tv"
   ]
  },
  {
   "cell_type": "code",
   "execution_count": 125,
   "metadata": {},
   "outputs": [],
   "source": [
    "for y_pred, label in zip(y_preds_tv, labels_tv):\n",
    "    df = comparison_matrix(y_test, y_pred, label, vector_tv)\n",
    "    frames_tv.append(df)"
   ]
  },
  {
   "cell_type": "code",
   "execution_count": 128,
   "metadata": {},
   "outputs": [
    {
     "data": {
      "text/html": [
       "<div>\n",
       "<style scoped>\n",
       "    .dataframe tbody tr th:only-of-type {\n",
       "        vertical-align: middle;\n",
       "    }\n",
       "\n",
       "    .dataframe tbody tr th {\n",
       "        vertical-align: top;\n",
       "    }\n",
       "\n",
       "    .dataframe thead th {\n",
       "        text-align: right;\n",
       "    }\n",
       "</style>\n",
       "<table border=\"1\" class=\"dataframe\">\n",
       "  <thead>\n",
       "    <tr style=\"text-align: right;\">\n",
       "      <th></th>\n",
       "      <th></th>\n",
       "      <th></th>\n",
       "      <th></th>\n",
       "      <th>precision</th>\n",
       "      <th>recall</th>\n",
       "      <th>f1-score</th>\n",
       "      <th>support</th>\n",
       "    </tr>\n",
       "    <tr>\n",
       "      <th>vectorizer</th>\n",
       "      <th>model</th>\n",
       "      <th>accuracy</th>\n",
       "      <th>class</th>\n",
       "      <th></th>\n",
       "      <th></th>\n",
       "      <th></th>\n",
       "      <th></th>\n",
       "    </tr>\n",
       "  </thead>\n",
       "  <tbody>\n",
       "    <tr>\n",
       "      <th rowspan=\"15\" valign=\"top\">CountVect</th>\n",
       "      <th rowspan=\"3\" valign=\"top\">LogReg</th>\n",
       "      <th rowspan=\"3\" valign=\"top\">0.874123</th>\n",
       "      <th>bad</th>\n",
       "      <td>0.699430</td>\n",
       "      <td>0.790660</td>\n",
       "      <td>0.742252</td>\n",
       "      <td>621.0</td>\n",
       "    </tr>\n",
       "    <tr>\n",
       "      <th>good</th>\n",
       "      <td>0.935227</td>\n",
       "      <td>0.898946</td>\n",
       "      <td>0.916728</td>\n",
       "      <td>2088.0</td>\n",
       "    </tr>\n",
       "    <tr>\n",
       "      <th>average</th>\n",
       "      <td>0.881174</td>\n",
       "      <td>0.874123</td>\n",
       "      <td>0.876732</td>\n",
       "      <td>2709.0</td>\n",
       "    </tr>\n",
       "    <tr>\n",
       "      <th rowspan=\"3\" valign=\"top\">Random Forest</th>\n",
       "      <th rowspan=\"3\" valign=\"top\">0.853082</th>\n",
       "      <th>bad</th>\n",
       "      <td>0.888502</td>\n",
       "      <td>0.410628</td>\n",
       "      <td>0.561674</td>\n",
       "      <td>621.0</td>\n",
       "    </tr>\n",
       "    <tr>\n",
       "      <th>good</th>\n",
       "      <td>0.848885</td>\n",
       "      <td>0.984674</td>\n",
       "      <td>0.911752</td>\n",
       "      <td>2088.0</td>\n",
       "    </tr>\n",
       "    <tr>\n",
       "      <th>average</th>\n",
       "      <td>0.857967</td>\n",
       "      <td>0.853082</td>\n",
       "      <td>0.831501</td>\n",
       "      <td>2709.0</td>\n",
       "    </tr>\n",
       "    <tr>\n",
       "      <th rowspan=\"3\" valign=\"top\">Naive Bayes</th>\n",
       "      <th rowspan=\"3\" valign=\"top\">0.868217</th>\n",
       "      <th>bad</th>\n",
       "      <td>0.773859</td>\n",
       "      <td>0.600644</td>\n",
       "      <td>0.676337</td>\n",
       "      <td>621.0</td>\n",
       "    </tr>\n",
       "    <tr>\n",
       "      <th>good</th>\n",
       "      <td>0.888639</td>\n",
       "      <td>0.947797</td>\n",
       "      <td>0.917265</td>\n",
       "      <td>2088.0</td>\n",
       "    </tr>\n",
       "    <tr>\n",
       "      <th>average</th>\n",
       "      <td>0.862328</td>\n",
       "      <td>0.868217</td>\n",
       "      <td>0.862036</td>\n",
       "      <td>2709.0</td>\n",
       "    </tr>\n",
       "    <tr>\n",
       "      <th rowspan=\"3\" valign=\"top\">XGBoost</th>\n",
       "      <th rowspan=\"3\" valign=\"top\">0.851237</th>\n",
       "      <th>bad</th>\n",
       "      <td>0.793011</td>\n",
       "      <td>0.475040</td>\n",
       "      <td>0.594159</td>\n",
       "      <td>621.0</td>\n",
       "    </tr>\n",
       "    <tr>\n",
       "      <th>good</th>\n",
       "      <td>0.860505</td>\n",
       "      <td>0.963123</td>\n",
       "      <td>0.908927</td>\n",
       "      <td>2088.0</td>\n",
       "    </tr>\n",
       "    <tr>\n",
       "      <th>average</th>\n",
       "      <td>0.845033</td>\n",
       "      <td>0.851237</td>\n",
       "      <td>0.836771</td>\n",
       "      <td>2709.0</td>\n",
       "    </tr>\n",
       "    <tr>\n",
       "      <th rowspan=\"3\" valign=\"top\">CatBoost</th>\n",
       "      <th rowspan=\"3\" valign=\"top\">0.863787</th>\n",
       "      <th>bad</th>\n",
       "      <td>0.750000</td>\n",
       "      <td>0.608696</td>\n",
       "      <td>0.672000</td>\n",
       "      <td>621.0</td>\n",
       "    </tr>\n",
       "    <tr>\n",
       "      <th>good</th>\n",
       "      <td>0.889796</td>\n",
       "      <td>0.939655</td>\n",
       "      <td>0.914046</td>\n",
       "      <td>2088.0</td>\n",
       "    </tr>\n",
       "    <tr>\n",
       "      <th>average</th>\n",
       "      <td>0.857750</td>\n",
       "      <td>0.863787</td>\n",
       "      <td>0.858560</td>\n",
       "      <td>2709.0</td>\n",
       "    </tr>\n",
       "  </tbody>\n",
       "</table>\n",
       "</div>"
      ],
      "text/plain": [
       "                                           precision    recall  f1-score  \\\n",
       "vectorizer model         accuracy class                                    \n",
       "CountVect  LogReg        0.874123 bad       0.699430  0.790660  0.742252   \n",
       "                                  good      0.935227  0.898946  0.916728   \n",
       "                                  average   0.881174  0.874123  0.876732   \n",
       "           Random Forest 0.853082 bad       0.888502  0.410628  0.561674   \n",
       "                                  good      0.848885  0.984674  0.911752   \n",
       "                                  average   0.857967  0.853082  0.831501   \n",
       "           Naive Bayes   0.868217 bad       0.773859  0.600644  0.676337   \n",
       "                                  good      0.888639  0.947797  0.917265   \n",
       "                                  average   0.862328  0.868217  0.862036   \n",
       "           XGBoost       0.851237 bad       0.793011  0.475040  0.594159   \n",
       "                                  good      0.860505  0.963123  0.908927   \n",
       "                                  average   0.845033  0.851237  0.836771   \n",
       "           CatBoost      0.863787 bad       0.750000  0.608696  0.672000   \n",
       "                                  good      0.889796  0.939655  0.914046   \n",
       "                                  average   0.857750  0.863787  0.858560   \n",
       "\n",
       "                                           support  \n",
       "vectorizer model         accuracy class             \n",
       "CountVect  LogReg        0.874123 bad        621.0  \n",
       "                                  good      2088.0  \n",
       "                                  average   2709.0  \n",
       "           Random Forest 0.853082 bad        621.0  \n",
       "                                  good      2088.0  \n",
       "                                  average   2709.0  \n",
       "           Naive Bayes   0.868217 bad        621.0  \n",
       "                                  good      2088.0  \n",
       "                                  average   2709.0  \n",
       "           XGBoost       0.851237 bad        621.0  \n",
       "                                  good      2088.0  \n",
       "                                  average   2709.0  \n",
       "           CatBoost      0.863787 bad        621.0  \n",
       "                                  good      2088.0  \n",
       "                                  average   2709.0  "
      ]
     },
     "execution_count": 128,
     "metadata": {},
     "output_type": "execute_result"
    }
   ],
   "source": [
    "df_tv2"
   ]
  },
  {
   "cell_type": "code",
   "execution_count": 127,
   "metadata": {},
   "outputs": [
    {
     "data": {
      "text/html": [
       "<div>\n",
       "<style scoped>\n",
       "    .dataframe tbody tr th:only-of-type {\n",
       "        vertical-align: middle;\n",
       "    }\n",
       "\n",
       "    .dataframe tbody tr th {\n",
       "        vertical-align: top;\n",
       "    }\n",
       "\n",
       "    .dataframe thead th {\n",
       "        text-align: right;\n",
       "    }\n",
       "</style>\n",
       "<table border=\"1\" class=\"dataframe\">\n",
       "  <thead>\n",
       "    <tr style=\"text-align: right;\">\n",
       "      <th></th>\n",
       "      <th>vectorizer</th>\n",
       "      <th>model</th>\n",
       "      <th>accuracy</th>\n",
       "      <th>class</th>\n",
       "      <th>precision</th>\n",
       "      <th>recall</th>\n",
       "      <th>f1-score</th>\n",
       "      <th>support</th>\n",
       "    </tr>\n",
       "  </thead>\n",
       "  <tbody>\n",
       "    <tr>\n",
       "      <th>0</th>\n",
       "      <td>CountVect</td>\n",
       "      <td>LogReg</td>\n",
       "      <td>0.874123</td>\n",
       "      <td>bad</td>\n",
       "      <td>0.699430</td>\n",
       "      <td>0.790660</td>\n",
       "      <td>0.742252</td>\n",
       "      <td>621.0</td>\n",
       "    </tr>\n",
       "    <tr>\n",
       "      <th>1</th>\n",
       "      <td>CountVect</td>\n",
       "      <td>LogReg</td>\n",
       "      <td>0.874123</td>\n",
       "      <td>good</td>\n",
       "      <td>0.935227</td>\n",
       "      <td>0.898946</td>\n",
       "      <td>0.916728</td>\n",
       "      <td>2088.0</td>\n",
       "    </tr>\n",
       "    <tr>\n",
       "      <th>weighted avg</th>\n",
       "      <td>CountVect</td>\n",
       "      <td>LogReg</td>\n",
       "      <td>0.874123</td>\n",
       "      <td>average</td>\n",
       "      <td>0.881174</td>\n",
       "      <td>0.874123</td>\n",
       "      <td>0.876732</td>\n",
       "      <td>2709.0</td>\n",
       "    </tr>\n",
       "    <tr>\n",
       "      <th>0</th>\n",
       "      <td>CountVect</td>\n",
       "      <td>Random Forest</td>\n",
       "      <td>0.853082</td>\n",
       "      <td>bad</td>\n",
       "      <td>0.888502</td>\n",
       "      <td>0.410628</td>\n",
       "      <td>0.561674</td>\n",
       "      <td>621.0</td>\n",
       "    </tr>\n",
       "    <tr>\n",
       "      <th>1</th>\n",
       "      <td>CountVect</td>\n",
       "      <td>Random Forest</td>\n",
       "      <td>0.853082</td>\n",
       "      <td>good</td>\n",
       "      <td>0.848885</td>\n",
       "      <td>0.984674</td>\n",
       "      <td>0.911752</td>\n",
       "      <td>2088.0</td>\n",
       "    </tr>\n",
       "    <tr>\n",
       "      <th>weighted avg</th>\n",
       "      <td>CountVect</td>\n",
       "      <td>Random Forest</td>\n",
       "      <td>0.853082</td>\n",
       "      <td>average</td>\n",
       "      <td>0.857967</td>\n",
       "      <td>0.853082</td>\n",
       "      <td>0.831501</td>\n",
       "      <td>2709.0</td>\n",
       "    </tr>\n",
       "    <tr>\n",
       "      <th>0</th>\n",
       "      <td>CountVect</td>\n",
       "      <td>Naive Bayes</td>\n",
       "      <td>0.868217</td>\n",
       "      <td>bad</td>\n",
       "      <td>0.773859</td>\n",
       "      <td>0.600644</td>\n",
       "      <td>0.676337</td>\n",
       "      <td>621.0</td>\n",
       "    </tr>\n",
       "    <tr>\n",
       "      <th>1</th>\n",
       "      <td>CountVect</td>\n",
       "      <td>Naive Bayes</td>\n",
       "      <td>0.868217</td>\n",
       "      <td>good</td>\n",
       "      <td>0.888639</td>\n",
       "      <td>0.947797</td>\n",
       "      <td>0.917265</td>\n",
       "      <td>2088.0</td>\n",
       "    </tr>\n",
       "    <tr>\n",
       "      <th>weighted avg</th>\n",
       "      <td>CountVect</td>\n",
       "      <td>Naive Bayes</td>\n",
       "      <td>0.868217</td>\n",
       "      <td>average</td>\n",
       "      <td>0.862328</td>\n",
       "      <td>0.868217</td>\n",
       "      <td>0.862036</td>\n",
       "      <td>2709.0</td>\n",
       "    </tr>\n",
       "    <tr>\n",
       "      <th>0</th>\n",
       "      <td>CountVect</td>\n",
       "      <td>XGBoost</td>\n",
       "      <td>0.851237</td>\n",
       "      <td>bad</td>\n",
       "      <td>0.793011</td>\n",
       "      <td>0.475040</td>\n",
       "      <td>0.594159</td>\n",
       "      <td>621.0</td>\n",
       "    </tr>\n",
       "    <tr>\n",
       "      <th>1</th>\n",
       "      <td>CountVect</td>\n",
       "      <td>XGBoost</td>\n",
       "      <td>0.851237</td>\n",
       "      <td>good</td>\n",
       "      <td>0.860505</td>\n",
       "      <td>0.963123</td>\n",
       "      <td>0.908927</td>\n",
       "      <td>2088.0</td>\n",
       "    </tr>\n",
       "    <tr>\n",
       "      <th>weighted avg</th>\n",
       "      <td>CountVect</td>\n",
       "      <td>XGBoost</td>\n",
       "      <td>0.851237</td>\n",
       "      <td>average</td>\n",
       "      <td>0.845033</td>\n",
       "      <td>0.851237</td>\n",
       "      <td>0.836771</td>\n",
       "      <td>2709.0</td>\n",
       "    </tr>\n",
       "    <tr>\n",
       "      <th>0</th>\n",
       "      <td>CountVect</td>\n",
       "      <td>CatBoost</td>\n",
       "      <td>0.863787</td>\n",
       "      <td>bad</td>\n",
       "      <td>0.750000</td>\n",
       "      <td>0.608696</td>\n",
       "      <td>0.672000</td>\n",
       "      <td>621.0</td>\n",
       "    </tr>\n",
       "    <tr>\n",
       "      <th>1</th>\n",
       "      <td>CountVect</td>\n",
       "      <td>CatBoost</td>\n",
       "      <td>0.863787</td>\n",
       "      <td>good</td>\n",
       "      <td>0.889796</td>\n",
       "      <td>0.939655</td>\n",
       "      <td>0.914046</td>\n",
       "      <td>2088.0</td>\n",
       "    </tr>\n",
       "    <tr>\n",
       "      <th>weighted avg</th>\n",
       "      <td>CountVect</td>\n",
       "      <td>CatBoost</td>\n",
       "      <td>0.863787</td>\n",
       "      <td>average</td>\n",
       "      <td>0.857750</td>\n",
       "      <td>0.863787</td>\n",
       "      <td>0.858560</td>\n",
       "      <td>2709.0</td>\n",
       "    </tr>\n",
       "  </tbody>\n",
       "</table>\n",
       "</div>"
      ],
      "text/plain": [
       "             vectorizer          model  accuracy    class  precision  \\\n",
       "0             CountVect         LogReg  0.874123      bad   0.699430   \n",
       "1             CountVect         LogReg  0.874123     good   0.935227   \n",
       "weighted avg  CountVect         LogReg  0.874123  average   0.881174   \n",
       "0             CountVect  Random Forest  0.853082      bad   0.888502   \n",
       "1             CountVect  Random Forest  0.853082     good   0.848885   \n",
       "weighted avg  CountVect  Random Forest  0.853082  average   0.857967   \n",
       "0             CountVect    Naive Bayes  0.868217      bad   0.773859   \n",
       "1             CountVect    Naive Bayes  0.868217     good   0.888639   \n",
       "weighted avg  CountVect    Naive Bayes  0.868217  average   0.862328   \n",
       "0             CountVect        XGBoost  0.851237      bad   0.793011   \n",
       "1             CountVect        XGBoost  0.851237     good   0.860505   \n",
       "weighted avg  CountVect        XGBoost  0.851237  average   0.845033   \n",
       "0             CountVect       CatBoost  0.863787      bad   0.750000   \n",
       "1             CountVect       CatBoost  0.863787     good   0.889796   \n",
       "weighted avg  CountVect       CatBoost  0.863787  average   0.857750   \n",
       "\n",
       "                recall  f1-score  support  \n",
       "0             0.790660  0.742252    621.0  \n",
       "1             0.898946  0.916728   2088.0  \n",
       "weighted avg  0.874123  0.876732   2709.0  \n",
       "0             0.410628  0.561674    621.0  \n",
       "1             0.984674  0.911752   2088.0  \n",
       "weighted avg  0.853082  0.831501   2709.0  \n",
       "0             0.600644  0.676337    621.0  \n",
       "1             0.947797  0.917265   2088.0  \n",
       "weighted avg  0.868217  0.862036   2709.0  \n",
       "0             0.475040  0.594159    621.0  \n",
       "1             0.963123  0.908927   2088.0  \n",
       "weighted avg  0.851237  0.836771   2709.0  \n",
       "0             0.608696  0.672000    621.0  \n",
       "1             0.939655  0.914046   2088.0  \n",
       "weighted avg  0.863787  0.858560   2709.0  "
      ]
     },
     "execution_count": 127,
     "metadata": {},
     "output_type": "execute_result"
    }
   ],
   "source": [
    "df_tv"
   ]
  },
  {
   "cell_type": "code",
   "execution_count": 126,
   "metadata": {},
   "outputs": [
    {
     "data": {
      "text/plain": [
       "[             vectorizer   model  accuracy    class  precision    recall  \\\n",
       " 0             CountVect  LogReg  0.874123      bad   0.699430  0.790660   \n",
       " 1             CountVect  LogReg  0.874123     good   0.935227  0.898946   \n",
       " weighted avg  CountVect  LogReg  0.874123  average   0.881174  0.874123   \n",
       " \n",
       "               f1-score  support  \n",
       " 0             0.742252    621.0  \n",
       " 1             0.916728   2088.0  \n",
       " weighted avg  0.876732   2709.0  ,\n",
       "              vectorizer          model  accuracy    class  precision  \\\n",
       " 0             CountVect  Random Forest  0.853082      bad   0.888502   \n",
       " 1             CountVect  Random Forest  0.853082     good   0.848885   \n",
       " weighted avg  CountVect  Random Forest  0.853082  average   0.857967   \n",
       " \n",
       "                 recall  f1-score  support  \n",
       " 0             0.410628  0.561674    621.0  \n",
       " 1             0.984674  0.911752   2088.0  \n",
       " weighted avg  0.853082  0.831501   2709.0  ,\n",
       "              vectorizer        model  accuracy    class  precision    recall  \\\n",
       " 0             CountVect  Naive Bayes  0.868217      bad   0.773859  0.600644   \n",
       " 1             CountVect  Naive Bayes  0.868217     good   0.888639  0.947797   \n",
       " weighted avg  CountVect  Naive Bayes  0.868217  average   0.862328  0.868217   \n",
       " \n",
       "               f1-score  support  \n",
       " 0             0.676337    621.0  \n",
       " 1             0.917265   2088.0  \n",
       " weighted avg  0.862036   2709.0  ,\n",
       "              vectorizer    model  accuracy    class  precision    recall  \\\n",
       " 0             CountVect  XGBoost  0.851237      bad   0.793011  0.475040   \n",
       " 1             CountVect  XGBoost  0.851237     good   0.860505  0.963123   \n",
       " weighted avg  CountVect  XGBoost  0.851237  average   0.845033  0.851237   \n",
       " \n",
       "               f1-score  support  \n",
       " 0             0.594159    621.0  \n",
       " 1             0.908927   2088.0  \n",
       " weighted avg  0.836771   2709.0  ,\n",
       "              vectorizer     model  accuracy    class  precision    recall  \\\n",
       " 0             CountVect  CatBoost  0.863787      bad   0.750000  0.608696   \n",
       " 1             CountVect  CatBoost  0.863787     good   0.889796  0.939655   \n",
       " weighted avg  CountVect  CatBoost  0.863787  average   0.857750  0.863787   \n",
       " \n",
       "               f1-score  support  \n",
       " 0             0.672000    621.0  \n",
       " 1             0.914046   2088.0  \n",
       " weighted avg  0.858560   2709.0  ,\n",
       "              vectorizer   model  accuracy    class  precision    recall  \\\n",
       " 0             CountVect  LogReg  0.874123      bad   0.699430  0.790660   \n",
       " 1             CountVect  LogReg  0.874123     good   0.935227  0.898946   \n",
       " weighted avg  CountVect  LogReg  0.874123  average   0.881174  0.874123   \n",
       " \n",
       "               f1-score  support  \n",
       " 0             0.742252    621.0  \n",
       " 1             0.916728   2088.0  \n",
       " weighted avg  0.876732   2709.0  ,\n",
       "              vectorizer          model  accuracy    class  precision  \\\n",
       " 0             CountVect  Random Forest  0.853082      bad   0.888502   \n",
       " 1             CountVect  Random Forest  0.853082     good   0.848885   \n",
       " weighted avg  CountVect  Random Forest  0.853082  average   0.857967   \n",
       " \n",
       "                 recall  f1-score  support  \n",
       " 0             0.410628  0.561674    621.0  \n",
       " 1             0.984674  0.911752   2088.0  \n",
       " weighted avg  0.853082  0.831501   2709.0  ,\n",
       "              vectorizer        model  accuracy    class  precision    recall  \\\n",
       " 0             CountVect  Naive Bayes  0.868217      bad   0.773859  0.600644   \n",
       " 1             CountVect  Naive Bayes  0.868217     good   0.888639  0.947797   \n",
       " weighted avg  CountVect  Naive Bayes  0.868217  average   0.862328  0.868217   \n",
       " \n",
       "               f1-score  support  \n",
       " 0             0.676337    621.0  \n",
       " 1             0.917265   2088.0  \n",
       " weighted avg  0.862036   2709.0  ,\n",
       "              vectorizer    model  accuracy    class  precision    recall  \\\n",
       " 0             CountVect  XGBoost  0.851237      bad   0.793011  0.475040   \n",
       " 1             CountVect  XGBoost  0.851237     good   0.860505  0.963123   \n",
       " weighted avg  CountVect  XGBoost  0.851237  average   0.845033  0.851237   \n",
       " \n",
       "               f1-score  support  \n",
       " 0             0.594159    621.0  \n",
       " 1             0.908927   2088.0  \n",
       " weighted avg  0.836771   2709.0  ,\n",
       "              vectorizer     model  accuracy    class  precision    recall  \\\n",
       " 0             CountVect  CatBoost  0.863787      bad   0.750000  0.608696   \n",
       " 1             CountVect  CatBoost  0.863787     good   0.889796  0.939655   \n",
       " weighted avg  CountVect  CatBoost  0.863787  average   0.857750  0.863787   \n",
       " \n",
       "               f1-score  support  \n",
       " 0             0.672000    621.0  \n",
       " 1             0.914046   2088.0  \n",
       " weighted avg  0.858560   2709.0  ]"
      ]
     },
     "execution_count": 126,
     "metadata": {},
     "output_type": "execute_result"
    }
   ],
   "source": [
    "frames_tv"
   ]
  },
  {
   "cell_type": "code",
   "execution_count": 133,
   "metadata": {},
   "outputs": [
    {
     "ename": "NameError",
     "evalue": "name 'category' is not defined",
     "output_type": "error",
     "traceback": [
      "\u001b[0;31m---------------------------------------------------------------------------\u001b[0m",
      "\u001b[0;31mNameError\u001b[0m                                 Traceback (most recent call last)",
      "\u001b[0;32m<ipython-input-133-1673df209efd>\u001b[0m in \u001b[0;36m<module>\u001b[0;34m\u001b[0m\n\u001b[0;32m----> 1\u001b[0;31m \u001b[0mcategory\u001b[0m\u001b[0;34m\u001b[0m\u001b[0;34m\u001b[0m\u001b[0m\n\u001b[0m",
      "\u001b[0;31mNameError\u001b[0m: name 'category' is not defined"
     ]
    }
   ],
   "source": [
    "category"
   ]
  },
  {
   "cell_type": "code",
   "execution_count": 134,
   "metadata": {},
   "outputs": [
    {
     "ename": "KeyError",
     "evalue": "'class'",
     "output_type": "error",
     "traceback": [
      "\u001b[0;31m---------------------------------------------------------------------------\u001b[0m",
      "\u001b[0;31mKeyError\u001b[0m                                  Traceback (most recent call last)",
      "\u001b[0;32m~/anaconda3/lib/python3.7/site-packages/pandas/core/indexes/base.py\u001b[0m in \u001b[0;36mget_loc\u001b[0;34m(self, key, method, tolerance)\u001b[0m\n\u001b[1;32m   2656\u001b[0m             \u001b[0;32mtry\u001b[0m\u001b[0;34m:\u001b[0m\u001b[0;34m\u001b[0m\u001b[0;34m\u001b[0m\u001b[0m\n\u001b[0;32m-> 2657\u001b[0;31m                 \u001b[0;32mreturn\u001b[0m \u001b[0mself\u001b[0m\u001b[0;34m.\u001b[0m\u001b[0m_engine\u001b[0m\u001b[0;34m.\u001b[0m\u001b[0mget_loc\u001b[0m\u001b[0;34m(\u001b[0m\u001b[0mkey\u001b[0m\u001b[0;34m)\u001b[0m\u001b[0;34m\u001b[0m\u001b[0;34m\u001b[0m\u001b[0m\n\u001b[0m\u001b[1;32m   2658\u001b[0m             \u001b[0;32mexcept\u001b[0m \u001b[0mKeyError\u001b[0m\u001b[0;34m:\u001b[0m\u001b[0;34m\u001b[0m\u001b[0;34m\u001b[0m\u001b[0m\n",
      "\u001b[0;32mpandas/_libs/index.pyx\u001b[0m in \u001b[0;36mpandas._libs.index.IndexEngine.get_loc\u001b[0;34m()\u001b[0m\n",
      "\u001b[0;32mpandas/_libs/index.pyx\u001b[0m in \u001b[0;36mpandas._libs.index.IndexEngine.get_loc\u001b[0;34m()\u001b[0m\n",
      "\u001b[0;32mpandas/_libs/hashtable_class_helper.pxi\u001b[0m in \u001b[0;36mpandas._libs.hashtable.PyObjectHashTable.get_item\u001b[0;34m()\u001b[0m\n",
      "\u001b[0;32mpandas/_libs/hashtable_class_helper.pxi\u001b[0m in \u001b[0;36mpandas._libs.hashtable.PyObjectHashTable.get_item\u001b[0;34m()\u001b[0m\n",
      "\u001b[0;31mKeyError\u001b[0m: 'class'",
      "\nDuring handling of the above exception, another exception occurred:\n",
      "\u001b[0;31mKeyError\u001b[0m                                  Traceback (most recent call last)",
      "\u001b[0;32m<ipython-input-134-52fbf08c8faf>\u001b[0m in \u001b[0;36m<module>\u001b[0;34m\u001b[0m\n\u001b[1;32m      1\u001b[0m \u001b[0;34m\u001b[0m\u001b[0m\n\u001b[1;32m      2\u001b[0m \u001b[0;34m\u001b[0m\u001b[0m\n\u001b[0;32m----> 3\u001b[0;31m \u001b[0mdf_tv2\u001b[0m \u001b[0;34m=\u001b[0m \u001b[0mdf_tv2\u001b[0m\u001b[0;34m[\u001b[0m\u001b[0mdf_tv2\u001b[0m\u001b[0;34m[\u001b[0m\u001b[0;34m'class'\u001b[0m\u001b[0;34m]\u001b[0m\u001b[0;34m==\u001b[0m\u001b[0;34m'average'\u001b[0m\u001b[0;34m]\u001b[0m\u001b[0;34m\u001b[0m\u001b[0;34m\u001b[0m\u001b[0m\n\u001b[0m\u001b[1;32m      4\u001b[0m \u001b[0mx\u001b[0m \u001b[0;34m=\u001b[0m \u001b[0mlist\u001b[0m\u001b[0;34m(\u001b[0m\u001b[0mdf_tv2\u001b[0m\u001b[0;34m[\u001b[0m\u001b[0;34m'model'\u001b[0m\u001b[0;34m]\u001b[0m\u001b[0;34m)\u001b[0m\u001b[0;34m\u001b[0m\u001b[0;34m\u001b[0m\u001b[0m\n\u001b[1;32m      5\u001b[0m \u001b[0my\u001b[0m \u001b[0;34m=\u001b[0m \u001b[0mlist\u001b[0m\u001b[0;34m(\u001b[0m\u001b[0mdf_tv2\u001b[0m\u001b[0;34m[\u001b[0m\u001b[0;34m'f1-score'\u001b[0m\u001b[0;34m]\u001b[0m\u001b[0;34m)\u001b[0m\u001b[0;34m\u001b[0m\u001b[0;34m\u001b[0m\u001b[0m\n",
      "\u001b[0;32m~/anaconda3/lib/python3.7/site-packages/pandas/core/frame.py\u001b[0m in \u001b[0;36m__getitem__\u001b[0;34m(self, key)\u001b[0m\n\u001b[1;32m   2925\u001b[0m             \u001b[0;32mif\u001b[0m \u001b[0mself\u001b[0m\u001b[0;34m.\u001b[0m\u001b[0mcolumns\u001b[0m\u001b[0;34m.\u001b[0m\u001b[0mnlevels\u001b[0m \u001b[0;34m>\u001b[0m \u001b[0;36m1\u001b[0m\u001b[0;34m:\u001b[0m\u001b[0;34m\u001b[0m\u001b[0;34m\u001b[0m\u001b[0m\n\u001b[1;32m   2926\u001b[0m                 \u001b[0;32mreturn\u001b[0m \u001b[0mself\u001b[0m\u001b[0;34m.\u001b[0m\u001b[0m_getitem_multilevel\u001b[0m\u001b[0;34m(\u001b[0m\u001b[0mkey\u001b[0m\u001b[0;34m)\u001b[0m\u001b[0;34m\u001b[0m\u001b[0;34m\u001b[0m\u001b[0m\n\u001b[0;32m-> 2927\u001b[0;31m             \u001b[0mindexer\u001b[0m \u001b[0;34m=\u001b[0m \u001b[0mself\u001b[0m\u001b[0;34m.\u001b[0m\u001b[0mcolumns\u001b[0m\u001b[0;34m.\u001b[0m\u001b[0mget_loc\u001b[0m\u001b[0;34m(\u001b[0m\u001b[0mkey\u001b[0m\u001b[0;34m)\u001b[0m\u001b[0;34m\u001b[0m\u001b[0;34m\u001b[0m\u001b[0m\n\u001b[0m\u001b[1;32m   2928\u001b[0m             \u001b[0;32mif\u001b[0m \u001b[0mis_integer\u001b[0m\u001b[0;34m(\u001b[0m\u001b[0mindexer\u001b[0m\u001b[0;34m)\u001b[0m\u001b[0;34m:\u001b[0m\u001b[0;34m\u001b[0m\u001b[0;34m\u001b[0m\u001b[0m\n\u001b[1;32m   2929\u001b[0m                 \u001b[0mindexer\u001b[0m \u001b[0;34m=\u001b[0m \u001b[0;34m[\u001b[0m\u001b[0mindexer\u001b[0m\u001b[0;34m]\u001b[0m\u001b[0;34m\u001b[0m\u001b[0;34m\u001b[0m\u001b[0m\n",
      "\u001b[0;32m~/anaconda3/lib/python3.7/site-packages/pandas/core/indexes/base.py\u001b[0m in \u001b[0;36mget_loc\u001b[0;34m(self, key, method, tolerance)\u001b[0m\n\u001b[1;32m   2657\u001b[0m                 \u001b[0;32mreturn\u001b[0m \u001b[0mself\u001b[0m\u001b[0;34m.\u001b[0m\u001b[0m_engine\u001b[0m\u001b[0;34m.\u001b[0m\u001b[0mget_loc\u001b[0m\u001b[0;34m(\u001b[0m\u001b[0mkey\u001b[0m\u001b[0;34m)\u001b[0m\u001b[0;34m\u001b[0m\u001b[0;34m\u001b[0m\u001b[0m\n\u001b[1;32m   2658\u001b[0m             \u001b[0;32mexcept\u001b[0m \u001b[0mKeyError\u001b[0m\u001b[0;34m:\u001b[0m\u001b[0;34m\u001b[0m\u001b[0;34m\u001b[0m\u001b[0m\n\u001b[0;32m-> 2659\u001b[0;31m                 \u001b[0;32mreturn\u001b[0m \u001b[0mself\u001b[0m\u001b[0;34m.\u001b[0m\u001b[0m_engine\u001b[0m\u001b[0;34m.\u001b[0m\u001b[0mget_loc\u001b[0m\u001b[0;34m(\u001b[0m\u001b[0mself\u001b[0m\u001b[0;34m.\u001b[0m\u001b[0m_maybe_cast_indexer\u001b[0m\u001b[0;34m(\u001b[0m\u001b[0mkey\u001b[0m\u001b[0;34m)\u001b[0m\u001b[0;34m)\u001b[0m\u001b[0;34m\u001b[0m\u001b[0;34m\u001b[0m\u001b[0m\n\u001b[0m\u001b[1;32m   2660\u001b[0m         \u001b[0mindexer\u001b[0m \u001b[0;34m=\u001b[0m \u001b[0mself\u001b[0m\u001b[0;34m.\u001b[0m\u001b[0mget_indexer\u001b[0m\u001b[0;34m(\u001b[0m\u001b[0;34m[\u001b[0m\u001b[0mkey\u001b[0m\u001b[0;34m]\u001b[0m\u001b[0;34m,\u001b[0m \u001b[0mmethod\u001b[0m\u001b[0;34m=\u001b[0m\u001b[0mmethod\u001b[0m\u001b[0;34m,\u001b[0m \u001b[0mtolerance\u001b[0m\u001b[0;34m=\u001b[0m\u001b[0mtolerance\u001b[0m\u001b[0;34m)\u001b[0m\u001b[0;34m\u001b[0m\u001b[0;34m\u001b[0m\u001b[0m\n\u001b[1;32m   2661\u001b[0m         \u001b[0;32mif\u001b[0m \u001b[0mindexer\u001b[0m\u001b[0;34m.\u001b[0m\u001b[0mndim\u001b[0m \u001b[0;34m>\u001b[0m \u001b[0;36m1\u001b[0m \u001b[0;32mor\u001b[0m \u001b[0mindexer\u001b[0m\u001b[0;34m.\u001b[0m\u001b[0msize\u001b[0m \u001b[0;34m>\u001b[0m \u001b[0;36m1\u001b[0m\u001b[0;34m:\u001b[0m\u001b[0;34m\u001b[0m\u001b[0;34m\u001b[0m\u001b[0m\n",
      "\u001b[0;32mpandas/_libs/index.pyx\u001b[0m in \u001b[0;36mpandas._libs.index.IndexEngine.get_loc\u001b[0;34m()\u001b[0m\n",
      "\u001b[0;32mpandas/_libs/index.pyx\u001b[0m in \u001b[0;36mpandas._libs.index.IndexEngine.get_loc\u001b[0;34m()\u001b[0m\n",
      "\u001b[0;32mpandas/_libs/hashtable_class_helper.pxi\u001b[0m in \u001b[0;36mpandas._libs.hashtable.PyObjectHashTable.get_item\u001b[0;34m()\u001b[0m\n",
      "\u001b[0;32mpandas/_libs/hashtable_class_helper.pxi\u001b[0m in \u001b[0;36mpandas._libs.hashtable.PyObjectHashTable.get_item\u001b[0;34m()\u001b[0m\n",
      "\u001b[0;31mKeyError\u001b[0m: 'class'"
     ]
    }
   ],
   "source": [
    "\n",
    "\n",
    "df_tv2 = df_tv2[df_tv2['class']=='average']\n",
    "x = list(df_tv2['model'])\n",
    "y = list(df_tv2['f1-score'])\n",
    "y_round = list(round(df_tv2['f1-score'],2))\n",
    "a = (list(df_tv2['f1-score'])).index(max(list(df_tv2['f1-score'])))\n",
    "z = (list(df_tv2['f1-score'])).index(min(list(df_tv2['f1-score'])))\n",
    "y_mean = round(df_tv2['f1-score'].mean(),2)\n",
    "    \n",
    "plt.rcParams['figure.figsize']=[15,5]\n",
    "b_plot = plt.bar(x=x,height=y)\n",
    "b_plot[a].set_color('g')\n",
    "b_plot[z].set_color('r')\n",
    "    \n",
    "for i,v in enumerate(y_round):\n",
    "    plt.text(i-.15,0.018,str(v), color='black', fontsize=15, fontweight='bold')\n",
    "    \n",
    "plt.axhline(y_mean,ls='--',color='k',label=y_mean)\n",
    "plt.title(title)\n",
    "plt.legend()\n",
    "plt.show()"
   ]
  },
  {
   "cell_type": "code",
   "execution_count": 92,
   "metadata": {},
   "outputs": [],
   "source": [
    "\n",
    "    \n",
    "y_preds = [y_pred_cv_logreg, y_pred_cv_rf, y_pred_cv_nb, y_pred_cv_xgb, y_pred_cv_catboost]\n",
    "    \n",
    "labels = ['LogReg', 'Random Forest', 'Naive Bayes', 'XGBoost', 'CatBoost']\n",
    "    \n",
    "# empty list for collecting dataframes\n",
    "frames_tv = [] \n",
    "    \n",
    "# list for y_preds\n",
    "y_preds_tv = y_preds\n",
    "    \n",
    "# list for labels\n",
    "labels_tv = labels  \n",
    "    \n",
    "vector_tv = 'CountVect'\n",
    "    \n",
    "for y_pred, label in zip(y_preds_tv, labels_tv):\n",
    "    df = comparison_matrix(y_test, y_pred, label, vector_tv)\n",
    "    frames_tv.append(df)\n",
    "\n",
    "# concatenating all dataframes\n",
    "df_tv\n",
    "df_tv = pd.concat(frames_tv)\n",
    "    \n",
    "df_tv2\n",
    "df_tv2 = df_tv.set_index(['vectorizer', 'model', 'accuracy', 'class'])"
   ]
  },
  {
   "cell_type": "code",
   "execution_count": 93,
   "metadata": {},
   "outputs": [
    {
     "data": {
      "text/plain": [
       "[             vectorizer   model  accuracy    class  precision    recall  \\\n",
       " 0             CountVect  LogReg  0.874123      bad   0.699430  0.790660   \n",
       " 1             CountVect  LogReg  0.874123     good   0.935227  0.898946   \n",
       " weighted avg  CountVect  LogReg  0.874123  average   0.881174  0.874123   \n",
       " \n",
       "               f1-score  support  \n",
       " 0             0.742252    621.0  \n",
       " 1             0.916728   2088.0  \n",
       " weighted avg  0.876732   2709.0  ,\n",
       "              vectorizer          model  accuracy    class  precision  \\\n",
       " 0             CountVect  Random Forest  0.853082      bad   0.888502   \n",
       " 1             CountVect  Random Forest  0.853082     good   0.848885   \n",
       " weighted avg  CountVect  Random Forest  0.853082  average   0.857967   \n",
       " \n",
       "                 recall  f1-score  support  \n",
       " 0             0.410628  0.561674    621.0  \n",
       " 1             0.984674  0.911752   2088.0  \n",
       " weighted avg  0.853082  0.831501   2709.0  ,\n",
       "              vectorizer        model  accuracy    class  precision    recall  \\\n",
       " 0             CountVect  Naive Bayes  0.868217      bad   0.773859  0.600644   \n",
       " 1             CountVect  Naive Bayes  0.868217     good   0.888639  0.947797   \n",
       " weighted avg  CountVect  Naive Bayes  0.868217  average   0.862328  0.868217   \n",
       " \n",
       "               f1-score  support  \n",
       " 0             0.676337    621.0  \n",
       " 1             0.917265   2088.0  \n",
       " weighted avg  0.862036   2709.0  ,\n",
       "              vectorizer    model  accuracy    class  precision    recall  \\\n",
       " 0             CountVect  XGBoost  0.851237      bad   0.793011  0.475040   \n",
       " 1             CountVect  XGBoost  0.851237     good   0.860505  0.963123   \n",
       " weighted avg  CountVect  XGBoost  0.851237  average   0.845033  0.851237   \n",
       " \n",
       "               f1-score  support  \n",
       " 0             0.594159    621.0  \n",
       " 1             0.908927   2088.0  \n",
       " weighted avg  0.836771   2709.0  ,\n",
       "              vectorizer     model  accuracy    class  precision    recall  \\\n",
       " 0             CountVect  CatBoost  0.863787      bad   0.750000  0.608696   \n",
       " 1             CountVect  CatBoost  0.863787     good   0.889796  0.939655   \n",
       " weighted avg  CountVect  CatBoost  0.863787  average   0.857750  0.863787   \n",
       " \n",
       "               f1-score  support  \n",
       " 0             0.672000    621.0  \n",
       " 1             0.914046   2088.0  \n",
       " weighted avg  0.858560   2709.0  ]"
      ]
     },
     "execution_count": 93,
     "metadata": {},
     "output_type": "execute_result"
    }
   ],
   "source": [
    "frames_tv"
   ]
  },
  {
   "cell_type": "code",
   "execution_count": 89,
   "metadata": {},
   "outputs": [],
   "source": [
    "comparison_table(y_preds = [y_pred_cv_logreg, y_pred_cv_rf, y_pred_cv_nb, y_pred_cv_xgb, y_pred_cv_catboost], \n",
    "                labels = ['LogReg', 'Random Forest', 'Naive Bayes', 'XGBoost', 'CatBoost'])"
   ]
  },
  {
   "cell_type": "code",
   "execution_count": 90,
   "metadata": {},
   "outputs": [
    {
     "data": {
      "text/html": [
       "<div>\n",
       "<style scoped>\n",
       "    .dataframe tbody tr th:only-of-type {\n",
       "        vertical-align: middle;\n",
       "    }\n",
       "\n",
       "    .dataframe tbody tr th {\n",
       "        vertical-align: top;\n",
       "    }\n",
       "\n",
       "    .dataframe thead th {\n",
       "        text-align: right;\n",
       "    }\n",
       "</style>\n",
       "<table border=\"1\" class=\"dataframe\">\n",
       "  <thead>\n",
       "    <tr style=\"text-align: right;\">\n",
       "      <th></th>\n",
       "      <th></th>\n",
       "      <th></th>\n",
       "      <th></th>\n",
       "      <th>precision</th>\n",
       "      <th>recall</th>\n",
       "      <th>f1-score</th>\n",
       "      <th>support</th>\n",
       "    </tr>\n",
       "    <tr>\n",
       "      <th>vectorizer</th>\n",
       "      <th>model</th>\n",
       "      <th>accuracy</th>\n",
       "      <th>class</th>\n",
       "      <th></th>\n",
       "      <th></th>\n",
       "      <th></th>\n",
       "      <th></th>\n",
       "    </tr>\n",
       "  </thead>\n",
       "  <tbody>\n",
       "    <tr>\n",
       "      <th rowspan=\"15\" valign=\"top\">CountVect</th>\n",
       "      <th rowspan=\"3\" valign=\"top\">LogReg</th>\n",
       "      <th rowspan=\"3\" valign=\"top\">0.874123</th>\n",
       "      <th>bad</th>\n",
       "      <td>0.699430</td>\n",
       "      <td>0.790660</td>\n",
       "      <td>0.742252</td>\n",
       "      <td>621.0</td>\n",
       "    </tr>\n",
       "    <tr>\n",
       "      <th>good</th>\n",
       "      <td>0.935227</td>\n",
       "      <td>0.898946</td>\n",
       "      <td>0.916728</td>\n",
       "      <td>2088.0</td>\n",
       "    </tr>\n",
       "    <tr>\n",
       "      <th>average</th>\n",
       "      <td>0.881174</td>\n",
       "      <td>0.874123</td>\n",
       "      <td>0.876732</td>\n",
       "      <td>2709.0</td>\n",
       "    </tr>\n",
       "    <tr>\n",
       "      <th rowspan=\"3\" valign=\"top\">Random Forest</th>\n",
       "      <th rowspan=\"3\" valign=\"top\">0.853082</th>\n",
       "      <th>bad</th>\n",
       "      <td>0.888502</td>\n",
       "      <td>0.410628</td>\n",
       "      <td>0.561674</td>\n",
       "      <td>621.0</td>\n",
       "    </tr>\n",
       "    <tr>\n",
       "      <th>good</th>\n",
       "      <td>0.848885</td>\n",
       "      <td>0.984674</td>\n",
       "      <td>0.911752</td>\n",
       "      <td>2088.0</td>\n",
       "    </tr>\n",
       "    <tr>\n",
       "      <th>average</th>\n",
       "      <td>0.857967</td>\n",
       "      <td>0.853082</td>\n",
       "      <td>0.831501</td>\n",
       "      <td>2709.0</td>\n",
       "    </tr>\n",
       "    <tr>\n",
       "      <th rowspan=\"3\" valign=\"top\">Naive Bayes</th>\n",
       "      <th rowspan=\"3\" valign=\"top\">0.868217</th>\n",
       "      <th>bad</th>\n",
       "      <td>0.773859</td>\n",
       "      <td>0.600644</td>\n",
       "      <td>0.676337</td>\n",
       "      <td>621.0</td>\n",
       "    </tr>\n",
       "    <tr>\n",
       "      <th>good</th>\n",
       "      <td>0.888639</td>\n",
       "      <td>0.947797</td>\n",
       "      <td>0.917265</td>\n",
       "      <td>2088.0</td>\n",
       "    </tr>\n",
       "    <tr>\n",
       "      <th>average</th>\n",
       "      <td>0.862328</td>\n",
       "      <td>0.868217</td>\n",
       "      <td>0.862036</td>\n",
       "      <td>2709.0</td>\n",
       "    </tr>\n",
       "    <tr>\n",
       "      <th rowspan=\"3\" valign=\"top\">XGBoost</th>\n",
       "      <th rowspan=\"3\" valign=\"top\">0.851237</th>\n",
       "      <th>bad</th>\n",
       "      <td>0.793011</td>\n",
       "      <td>0.475040</td>\n",
       "      <td>0.594159</td>\n",
       "      <td>621.0</td>\n",
       "    </tr>\n",
       "    <tr>\n",
       "      <th>good</th>\n",
       "      <td>0.860505</td>\n",
       "      <td>0.963123</td>\n",
       "      <td>0.908927</td>\n",
       "      <td>2088.0</td>\n",
       "    </tr>\n",
       "    <tr>\n",
       "      <th>average</th>\n",
       "      <td>0.845033</td>\n",
       "      <td>0.851237</td>\n",
       "      <td>0.836771</td>\n",
       "      <td>2709.0</td>\n",
       "    </tr>\n",
       "    <tr>\n",
       "      <th rowspan=\"3\" valign=\"top\">CatBoost</th>\n",
       "      <th rowspan=\"3\" valign=\"top\">0.863787</th>\n",
       "      <th>bad</th>\n",
       "      <td>0.750000</td>\n",
       "      <td>0.608696</td>\n",
       "      <td>0.672000</td>\n",
       "      <td>621.0</td>\n",
       "    </tr>\n",
       "    <tr>\n",
       "      <th>good</th>\n",
       "      <td>0.889796</td>\n",
       "      <td>0.939655</td>\n",
       "      <td>0.914046</td>\n",
       "      <td>2088.0</td>\n",
       "    </tr>\n",
       "    <tr>\n",
       "      <th>average</th>\n",
       "      <td>0.857750</td>\n",
       "      <td>0.863787</td>\n",
       "      <td>0.858560</td>\n",
       "      <td>2709.0</td>\n",
       "    </tr>\n",
       "  </tbody>\n",
       "</table>\n",
       "</div>"
      ],
      "text/plain": [
       "                                           precision    recall  f1-score  \\\n",
       "vectorizer model         accuracy class                                    \n",
       "CountVect  LogReg        0.874123 bad       0.699430  0.790660  0.742252   \n",
       "                                  good      0.935227  0.898946  0.916728   \n",
       "                                  average   0.881174  0.874123  0.876732   \n",
       "           Random Forest 0.853082 bad       0.888502  0.410628  0.561674   \n",
       "                                  good      0.848885  0.984674  0.911752   \n",
       "                                  average   0.857967  0.853082  0.831501   \n",
       "           Naive Bayes   0.868217 bad       0.773859  0.600644  0.676337   \n",
       "                                  good      0.888639  0.947797  0.917265   \n",
       "                                  average   0.862328  0.868217  0.862036   \n",
       "           XGBoost       0.851237 bad       0.793011  0.475040  0.594159   \n",
       "                                  good      0.860505  0.963123  0.908927   \n",
       "                                  average   0.845033  0.851237  0.836771   \n",
       "           CatBoost      0.863787 bad       0.750000  0.608696  0.672000   \n",
       "                                  good      0.889796  0.939655  0.914046   \n",
       "                                  average   0.857750  0.863787  0.858560   \n",
       "\n",
       "                                           support  \n",
       "vectorizer model         accuracy class             \n",
       "CountVect  LogReg        0.874123 bad        621.0  \n",
       "                                  good      2088.0  \n",
       "                                  average   2709.0  \n",
       "           Random Forest 0.853082 bad        621.0  \n",
       "                                  good      2088.0  \n",
       "                                  average   2709.0  \n",
       "           Naive Bayes   0.868217 bad        621.0  \n",
       "                                  good      2088.0  \n",
       "                                  average   2709.0  \n",
       "           XGBoost       0.851237 bad        621.0  \n",
       "                                  good      2088.0  \n",
       "                                  average   2709.0  \n",
       "           CatBoost      0.863787 bad        621.0  \n",
       "                                  good      2088.0  \n",
       "                                  average   2709.0  "
      ]
     },
     "execution_count": 90,
     "metadata": {},
     "output_type": "execute_result"
    }
   ],
   "source": [
    "df_tv2"
   ]
  },
  {
   "cell_type": "code",
   "execution_count": null,
   "metadata": {},
   "outputs": [],
   "source": []
  },
  {
   "cell_type": "code",
   "execution_count": null,
   "metadata": {},
   "outputs": [],
   "source": []
  },
  {
   "cell_type": "code",
   "execution_count": null,
   "metadata": {},
   "outputs": [],
   "source": []
  },
  {
   "cell_type": "code",
   "execution_count": null,
   "metadata": {},
   "outputs": [],
   "source": []
  }
 ],
 "metadata": {
  "kernelspec": {
   "display_name": "Python 3",
   "language": "python",
   "name": "python3"
  },
  "language_info": {
   "codemirror_mode": {
    "name": "ipython",
    "version": 3
   },
   "file_extension": ".py",
   "mimetype": "text/x-python",
   "name": "python",
   "nbconvert_exporter": "python",
   "pygments_lexer": "ipython3",
   "version": "3.7.3"
  }
 },
 "nbformat": 4,
 "nbformat_minor": 2
}
