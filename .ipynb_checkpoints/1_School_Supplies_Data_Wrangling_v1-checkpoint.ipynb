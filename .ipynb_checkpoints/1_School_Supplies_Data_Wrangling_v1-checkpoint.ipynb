{
 "cells": [
  {
   "cell_type": "markdown",
   "metadata": {},
   "source": [
    "# Amazon School Supplies Review-Sentiment Analysis-Topic Modelling"
   ]
  },
  {
   "cell_type": "markdown",
   "metadata": {},
   "source": [
    "## Import Necessary Libraries"
   ]
  },
  {
   "cell_type": "code",
   "execution_count": 2,
   "metadata": {},
   "outputs": [],
   "source": [
    "# Dataframe\n",
    "import pandas as pd\n",
    "\n",
    "# Array\n",
    "import numpy as np\n",
    "\n",
    "# Decompress the file\n",
    "import gzip\n",
    "\n",
    "# Visualizations\n",
    "import matplotlib.pyplot as plt\n",
    "from matplotlib.colors import ListedColormap\n",
    "import seaborn as sns\n",
    "import matplotlib.colors as colors\n",
    "%matplotlib inline\n",
    "\n",
    "# Datetime\n",
    "from datetime import datetime\n",
    "\n",
    "## Warnings\n",
    "import warnings\n",
    "from scipy import stats\n",
    "warnings.filterwarnings('ignore')"
   ]
  },
  {
   "cell_type": "markdown",
   "metadata": {},
   "source": [
    "## Decompress the Amazon Review Dataset "
   ]
  },
  {
   "cell_type": "markdown",
   "metadata": {},
   "source": [
    "The dataset is obtained from http://snap.stanford.edu/data/amazon/productGraph/categoryFiles/reviews_Office_and_School_Supplies.json.gz link and uploaded into Jupyter notebook via the following code."
   ]
  },
  {
   "cell_type": "code",
   "execution_count": 3,
   "metadata": {},
   "outputs": [],
   "source": [
    "# def parse(path):\n",
    "#     g = gzip.open(path, 'rb')\n",
    "#     for l in g:\n",
    "#         yield eval(l)\n",
    "\n",
    "# def getDF(path):\n",
    "#     i = 0\n",
    "#     df = {}\n",
    "#     for d in parse(path):\n",
    "#         df[i] = d\n",
    "#         i += 1\n",
    "#     return pd.DataFrame.from_dict(df, orient='index')\n",
    "\n",
    "# df = getDF('data/reviews_Health_and_Personal_Care_10.json.gz')"
   ]
  },
  {
   "cell_type": "code",
   "execution_count": 4,
   "metadata": {},
   "outputs": [
    {
     "data": {
      "text/html": [
       "<div>\n",
       "<style scoped>\n",
       "    .dataframe tbody tr th:only-of-type {\n",
       "        vertical-align: middle;\n",
       "    }\n",
       "\n",
       "    .dataframe tbody tr th {\n",
       "        vertical-align: top;\n",
       "    }\n",
       "\n",
       "    .dataframe thead th {\n",
       "        text-align: right;\n",
       "    }\n",
       "</style>\n",
       "<table border=\"1\" class=\"dataframe\">\n",
       "  <thead>\n",
       "    <tr style=\"text-align: right;\">\n",
       "      <th></th>\n",
       "      <th>asin</th>\n",
       "      <th>helpful</th>\n",
       "      <th>overall</th>\n",
       "      <th>reviewText</th>\n",
       "      <th>reviewTime</th>\n",
       "      <th>reviewerID</th>\n",
       "      <th>reviewerName</th>\n",
       "      <th>summary</th>\n",
       "      <th>unixReviewTime</th>\n",
       "    </tr>\n",
       "  </thead>\n",
       "  <tbody>\n",
       "    <tr>\n",
       "      <th>0</th>\n",
       "      <td>0136039847</td>\n",
       "      <td>[0, 0]</td>\n",
       "      <td>1.0</td>\n",
       "      <td>I honestly believe that giving this merchant o...</td>\n",
       "      <td>03 3, 2014</td>\n",
       "      <td>A2MVR1VMDPMNGS</td>\n",
       "      <td>Caneshia Dancer</td>\n",
       "      <td>Worst purchase of life</td>\n",
       "      <td>1393804800</td>\n",
       "    </tr>\n",
       "    <tr>\n",
       "      <th>1</th>\n",
       "      <td>0439504422</td>\n",
       "      <td>[0, 0]</td>\n",
       "      <td>5.0</td>\n",
       "      <td>This is a standard size folder that fits stand...</td>\n",
       "      <td>09 18, 2012</td>\n",
       "      <td>ASTJ36CFZRN3O</td>\n",
       "      <td>E.S. \"SpinMommy\"</td>\n",
       "      <td>Just what I expected</td>\n",
       "      <td>1347926400</td>\n",
       "    </tr>\n",
       "    <tr>\n",
       "      <th>2</th>\n",
       "      <td>043965209X</td>\n",
       "      <td>[0, 0]</td>\n",
       "      <td>5.0</td>\n",
       "      <td>The kids love to get these green tickets to ta...</td>\n",
       "      <td>06 13, 2012</td>\n",
       "      <td>A23JBP4F0FXNS</td>\n",
       "      <td>Shenica</td>\n",
       "      <td>The kids will love it!</td>\n",
       "      <td>1339545600</td>\n",
       "    </tr>\n",
       "    <tr>\n",
       "      <th>3</th>\n",
       "      <td>043965209X</td>\n",
       "      <td>[0, 0]</td>\n",
       "      <td>4.0</td>\n",
       "      <td>This is a nice product if you are looking for ...</td>\n",
       "      <td>12 7, 2012</td>\n",
       "      <td>A3MODA2C00Q42I</td>\n",
       "      <td>Softball Mama \"Kel Kel\"</td>\n",
       "      <td>Nice Product</td>\n",
       "      <td>1354838400</td>\n",
       "    </tr>\n",
       "    <tr>\n",
       "      <th>4</th>\n",
       "      <td>0439652154</td>\n",
       "      <td>[0, 0]</td>\n",
       "      <td>5.0</td>\n",
       "      <td>WE love these, we get to give a prize now and ...</td>\n",
       "      <td>11 5, 2013</td>\n",
       "      <td>A1237WC6G28SH9</td>\n",
       "      <td>Ruth Arberman</td>\n",
       "      <td>cool motivational idea</td>\n",
       "      <td>1383609600</td>\n",
       "    </tr>\n",
       "  </tbody>\n",
       "</table>\n",
       "</div>"
      ],
      "text/plain": [
       "         asin helpful  overall  \\\n",
       "0  0136039847  [0, 0]      1.0   \n",
       "1  0439504422  [0, 0]      5.0   \n",
       "2  043965209X  [0, 0]      5.0   \n",
       "3  043965209X  [0, 0]      4.0   \n",
       "4  0439652154  [0, 0]      5.0   \n",
       "\n",
       "                                          reviewText   reviewTime  \\\n",
       "0  I honestly believe that giving this merchant o...   03 3, 2014   \n",
       "1  This is a standard size folder that fits stand...  09 18, 2012   \n",
       "2  The kids love to get these green tickets to ta...  06 13, 2012   \n",
       "3  This is a nice product if you are looking for ...   12 7, 2012   \n",
       "4  WE love these, we get to give a prize now and ...   11 5, 2013   \n",
       "\n",
       "       reviewerID             reviewerName                 summary  \\\n",
       "0  A2MVR1VMDPMNGS          Caneshia Dancer  Worst purchase of life   \n",
       "1   ASTJ36CFZRN3O         E.S. \"SpinMommy\"    Just what I expected   \n",
       "2   A23JBP4F0FXNS                  Shenica  The kids will love it!   \n",
       "3  A3MODA2C00Q42I  Softball Mama \"Kel Kel\"            Nice Product   \n",
       "4  A1237WC6G28SH9            Ruth Arberman  cool motivational idea   \n",
       "\n",
       "   unixReviewTime  \n",
       "0      1393804800  \n",
       "1      1347926400  \n",
       "2      1339545600  \n",
       "3      1354838400  \n",
       "4      1383609600  "
      ]
     },
     "execution_count": 4,
     "metadata": {},
     "output_type": "execute_result"
    }
   ],
   "source": [
    "#import the relevant libraries and packages\n",
    "import json\n",
    "from pandas.io.json import json_normalize\n",
    "\n",
    "# load json as string\n",
    "with open(\"reviews_Office_and_School_Supplies.json\", \"r\") as read_file:\n",
    "    data = [json.loads(row) for row in read_file.readlines()]\n",
    "\n",
    "df = pd.DataFrame(data)\n",
    "df.head()"
   ]
  },
  {
   "cell_type": "markdown",
   "metadata": {},
   "source": [
    "## Inspecting the Dataset"
   ]
  },
  {
   "cell_type": "code",
   "execution_count": 5,
   "metadata": {},
   "outputs": [
    {
     "data": {
      "text/plain": [
       "(10853, 9)"
      ]
     },
     "execution_count": 5,
     "metadata": {},
     "output_type": "execute_result"
    }
   ],
   "source": [
    "# Shape of the dataset\n",
    "df.shape"
   ]
  },
  {
   "cell_type": "code",
   "execution_count": 6,
   "metadata": {},
   "outputs": [
    {
     "name": "stdout",
     "output_type": "stream",
     "text": [
      "When I was a kid, I would always play with these in stores, now I have one for myself.It is powered by USB (not a drain on the system), and is a small size, about the size of a baseball.\n",
      "=======================\n",
      "Toys for your computer\n"
     ]
    }
   ],
   "source": [
    "# Inspect a sample 'reviewText'\n",
    "print(df['reviewText'][2770])\n",
    "print('=======================')\n",
    "# Inspect a sample 'summary'\n",
    "print(df['summary'][2770])"
   ]
  },
  {
   "cell_type": "code",
   "execution_count": 7,
   "metadata": {},
   "outputs": [
    {
     "name": "stdout",
     "output_type": "stream",
     "text": [
      "<class 'pandas.core.frame.DataFrame'>\n",
      "RangeIndex: 10853 entries, 0 to 10852\n",
      "Data columns (total 9 columns):\n",
      "asin              10853 non-null object\n",
      "helpful           10853 non-null object\n",
      "overall           10853 non-null float64\n",
      "reviewText        10853 non-null object\n",
      "reviewTime        10853 non-null object\n",
      "reviewerID        10853 non-null object\n",
      "reviewerName      10836 non-null object\n",
      "summary           10853 non-null object\n",
      "unixReviewTime    10853 non-null int64\n",
      "dtypes: float64(1), int64(1), object(7)\n",
      "memory usage: 763.2+ KB\n"
     ]
    }
   ],
   "source": [
    "# Basic information on Dataset\n",
    "df.info()"
   ]
  },
  {
   "cell_type": "markdown",
   "metadata": {},
   "source": [
    "**Each row corresponds to a customers' review information and related variables are explained below:**\n",
    "  * reviewerID : ID of the reviewer\n",
    "  * asin : ID of the product\n",
    "  * reviewerName : name of the reviewer\n",
    "  * helpful : helpfulness of the review, e.g. 2/3\n",
    "  * reviewText : text of the review\n",
    "  * overall : rating\n",
    "  * summary : summary of the review\n",
    "  * unixReviewTime : time of the review (unix time)\n",
    "  * reviewTime : time of the review (raw)"
   ]
  },
  {
   "cell_type": "code",
   "execution_count": 8,
   "metadata": {},
   "outputs": [
    {
     "data": {
      "text/html": [
       "<div>\n",
       "<style scoped>\n",
       "    .dataframe tbody tr th:only-of-type {\n",
       "        vertical-align: middle;\n",
       "    }\n",
       "\n",
       "    .dataframe tbody tr th {\n",
       "        vertical-align: top;\n",
       "    }\n",
       "\n",
       "    .dataframe thead th {\n",
       "        text-align: right;\n",
       "    }\n",
       "</style>\n",
       "<table border=\"1\" class=\"dataframe\">\n",
       "  <thead>\n",
       "    <tr style=\"text-align: right;\">\n",
       "      <th></th>\n",
       "      <th>overall</th>\n",
       "      <th>unixReviewTime</th>\n",
       "    </tr>\n",
       "  </thead>\n",
       "  <tbody>\n",
       "    <tr>\n",
       "      <th>count</th>\n",
       "      <td>10853.000000</td>\n",
       "      <td>1.085300e+04</td>\n",
       "    </tr>\n",
       "    <tr>\n",
       "      <th>mean</th>\n",
       "      <td>4.121902</td>\n",
       "      <td>1.340700e+09</td>\n",
       "    </tr>\n",
       "    <tr>\n",
       "      <th>std</th>\n",
       "      <td>1.339652</td>\n",
       "      <td>5.916003e+07</td>\n",
       "    </tr>\n",
       "    <tr>\n",
       "      <th>min</th>\n",
       "      <td>1.000000</td>\n",
       "      <td>9.660384e+08</td>\n",
       "    </tr>\n",
       "    <tr>\n",
       "      <th>25%</th>\n",
       "      <td>4.000000</td>\n",
       "      <td>1.314144e+09</td>\n",
       "    </tr>\n",
       "    <tr>\n",
       "      <th>50%</th>\n",
       "      <td>5.000000</td>\n",
       "      <td>1.360627e+09</td>\n",
       "    </tr>\n",
       "    <tr>\n",
       "      <th>75%</th>\n",
       "      <td>5.000000</td>\n",
       "      <td>1.384387e+09</td>\n",
       "    </tr>\n",
       "    <tr>\n",
       "      <th>max</th>\n",
       "      <td>5.000000</td>\n",
       "      <td>1.405987e+09</td>\n",
       "    </tr>\n",
       "  </tbody>\n",
       "</table>\n",
       "</div>"
      ],
      "text/plain": [
       "            overall  unixReviewTime\n",
       "count  10853.000000    1.085300e+04\n",
       "mean       4.121902    1.340700e+09\n",
       "std        1.339652    5.916003e+07\n",
       "min        1.000000    9.660384e+08\n",
       "25%        4.000000    1.314144e+09\n",
       "50%        5.000000    1.360627e+09\n",
       "75%        5.000000    1.384387e+09\n",
       "max        5.000000    1.405987e+09"
      ]
     },
     "execution_count": 8,
     "metadata": {},
     "output_type": "execute_result"
    }
   ],
   "source": [
    "# Basic Statistics of the Dataset\n",
    "df.describe()"
   ]
  },
  {
   "cell_type": "code",
   "execution_count": 9,
   "metadata": {},
   "outputs": [
    {
     "data": {
      "text/plain": [
       "0.0"
      ]
     },
     "execution_count": 9,
     "metadata": {},
     "output_type": "execute_result"
    }
   ],
   "source": [
    "# Checking weirdness on the dataset \n",
    "df['overall'][df['overall']<1].sum()"
   ]
  },
  {
   "cell_type": "code",
   "execution_count": 10,
   "metadata": {},
   "outputs": [
    {
     "data": {
      "text/plain": [
       "0.0"
      ]
     },
     "execution_count": 10,
     "metadata": {},
     "output_type": "execute_result"
    }
   ],
   "source": [
    "df['overall'][df.overall>5].sum()"
   ]
  },
  {
   "cell_type": "markdown",
   "metadata": {},
   "source": [
    "There is no rating out of defined 1-5 range. It makes sense. Let's see how many customers give ratings for each category. "
   ]
  },
  {
   "cell_type": "code",
   "execution_count": 11,
   "metadata": {},
   "outputs": [
    {
     "name": "stdout",
     "output_type": "stream",
     "text": [
      "5.0    6612\n",
      "4.0    1721\n",
      "1.0    1099\n",
      "3.0     850\n",
      "2.0     571\n",
      "Name: overall, dtype: int64 10853\n"
     ]
    }
   ],
   "source": [
    "# Customer totals for each rating \n",
    "print (df['overall'].value_counts(), df['overall'].value_counts().sum())"
   ]
  },
  {
   "cell_type": "code",
   "execution_count": 12,
   "metadata": {},
   "outputs": [
    {
     "data": {
      "image/png": "[encoded data removed]",
      "text/plain": [
       "<Figure size 432x288 with 1 Axes>"
      ]
     },
     "metadata": {
      "needs_background": "light"
     },
     "output_type": "display_data"
    }
   ],
   "source": [
    "overall = df['overall'].value_counts()\n",
    "sns.barplot(x=overall.index, y=overall.values)\n",
    "plt.xlabel(\"Rating\")\n",
    "plt.ylabel (\"Frequency\")\n",
    "plt.title(\"\")\n",
    "plt.show()"
   ]
  },
  {
   "cell_type": "markdown",
   "metadata": {},
   "source": [
    "## Dropping Missing Values"
   ]
  },
  {
   "cell_type": "code",
   "execution_count": 13,
   "metadata": {},
   "outputs": [
    {
     "data": {
      "text/plain": [
       "asin               0\n",
       "helpful            0\n",
       "overall            0\n",
       "reviewText         0\n",
       "reviewTime         0\n",
       "reviewerID         0\n",
       "reviewerName      17\n",
       "summary            0\n",
       "unixReviewTime     0\n",
       "dtype: int64"
      ]
     },
     "execution_count": 13,
     "metadata": {},
     "output_type": "execute_result"
    }
   ],
   "source": [
    "# Check for missing values\n",
    "df.isnull().sum()"
   ]
  },
  {
   "cell_type": "code",
   "execution_count": 14,
   "metadata": {},
   "outputs": [],
   "source": [
    "# Drop missing customers who don't give their names\n",
    "df = df.dropna(axis=0)"
   ]
  },
  {
   "cell_type": "code",
   "execution_count": null,
   "metadata": {},
   "outputs": [],
   "source": []
  },
  {
   "cell_type": "markdown",
   "metadata": {},
   "source": [
    "## Concatenating 'reviewText' and 'summary' columns"
   ]
  },
  {
   "cell_type": "code",
   "execution_count": 15,
   "metadata": {},
   "outputs": [],
   "source": [
    "df['review_text'] = df[['reviewText', 'summary']].apply(lambda x: ''.join(x), axis=1)"
   ]
  },
  {
   "cell_type": "code",
   "execution_count": 16,
   "metadata": {},
   "outputs": [
    {
     "data": {
      "text/html": [
       "<div>\n",
       "<style scoped>\n",
       "    .dataframe tbody tr th:only-of-type {\n",
       "        vertical-align: middle;\n",
       "    }\n",
       "\n",
       "    .dataframe tbody tr th {\n",
       "        vertical-align: top;\n",
       "    }\n",
       "\n",
       "    .dataframe thead th {\n",
       "        text-align: right;\n",
       "    }\n",
       "</style>\n",
       "<table border=\"1\" class=\"dataframe\">\n",
       "  <thead>\n",
       "    <tr style=\"text-align: right;\">\n",
       "      <th></th>\n",
       "      <th>asin</th>\n",
       "      <th>helpful</th>\n",
       "      <th>overall</th>\n",
       "      <th>reviewText</th>\n",
       "      <th>reviewTime</th>\n",
       "      <th>reviewerID</th>\n",
       "      <th>reviewerName</th>\n",
       "      <th>summary</th>\n",
       "      <th>unixReviewTime</th>\n",
       "      <th>review_text</th>\n",
       "    </tr>\n",
       "  </thead>\n",
       "  <tbody>\n",
       "    <tr>\n",
       "      <th>0</th>\n",
       "      <td>0136039847</td>\n",
       "      <td>[0, 0]</td>\n",
       "      <td>1.0</td>\n",
       "      <td>I honestly believe that giving this merchant o...</td>\n",
       "      <td>03 3, 2014</td>\n",
       "      <td>A2MVR1VMDPMNGS</td>\n",
       "      <td>Caneshia Dancer</td>\n",
       "      <td>Worst purchase of life</td>\n",
       "      <td>1393804800</td>\n",
       "      <td>I honestly believe that giving this merchant o...</td>\n",
       "    </tr>\n",
       "    <tr>\n",
       "      <th>1</th>\n",
       "      <td>0439504422</td>\n",
       "      <td>[0, 0]</td>\n",
       "      <td>5.0</td>\n",
       "      <td>This is a standard size folder that fits stand...</td>\n",
       "      <td>09 18, 2012</td>\n",
       "      <td>ASTJ36CFZRN3O</td>\n",
       "      <td>E.S. \"SpinMommy\"</td>\n",
       "      <td>Just what I expected</td>\n",
       "      <td>1347926400</td>\n",
       "      <td>This is a standard size folder that fits stand...</td>\n",
       "    </tr>\n",
       "  </tbody>\n",
       "</table>\n",
       "</div>"
      ],
      "text/plain": [
       "         asin helpful  overall  \\\n",
       "0  0136039847  [0, 0]      1.0   \n",
       "1  0439504422  [0, 0]      5.0   \n",
       "\n",
       "                                          reviewText   reviewTime  \\\n",
       "0  I honestly believe that giving this merchant o...   03 3, 2014   \n",
       "1  This is a standard size folder that fits stand...  09 18, 2012   \n",
       "\n",
       "       reviewerID      reviewerName                 summary  unixReviewTime  \\\n",
       "0  A2MVR1VMDPMNGS   Caneshia Dancer  Worst purchase of life      1393804800   \n",
       "1   ASTJ36CFZRN3O  E.S. \"SpinMommy\"    Just what I expected      1347926400   \n",
       "\n",
       "                                         review_text  \n",
       "0  I honestly believe that giving this merchant o...  \n",
       "1  This is a standard size folder that fits stand...  "
      ]
     },
     "execution_count": 16,
     "metadata": {},
     "output_type": "execute_result"
    }
   ],
   "source": [
    "df.head(2)"
   ]
  },
  {
   "cell_type": "code",
   "execution_count": 17,
   "metadata": {},
   "outputs": [
    {
     "name": "stdout",
     "output_type": "stream",
     "text": [
      "When I was a kid, I would always play with these in stores, now I have one for myself.It is powered by USB (not a drain on the system), and is a small size, about the size of a baseball.Toys for your computer\n"
     ]
    }
   ],
   "source": [
    "# Inspect a sample\n",
    "print(df['review_text'][2770])"
   ]
  },
  {
   "cell_type": "markdown",
   "metadata": {},
   "source": [
    "## Classify the 'overall' (ratings) as good, neutral and bad"
   ]
  },
  {
   "cell_type": "code",
   "execution_count": 18,
   "metadata": {},
   "outputs": [
    {
     "name": "stdout",
     "output_type": "stream",
     "text": [
      "Good ratings : 8319 reviews\n",
      "Neutral ratings : 849 reviews\n",
      "Bad ratings : 1668 reviews\n"
     ]
    }
   ],
   "source": [
    "# Classify ratings as good\n",
    "good_rate = df[df.overall > 3].overall.count()\n",
    "neut_rate = df[df.overall == 3].overall.count()\n",
    "bad_rate = df[df.overall < 3].overall.count()\n",
    "\n",
    "# Printing rates and their total numbers\n",
    "print ('Good ratings : {} reviews'.format(good_rate))\n",
    "print ('Neutral ratings : {} reviews'.format(neut_rate))\n",
    "print ('Bad ratings : {} reviews'.format(bad_rate))"
   ]
  },
  {
   "cell_type": "code",
   "execution_count": 19,
   "metadata": {},
   "outputs": [
    {
     "data": {
      "image/png": "[encoded data removed]",
      "text/plain": [
       "<Figure size 432x288 with 1 Axes>"
      ]
     },
     "metadata": {
      "needs_background": "light"
     },
     "output_type": "display_data"
    }
   ],
   "source": [
    "overall = df['overall'].value_counts()\n",
    "sns.barplot(x=['Good','Neutral','Bad'], y=[8319,849,1668])\n",
    "plt.xlabel(\"Rating\")\n",
    "plt.ylabel (\"Frequency\")\n",
    "plt.title(\"\")\n",
    "plt.show()"
   ]
  },
  {
   "cell_type": "code",
   "execution_count": 20,
   "metadata": {},
   "outputs": [
    {
     "data": {
      "text/html": [
       "<div>\n",
       "<style scoped>\n",
       "    .dataframe tbody tr th:only-of-type {\n",
       "        vertical-align: middle;\n",
       "    }\n",
       "\n",
       "    .dataframe tbody tr th {\n",
       "        vertical-align: top;\n",
       "    }\n",
       "\n",
       "    .dataframe thead th {\n",
       "        text-align: right;\n",
       "    }\n",
       "</style>\n",
       "<table border=\"1\" class=\"dataframe\">\n",
       "  <thead>\n",
       "    <tr style=\"text-align: right;\">\n",
       "      <th></th>\n",
       "      <th>asin</th>\n",
       "      <th>helpful</th>\n",
       "      <th>overall</th>\n",
       "      <th>reviewText</th>\n",
       "      <th>reviewTime</th>\n",
       "      <th>reviewerID</th>\n",
       "      <th>reviewerName</th>\n",
       "      <th>summary</th>\n",
       "      <th>unixReviewTime</th>\n",
       "      <th>review_text</th>\n",
       "      <th>rating_class</th>\n",
       "    </tr>\n",
       "  </thead>\n",
       "  <tbody>\n",
       "    <tr>\n",
       "      <th>0</th>\n",
       "      <td>0136039847</td>\n",
       "      <td>[0, 0]</td>\n",
       "      <td>1.0</td>\n",
       "      <td>I honestly believe that giving this merchant o...</td>\n",
       "      <td>03 3, 2014</td>\n",
       "      <td>A2MVR1VMDPMNGS</td>\n",
       "      <td>Caneshia Dancer</td>\n",
       "      <td>Worst purchase of life</td>\n",
       "      <td>1393804800</td>\n",
       "      <td>I honestly believe that giving this merchant o...</td>\n",
       "      <td>bad</td>\n",
       "    </tr>\n",
       "    <tr>\n",
       "      <th>1</th>\n",
       "      <td>0439504422</td>\n",
       "      <td>[0, 0]</td>\n",
       "      <td>5.0</td>\n",
       "      <td>This is a standard size folder that fits stand...</td>\n",
       "      <td>09 18, 2012</td>\n",
       "      <td>ASTJ36CFZRN3O</td>\n",
       "      <td>E.S. \"SpinMommy\"</td>\n",
       "      <td>Just what I expected</td>\n",
       "      <td>1347926400</td>\n",
       "      <td>This is a standard size folder that fits stand...</td>\n",
       "      <td>good</td>\n",
       "    </tr>\n",
       "  </tbody>\n",
       "</table>\n",
       "</div>"
      ],
      "text/plain": [
       "         asin helpful  overall  \\\n",
       "0  0136039847  [0, 0]      1.0   \n",
       "1  0439504422  [0, 0]      5.0   \n",
       "\n",
       "                                          reviewText   reviewTime  \\\n",
       "0  I honestly believe that giving this merchant o...   03 3, 2014   \n",
       "1  This is a standard size folder that fits stand...  09 18, 2012   \n",
       "\n",
       "       reviewerID      reviewerName                 summary  unixReviewTime  \\\n",
       "0  A2MVR1VMDPMNGS   Caneshia Dancer  Worst purchase of life      1393804800   \n",
       "1   ASTJ36CFZRN3O  E.S. \"SpinMommy\"    Just what I expected      1347926400   \n",
       "\n",
       "                                         review_text rating_class  \n",
       "0  I honestly believe that giving this merchant o...          bad  \n",
       "1  This is a standard size folder that fits stand...         good  "
      ]
     },
     "execution_count": 20,
     "metadata": {},
     "output_type": "execute_result"
    }
   ],
   "source": [
    "# Apply the new classification to the ratings column\n",
    "df['rating_class'] = df['overall'].apply(lambda x: 'bad' if x < 3 else('neutral' if x==3  else 'good'))\n",
    "df.head(2)"
   ]
  },
  {
   "cell_type": "markdown",
   "metadata": {},
   "source": [
    "## Dropping redundant columns"
   ]
  },
  {
   "cell_type": "code",
   "execution_count": 21,
   "metadata": {},
   "outputs": [],
   "source": [
    "# Convert time object to datetime and create a new column named 'date_time'\n",
    "df['date_time'] = pd.to_datetime(df['reviewTime'])"
   ]
  },
  {
   "cell_type": "markdown",
   "metadata": {},
   "source": [
    "  * As we have 'reviewerID', which a unique identifier customers, we don't need 'reviewerName', thus we can drop 'reviewerName'. \n",
    "  * As we already combined 'summary' and 'reviewText' columns and created a new column, 'review_text', we can drop 'summary' and 'reviewText' columns.\n",
    "  * As we are planning to use ratings and reviews only, we don't need 'helpful' column.\n",
    "  * As we already created 'date_time' column, we will drop 'reviewTime' and 'unixReviewTime' "
   ]
  },
  {
   "cell_type": "code",
   "execution_count": 22,
   "metadata": {},
   "outputs": [],
   "source": [
    "df = df.drop(['reviewerName', 'helpful', 'summary', 'reviewText', 'unixReviewTime', 'reviewTime'], axis = 1)"
   ]
  },
  {
   "cell_type": "code",
   "execution_count": 23,
   "metadata": {},
   "outputs": [
    {
     "data": {
      "text/html": [
       "<div>\n",
       "<style scoped>\n",
       "    .dataframe tbody tr th:only-of-type {\n",
       "        vertical-align: middle;\n",
       "    }\n",
       "\n",
       "    .dataframe tbody tr th {\n",
       "        vertical-align: top;\n",
       "    }\n",
       "\n",
       "    .dataframe thead th {\n",
       "        text-align: right;\n",
       "    }\n",
       "</style>\n",
       "<table border=\"1\" class=\"dataframe\">\n",
       "  <thead>\n",
       "    <tr style=\"text-align: right;\">\n",
       "      <th></th>\n",
       "      <th>asin</th>\n",
       "      <th>overall</th>\n",
       "      <th>reviewerID</th>\n",
       "      <th>review_text</th>\n",
       "      <th>rating_class</th>\n",
       "      <th>date_time</th>\n",
       "    </tr>\n",
       "  </thead>\n",
       "  <tbody>\n",
       "    <tr>\n",
       "      <th>0</th>\n",
       "      <td>0136039847</td>\n",
       "      <td>1.0</td>\n",
       "      <td>A2MVR1VMDPMNGS</td>\n",
       "      <td>I honestly believe that giving this merchant o...</td>\n",
       "      <td>bad</td>\n",
       "      <td>2014-03-03</td>\n",
       "    </tr>\n",
       "    <tr>\n",
       "      <th>1</th>\n",
       "      <td>0439504422</td>\n",
       "      <td>5.0</td>\n",
       "      <td>ASTJ36CFZRN3O</td>\n",
       "      <td>This is a standard size folder that fits stand...</td>\n",
       "      <td>good</td>\n",
       "      <td>2012-09-18</td>\n",
       "    </tr>\n",
       "    <tr>\n",
       "      <th>2</th>\n",
       "      <td>043965209X</td>\n",
       "      <td>5.0</td>\n",
       "      <td>A23JBP4F0FXNS</td>\n",
       "      <td>The kids love to get these green tickets to ta...</td>\n",
       "      <td>good</td>\n",
       "      <td>2012-06-13</td>\n",
       "    </tr>\n",
       "  </tbody>\n",
       "</table>\n",
       "</div>"
      ],
      "text/plain": [
       "         asin  overall      reviewerID  \\\n",
       "0  0136039847      1.0  A2MVR1VMDPMNGS   \n",
       "1  0439504422      5.0   ASTJ36CFZRN3O   \n",
       "2  043965209X      5.0   A23JBP4F0FXNS   \n",
       "\n",
       "                                         review_text rating_class  date_time  \n",
       "0  I honestly believe that giving this merchant o...          bad 2014-03-03  \n",
       "1  This is a standard size folder that fits stand...         good 2012-09-18  \n",
       "2  The kids love to get these green tickets to ta...         good 2012-06-13  "
      ]
     },
     "execution_count": 23,
     "metadata": {},
     "output_type": "execute_result"
    }
   ],
   "source": [
    "df.head(3)"
   ]
  },
  {
   "cell_type": "markdown",
   "metadata": {},
   "source": [
    "## Rename column names"
   ]
  },
  {
   "cell_type": "code",
   "execution_count": 24,
   "metadata": {},
   "outputs": [],
   "source": [
    "# Rename the columns\n",
    "df.columns = ['customer_ID', 'rating', 'product_ID', 'review_text', 'rating_class', 'date_time']"
   ]
  },
  {
   "cell_type": "code",
   "execution_count": 25,
   "metadata": {},
   "outputs": [
    {
     "data": {
      "text/html": [
       "<div>\n",
       "<style scoped>\n",
       "    .dataframe tbody tr th:only-of-type {\n",
       "        vertical-align: middle;\n",
       "    }\n",
       "\n",
       "    .dataframe tbody tr th {\n",
       "        vertical-align: top;\n",
       "    }\n",
       "\n",
       "    .dataframe thead th {\n",
       "        text-align: right;\n",
       "    }\n",
       "</style>\n",
       "<table border=\"1\" class=\"dataframe\">\n",
       "  <thead>\n",
       "    <tr style=\"text-align: right;\">\n",
       "      <th></th>\n",
       "      <th>customer_ID</th>\n",
       "      <th>rating</th>\n",
       "      <th>product_ID</th>\n",
       "      <th>review_text</th>\n",
       "      <th>rating_class</th>\n",
       "      <th>date_time</th>\n",
       "    </tr>\n",
       "  </thead>\n",
       "  <tbody>\n",
       "    <tr>\n",
       "      <th>0</th>\n",
       "      <td>0136039847</td>\n",
       "      <td>1.0</td>\n",
       "      <td>A2MVR1VMDPMNGS</td>\n",
       "      <td>I honestly believe that giving this merchant o...</td>\n",
       "      <td>bad</td>\n",
       "      <td>2014-03-03</td>\n",
       "    </tr>\n",
       "    <tr>\n",
       "      <th>1</th>\n",
       "      <td>0439504422</td>\n",
       "      <td>5.0</td>\n",
       "      <td>ASTJ36CFZRN3O</td>\n",
       "      <td>This is a standard size folder that fits stand...</td>\n",
       "      <td>good</td>\n",
       "      <td>2012-09-18</td>\n",
       "    </tr>\n",
       "  </tbody>\n",
       "</table>\n",
       "</div>"
      ],
      "text/plain": [
       "  customer_ID  rating      product_ID  \\\n",
       "0  0136039847     1.0  A2MVR1VMDPMNGS   \n",
       "1  0439504422     5.0   ASTJ36CFZRN3O   \n",
       "\n",
       "                                         review_text rating_class  date_time  \n",
       "0  I honestly believe that giving this merchant o...          bad 2014-03-03  \n",
       "1  This is a standard size folder that fits stand...         good 2012-09-18  "
      ]
     },
     "execution_count": 25,
     "metadata": {},
     "output_type": "execute_result"
    }
   ],
   "source": [
    "df.head(2)"
   ]
  },
  {
   "cell_type": "code",
   "execution_count": 26,
   "metadata": {},
   "outputs": [],
   "source": [
    "# Reindexing the dataset\n",
    "df = df.reindex(columns=['customer_ID', 'product_ID', 'rating', 'review_text', 'rating_class', 'date_time'])"
   ]
  },
  {
   "cell_type": "code",
   "execution_count": 27,
   "metadata": {},
   "outputs": [
    {
     "data": {
      "text/html": [
       "<div>\n",
       "<style scoped>\n",
       "    .dataframe tbody tr th:only-of-type {\n",
       "        vertical-align: middle;\n",
       "    }\n",
       "\n",
       "    .dataframe tbody tr th {\n",
       "        vertical-align: top;\n",
       "    }\n",
       "\n",
       "    .dataframe thead th {\n",
       "        text-align: right;\n",
       "    }\n",
       "</style>\n",
       "<table border=\"1\" class=\"dataframe\">\n",
       "  <thead>\n",
       "    <tr style=\"text-align: right;\">\n",
       "      <th></th>\n",
       "      <th>customer_ID</th>\n",
       "      <th>product_ID</th>\n",
       "      <th>rating</th>\n",
       "      <th>review_text</th>\n",
       "      <th>rating_class</th>\n",
       "      <th>date_time</th>\n",
       "    </tr>\n",
       "  </thead>\n",
       "  <tbody>\n",
       "    <tr>\n",
       "      <th>0</th>\n",
       "      <td>0136039847</td>\n",
       "      <td>A2MVR1VMDPMNGS</td>\n",
       "      <td>1.0</td>\n",
       "      <td>I honestly believe that giving this merchant o...</td>\n",
       "      <td>bad</td>\n",
       "      <td>2014-03-03</td>\n",
       "    </tr>\n",
       "    <tr>\n",
       "      <th>1</th>\n",
       "      <td>0439504422</td>\n",
       "      <td>ASTJ36CFZRN3O</td>\n",
       "      <td>5.0</td>\n",
       "      <td>This is a standard size folder that fits stand...</td>\n",
       "      <td>good</td>\n",
       "      <td>2012-09-18</td>\n",
       "    </tr>\n",
       "  </tbody>\n",
       "</table>\n",
       "</div>"
      ],
      "text/plain": [
       "  customer_ID      product_ID  rating  \\\n",
       "0  0136039847  A2MVR1VMDPMNGS     1.0   \n",
       "1  0439504422   ASTJ36CFZRN3O     5.0   \n",
       "\n",
       "                                         review_text rating_class  date_time  \n",
       "0  I honestly believe that giving this merchant o...          bad 2014-03-03  \n",
       "1  This is a standard size folder that fits stand...         good 2012-09-18  "
      ]
     },
     "execution_count": 27,
     "metadata": {},
     "output_type": "execute_result"
    }
   ],
   "source": [
    "df.head(2)"
   ]
  },
  {
   "cell_type": "code",
   "execution_count": 28,
   "metadata": {},
   "outputs": [
    {
     "name": "stdout",
     "output_type": "stream",
     "text": [
      " The number of unique customers is 3229\n",
      " The number of unique products is 10625\n"
     ]
    }
   ],
   "source": [
    "# The number of unique customers\n",
    "print(' The number of unique customers is {}'.format (len(df['customer_ID'].unique())))\n",
    "\n",
    "# The number of unique products\n",
    "print(' The number of unique products is {}'.format (len(df['product_ID'].unique())))"
   ]
  },
  {
   "cell_type": "code",
   "execution_count": 29,
   "metadata": {},
   "outputs": [
    {
     "data": {
      "text/html": [
       "<div>\n",
       "<style scoped>\n",
       "    .dataframe tbody tr th:only-of-type {\n",
       "        vertical-align: middle;\n",
       "    }\n",
       "\n",
       "    .dataframe tbody tr th {\n",
       "        vertical-align: top;\n",
       "    }\n",
       "\n",
       "    .dataframe thead th {\n",
       "        text-align: right;\n",
       "    }\n",
       "</style>\n",
       "<table border=\"1\" class=\"dataframe\">\n",
       "  <thead>\n",
       "    <tr style=\"text-align: right;\">\n",
       "      <th></th>\n",
       "      <th>rating</th>\n",
       "    </tr>\n",
       "  </thead>\n",
       "  <tbody>\n",
       "    <tr>\n",
       "      <th>count</th>\n",
       "      <td>10836.000000</td>\n",
       "    </tr>\n",
       "    <tr>\n",
       "      <th>mean</th>\n",
       "      <td>4.121447</td>\n",
       "    </tr>\n",
       "    <tr>\n",
       "      <th>std</th>\n",
       "      <td>1.339823</td>\n",
       "    </tr>\n",
       "    <tr>\n",
       "      <th>min</th>\n",
       "      <td>1.000000</td>\n",
       "    </tr>\n",
       "    <tr>\n",
       "      <th>25%</th>\n",
       "      <td>4.000000</td>\n",
       "    </tr>\n",
       "    <tr>\n",
       "      <th>50%</th>\n",
       "      <td>5.000000</td>\n",
       "    </tr>\n",
       "    <tr>\n",
       "      <th>75%</th>\n",
       "      <td>5.000000</td>\n",
       "    </tr>\n",
       "    <tr>\n",
       "      <th>max</th>\n",
       "      <td>5.000000</td>\n",
       "    </tr>\n",
       "  </tbody>\n",
       "</table>\n",
       "</div>"
      ],
      "text/plain": [
       "             rating\n",
       "count  10836.000000\n",
       "mean       4.121447\n",
       "std        1.339823\n",
       "min        1.000000\n",
       "25%        4.000000\n",
       "50%        5.000000\n",
       "75%        5.000000\n",
       "max        5.000000"
      ]
     },
     "execution_count": 29,
     "metadata": {},
     "output_type": "execute_result"
    }
   ],
   "source": [
    "df.describe()"
   ]
  },
  {
   "cell_type": "markdown",
   "metadata": {},
   "source": [
    "##### What we learned from the statistics summary\n",
    "\n",
    "  * Rating:\n",
    "    - Mean of the ratings is more than 4 out of 5. It means that people are tenden to give high ratings. \"std\" value (1.084) and percentile values show that 1 and 2 star ratings are rare. \n",
    "\n",
    "  * Non-numeric variables statistics:\n",
    "    - Some customers have more than one rating and we may have some outliers."
   ]
  },
  {
   "cell_type": "markdown",
   "metadata": {},
   "source": [
    "# Preprocessing the new_text"
   ]
  },
  {
   "cell_type": "code",
   "execution_count": 30,
   "metadata": {},
   "outputs": [],
   "source": [
    "import spacy\n",
    "import nltk\n",
    "from nltk.corpus import stopwords\n",
    "from nltk.stem import PorterStemmer, WordNetLemmatizer\n",
    "from nltk.tokenize import word_tokenize, sent_tokenize, regexp_tokenize\n",
    "from nltk.tokenize import RegexpTokenizer\n",
    "from nltk.tokenize.toktok import ToktokTokenizer\n",
    "import re\n",
    "from bs4 import BeautifulSoup\n",
    "#download contractions.py and keep it in the same directory in your notebook\n",
    "from contractions import CONTRACTION_MAP  \n",
    "import unicodedata\n",
    "tokenizer = ToktokTokenizer()\n",
    "nlp = spacy.load('en', parse=True, tag=True, entity=True)"
   ]
  },
  {
   "cell_type": "markdown",
   "metadata": {},
   "source": [
    "## Cleaning Text - strip HTML"
   ]
  },
  {
   "cell_type": "markdown",
   "metadata": {},
   "source": [
    "We will write a function to remove the HTML tags which typically does not add much value towards understanding and analyzing text."
   ]
  },
  {
   "cell_type": "code",
   "execution_count": 31,
   "metadata": {},
   "outputs": [],
   "source": [
    "def strip_html_tags(text):\n",
    "    \n",
    "    \"Removes html tags in the text\"\n",
    "    \n",
    "    soup = BeautifulSoup(text, \"html.parser\")\n",
    "    stripped_text = soup.get_text()\n",
    "    return stripped_text"
   ]
  },
  {
   "cell_type": "markdown",
   "metadata": {},
   "source": [
    "## Removing accented characters"
   ]
  },
  {
   "cell_type": "markdown",
   "metadata": {},
   "source": [
    "We will write a function to convert and standardize accented characters/letters into ASCII characters."
   ]
  },
  {
   "cell_type": "code",
   "execution_count": 32,
   "metadata": {},
   "outputs": [],
   "source": [
    "def remove_accented_chars(text):\n",
    "    \n",
    "    \"Removes and standardize accented characters/letters\"\n",
    "    \n",
    "    text = unicodedata.normalize('NFKD', text).encode('ascii', 'ignore').decode('utf-8', 'ignore')\n",
    "    return text"
   ]
  },
  {
   "cell_type": "markdown",
   "metadata": {},
   "source": [
    "## Expanding Contractions"
   ]
  },
  {
   "cell_type": "markdown",
   "metadata": {},
   "source": [
    "We will write a function to convert each contraction to its expanded, orginal form in order to help with text standardization. "
   ]
  },
  {
   "cell_type": "code",
   "execution_count": 33,
   "metadata": {},
   "outputs": [],
   "source": [
    "def expand_contractions(text, contraction_mapping=CONTRACTION_MAP):\n",
    "    \n",
    "    \"Convert contractions into their original forms\"\n",
    "    \n",
    "    contractions_pattern = re.compile('({})'.format('|'.join(contraction_mapping.keys())), \n",
    "                                      flags=re.IGNORECASE|re.DOTALL)\n",
    "    def expand_match(contraction):\n",
    "        match = contraction.group(0)\n",
    "        first_char = match[0]\n",
    "        expanded_contraction = contraction_mapping.get(match)\\\n",
    "                                if contraction_mapping.get(match)\\\n",
    "                                else contraction_mapping.get(match.lower())                       \n",
    "        expanded_contraction = first_char+expanded_contraction[1:]\n",
    "        return expanded_contraction\n",
    "        \n",
    "    expanded_text = contractions_pattern.sub(expand_match, text)\n",
    "    expanded_text = re.sub(\"'\", \"\", expanded_text)\n",
    "    return expanded_text"
   ]
  },
  {
   "cell_type": "markdown",
   "metadata": {},
   "source": [
    "## Removing Special Characters"
   ]
  },
  {
   "cell_type": "markdown",
   "metadata": {},
   "source": [
    "We will use simple regular expressions(regexes) to remove special characters and symbols which are usually non-alphanumeric characters or even occasional numeric characters."
   ]
  },
  {
   "cell_type": "code",
   "execution_count": 34,
   "metadata": {},
   "outputs": [],
   "source": [
    "def remove_special_characters(text, remove_digits=False):\n",
    "    \n",
    "    \"Remove special characters/symbols\"\n",
    "    \n",
    "    pattern = r'[^a-zA-z0-9\\s]' if not remove_digits else r'[^a-zA-z\\s]'\n",
    "    text = re.sub(pattern, '', text)\n",
    "    return text"
   ]
  },
  {
   "cell_type": "markdown",
   "metadata": {},
   "source": [
    "## Lemmatizing text"
   ]
  },
  {
   "cell_type": "markdown",
   "metadata": {},
   "source": [
    "We will remove word affixes to get to the base form of a word, known as root word. "
   ]
  },
  {
   "cell_type": "code",
   "execution_count": 35,
   "metadata": {},
   "outputs": [
    {
     "data": {
      "text/plain": [
       "'My system keep crash ! the car crash yesterday , ours crash daily'"
      ]
     },
     "execution_count": 35,
     "metadata": {},
     "output_type": "execute_result"
    }
   ],
   "source": [
    "def lemmatize_text(text):\n",
    "    text = nlp(text)\n",
    "    text = ' '.join([word.lemma_ if word.lemma_ != '-PRON-' else word.text for word in text])\n",
    "    return text\n",
    "\n",
    "lemmatize_text(\"My system keeps crashing! the car crashed yesterday, ours crashes daily\")"
   ]
  },
  {
   "cell_type": "markdown",
   "metadata": {},
   "source": [
    "## Removing Stopwords"
   ]
  },
  {
   "cell_type": "markdown",
   "metadata": {},
   "source": [
    "We will write a function to remove stopwords which have little or no significance in the text. "
   ]
  },
  {
   "cell_type": "code",
   "execution_count": 36,
   "metadata": {},
   "outputs": [],
   "source": [
    "# Instantiate Tokenizer\n",
    "tokenizer = ToktokTokenizer()\n",
    "\n",
    "# Create stopword list\n",
    "stopword_list = nltk.corpus.stopwords.words('english')\n",
    "\n",
    "# 'no' and 'not' may give us information so those are removed from stop list\n",
    "stopword_list.remove('no')\n",
    "stopword_list.remove('not')"
   ]
  },
  {
   "cell_type": "code",
   "execution_count": 37,
   "metadata": {},
   "outputs": [],
   "source": [
    "def remove_stopwords(text, is_lower_case=False):\n",
    "    \n",
    "    \"Remove stopwords in the text except 'no' and 'not'\"\n",
    "    \n",
    "    tokens = tokenizer.tokenize(text)\n",
    "    tokens = [token.strip() for token in tokens]\n",
    "    if is_lower_case:\n",
    "        filtered_tokens = [token for token in tokens if token not in stopword_list]\n",
    "    else:\n",
    "        filtered_tokens = [token for token in tokens if token.lower() not in stopword_list]\n",
    "    filtered_text = ' '.join(filtered_tokens)    \n",
    "    return filtered_text"
   ]
  },
  {
   "cell_type": "markdown",
   "metadata": {},
   "source": [
    "## Normalize text corpus - tying it all together"
   ]
  },
  {
   "cell_type": "markdown",
   "metadata": {},
   "source": [
    "Based on the functions which we have written above and also with additional text correction techniques, we will build a text normalizer in order to help us to preproces the new_text document."
   ]
  },
  {
   "cell_type": "markdown",
   "metadata": {},
   "source": [
    "## Applying text normalizer to \"review_text\""
   ]
  },
  {
   "cell_type": "code",
   "execution_count": 38,
   "metadata": {},
   "outputs": [],
   "source": [
    "import numpy as np\n",
    "import contractions\n",
    "from bs4 import BeautifulSoup\n",
    "import unicodedata\n",
    "import re\n",
    "from concurrent import futures\n",
    "import threading\n",
    "\n",
    "\n",
    "def strip_html_tags(text):\n",
    "    soup = BeautifulSoup(text, \"lxml\")\n",
    "    [s.extract() for s in soup(['iframe', 'script'])]\n",
    "    stripped_text = soup.get_text()\n",
    "    stripped_text = re.sub(r'[\\r|\\n|\\r\\n]+', '\\n', stripped_text, re.I)\n",
    "    return stripped_text\n",
    "\n",
    "\n",
    "def remove_urls(text):\n",
    "    url_pattern = '((https?:\\/\\/)(\\s)*(www\\.)?|(www\\.))(\\s)*((\\w|\\s)+\\.)*([\\w\\-\\s]+\\/)*([\\w\\-]+)((\\?)?[\\w\\s]*=\\s*[\\w\\%&]*)*'\n",
    "    text = re.sub(url_pattern, ' ', text, re.I)\n",
    "    return text\n",
    "\n",
    "\n",
    "def remove_checklists(text):\n",
    "    checklist_pattern = r'\\[[xX\\.\\s]\\]'\n",
    "    text = re.sub(checklist_pattern, ' ', text, re.I | re.DOTALL)\n",
    "    return text\n",
    "\n",
    "\n",
    "def remove_accented_chars(text):\n",
    "    text = unicodedata.normalize('NFKD', text).encode('ascii', 'ignore').decode('utf-8', 'ignore')\n",
    "    return text\n",
    "\n",
    "def expand_contractions(text, contraction_mapping=CONTRACTION_MAP):\n",
    "    \n",
    "    \"Convert contractions into their original forms\"\n",
    "    \n",
    "    contractions_pattern = re.compile('({})'.format('|'.join(contraction_mapping.keys())), \n",
    "                                      flags=re.IGNORECASE|re.DOTALL)\n",
    "    def expand_match(contraction):\n",
    "        match = contraction.group(0)\n",
    "        first_char = match[0]\n",
    "        expanded_contraction = contraction_mapping.get(match)\\\n",
    "                                if contraction_mapping.get(match)\\\n",
    "                                else contraction_mapping.get(match.lower())                       \n",
    "        expanded_contraction = first_char+expanded_contraction[1:]\n",
    "        return expanded_contraction\n",
    "        \n",
    "    expanded_text = contractions_pattern.sub(expand_match, text)\n",
    "    expanded_text = re.sub(\"'\", \"\", expanded_text)\n",
    "    return expanded_text\n",
    "\n",
    "\n",
    "\n",
    "# def expand_contractions(text):\n",
    "#     return contractions.fix(text)\n",
    "\n",
    "\n",
    "def remove_special_characters(text, remove_digits=False):\n",
    "    pattern = r'[^a-zA-Z0-9/\\s]' if not remove_digits else r'[^a-zA-Z\\s]'\n",
    "    text = re.sub(pattern, ' ', text)\n",
    "    return text\n",
    "\n",
    "def remove_stopwords(text, is_lower_case=False):\n",
    "    \n",
    "    \"Remove stopwords in the text except 'no' and 'not'\"\n",
    "    \n",
    "    tokens = tokenizer.tokenize(text)\n",
    "    tokens = [token.strip() for token in tokens]\n",
    "    if is_lower_case:\n",
    "        filtered_tokens = [token for token in tokens if token not in stopword_list]\n",
    "    else:\n",
    "        filtered_tokens = [token for token in tokens if token.lower() not in stopword_list]\n",
    "    filtered_text = ' '.join(filtered_tokens)    \n",
    "    return filtered_text\n",
    "\n",
    "\n",
    "def pre_process_document(document, contraction_expansion=True):\n",
    "    # strip HTML\n",
    "    document = strip_html_tags(document)\n",
    "\n",
    "    # remove URLS\n",
    "    document = remove_urls(document)\n",
    "\n",
    "    # remove checklists\n",
    "    document = remove_checklists(document)\n",
    "\n",
    "    # expand contractions\n",
    "    document = expand_contractions(document)\n",
    "\n",
    "        # expand contractions    \n",
    "    if contraction_expansion:\n",
    "        document = expand_contractions(document)\n",
    "        \n",
    "    # lower case\n",
    "    document = document.lower()\n",
    "\n",
    "    # remove extra newlines (often might be present in really noisy text)\n",
    "    document = document.translate(document.maketrans(\"\\n\\t\\r\", \"   \"))\n",
    "\n",
    "    # remove accented characters\n",
    "    document = remove_accented_chars(document)\n",
    "\n",
    "    # remove special characters and\\or digits\n",
    "    # insert spaces between special characters to isolate them\n",
    "    special_char_pattern = re.compile(r'([{.(-)!}])')\n",
    "    document = special_char_pattern.sub(\" \\\\1 \", document)\n",
    "    document = remove_special_characters(document, remove_digits=False)\n",
    "\n",
    "    # remove only numbers\n",
    "    document = re.sub(r'\\b\\d+\\b', '', document)\n",
    "\n",
    "    # remove extra whitespace\n",
    "    document = re.sub(' +', ' ', document)\n",
    "    document = document.strip()\n",
    "\n",
    "    #remove stopwords\n",
    "    document = remove_stopwords (document)\n",
    "    \n",
    "    #lemmatize the text\n",
    "    document = lemmatize_text(document)\n",
    "    \n",
    "    return document\n",
    "\n",
    "\n",
    "def parallel_preprocessing(idx, doc, total_docs):\n",
    "    if idx % 5000 == 0 or idx == (total_docs - 1):\n",
    "        print('{}: working on doc num: {}'.format(threading.current_thread().name,\n",
    "                                                  idx)\n",
    "    )\n",
    "    return pre_process_document(doc)\n",
    "\n",
    "\n",
    "def pre_process_documents_parallel(documents):\n",
    "    total_docs = len(documents)\n",
    "    docs_input = [[idx, doc, total_docs] for idx, doc in enumerate(documents)]\n",
    "    \n",
    "    ex = futures.ThreadPoolExecutor(max_workers=None)\n",
    "    print('preprocessing: starting')\n",
    "    norm_descriptions_map = ex.map(parallel_preprocessing, \n",
    "                                   [record[0] for record in docs_input],\n",
    "                                   [record[1] for record in docs_input],\n",
    "                                   [record[2] for record in docs_input])\n",
    "    norm_descriptions = list(norm_descriptions_map)\n",
    "    return norm_descriptions"
   ]
  },
  {
   "cell_type": "code",
   "execution_count": 39,
   "metadata": {},
   "outputs": [],
   "source": [
    "df['normalized_text'] = df['review_text'].map(lambda x: pre_process_document(x))"
   ]
  },
  {
   "cell_type": "code",
   "execution_count": 40,
   "metadata": {},
   "outputs": [
    {
     "data": {
      "text/html": [
       "<div>\n",
       "<style scoped>\n",
       "    .dataframe tbody tr th:only-of-type {\n",
       "        vertical-align: middle;\n",
       "    }\n",
       "\n",
       "    .dataframe tbody tr th {\n",
       "        vertical-align: top;\n",
       "    }\n",
       "\n",
       "    .dataframe thead th {\n",
       "        text-align: right;\n",
       "    }\n",
       "</style>\n",
       "<table border=\"1\" class=\"dataframe\">\n",
       "  <thead>\n",
       "    <tr style=\"text-align: right;\">\n",
       "      <th></th>\n",
       "      <th>customer_ID</th>\n",
       "      <th>product_ID</th>\n",
       "      <th>rating</th>\n",
       "      <th>review_text</th>\n",
       "      <th>rating_class</th>\n",
       "      <th>date_time</th>\n",
       "      <th>normalized_text</th>\n",
       "    </tr>\n",
       "  </thead>\n",
       "  <tbody>\n",
       "    <tr>\n",
       "      <th>0</th>\n",
       "      <td>0136039847</td>\n",
       "      <td>A2MVR1VMDPMNGS</td>\n",
       "      <td>1.0</td>\n",
       "      <td>I honestly believe that giving this merchant o...</td>\n",
       "      <td>bad</td>\n",
       "      <td>2014-03-03</td>\n",
       "      <td>honestly believe give merchant one star favor ...</td>\n",
       "    </tr>\n",
       "    <tr>\n",
       "      <th>1</th>\n",
       "      <td>0439504422</td>\n",
       "      <td>ASTJ36CFZRN3O</td>\n",
       "      <td>5.0</td>\n",
       "      <td>This is a standard size folder that fits stand...</td>\n",
       "      <td>good</td>\n",
       "      <td>2012-09-18</td>\n",
       "      <td>standard size folder fit standard paper 5x11 f...</td>\n",
       "    </tr>\n",
       "  </tbody>\n",
       "</table>\n",
       "</div>"
      ],
      "text/plain": [
       "  customer_ID      product_ID  rating  \\\n",
       "0  0136039847  A2MVR1VMDPMNGS     1.0   \n",
       "1  0439504422   ASTJ36CFZRN3O     5.0   \n",
       "\n",
       "                                         review_text rating_class  date_time  \\\n",
       "0  I honestly believe that giving this merchant o...          bad 2014-03-03   \n",
       "1  This is a standard size folder that fits stand...         good 2012-09-18   \n",
       "\n",
       "                                     normalized_text  \n",
       "0  honestly believe give merchant one star favor ...  \n",
       "1  standard size folder fit standard paper 5x11 f...  "
      ]
     },
     "execution_count": 40,
     "metadata": {},
     "output_type": "execute_result"
    }
   ],
   "source": [
    "df.head(2)"
   ]
  },
  {
   "cell_type": "code",
   "execution_count": 41,
   "metadata": {},
   "outputs": [
    {
     "name": "stdout",
     "output_type": "stream",
     "text": [
      "it is cleaned\n"
     ]
    }
   ],
   "source": [
    "#Checking whether we removed the stop words (in here, we are checking wjether we rmeoved 'me')\n",
    "import re\n",
    "for pattern in df['normalized_text']:\n",
    "    if re.search ('\\bme\\b', pattern):\n",
    "        print (pattern)\n",
    "        break\n",
    "    else:\n",
    "        print ('it is cleaned')\n",
    "        break"
   ]
  },
  {
   "cell_type": "markdown",
   "metadata": {},
   "source": [
    "## Applying tokenizer to create tokens for the clean text"
   ]
  },
  {
   "cell_type": "code",
   "execution_count": 42,
   "metadata": {},
   "outputs": [
    {
     "data": {
      "text/html": [
       "<div>\n",
       "<style scoped>\n",
       "    .dataframe tbody tr th:only-of-type {\n",
       "        vertical-align: middle;\n",
       "    }\n",
       "\n",
       "    .dataframe tbody tr th {\n",
       "        vertical-align: top;\n",
       "    }\n",
       "\n",
       "    .dataframe thead th {\n",
       "        text-align: right;\n",
       "    }\n",
       "</style>\n",
       "<table border=\"1\" class=\"dataframe\">\n",
       "  <thead>\n",
       "    <tr style=\"text-align: right;\">\n",
       "      <th></th>\n",
       "      <th>customer_ID</th>\n",
       "      <th>product_ID</th>\n",
       "      <th>rating</th>\n",
       "      <th>review_text</th>\n",
       "      <th>rating_class</th>\n",
       "      <th>date_time</th>\n",
       "      <th>normalized_text</th>\n",
       "      <th>tokens</th>\n",
       "    </tr>\n",
       "  </thead>\n",
       "  <tbody>\n",
       "    <tr>\n",
       "      <th>0</th>\n",
       "      <td>0136039847</td>\n",
       "      <td>A2MVR1VMDPMNGS</td>\n",
       "      <td>1.0</td>\n",
       "      <td>I honestly believe that giving this merchant o...</td>\n",
       "      <td>bad</td>\n",
       "      <td>2014-03-03</td>\n",
       "      <td>honestly believe give merchant one star favor ...</td>\n",
       "      <td>[honestly, believe, give, merchant, one, star,...</td>\n",
       "    </tr>\n",
       "    <tr>\n",
       "      <th>1</th>\n",
       "      <td>0439504422</td>\n",
       "      <td>ASTJ36CFZRN3O</td>\n",
       "      <td>5.0</td>\n",
       "      <td>This is a standard size folder that fits stand...</td>\n",
       "      <td>good</td>\n",
       "      <td>2012-09-18</td>\n",
       "      <td>standard size folder fit standard paper 5x11 f...</td>\n",
       "      <td>[standard, size, folder, fit, standard, paper,...</td>\n",
       "    </tr>\n",
       "    <tr>\n",
       "      <th>2</th>\n",
       "      <td>043965209X</td>\n",
       "      <td>A23JBP4F0FXNS</td>\n",
       "      <td>5.0</td>\n",
       "      <td>The kids love to get these green tickets to ta...</td>\n",
       "      <td>good</td>\n",
       "      <td>2012-06-13</td>\n",
       "      <td>kid love get green ticket take home show paren...</td>\n",
       "      <td>[kid, love, get, green, ticket, take, home, sh...</td>\n",
       "    </tr>\n",
       "    <tr>\n",
       "      <th>3</th>\n",
       "      <td>043965209X</td>\n",
       "      <td>A3MODA2C00Q42I</td>\n",
       "      <td>4.0</td>\n",
       "      <td>This is a nice product if you are looking for ...</td>\n",
       "      <td>good</td>\n",
       "      <td>2012-12-07</td>\n",
       "      <td>nice product look quick happy note keep next d...</td>\n",
       "      <td>[nice, product, look, quick, happy, note, keep...</td>\n",
       "    </tr>\n",
       "    <tr>\n",
       "      <th>4</th>\n",
       "      <td>0439652154</td>\n",
       "      <td>A1237WC6G28SH9</td>\n",
       "      <td>5.0</td>\n",
       "      <td>WE love these, we get to give a prize now and ...</td>\n",
       "      <td>good</td>\n",
       "      <td>2013-11-05</td>\n",
       "      <td>love get give prize later motivate student cut...</td>\n",
       "      <td>[love, get, give, prize, later, motivate, stud...</td>\n",
       "    </tr>\n",
       "  </tbody>\n",
       "</table>\n",
       "</div>"
      ],
      "text/plain": [
       "  customer_ID      product_ID  rating  \\\n",
       "0  0136039847  A2MVR1VMDPMNGS     1.0   \n",
       "1  0439504422   ASTJ36CFZRN3O     5.0   \n",
       "2  043965209X   A23JBP4F0FXNS     5.0   \n",
       "3  043965209X  A3MODA2C00Q42I     4.0   \n",
       "4  0439652154  A1237WC6G28SH9     5.0   \n",
       "\n",
       "                                         review_text rating_class  date_time  \\\n",
       "0  I honestly believe that giving this merchant o...          bad 2014-03-03   \n",
       "1  This is a standard size folder that fits stand...         good 2012-09-18   \n",
       "2  The kids love to get these green tickets to ta...         good 2012-06-13   \n",
       "3  This is a nice product if you are looking for ...         good 2012-12-07   \n",
       "4  WE love these, we get to give a prize now and ...         good 2013-11-05   \n",
       "\n",
       "                                     normalized_text  \\\n",
       "0  honestly believe give merchant one star favor ...   \n",
       "1  standard size folder fit standard paper 5x11 f...   \n",
       "2  kid love get green ticket take home show paren...   \n",
       "3  nice product look quick happy note keep next d...   \n",
       "4  love get give prize later motivate student cut...   \n",
       "\n",
       "                                              tokens  \n",
       "0  [honestly, believe, give, merchant, one, star,...  \n",
       "1  [standard, size, folder, fit, standard, paper,...  \n",
       "2  [kid, love, get, green, ticket, take, home, sh...  \n",
       "3  [nice, product, look, quick, happy, note, keep...  \n",
       "4  [love, get, give, prize, later, motivate, stud...  "
      ]
     },
     "execution_count": 42,
     "metadata": {},
     "output_type": "execute_result"
    }
   ],
   "source": [
    "# Apply tokenizer to create a new column named as tokens which consists of the list of the reviews\n",
    "tokenizer = RegexpTokenizer(r'\\w+')\n",
    "df[\"tokens\"] = df[\"normalized_text\"].apply(tokenizer.tokenize)\n",
    "df.head()"
   ]
  },
  {
   "cell_type": "code",
   "execution_count": 43,
   "metadata": {},
   "outputs": [
    {
     "name": "stdout",
     "output_type": "stream",
     "text": [
      "356241 words total, with a vocabulary size of 16457\n",
      "Max review length is (word based) 593\n",
      "Min review length is (word based) 0\n"
     ]
    }
   ],
   "source": [
    "# Tokens status\n",
    "all_words = [word for tokens in df[\"tokens\"] for word in tokens]\n",
    "sentence_lengths = [len(tokens) for tokens in df[\"tokens\"]]\n",
    "vocabulary = sorted(list(set(all_words)))\n",
    "print(\"%s words total, with a vocabulary size of %s\" % (len(all_words), len(vocabulary)))\n",
    "print(\"Max review length is (word based) %s\" % max(sentence_lengths))\n",
    "print(\"Min review length is (word based) %s\" % min(sentence_lengths))"
   ]
  },
  {
   "cell_type": "markdown",
   "metadata": {},
   "source": [
    "## Write dataframe to CSV file"
   ]
  },
  {
   "cell_type": "code",
   "execution_count": 44,
   "metadata": {},
   "outputs": [],
   "source": [
    "df.to_csv('cleaned_text_school_supplies.csv', sep = ',', encoding = 'utf-8', index = False)"
   ]
  }
 ],
 "metadata": {
  "kernelspec": {
   "display_name": "Python 3",
   "language": "python",
   "name": "python3"
  },
  "language_info": {
   "codemirror_mode": {
    "name": "ipython",
    "version": 3
   },
   "file_extension": ".py",
   "mimetype": "text/x-python",
   "name": "python",
   "nbconvert_exporter": "python",
   "pygments_lexer": "ipython3",
   "version": "3.7.3"
  }
 },
 "nbformat": 4,
 "nbformat_minor": 2
}
